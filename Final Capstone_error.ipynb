{
 "cells": [
  {
   "cell_type": "markdown",
   "metadata": {},
   "source": [
    "# Final Capstone: Instacart Reordered Product Prediction"
   ]
  },
  {
   "cell_type": "markdown",
   "metadata": {},
   "source": [
    "Problem statement:\n",
    "\n",
    "Instacart is challenging the Kaggle community to use this anonymized data on customer orders over time to predict which previously purchased products will be  reordered.\n",
    "\n",
    "The dataset for this competition is a relational set of files describing customers' orders over time. The goal of the competition is to predict which products will be in a user's next order. The dataset is anonymized and contains a sample of over 3 million grocery orders from more than 200,000 Instacart users. For each user, we provide between 4 and 100 of their orders, with the sequence of products purchased in each order. We also provide the week and hour of day the order was placed, and a relative measure of time between orders. For more information, see the blog post accompanying its public release.\n",
    "\n",
    "File descriptions\n",
    "\n",
    "Each entity (customer, product, order, aisle, etc.) has an associated unique id. Most of the files and variable names should be self-explanatory.\n",
    "\n",
    " aisles.csv\n",
    " \n",
    " aisle_id,aisle  \n",
    " 1,prepared soups salads  \n",
    " 2,specialty cheeses  \n",
    " 3,energy granola bars  \n",
    " \n",
    " \n",
    "departments.csv\n",
    "\n",
    " department_id,department  \n",
    " 1,frozen  \n",
    " 2,other  \n",
    " 3,bakery  \n",
    "\n",
    "\n",
    "order_products__*.csv\n",
    "\n",
    "These files specify which products were purchased in each order. order_products__prior.csv contains previous order contents for all customers. 'reordered' indicates that the customer has a previous order that contains the product. Note that some orders will have no reordered items. You may predict an explicit 'None' value for orders with no reordered items. See the evaluation page for full details.\n",
    "\n",
    " order_id,product_id,add_to_cart_order,reordered  \n",
    " \n",
    " 1,49302,1,1  \n",
    " 1,11109,2,1  \n",
    " 1,10246,3,0  \n",
    " \n",
    "orders.csv\n",
    "\n",
    "This file tells to which set (prior, train, test) an order belongs. You are predicting reordered items only for the test set orders. 'order_dow' is the day of week.\n",
    "\n",
    "order_id,user_id,eval_set,order_number,order_dow,order_hour_of_day,days_since_prior_order\n",
    " \n",
    " 2539329,1,prior,1,2,08,  \n",
    " 2398795,1,prior,2,3,07,15.0  \n",
    " 473747,1,prior,3,3,12,21.0  \n",
    "\n",
    "products.csv\n",
    "\n",
    " product_id,product_name,aisle_id,department_id\n",
    " 1,Chocolate Sandwich Cookies,61,19  \n",
    " 2,All-Seasons Salt,104,13  \n",
    " 3,Robust Golden Unsweetened Oolong Tea,94,7  \n",
    "\n",
    "sample_submission.csv\n",
    "\n",
    "order_id,products\n",
    "17,39276  \n",
    "34,39276  \n",
    "137,39276  \n"
   ]
  },
  {
   "cell_type": "markdown",
   "metadata": {},
   "source": [
    "## Objective :"
   ]
  },
  {
   "cell_type": "markdown",
   "metadata": {},
   "source": [
    "The goal of the competition is to predict which products will be in a user's next order. The dataset is anonymized and contains a sample of over 3 million grocery orders from more than 200,000 Instacart users.For each user, 4 and 100 of their orders are given, with the sequence of products purchased in each order.We will try to analyse and explore data in all the aspects so that we can get understanding of data and understand  the factual truth.We will try to understand the behavior, trend inside the data which will be very benefical for the organization's profit.Below are few questions that will be answered here-\n",
    "\n",
    "1.This was stated in the description\" there are no orders less than 4 and is max capped at 100 \", is this correct?\n",
    "\n",
    "2.What days are the highest orders placed and what day are the lowest orders placed?\n",
    "\n",
    "3.What time in 24 hours are the most orders placed?\n",
    "\n",
    "4.When are the maximum ordered placed-weekly, monthly,first week of the month?\n",
    "\n",
    "5.How many  of the products in an order are re-ordered products?\n",
    "\n",
    "6.What  are the highest bought products?\n",
    "\n",
    "7.At what time of the day Reordered products are bought?\n"
   ]
  },
  {
   "cell_type": "markdown",
   "metadata": {},
   "source": [
    "# Sections:"
   ]
  },
  {
   "cell_type": "markdown",
   "metadata": {},
   "source": [
    "The final capstone is divided into the below sections\n",
    "\n",
    "1.Importing python Libraries\n",
    "\n",
    "2.Data Cleaning\n",
    "\n",
    "3.Data Exploration\n",
    "\n",
    "4.Getting started with Predictive Modelling\n",
    "\n",
    "5.Conclusion"
   ]
  },
  {
   "cell_type": "code",
   "execution_count": 1,
   "metadata": {},
   "outputs": [
    {
     "name": "stderr",
     "output_type": "stream",
     "text": [
      "Using TensorFlow backend.\n"
     ]
    }
   ],
   "source": [
    "\n",
    "#import basic Libraries\n",
    "import pandas as pd\n",
    "import numpy as np\n",
    "#import numpy_indexed as npi\n",
    "from tqdm import tqdm\n",
    "\n",
    "#Visualizaiton imports\n",
    "import seaborn as sns\n",
    "import matplotlib.pyplot as plt\n",
    "\n",
    "#combine sparse matrices\n",
    "import scipy.sparse as sps\n",
    "\n",
    "#Importing Sklearn\n",
    "from sklearn.preprocessing import StandardScaler\n",
    "from sklearn.metrics.pairwise import cosine_similarity\n",
    "from sklearn.decomposition import MiniBatchDictionaryLearning\n",
    "from sklearn.model_selection import train_test_split\n",
    "from sklearn.tree import DecisionTreeClassifier\n",
    "from sklearn.linear_model import LogisticRegression\n",
    "from sklearn.metrics import mean_squared_error,f1_score \n",
    "from sklearn.decomposition import PCA\n",
    "from sklearn import tree,model_selection\n",
    "from sklearn.neighbors import KNeighborsClassifier\n",
    "from sklearn.cluster import MiniBatchKMeans\n",
    "from sklearn import metrics\n",
    "from sklearn.metrics import pairwise_distances\n",
    "from keras.models import Sequential\n",
    "# Import various componenets for model building\n",
    "from keras.models import Sequential\n",
    "from keras.layers import Dense, Dropout, Flatten, Conv1D, MaxPooling1D\n",
    "from keras.layers import LSTM, Input, TimeDistributed\n",
    "from keras.models import Model\n",
    "from keras.optimizers import RMSprop\n",
    "import tensorflow as tf\n",
    "import keras\n",
    "\n",
    "# Import the backend\n",
    "from keras import backend as K\n",
    "%matplotlib inline\n",
    "from sklearn.metrics import confusion_matrix\n",
    "from sklearn.metrics import accuracy_score \n",
    "from sklearn.metrics import classification_report\n",
    "from sklearn.metrics import roc_auc_score\n",
    "import warnings\n",
    "# Suppress annoying harmless error.\n",
    "warnings.filterwarnings(\n",
    "    action=\"ignore\",\n",
    "    module=\"scipy\",\n",
    "    message=\"^internal gelsd\"\n",
    ")\n"
   ]
  },
  {
   "cell_type": "markdown",
   "metadata": {},
   "source": [
    "Now, since I have imported all the required libraries, lets go ahead and read the csv files and create dataframes.This will create  a table like structure and then we can do our analysis.Here we have 6 files, hence 6 dataframes."
   ]
  },
  {
   "cell_type": "code",
   "execution_count": 2,
   "metadata": {},
   "outputs": [],
   "source": [
    "#import of all files from the data folder.\n",
    "aisles = pd.read_csv('C:/Users/ankush/Downloads/aisles.csv')\n",
    "departments = pd.read_csv('C:/Users/ankush/Downloads/departments.csv')\n",
    "order_products__prior = pd.read_csv('C:/Users/ankush/Downloads/order_products__prior.csv')\n",
    "order_products__train = pd.read_csv('C:/Users/ankush/Downloads/order_products__train.csv')\n",
    "orders = pd.read_csv('C:/Users/ankush/Downloads/orders.csv')\n",
    "products = pd.read_csv('C:/Users/ankush/Downloads/products.csv')"
   ]
  },
  {
   "cell_type": "markdown",
   "metadata": {},
   "source": [
    "# Data Cleaning"
   ]
  },
  {
   "cell_type": "markdown",
   "metadata": {},
   "source": [
    "Now,I will go ahead with cleaning the data , which will help in more effecient analysis of the dataset and also for machine learning models to understand the data better.First,lets find out if any of the dataframe as any nulls.If so, we will drop those records"
   ]
  },
  {
   "cell_type": "code",
   "execution_count": 74,
   "metadata": {},
   "outputs": [
    {
     "data": {
      "text/plain": [
       "aisle_id    0\n",
       "aisle       0\n",
       "dtype: int64"
      ]
     },
     "execution_count": 74,
     "metadata": {},
     "output_type": "execute_result"
    }
   ],
   "source": [
    "aisles.isnull().sum()"
   ]
  },
  {
   "cell_type": "code",
   "execution_count": 20,
   "metadata": {},
   "outputs": [
    {
     "data": {
      "text/plain": [
       "department_id    0\n",
       "department       0\n",
       "dtype: int64"
      ]
     },
     "execution_count": 20,
     "metadata": {},
     "output_type": "execute_result"
    }
   ],
   "source": [
    "departments.isnull().sum()"
   ]
  },
  {
   "cell_type": "code",
   "execution_count": 3,
   "metadata": {},
   "outputs": [
    {
     "data": {
      "text/plain": [
       "product_id       0\n",
       "product_name     0\n",
       "aisle_id         0\n",
       "department_id    0\n",
       "dtype: int64"
      ]
     },
     "execution_count": 3,
     "metadata": {},
     "output_type": "execute_result"
    }
   ],
   "source": [
    "products.isnull().sum()"
   ]
  },
  {
   "cell_type": "code",
   "execution_count": 4,
   "metadata": {},
   "outputs": [
    {
     "data": {
      "text/plain": [
       "order_id                       0\n",
       "user_id                        0\n",
       "eval_set                       0\n",
       "order_number                   0\n",
       "order_dow                      0\n",
       "order_hour_of_day              0\n",
       "days_since_prior_order    206209\n",
       "dtype: int64"
      ]
     },
     "execution_count": 4,
     "metadata": {},
     "output_type": "execute_result"
    }
   ],
   "source": [
    "orders.isnull().sum()"
   ]
  },
  {
   "cell_type": "code",
   "execution_count": 5,
   "metadata": {},
   "outputs": [
    {
     "data": {
      "text/plain": [
       "order_id                  0\n",
       "user_id                   0\n",
       "eval_set                  0\n",
       "order_number              0\n",
       "order_dow                 0\n",
       "order_hour_of_day         0\n",
       "days_since_prior_order    0\n",
       "dtype: int64"
      ]
     },
     "execution_count": 5,
     "metadata": {},
     "output_type": "execute_result"
    }
   ],
   "source": [
    "orders=orders.dropna(0)\n",
    "orders.isnull().sum()"
   ]
  },
  {
   "cell_type": "code",
   "execution_count": 23,
   "metadata": {},
   "outputs": [
    {
     "data": {
      "text/plain": [
       "order_id             0\n",
       "product_id           0\n",
       "add_to_cart_order    0\n",
       "reordered            0\n",
       "dtype: int64"
      ]
     },
     "execution_count": 23,
     "metadata": {},
     "output_type": "execute_result"
    }
   ],
   "source": [
    "order_products__train.isnull().sum()"
   ]
  },
  {
   "cell_type": "code",
   "execution_count": 102,
   "metadata": {},
   "outputs": [
    {
     "data": {
      "text/plain": [
       "order_id             0\n",
       "product_id           0\n",
       "add_to_cart_order    0\n",
       "reordered            0\n",
       "dtype: int64"
      ]
     },
     "execution_count": 102,
     "metadata": {},
     "output_type": "execute_result"
    }
   ],
   "source": [
    "order_products__prior.isnull().sum()"
   ]
  },
  {
   "cell_type": "markdown",
   "metadata": {},
   "source": [
    "So, I have now completed the first step.Lets go ahead with joining the relevant datasets.I am using left outer join which looks to be better option, since I want the all the values from left table and matching value from the right table."
   ]
  },
  {
   "cell_type": "code",
   "execution_count": 3,
   "metadata": {},
   "outputs": [
    {
     "data": {
      "text/html": [
       "<div>\n",
       "<style scoped>\n",
       "    .dataframe tbody tr th:only-of-type {\n",
       "        vertical-align: middle;\n",
       "    }\n",
       "\n",
       "    .dataframe tbody tr th {\n",
       "        vertical-align: top;\n",
       "    }\n",
       "\n",
       "    .dataframe thead th {\n",
       "        text-align: right;\n",
       "    }\n",
       "</style>\n",
       "<table border=\"1\" class=\"dataframe\">\n",
       "  <thead>\n",
       "    <tr style=\"text-align: right;\">\n",
       "      <th></th>\n",
       "      <th>order_id</th>\n",
       "      <th>product_id</th>\n",
       "      <th>add_to_cart_order</th>\n",
       "      <th>reordered</th>\n",
       "      <th>product_name</th>\n",
       "      <th>aisle_id</th>\n",
       "      <th>department_id</th>\n",
       "      <th>user_id</th>\n",
       "      <th>eval_set</th>\n",
       "      <th>order_number</th>\n",
       "      <th>order_dow</th>\n",
       "      <th>order_hour_of_day</th>\n",
       "      <th>days_since_prior_order</th>\n",
       "      <th>aisle</th>\n",
       "      <th>department</th>\n",
       "    </tr>\n",
       "  </thead>\n",
       "  <tbody>\n",
       "    <tr>\n",
       "      <th>0</th>\n",
       "      <td>1</td>\n",
       "      <td>49302</td>\n",
       "      <td>1</td>\n",
       "      <td>1</td>\n",
       "      <td>Bulgarian Yogurt</td>\n",
       "      <td>120</td>\n",
       "      <td>16</td>\n",
       "      <td>112108</td>\n",
       "      <td>train</td>\n",
       "      <td>4</td>\n",
       "      <td>4</td>\n",
       "      <td>10</td>\n",
       "      <td>9.0</td>\n",
       "      <td>yogurt</td>\n",
       "      <td>dairy eggs</td>\n",
       "    </tr>\n",
       "    <tr>\n",
       "      <th>1</th>\n",
       "      <td>1</td>\n",
       "      <td>11109</td>\n",
       "      <td>2</td>\n",
       "      <td>1</td>\n",
       "      <td>Organic 4% Milk Fat Whole Milk Cottage Cheese</td>\n",
       "      <td>108</td>\n",
       "      <td>16</td>\n",
       "      <td>112108</td>\n",
       "      <td>train</td>\n",
       "      <td>4</td>\n",
       "      <td>4</td>\n",
       "      <td>10</td>\n",
       "      <td>9.0</td>\n",
       "      <td>other creams cheeses</td>\n",
       "      <td>dairy eggs</td>\n",
       "    </tr>\n",
       "    <tr>\n",
       "      <th>2</th>\n",
       "      <td>1</td>\n",
       "      <td>10246</td>\n",
       "      <td>3</td>\n",
       "      <td>0</td>\n",
       "      <td>Organic Celery Hearts</td>\n",
       "      <td>83</td>\n",
       "      <td>4</td>\n",
       "      <td>112108</td>\n",
       "      <td>train</td>\n",
       "      <td>4</td>\n",
       "      <td>4</td>\n",
       "      <td>10</td>\n",
       "      <td>9.0</td>\n",
       "      <td>fresh vegetables</td>\n",
       "      <td>produce</td>\n",
       "    </tr>\n",
       "    <tr>\n",
       "      <th>3</th>\n",
       "      <td>1</td>\n",
       "      <td>49683</td>\n",
       "      <td>4</td>\n",
       "      <td>0</td>\n",
       "      <td>Cucumber Kirby</td>\n",
       "      <td>83</td>\n",
       "      <td>4</td>\n",
       "      <td>112108</td>\n",
       "      <td>train</td>\n",
       "      <td>4</td>\n",
       "      <td>4</td>\n",
       "      <td>10</td>\n",
       "      <td>9.0</td>\n",
       "      <td>fresh vegetables</td>\n",
       "      <td>produce</td>\n",
       "    </tr>\n",
       "    <tr>\n",
       "      <th>4</th>\n",
       "      <td>1</td>\n",
       "      <td>43633</td>\n",
       "      <td>5</td>\n",
       "      <td>1</td>\n",
       "      <td>Lightly Smoked Sardines in Olive Oil</td>\n",
       "      <td>95</td>\n",
       "      <td>15</td>\n",
       "      <td>112108</td>\n",
       "      <td>train</td>\n",
       "      <td>4</td>\n",
       "      <td>4</td>\n",
       "      <td>10</td>\n",
       "      <td>9.0</td>\n",
       "      <td>canned meat seafood</td>\n",
       "      <td>canned goods</td>\n",
       "    </tr>\n",
       "    <tr>\n",
       "      <th>5</th>\n",
       "      <td>1</td>\n",
       "      <td>13176</td>\n",
       "      <td>6</td>\n",
       "      <td>0</td>\n",
       "      <td>Bag of Organic Bananas</td>\n",
       "      <td>24</td>\n",
       "      <td>4</td>\n",
       "      <td>112108</td>\n",
       "      <td>train</td>\n",
       "      <td>4</td>\n",
       "      <td>4</td>\n",
       "      <td>10</td>\n",
       "      <td>9.0</td>\n",
       "      <td>fresh fruits</td>\n",
       "      <td>produce</td>\n",
       "    </tr>\n",
       "    <tr>\n",
       "      <th>6</th>\n",
       "      <td>1</td>\n",
       "      <td>47209</td>\n",
       "      <td>7</td>\n",
       "      <td>0</td>\n",
       "      <td>Organic Hass Avocado</td>\n",
       "      <td>24</td>\n",
       "      <td>4</td>\n",
       "      <td>112108</td>\n",
       "      <td>train</td>\n",
       "      <td>4</td>\n",
       "      <td>4</td>\n",
       "      <td>10</td>\n",
       "      <td>9.0</td>\n",
       "      <td>fresh fruits</td>\n",
       "      <td>produce</td>\n",
       "    </tr>\n",
       "    <tr>\n",
       "      <th>7</th>\n",
       "      <td>1</td>\n",
       "      <td>22035</td>\n",
       "      <td>8</td>\n",
       "      <td>1</td>\n",
       "      <td>Organic Whole String Cheese</td>\n",
       "      <td>21</td>\n",
       "      <td>16</td>\n",
       "      <td>112108</td>\n",
       "      <td>train</td>\n",
       "      <td>4</td>\n",
       "      <td>4</td>\n",
       "      <td>10</td>\n",
       "      <td>9.0</td>\n",
       "      <td>packaged cheese</td>\n",
       "      <td>dairy eggs</td>\n",
       "    </tr>\n",
       "    <tr>\n",
       "      <th>8</th>\n",
       "      <td>36</td>\n",
       "      <td>39612</td>\n",
       "      <td>1</td>\n",
       "      <td>0</td>\n",
       "      <td>Grated Pecorino Romano Cheese</td>\n",
       "      <td>2</td>\n",
       "      <td>16</td>\n",
       "      <td>79431</td>\n",
       "      <td>train</td>\n",
       "      <td>23</td>\n",
       "      <td>6</td>\n",
       "      <td>18</td>\n",
       "      <td>30.0</td>\n",
       "      <td>specialty cheeses</td>\n",
       "      <td>dairy eggs</td>\n",
       "    </tr>\n",
       "    <tr>\n",
       "      <th>9</th>\n",
       "      <td>36</td>\n",
       "      <td>19660</td>\n",
       "      <td>2</td>\n",
       "      <td>1</td>\n",
       "      <td>Spring Water</td>\n",
       "      <td>115</td>\n",
       "      <td>7</td>\n",
       "      <td>79431</td>\n",
       "      <td>train</td>\n",
       "      <td>23</td>\n",
       "      <td>6</td>\n",
       "      <td>18</td>\n",
       "      <td>30.0</td>\n",
       "      <td>water seltzer sparkling water</td>\n",
       "      <td>beverages</td>\n",
       "    </tr>\n",
       "  </tbody>\n",
       "</table>\n",
       "</div>"
      ],
      "text/plain": [
       "   order_id  product_id  add_to_cart_order  reordered  \\\n",
       "0         1       49302                  1          1   \n",
       "1         1       11109                  2          1   \n",
       "2         1       10246                  3          0   \n",
       "3         1       49683                  4          0   \n",
       "4         1       43633                  5          1   \n",
       "5         1       13176                  6          0   \n",
       "6         1       47209                  7          0   \n",
       "7         1       22035                  8          1   \n",
       "8        36       39612                  1          0   \n",
       "9        36       19660                  2          1   \n",
       "\n",
       "                                    product_name  aisle_id  department_id  \\\n",
       "0                               Bulgarian Yogurt       120             16   \n",
       "1  Organic 4% Milk Fat Whole Milk Cottage Cheese       108             16   \n",
       "2                          Organic Celery Hearts        83              4   \n",
       "3                                 Cucumber Kirby        83              4   \n",
       "4           Lightly Smoked Sardines in Olive Oil        95             15   \n",
       "5                         Bag of Organic Bananas        24              4   \n",
       "6                           Organic Hass Avocado        24              4   \n",
       "7                    Organic Whole String Cheese        21             16   \n",
       "8                  Grated Pecorino Romano Cheese         2             16   \n",
       "9                                   Spring Water       115              7   \n",
       "\n",
       "   user_id eval_set  order_number  order_dow  order_hour_of_day  \\\n",
       "0   112108    train             4          4                 10   \n",
       "1   112108    train             4          4                 10   \n",
       "2   112108    train             4          4                 10   \n",
       "3   112108    train             4          4                 10   \n",
       "4   112108    train             4          4                 10   \n",
       "5   112108    train             4          4                 10   \n",
       "6   112108    train             4          4                 10   \n",
       "7   112108    train             4          4                 10   \n",
       "8    79431    train            23          6                 18   \n",
       "9    79431    train            23          6                 18   \n",
       "\n",
       "   days_since_prior_order                          aisle    department  \n",
       "0                     9.0                         yogurt    dairy eggs  \n",
       "1                     9.0           other creams cheeses    dairy eggs  \n",
       "2                     9.0               fresh vegetables       produce  \n",
       "3                     9.0               fresh vegetables       produce  \n",
       "4                     9.0            canned meat seafood  canned goods  \n",
       "5                     9.0                   fresh fruits       produce  \n",
       "6                     9.0                   fresh fruits       produce  \n",
       "7                     9.0                packaged cheese    dairy eggs  \n",
       "8                    30.0              specialty cheeses    dairy eggs  \n",
       "9                    30.0  water seltzer sparkling water     beverages  "
      ]
     },
     "execution_count": 3,
     "metadata": {},
     "output_type": "execute_result"
    }
   ],
   "source": [
    "opt = order_products__train.merge(products,how='left', on='product_id')\n",
    "opt = opt.merge(orders,how='left', on='order_id')\n",
    "opt = opt.merge(aisles,how='left', on='aisle_id')\n",
    "opt = opt.merge(departments,how='left', on='department_id')\n",
    "opt.head(10)"
   ]
  },
  {
   "cell_type": "code",
   "execution_count": 28,
   "metadata": {},
   "outputs": [
    {
     "data": {
      "text/plain": [
       "order_id                  0\n",
       "product_id                0\n",
       "add_to_cart_order         0\n",
       "reordered                 0\n",
       "product_name              0\n",
       "aisle_id                  0\n",
       "department_id             0\n",
       "user_id                   0\n",
       "eval_set                  0\n",
       "order_number              0\n",
       "order_dow                 0\n",
       "order_hour_of_day         0\n",
       "days_since_prior_order    0\n",
       "aisle                     0\n",
       "department                0\n",
       "dtype: int64"
      ]
     },
     "execution_count": 28,
     "metadata": {},
     "output_type": "execute_result"
    }
   ],
   "source": [
    "opt.isnull().sum()"
   ]
  },
  {
   "cell_type": "markdown",
   "metadata": {},
   "source": [
    "Below, I am trying to check if we need resampling if values for \"reordered\" column is balanced for 0 or 1.It looks like they should be fine"
   ]
  },
  {
   "cell_type": "code",
   "execution_count": 78,
   "metadata": {},
   "outputs": [
    {
     "data": {
      "text/plain": [
       "(555793, 15)"
      ]
     },
     "execution_count": 78,
     "metadata": {},
     "output_type": "execute_result"
    }
   ],
   "source": [
    "opt[opt.reordered==0].shape"
   ]
  },
  {
   "cell_type": "code",
   "execution_count": 79,
   "metadata": {},
   "outputs": [
    {
     "data": {
      "text/plain": [
       "(828824, 15)"
      ]
     },
     "execution_count": 79,
     "metadata": {},
     "output_type": "execute_result"
    }
   ],
   "source": [
    "opt[opt.reordered==1].shape"
   ]
  },
  {
   "cell_type": "markdown",
   "metadata": {},
   "source": [
    "# Data Exploration"
   ]
  },
  {
   "cell_type": "markdown",
   "metadata": {},
   "source": [
    "As we could see, orders.csv has all the information about the given order id like the user who has purchased the order, when was it purchased, days since prior order and so on.\n",
    "The columns present in order_products_train and order_products_prior are same. Then what is the difference between these files.?\n",
    "For each  order of a customer,we need to predict the products that will be re-ordered. So the last order of the user has been taken out and divided into train and test sets. All the prior order informations of the customer are present in order_products_prior file. We can also note that there is a column in orders.csv file called eval_set which tells us as to which of the three datasets (prior, train or test) the given row goes to.\n",
    "Let us first get the count of rows in each of the three sets"
   ]
  },
  {
   "cell_type": "code",
   "execution_count": 74,
   "metadata": {},
   "outputs": [
    {
     "data": {
      "image/png": "[encoded data removed]",
      "text/plain": [
       "<Figure size 864x576 with 1 Axes>"
      ]
     },
     "metadata": {
      "needs_background": "light"
     },
     "output_type": "display_data"
    }
   ],
   "source": [
    "color = sns.color_palette()\n",
    "cnt_srs = orders.eval_set.value_counts()\n",
    "\n",
    "plt.figure(figsize=(12,8))\n",
    "sns.barplot(cnt_srs.index, cnt_srs.values, alpha=0.8, color=color[1])\n",
    "plt.ylabel('Number of Occurrences', fontsize=12)\n",
    "plt.xlabel('Eval set type', fontsize=12)\n",
    "plt.title('Count of rows in each dataset', fontsize=15)\n",
    "plt.xticks(rotation='vertical')\n",
    "plt.show()"
   ]
  },
  {
   "cell_type": "code",
   "execution_count": 76,
   "metadata": {},
   "outputs": [
    {
     "data": {
      "text/plain": [
       "eval_set\n",
       "prior    206209\n",
       "test      75000\n",
       "train    131209\n",
       "Name: user_id, dtype: int64"
      ]
     },
     "execution_count": 76,
     "metadata": {},
     "output_type": "execute_result"
    }
   ],
   "source": [
    "def get_unique_count(x):\n",
    "    return len(np.unique(x))\n",
    "\n",
    "cnt_srs = orders.groupby(\"eval_set\")[\"user_id\"].aggregate(get_unique_count)\n",
    "cnt_srs"
   ]
  },
  {
   "cell_type": "markdown",
   "metadata": {},
   "source": [
    "So there are 206,209 customers in total. Out of which, the last purchase of 131,209 customers are given as train set and we need to predict for the rest 75,000 customers.Now let us validate the claim that 4 to 100 orders of a customer are given in the description spec"
   ]
  },
  {
   "cell_type": "code",
   "execution_count": 93,
   "metadata": {},
   "outputs": [
    {
     "data": {
      "image/png": "[encoded data removed]",
      "text/plain": [
       "<Figure size 864x576 with 1 Axes>"
      ]
     },
     "metadata": {
      "needs_background": "light"
     },
     "output_type": "display_data"
    }
   ],
   "source": [
    "cnt_srs = orders.groupby(\"user_id\")[\"order_number\"].aggregate(np.max).reset_index()\n",
    "cnt_srs = cnt_srs.order_number.value_counts()\n",
    "plt.figure(figsize=(12,8))\n",
    "sns.barplot(cnt_srs.index, cnt_srs.values, alpha=0.8, color=color[2])\n",
    "plt.ylabel('Number of Occurrences', fontsize=12)\n",
    "plt.xlabel('Maximum order number', fontsize=12)\n",
    "plt.xticks(rotation='vertical')\n",
    "plt.show()"
   ]
  },
  {
   "cell_type": "markdown",
   "metadata": {},
   "source": [
    "This proves that there are no orders less than 4 and is max capped at 100 as given in the description.Now, lets us see the ordering frequency for week days"
   ]
  },
  {
   "cell_type": "code",
   "execution_count": 95,
   "metadata": {
    "scrolled": true
   },
   "outputs": [
    {
     "data": {
      "image/png": "[encoded data removed]",
      "text/plain": [
       "<Figure size 864x576 with 1 Axes>"
      ]
     },
     "metadata": {
      "needs_background": "light"
     },
     "output_type": "display_data"
    }
   ],
   "source": [
    "plt.figure(figsize=(12,8))\n",
    "sns.countplot(x=\"order_dow\", data=orders, color=color[3])\n",
    "plt.ylabel('Count', fontsize=12)\n",
    "plt.xlabel('Day of week', fontsize=12)\n",
    "plt.xticks(rotation='vertical')\n",
    "plt.title(\"Frequency of order by week day\", fontsize=15)\n",
    "plt.show()"
   ]
  },
  {
   "cell_type": "markdown",
   "metadata": {},
   "source": [
    "It looks like 0 i.e Saturday and 1 i.e Sunday when the orders are high and low during Wednesday.\n",
    "Now we shall see how the distribution is with respect to time of the day."
   ]
  },
  {
   "cell_type": "code",
   "execution_count": 96,
   "metadata": {},
   "outputs": [
    {
     "data": {
      "image/png": "[encoded data removed]",
      "text/plain": [
       "<Figure size 864x576 with 1 Axes>"
      ]
     },
     "metadata": {
      "needs_background": "light"
     },
     "output_type": "display_data"
    }
   ],
   "source": [
    "plt.figure(figsize=(12,8))\n",
    "sns.countplot(x=\"order_hour_of_day\", data=orders, color=color[1])\n",
    "plt.ylabel('Count', fontsize=12)\n",
    "plt.xlabel('Hour of day', fontsize=12)\n",
    "plt.xticks(rotation='vertical')\n",
    "plt.title(\"Frequency of order by hour of day\", fontsize=15)\n",
    "plt.show()"
   ]
  },
  {
   "cell_type": "markdown",
   "metadata": {},
   "source": [
    "So majority of the orders are made during day time. Now let us combine the day of week and hour of day to see the distribution."
   ]
  },
  {
   "cell_type": "code",
   "execution_count": 99,
   "metadata": {},
   "outputs": [
    {
     "data": {
      "image/png": "[encoded data removed]",
      "text/plain": [
       "<Figure size 864x432 with 2 Axes>"
      ]
     },
     "metadata": {
      "needs_background": "light"
     },
     "output_type": "display_data"
    }
   ],
   "source": [
    "grouped_df = orders.groupby([\"order_dow\", \"order_hour_of_day\"])[\"order_number\"].aggregate(\"count\").reset_index()\n",
    "grouped_df = grouped_df.pivot('order_dow', 'order_hour_of_day', 'order_number')\n",
    "\n",
    "plt.figure(figsize=(12,6))\n",
    "sns.heatmap(grouped_df)\n",
    "plt.title(\"Frequency of Day of week Vs Hour of day\")\n",
    "plt.show()"
   ]
  },
  {
   "cell_type": "markdown",
   "metadata": {},
   "source": [
    "It Seems Satuday evenings and Sunday mornings are the prime time for orders.\n",
    "Now let us check the time interval between the orders."
   ]
  },
  {
   "cell_type": "code",
   "execution_count": 100,
   "metadata": {},
   "outputs": [
    {
     "data": {
      "image/png": "[encoded data removed]",
      "text/plain": [
       "<Figure size 864x576 with 1 Axes>"
      ]
     },
     "metadata": {
      "needs_background": "light"
     },
     "output_type": "display_data"
    }
   ],
   "source": [
    "plt.figure(figsize=(12,8))\n",
    "sns.countplot(x=\"days_since_prior_order\", data=orders, color=color[3])\n",
    "plt.ylabel('Count', fontsize=12)\n",
    "plt.xlabel('Days since prior order', fontsize=12)\n",
    "plt.xticks(rotation='vertical')\n",
    "plt.title(\"Frequency distribution by days since prior order\", fontsize=15)\n",
    "plt.show()"
   ]
  },
  {
   "cell_type": "markdown",
   "metadata": {},
   "source": [
    "It looks like customer order weekly/first(mostly in first week) or monthly. We are seeing bigger peaks at first week  and then last day of the month"
   ]
  },
  {
   "cell_type": "markdown",
   "metadata": {},
   "source": [
    "let us check out the re-order percentage in prior set and train set."
   ]
  },
  {
   "cell_type": "code",
   "execution_count": 104,
   "metadata": {},
   "outputs": [
    {
     "data": {
      "text/plain": [
       "0.5896974667922161"
      ]
     },
     "execution_count": 104,
     "metadata": {},
     "output_type": "execute_result"
    }
   ],
   "source": [
    "# percentage of re-orders in prior set #\n",
    "order_products__prior.reordered.sum() / order_products__prior.shape[0]"
   ]
  },
  {
   "cell_type": "code",
   "execution_count": 106,
   "metadata": {},
   "outputs": [
    {
     "data": {
      "text/plain": [
       "0.5985944127509629"
      ]
     },
     "execution_count": 106,
     "metadata": {},
     "output_type": "execute_result"
    }
   ],
   "source": [
    "\n",
    "# percentage of re-orders in train set #\n",
    "order_products__train.reordered.sum() / order_products__train.shape[0]"
   ]
  },
  {
   "cell_type": "markdown",
   "metadata": {},
   "source": [
    "On an average, about 59% of the products in an order are re-ordered products."
   ]
  },
  {
   "cell_type": "code",
   "execution_count": 131,
   "metadata": {
    "scrolled": true
   },
   "outputs": [
    {
     "data": {
      "text/html": [
       "<div>\n",
       "<style scoped>\n",
       "    .dataframe tbody tr th:only-of-type {\n",
       "        vertical-align: middle;\n",
       "    }\n",
       "\n",
       "    .dataframe tbody tr th {\n",
       "        vertical-align: top;\n",
       "    }\n",
       "\n",
       "    .dataframe thead th {\n",
       "        text-align: right;\n",
       "    }\n",
       "</style>\n",
       "<table border=\"1\" class=\"dataframe\">\n",
       "  <thead>\n",
       "    <tr style=\"text-align: right;\">\n",
       "      <th></th>\n",
       "      <th>product_name</th>\n",
       "      <th>frequency_count</th>\n",
       "    </tr>\n",
       "  </thead>\n",
       "  <tbody>\n",
       "    <tr>\n",
       "      <th>0</th>\n",
       "      <td>Banana</td>\n",
       "      <td>18726</td>\n",
       "    </tr>\n",
       "    <tr>\n",
       "      <th>1</th>\n",
       "      <td>Bag of Organic Bananas</td>\n",
       "      <td>15480</td>\n",
       "    </tr>\n",
       "    <tr>\n",
       "      <th>2</th>\n",
       "      <td>Organic Strawberries</td>\n",
       "      <td>10894</td>\n",
       "    </tr>\n",
       "    <tr>\n",
       "      <th>3</th>\n",
       "      <td>Organic Baby Spinach</td>\n",
       "      <td>9784</td>\n",
       "    </tr>\n",
       "    <tr>\n",
       "      <th>4</th>\n",
       "      <td>Large Lemon</td>\n",
       "      <td>8135</td>\n",
       "    </tr>\n",
       "  </tbody>\n",
       "</table>\n",
       "</div>"
      ],
      "text/plain": [
       "             product_name  frequency_count\n",
       "0                  Banana            18726\n",
       "1  Bag of Organic Bananas            15480\n",
       "2    Organic Strawberries            10894\n",
       "3    Organic Baby Spinach             9784\n",
       "4             Large Lemon             8135"
      ]
     },
     "execution_count": 131,
     "metadata": {},
     "output_type": "execute_result"
    }
   ],
   "source": [
    "cnt_srs = opt['product_name'].value_counts().reset_index().head()\n",
    "cnt_srs.columns = ['product_name', 'frequency_count']\n",
    "cnt_srs"
   ]
  },
  {
   "cell_type": "code",
   "execution_count": 132,
   "metadata": {},
   "outputs": [
    {
     "data": {
      "image/png": "[encoded data removed]",
      "text/plain": [
       "<Figure size 864x576 with 1 Axes>"
      ]
     },
     "metadata": {
      "needs_background": "light"
     },
     "output_type": "display_data"
    }
   ],
   "source": [
    "cnt_srs = opt['aisle'].value_counts().head(20)\n",
    "plt.figure(figsize=(12,8))\n",
    "sns.barplot(cnt_srs.index, cnt_srs.values, alpha=0.8, color=color[5])\n",
    "plt.ylabel('Number of Occurrences', fontsize=12)\n",
    "plt.xlabel('Aisle', fontsize=12)\n",
    "plt.xticks(rotation='vertical')\n",
    "plt.show()"
   ]
  },
  {
   "cell_type": "markdown",
   "metadata": {},
   "source": [
    "It looks like fresh vegetables and fresh nuts were the highest bought products."
   ]
  },
  {
   "cell_type": "code",
   "execution_count": 135,
   "metadata": {},
   "outputs": [
    {
     "data": {
      "text/plain": [
       "produce            409087\n",
       "dairy eggs         217051\n",
       "snacks             118862\n",
       "beverages          114046\n",
       "frozen             100426\n",
       "pantry              81242\n",
       "bakery              48394\n",
       "canned goods        46799\n",
       "deli                44291\n",
       "dry goods pasta     38713\n",
       "household           35986\n",
       "meat seafood        30307\n",
       "breakfast           29500\n",
       "personal care       21570\n",
       "babies              14941\n",
       "international       11902\n",
       "missing              8251\n",
       "alcohol              5598\n",
       "pets                 4497\n",
       "other                1795\n",
       "bulk                 1359\n",
       "Name: department, dtype: int64"
      ]
     },
     "execution_count": 135,
     "metadata": {},
     "output_type": "execute_result"
    }
   ],
   "source": [
    "opt['department'].value_counts()"
   ]
  },
  {
   "cell_type": "code",
   "execution_count": 136,
   "metadata": {},
   "outputs": [
    {
     "data": {
      "image/png": "[encoded data removed]",
      "text/plain": [
       "<Figure size 720x720 with 1 Axes>"
      ]
     },
     "metadata": {},
     "output_type": "display_data"
    }
   ],
   "source": [
    "plt.figure(figsize=(10,10))\n",
    "temp_series = opt['department'].value_counts()\n",
    "labels = (np.array(temp_series.index))\n",
    "sizes = (np.array((temp_series / temp_series.sum())*100))\n",
    "plt.pie(sizes, labels=labels, \n",
    "        autopct='%1.1f%%', startangle=200)\n",
    "plt.title(\"Departments distribution\", fontsize=15)\n",
    "plt.show()"
   ]
  },
  {
   "cell_type": "markdown",
   "metadata": {},
   "source": [
    "Produce is the largest department. Now let us check the reorder ratio of day of week vs hour of day"
   ]
  },
  {
   "cell_type": "code",
   "execution_count": 137,
   "metadata": {
    "scrolled": true
   },
   "outputs": [
    {
     "data": {
      "image/png": "[encoded data removed]",
      "text/plain": [
       "<Figure size 864x432 with 2 Axes>"
      ]
     },
     "metadata": {
      "needs_background": "light"
     },
     "output_type": "display_data"
    }
   ],
   "source": [
    "grouped_df = opt.groupby([\"order_dow\", \"order_hour_of_day\"])[\"reordered\"].aggregate(\"mean\").reset_index()\n",
    "grouped_df = grouped_df.pivot('order_dow', 'order_hour_of_day', 'reordered')\n",
    "\n",
    "plt.figure(figsize=(12,6))\n",
    "sns.heatmap(grouped_df)\n",
    "plt.title(\"Reorder ratio of Day of week Vs Hour of day\")\n",
    "plt.show()"
   ]
  },
  {
   "cell_type": "markdown",
   "metadata": {},
   "source": [
    "Looks like reorder ratios are quite high during the early mornings compared to later half of the day.Now,lets go ahead with creating models and fitting the data to the model.But first, we have to create x variables i.e input variables and y as outcome variables"
   ]
  },
  {
   "cell_type": "markdown",
   "metadata": {},
   "source": [
    "# Getting Started with Predictive Modelling"
   ]
  },
  {
   "cell_type": "markdown",
   "metadata": {},
   "source": [
    "## 1.Supervised Learning"
   ]
  },
  {
   "cell_type": "markdown",
   "metadata": {},
   "source": [
    "### Getting X and Y variables for the model for model evaluation"
   ]
  },
  {
   "cell_type": "code",
   "execution_count": 4,
   "metadata": {},
   "outputs": [],
   "source": [
    "X=opt.drop(['reordered','product_name','aisle','eval_set','department'],axis=1)\n",
    "Y=opt['reordered']"
   ]
  },
  {
   "cell_type": "code",
   "execution_count": 5,
   "metadata": {},
   "outputs": [],
   "source": [
    "X_train, X_test, y_train, y_test = train_test_split(X, Y, test_size=0.30, random_state=42)"
   ]
  },
  {
   "cell_type": "code",
   "execution_count": 71,
   "metadata": {},
   "outputs": [
    {
     "data": {
      "text/plain": [
       "(969231, 10)"
      ]
     },
     "execution_count": 71,
     "metadata": {},
     "output_type": "execute_result"
    }
   ],
   "source": [
    "X_train.shape"
   ]
  },
  {
   "cell_type": "markdown",
   "metadata": {},
   "source": [
    "Let us use dimension reduction technique to reduce the dimension and determine the accuracy of the models.We are going to try first PCA and then Selectkbest"
   ]
  },
  {
   "cell_type": "markdown",
   "metadata": {},
   "source": [
    "# PCA"
   ]
  },
  {
   "cell_type": "code",
   "execution_count": 36,
   "metadata": {},
   "outputs": [
    {
     "name": "stdout",
     "output_type": "stream",
     "text": [
      "The percentage of total variance in the dataset explained by each component from Sklearn PCA.\n",
      " [5.44034266e-01 4.25207707e-01 3.07577255e-02 2.23994985e-07\n",
      " 4.69299183e-08]\n"
     ]
    }
   ],
   "source": [
    "X_pca = PCA(n_components=5)\n",
    "X_pca.fit(X_train)\n",
    "X_train_pca = X_pca.transform(X_train)\n",
    "X_test_pca = X_pca.transform(X_test)\n",
    "print(\n",
    "    'The percentage of total variance in the dataset explained by each',\n",
    "    'component from Sklearn PCA.\\n',\n",
    "    X_pca.explained_variance_ratio_\n",
    ")"
   ]
  },
  {
   "cell_type": "markdown",
   "metadata": {},
   "source": [
    "Now, since we have reduce components to 5 , let us see if PCA  shows any overfitting.After looking at variance, we do not see any overfitting which is good for training the models.Let us now start with training the models with the data.We are going to use 7 models-Naive Bayes,logistic Regression, KNN,Decision tree,Random Forest,SVC,GBR."
   ]
  },
  {
   "cell_type": "markdown",
   "metadata": {},
   "source": [
    "# Naive Bayes"
   ]
  },
  {
   "cell_type": "markdown",
   "metadata": {},
   "source": [
    "Now, we are training  Naive bayes with the dataset."
   ]
  },
  {
   "cell_type": "code",
   "execution_count": 143,
   "metadata": {},
   "outputs": [],
   "source": [
    "# Our data is binary / boolean, so we're importing the Bernoulli classifier.\n",
    "from sklearn.naive_bayes import BernoulliNB\n",
    "\n",
    "# Instantiate our model and store it in a new variable.\n",
    "bnb = BernoulliNB()\n",
    "\n",
    "# Fit our model to the data.\n",
    "bnb.fit(X_train_pca,y_train)\n",
    "\n",
    "# Classify, storing the result in a new variable.\n",
    "y_pred_bnb = bnb.predict(X_train_pca)"
   ]
  },
  {
   "cell_type": "markdown",
   "metadata": {},
   "source": [
    "Since we have fitted the model with the data and we dont have any parameters to tune using gridsearch cv so we are only using Cross Validation Classification_report,AUC,Confusion Matrix accuracy of the model"
   ]
  },
  {
   "cell_type": "markdown",
   "metadata": {},
   "source": [
    "# Cross Validation"
   ]
  },
  {
   "cell_type": "code",
   "execution_count": 139,
   "metadata": {},
   "outputs": [
    {
     "name": "stdout",
     "output_type": "stream",
     "text": [
      "Training data accuracy:  [0.61009972 0.60806203 0.60883068 0.61009054 0.61037943]\n",
      "Testing data accuracy:  [0.60856063 0.6066661  0.60853184 0.60752073 0.60885684]\n"
     ]
    }
   ],
   "source": [
    "#Cross Validation\n",
    "from sklearn.model_selection import cross_val_score\n",
    "print(\"Training data accuracy: \",cross_val_score(bnb, X_train_pca, y_train, cv=5))\n",
    "print(\"Testing data accuracy: \",cross_val_score(bnb, X_test_pca, y_test, cv=5))"
   ]
  },
  {
   "cell_type": "markdown",
   "metadata": {},
   "source": [
    "# AUC"
   ]
  },
  {
   "cell_type": "code",
   "execution_count": 144,
   "metadata": {},
   "outputs": [
    {
     "name": "stdout",
     "output_type": "stream",
     "text": [
      "AUC Score for BNB : 0.5512120024750862\n"
     ]
    }
   ],
   "source": [
    "\n",
    "from sklearn.metrics import roc_auc_score\n",
    "print (\"AUC Score for BNB :\" ,roc_auc_score(y_train, y_pred_bnb))"
   ]
  },
  {
   "cell_type": "markdown",
   "metadata": {},
   "source": [
    "# Confusion Matrix"
   ]
  },
  {
   "cell_type": "code",
   "execution_count": 145,
   "metadata": {},
   "outputs": [
    {
     "name": "stdout",
     "output_type": "stream",
     "text": [
      "[[ 99546 289422]\n",
      " [ 89070 491193]]\n",
      "Accuracy Score for BNB : 0.6094924739303633\n"
     ]
    }
   ],
   "source": [
    "\n",
    "from sklearn.metrics import confusion_matrix\n",
    "from sklearn.metrics import accuracy_score \n",
    "print(confusion_matrix(y_train, y_pred_bnb))\n",
    "print('Accuracy Score for BNB :',accuracy_score(y_train, y_pred_bnb))"
   ]
  },
  {
   "cell_type": "markdown",
   "metadata": {},
   "source": [
    "Here we see the FP and FN are  low which might be due to the reason that most of the features  are unable  to make the model understand the data requirements and hence not a good accuracy in the model "
   ]
  },
  {
   "cell_type": "code",
   "execution_count": 148,
   "metadata": {},
   "outputs": [
    {
     "name": "stdout",
     "output_type": "stream",
     "text": [
      "Classification Report for BNB:               precision    recall  f1-score   support\n",
      "\n",
      "           0       0.53      0.26      0.34    388968\n",
      "           1       0.63      0.85      0.72    580263\n",
      "\n",
      "   micro avg       0.61      0.61      0.61    969231\n",
      "   macro avg       0.58      0.55      0.53    969231\n",
      "weighted avg       0.59      0.61      0.57    969231\n",
      "\n"
     ]
    }
   ],
   "source": [
    "\n",
    "print(\"Classification Report for BNB:\",classification_report(y_train, y_pred_bnb))"
   ]
  },
  {
   "cell_type": "markdown",
   "metadata": {},
   "source": [
    "We used NB model because it is relatively simple than other models and it assumes that input variables are independent from each other, which will help us to avoid overfitting.It might not produce a high accuracy because of its simpilicity but runtime will be less than rest of the models.As we notice above, Cross validation,AUC, Confusion Matrix,Classification report are having ok scores.Naive Bayer is doing okay to predict the delay of trains which is expected.Here class 1 and 0 doesnot have that decent results but we would want to improve the accuracy results in order to predict better"
   ]
  },
  {
   "cell_type": "markdown",
   "metadata": {},
   "source": [
    "# Logistic Regression"
   ]
  },
  {
   "cell_type": "code",
   "execution_count": 151,
   "metadata": {},
   "outputs": [],
   "source": [
    "lr = LogisticRegression(C=0.02)"
   ]
  },
  {
   "cell_type": "code",
   "execution_count": 152,
   "metadata": {},
   "outputs": [
    {
     "name": "stderr",
     "output_type": "stream",
     "text": [
      "C:\\Users\\ankush\\Anaconda3\\lib\\site-packages\\sklearn\\linear_model\\logistic.py:432: FutureWarning: Default solver will be changed to 'lbfgs' in 0.22. Specify a solver to silence this warning.\n",
      "  FutureWarning)\n"
     ]
    },
    {
     "data": {
      "text/plain": [
       "LogisticRegression(C=0.02, class_weight=None, dual=False, fit_intercept=True,\n",
       "          intercept_scaling=1, max_iter=100, multi_class='warn',\n",
       "          n_jobs=None, penalty='l2', random_state=None, solver='warn',\n",
       "          tol=0.0001, verbose=0, warm_start=False)"
      ]
     },
     "execution_count": 152,
     "metadata": {},
     "output_type": "execute_result"
    }
   ],
   "source": [
    "lr.fit(X_train_pca,y_train)"
   ]
  },
  {
   "cell_type": "markdown",
   "metadata": {},
   "source": [
    "### GridSearchcv to get the best parameters\n"
   ]
  },
  {
   "cell_type": "code",
   "execution_count": 153,
   "metadata": {},
   "outputs": [
    {
     "name": "stderr",
     "output_type": "stream",
     "text": [
      "C:\\Users\\ankush\\Anaconda3\\lib\\site-packages\\sklearn\\linear_model\\logistic.py:432: FutureWarning: Default solver will be changed to 'lbfgs' in 0.22. Specify a solver to silence this warning.\n",
      "  FutureWarning)\n",
      "C:\\Users\\ankush\\Anaconda3\\lib\\site-packages\\sklearn\\linear_model\\logistic.py:432: FutureWarning: Default solver will be changed to 'lbfgs' in 0.22. Specify a solver to silence this warning.\n",
      "  FutureWarning)\n",
      "C:\\Users\\ankush\\Anaconda3\\lib\\site-packages\\sklearn\\linear_model\\logistic.py:432: FutureWarning: Default solver will be changed to 'lbfgs' in 0.22. Specify a solver to silence this warning.\n",
      "  FutureWarning)\n",
      "C:\\Users\\ankush\\Anaconda3\\lib\\site-packages\\sklearn\\linear_model\\logistic.py:432: FutureWarning: Default solver will be changed to 'lbfgs' in 0.22. Specify a solver to silence this warning.\n",
      "  FutureWarning)\n",
      "C:\\Users\\ankush\\Anaconda3\\lib\\site-packages\\sklearn\\linear_model\\logistic.py:432: FutureWarning: Default solver will be changed to 'lbfgs' in 0.22. Specify a solver to silence this warning.\n",
      "  FutureWarning)\n",
      "C:\\Users\\ankush\\Anaconda3\\lib\\site-packages\\sklearn\\linear_model\\logistic.py:432: FutureWarning: Default solver will be changed to 'lbfgs' in 0.22. Specify a solver to silence this warning.\n",
      "  FutureWarning)\n",
      "C:\\Users\\ankush\\Anaconda3\\lib\\site-packages\\sklearn\\linear_model\\logistic.py:432: FutureWarning: Default solver will be changed to 'lbfgs' in 0.22. Specify a solver to silence this warning.\n",
      "  FutureWarning)\n",
      "C:\\Users\\ankush\\Anaconda3\\lib\\site-packages\\sklearn\\linear_model\\logistic.py:432: FutureWarning: Default solver will be changed to 'lbfgs' in 0.22. Specify a solver to silence this warning.\n",
      "  FutureWarning)\n",
      "C:\\Users\\ankush\\Anaconda3\\lib\\site-packages\\sklearn\\linear_model\\logistic.py:432: FutureWarning: Default solver will be changed to 'lbfgs' in 0.22. Specify a solver to silence this warning.\n",
      "  FutureWarning)\n",
      "C:\\Users\\ankush\\Anaconda3\\lib\\site-packages\\sklearn\\linear_model\\logistic.py:432: FutureWarning: Default solver will be changed to 'lbfgs' in 0.22. Specify a solver to silence this warning.\n",
      "  FutureWarning)\n",
      "C:\\Users\\ankush\\Anaconda3\\lib\\site-packages\\sklearn\\linear_model\\logistic.py:432: FutureWarning: Default solver will be changed to 'lbfgs' in 0.22. Specify a solver to silence this warning.\n",
      "  FutureWarning)\n",
      "C:\\Users\\ankush\\Anaconda3\\lib\\site-packages\\sklearn\\linear_model\\logistic.py:432: FutureWarning: Default solver will be changed to 'lbfgs' in 0.22. Specify a solver to silence this warning.\n",
      "  FutureWarning)\n",
      "C:\\Users\\ankush\\Anaconda3\\lib\\site-packages\\sklearn\\linear_model\\logistic.py:432: FutureWarning: Default solver will be changed to 'lbfgs' in 0.22. Specify a solver to silence this warning.\n",
      "  FutureWarning)\n",
      "C:\\Users\\ankush\\Anaconda3\\lib\\site-packages\\sklearn\\linear_model\\logistic.py:432: FutureWarning: Default solver will be changed to 'lbfgs' in 0.22. Specify a solver to silence this warning.\n",
      "  FutureWarning)\n",
      "C:\\Users\\ankush\\Anaconda3\\lib\\site-packages\\sklearn\\linear_model\\logistic.py:432: FutureWarning: Default solver will be changed to 'lbfgs' in 0.22. Specify a solver to silence this warning.\n",
      "  FutureWarning)\n",
      "C:\\Users\\ankush\\Anaconda3\\lib\\site-packages\\sklearn\\linear_model\\logistic.py:432: FutureWarning: Default solver will be changed to 'lbfgs' in 0.22. Specify a solver to silence this warning.\n",
      "  FutureWarning)\n",
      "C:\\Users\\ankush\\Anaconda3\\lib\\site-packages\\sklearn\\linear_model\\logistic.py:432: FutureWarning: Default solver will be changed to 'lbfgs' in 0.22. Specify a solver to silence this warning.\n",
      "  FutureWarning)\n",
      "C:\\Users\\ankush\\Anaconda3\\lib\\site-packages\\sklearn\\linear_model\\logistic.py:432: FutureWarning: Default solver will be changed to 'lbfgs' in 0.22. Specify a solver to silence this warning.\n",
      "  FutureWarning)\n",
      "C:\\Users\\ankush\\Anaconda3\\lib\\site-packages\\sklearn\\linear_model\\logistic.py:432: FutureWarning: Default solver will be changed to 'lbfgs' in 0.22. Specify a solver to silence this warning.\n",
      "  FutureWarning)\n",
      "C:\\Users\\ankush\\Anaconda3\\lib\\site-packages\\sklearn\\linear_model\\logistic.py:432: FutureWarning: Default solver will be changed to 'lbfgs' in 0.22. Specify a solver to silence this warning.\n",
      "  FutureWarning)\n",
      "C:\\Users\\ankush\\Anaconda3\\lib\\site-packages\\sklearn\\linear_model\\logistic.py:432: FutureWarning: Default solver will be changed to 'lbfgs' in 0.22. Specify a solver to silence this warning.\n",
      "  FutureWarning)\n",
      "C:\\Users\\ankush\\Anaconda3\\lib\\site-packages\\sklearn\\linear_model\\logistic.py:432: FutureWarning: Default solver will be changed to 'lbfgs' in 0.22. Specify a solver to silence this warning.\n",
      "  FutureWarning)\n",
      "C:\\Users\\ankush\\Anaconda3\\lib\\site-packages\\sklearn\\linear_model\\logistic.py:432: FutureWarning: Default solver will be changed to 'lbfgs' in 0.22. Specify a solver to silence this warning.\n",
      "  FutureWarning)\n",
      "C:\\Users\\ankush\\Anaconda3\\lib\\site-packages\\sklearn\\linear_model\\logistic.py:432: FutureWarning: Default solver will be changed to 'lbfgs' in 0.22. Specify a solver to silence this warning.\n",
      "  FutureWarning)\n",
      "C:\\Users\\ankush\\Anaconda3\\lib\\site-packages\\sklearn\\linear_model\\logistic.py:432: FutureWarning: Default solver will be changed to 'lbfgs' in 0.22. Specify a solver to silence this warning.\n",
      "  FutureWarning)\n",
      "C:\\Users\\ankush\\Anaconda3\\lib\\site-packages\\sklearn\\linear_model\\logistic.py:432: FutureWarning: Default solver will be changed to 'lbfgs' in 0.22. Specify a solver to silence this warning.\n",
      "  FutureWarning)\n",
      "C:\\Users\\ankush\\Anaconda3\\lib\\site-packages\\sklearn\\linear_model\\logistic.py:432: FutureWarning: Default solver will be changed to 'lbfgs' in 0.22. Specify a solver to silence this warning.\n",
      "  FutureWarning)\n",
      "C:\\Users\\ankush\\Anaconda3\\lib\\site-packages\\sklearn\\linear_model\\logistic.py:432: FutureWarning: Default solver will be changed to 'lbfgs' in 0.22. Specify a solver to silence this warning.\n",
      "  FutureWarning)\n",
      "C:\\Users\\ankush\\Anaconda3\\lib\\site-packages\\sklearn\\linear_model\\logistic.py:432: FutureWarning: Default solver will be changed to 'lbfgs' in 0.22. Specify a solver to silence this warning.\n",
      "  FutureWarning)\n",
      "C:\\Users\\ankush\\Anaconda3\\lib\\site-packages\\sklearn\\linear_model\\logistic.py:432: FutureWarning: Default solver will be changed to 'lbfgs' in 0.22. Specify a solver to silence this warning.\n",
      "  FutureWarning)\n",
      "C:\\Users\\ankush\\Anaconda3\\lib\\site-packages\\sklearn\\linear_model\\logistic.py:432: FutureWarning: Default solver will be changed to 'lbfgs' in 0.22. Specify a solver to silence this warning.\n",
      "  FutureWarning)\n",
      "C:\\Users\\ankush\\Anaconda3\\lib\\site-packages\\sklearn\\linear_model\\logistic.py:432: FutureWarning: Default solver will be changed to 'lbfgs' in 0.22. Specify a solver to silence this warning.\n",
      "  FutureWarning)\n",
      "C:\\Users\\ankush\\Anaconda3\\lib\\site-packages\\sklearn\\linear_model\\logistic.py:432: FutureWarning: Default solver will be changed to 'lbfgs' in 0.22. Specify a solver to silence this warning.\n",
      "  FutureWarning)\n",
      "C:\\Users\\ankush\\Anaconda3\\lib\\site-packages\\sklearn\\linear_model\\logistic.py:432: FutureWarning: Default solver will be changed to 'lbfgs' in 0.22. Specify a solver to silence this warning.\n",
      "  FutureWarning)\n",
      "C:\\Users\\ankush\\Anaconda3\\lib\\site-packages\\sklearn\\linear_model\\logistic.py:432: FutureWarning: Default solver will be changed to 'lbfgs' in 0.22. Specify a solver to silence this warning.\n",
      "  FutureWarning)\n",
      "C:\\Users\\ankush\\Anaconda3\\lib\\site-packages\\sklearn\\linear_model\\logistic.py:432: FutureWarning: Default solver will be changed to 'lbfgs' in 0.22. Specify a solver to silence this warning.\n",
      "  FutureWarning)\n",
      "C:\\Users\\ankush\\Anaconda3\\lib\\site-packages\\sklearn\\linear_model\\logistic.py:432: FutureWarning: Default solver will be changed to 'lbfgs' in 0.22. Specify a solver to silence this warning.\n",
      "  FutureWarning)\n",
      "C:\\Users\\ankush\\Anaconda3\\lib\\site-packages\\sklearn\\linear_model\\logistic.py:432: FutureWarning: Default solver will be changed to 'lbfgs' in 0.22. Specify a solver to silence this warning.\n",
      "  FutureWarning)\n",
      "C:\\Users\\ankush\\Anaconda3\\lib\\site-packages\\sklearn\\linear_model\\logistic.py:432: FutureWarning: Default solver will be changed to 'lbfgs' in 0.22. Specify a solver to silence this warning.\n",
      "  FutureWarning)\n",
      "C:\\Users\\ankush\\Anaconda3\\lib\\site-packages\\sklearn\\linear_model\\logistic.py:432: FutureWarning: Default solver will be changed to 'lbfgs' in 0.22. Specify a solver to silence this warning.\n",
      "  FutureWarning)\n"
     ]
    },
    {
     "name": "stderr",
     "output_type": "stream",
     "text": [
      "C:\\Users\\ankush\\Anaconda3\\lib\\site-packages\\sklearn\\linear_model\\logistic.py:432: FutureWarning: Default solver will be changed to 'lbfgs' in 0.22. Specify a solver to silence this warning.\n",
      "  FutureWarning)\n",
      "C:\\Users\\ankush\\Anaconda3\\lib\\site-packages\\sklearn\\linear_model\\logistic.py:432: FutureWarning: Default solver will be changed to 'lbfgs' in 0.22. Specify a solver to silence this warning.\n",
      "  FutureWarning)\n",
      "C:\\Users\\ankush\\Anaconda3\\lib\\site-packages\\sklearn\\linear_model\\logistic.py:432: FutureWarning: Default solver will be changed to 'lbfgs' in 0.22. Specify a solver to silence this warning.\n",
      "  FutureWarning)\n",
      "C:\\Users\\ankush\\Anaconda3\\lib\\site-packages\\sklearn\\linear_model\\logistic.py:432: FutureWarning: Default solver will be changed to 'lbfgs' in 0.22. Specify a solver to silence this warning.\n",
      "  FutureWarning)\n",
      "C:\\Users\\ankush\\Anaconda3\\lib\\site-packages\\sklearn\\linear_model\\logistic.py:432: FutureWarning: Default solver will be changed to 'lbfgs' in 0.22. Specify a solver to silence this warning.\n",
      "  FutureWarning)\n",
      "C:\\Users\\ankush\\Anaconda3\\lib\\site-packages\\sklearn\\linear_model\\logistic.py:432: FutureWarning: Default solver will be changed to 'lbfgs' in 0.22. Specify a solver to silence this warning.\n",
      "  FutureWarning)\n",
      "C:\\Users\\ankush\\Anaconda3\\lib\\site-packages\\sklearn\\linear_model\\logistic.py:432: FutureWarning: Default solver will be changed to 'lbfgs' in 0.22. Specify a solver to silence this warning.\n",
      "  FutureWarning)\n",
      "C:\\Users\\ankush\\Anaconda3\\lib\\site-packages\\sklearn\\linear_model\\logistic.py:432: FutureWarning: Default solver will be changed to 'lbfgs' in 0.22. Specify a solver to silence this warning.\n",
      "  FutureWarning)\n",
      "C:\\Users\\ankush\\Anaconda3\\lib\\site-packages\\sklearn\\linear_model\\logistic.py:432: FutureWarning: Default solver will be changed to 'lbfgs' in 0.22. Specify a solver to silence this warning.\n",
      "  FutureWarning)\n",
      "C:\\Users\\ankush\\Anaconda3\\lib\\site-packages\\sklearn\\linear_model\\logistic.py:432: FutureWarning: Default solver will be changed to 'lbfgs' in 0.22. Specify a solver to silence this warning.\n",
      "  FutureWarning)\n",
      "C:\\Users\\ankush\\Anaconda3\\lib\\site-packages\\sklearn\\linear_model\\logistic.py:432: FutureWarning: Default solver will be changed to 'lbfgs' in 0.22. Specify a solver to silence this warning.\n",
      "  FutureWarning)\n",
      "C:\\Users\\ankush\\Anaconda3\\lib\\site-packages\\sklearn\\linear_model\\logistic.py:432: FutureWarning: Default solver will be changed to 'lbfgs' in 0.22. Specify a solver to silence this warning.\n",
      "  FutureWarning)\n",
      "C:\\Users\\ankush\\Anaconda3\\lib\\site-packages\\sklearn\\linear_model\\logistic.py:432: FutureWarning: Default solver will be changed to 'lbfgs' in 0.22. Specify a solver to silence this warning.\n",
      "  FutureWarning)\n",
      "C:\\Users\\ankush\\Anaconda3\\lib\\site-packages\\sklearn\\linear_model\\logistic.py:432: FutureWarning: Default solver will be changed to 'lbfgs' in 0.22. Specify a solver to silence this warning.\n",
      "  FutureWarning)\n",
      "C:\\Users\\ankush\\Anaconda3\\lib\\site-packages\\sklearn\\linear_model\\logistic.py:432: FutureWarning: Default solver will be changed to 'lbfgs' in 0.22. Specify a solver to silence this warning.\n",
      "  FutureWarning)\n",
      "C:\\Users\\ankush\\Anaconda3\\lib\\site-packages\\sklearn\\linear_model\\logistic.py:432: FutureWarning: Default solver will be changed to 'lbfgs' in 0.22. Specify a solver to silence this warning.\n",
      "  FutureWarning)\n",
      "C:\\Users\\ankush\\Anaconda3\\lib\\site-packages\\sklearn\\linear_model\\logistic.py:432: FutureWarning: Default solver will be changed to 'lbfgs' in 0.22. Specify a solver to silence this warning.\n",
      "  FutureWarning)\n",
      "C:\\Users\\ankush\\Anaconda3\\lib\\site-packages\\sklearn\\linear_model\\logistic.py:432: FutureWarning: Default solver will be changed to 'lbfgs' in 0.22. Specify a solver to silence this warning.\n",
      "  FutureWarning)\n",
      "C:\\Users\\ankush\\Anaconda3\\lib\\site-packages\\sklearn\\linear_model\\logistic.py:432: FutureWarning: Default solver will be changed to 'lbfgs' in 0.22. Specify a solver to silence this warning.\n",
      "  FutureWarning)\n",
      "C:\\Users\\ankush\\Anaconda3\\lib\\site-packages\\sklearn\\linear_model\\logistic.py:432: FutureWarning: Default solver will be changed to 'lbfgs' in 0.22. Specify a solver to silence this warning.\n",
      "  FutureWarning)\n",
      "C:\\Users\\ankush\\Anaconda3\\lib\\site-packages\\sklearn\\linear_model\\logistic.py:432: FutureWarning: Default solver will be changed to 'lbfgs' in 0.22. Specify a solver to silence this warning.\n",
      "  FutureWarning)\n",
      "C:\\Users\\ankush\\Anaconda3\\lib\\site-packages\\sklearn\\linear_model\\logistic.py:432: FutureWarning: Default solver will be changed to 'lbfgs' in 0.22. Specify a solver to silence this warning.\n",
      "  FutureWarning)\n",
      "C:\\Users\\ankush\\Anaconda3\\lib\\site-packages\\sklearn\\linear_model\\logistic.py:432: FutureWarning: Default solver will be changed to 'lbfgs' in 0.22. Specify a solver to silence this warning.\n",
      "  FutureWarning)\n",
      "C:\\Users\\ankush\\Anaconda3\\lib\\site-packages\\sklearn\\linear_model\\logistic.py:432: FutureWarning: Default solver will be changed to 'lbfgs' in 0.22. Specify a solver to silence this warning.\n",
      "  FutureWarning)\n",
      "C:\\Users\\ankush\\Anaconda3\\lib\\site-packages\\sklearn\\linear_model\\logistic.py:432: FutureWarning: Default solver will be changed to 'lbfgs' in 0.22. Specify a solver to silence this warning.\n",
      "  FutureWarning)\n",
      "C:\\Users\\ankush\\Anaconda3\\lib\\site-packages\\sklearn\\linear_model\\logistic.py:432: FutureWarning: Default solver will be changed to 'lbfgs' in 0.22. Specify a solver to silence this warning.\n",
      "  FutureWarning)\n",
      "C:\\Users\\ankush\\Anaconda3\\lib\\site-packages\\sklearn\\linear_model\\logistic.py:432: FutureWarning: Default solver will be changed to 'lbfgs' in 0.22. Specify a solver to silence this warning.\n",
      "  FutureWarning)\n",
      "C:\\Users\\ankush\\Anaconda3\\lib\\site-packages\\sklearn\\linear_model\\logistic.py:432: FutureWarning: Default solver will be changed to 'lbfgs' in 0.22. Specify a solver to silence this warning.\n",
      "  FutureWarning)\n",
      "C:\\Users\\ankush\\Anaconda3\\lib\\site-packages\\sklearn\\linear_model\\logistic.py:432: FutureWarning: Default solver will be changed to 'lbfgs' in 0.22. Specify a solver to silence this warning.\n",
      "  FutureWarning)\n",
      "C:\\Users\\ankush\\Anaconda3\\lib\\site-packages\\sklearn\\linear_model\\logistic.py:432: FutureWarning: Default solver will be changed to 'lbfgs' in 0.22. Specify a solver to silence this warning.\n",
      "  FutureWarning)\n",
      "C:\\Users\\ankush\\Anaconda3\\lib\\site-packages\\sklearn\\linear_model\\logistic.py:432: FutureWarning: Default solver will be changed to 'lbfgs' in 0.22. Specify a solver to silence this warning.\n",
      "  FutureWarning)\n",
      "C:\\Users\\ankush\\Anaconda3\\lib\\site-packages\\sklearn\\linear_model\\logistic.py:432: FutureWarning: Default solver will be changed to 'lbfgs' in 0.22. Specify a solver to silence this warning.\n",
      "  FutureWarning)\n",
      "C:\\Users\\ankush\\Anaconda3\\lib\\site-packages\\sklearn\\linear_model\\logistic.py:432: FutureWarning: Default solver will be changed to 'lbfgs' in 0.22. Specify a solver to silence this warning.\n",
      "  FutureWarning)\n",
      "C:\\Users\\ankush\\Anaconda3\\lib\\site-packages\\sklearn\\linear_model\\logistic.py:432: FutureWarning: Default solver will be changed to 'lbfgs' in 0.22. Specify a solver to silence this warning.\n",
      "  FutureWarning)\n",
      "C:\\Users\\ankush\\Anaconda3\\lib\\site-packages\\sklearn\\linear_model\\logistic.py:432: FutureWarning: Default solver will be changed to 'lbfgs' in 0.22. Specify a solver to silence this warning.\n",
      "  FutureWarning)\n",
      "C:\\Users\\ankush\\Anaconda3\\lib\\site-packages\\sklearn\\linear_model\\logistic.py:432: FutureWarning: Default solver will be changed to 'lbfgs' in 0.22. Specify a solver to silence this warning.\n",
      "  FutureWarning)\n",
      "C:\\Users\\ankush\\Anaconda3\\lib\\site-packages\\sklearn\\linear_model\\logistic.py:432: FutureWarning: Default solver will be changed to 'lbfgs' in 0.22. Specify a solver to silence this warning.\n",
      "  FutureWarning)\n",
      "C:\\Users\\ankush\\Anaconda3\\lib\\site-packages\\sklearn\\linear_model\\logistic.py:432: FutureWarning: Default solver will be changed to 'lbfgs' in 0.22. Specify a solver to silence this warning.\n",
      "  FutureWarning)\n",
      "C:\\Users\\ankush\\Anaconda3\\lib\\site-packages\\sklearn\\linear_model\\logistic.py:432: FutureWarning: Default solver will be changed to 'lbfgs' in 0.22. Specify a solver to silence this warning.\n",
      "  FutureWarning)\n",
      "C:\\Users\\ankush\\Anaconda3\\lib\\site-packages\\sklearn\\linear_model\\logistic.py:432: FutureWarning: Default solver will be changed to 'lbfgs' in 0.22. Specify a solver to silence this warning.\n",
      "  FutureWarning)\n"
     ]
    },
    {
     "name": "stderr",
     "output_type": "stream",
     "text": [
      "C:\\Users\\ankush\\Anaconda3\\lib\\site-packages\\sklearn\\linear_model\\logistic.py:432: FutureWarning: Default solver will be changed to 'lbfgs' in 0.22. Specify a solver to silence this warning.\n",
      "  FutureWarning)\n",
      "C:\\Users\\ankush\\Anaconda3\\lib\\site-packages\\sklearn\\linear_model\\logistic.py:432: FutureWarning: Default solver will be changed to 'lbfgs' in 0.22. Specify a solver to silence this warning.\n",
      "  FutureWarning)\n",
      "C:\\Users\\ankush\\Anaconda3\\lib\\site-packages\\sklearn\\linear_model\\logistic.py:432: FutureWarning: Default solver will be changed to 'lbfgs' in 0.22. Specify a solver to silence this warning.\n",
      "  FutureWarning)\n",
      "C:\\Users\\ankush\\Anaconda3\\lib\\site-packages\\sklearn\\linear_model\\logistic.py:432: FutureWarning: Default solver will be changed to 'lbfgs' in 0.22. Specify a solver to silence this warning.\n",
      "  FutureWarning)\n",
      "C:\\Users\\ankush\\Anaconda3\\lib\\site-packages\\sklearn\\linear_model\\logistic.py:432: FutureWarning: Default solver will be changed to 'lbfgs' in 0.22. Specify a solver to silence this warning.\n",
      "  FutureWarning)\n",
      "C:\\Users\\ankush\\Anaconda3\\lib\\site-packages\\sklearn\\linear_model\\logistic.py:432: FutureWarning: Default solver will be changed to 'lbfgs' in 0.22. Specify a solver to silence this warning.\n",
      "  FutureWarning)\n",
      "C:\\Users\\ankush\\Anaconda3\\lib\\site-packages\\sklearn\\linear_model\\logistic.py:432: FutureWarning: Default solver will be changed to 'lbfgs' in 0.22. Specify a solver to silence this warning.\n",
      "  FutureWarning)\n",
      "C:\\Users\\ankush\\Anaconda3\\lib\\site-packages\\sklearn\\linear_model\\logistic.py:432: FutureWarning: Default solver will be changed to 'lbfgs' in 0.22. Specify a solver to silence this warning.\n",
      "  FutureWarning)\n",
      "C:\\Users\\ankush\\Anaconda3\\lib\\site-packages\\sklearn\\linear_model\\logistic.py:432: FutureWarning: Default solver will be changed to 'lbfgs' in 0.22. Specify a solver to silence this warning.\n",
      "  FutureWarning)\n",
      "C:\\Users\\ankush\\Anaconda3\\lib\\site-packages\\sklearn\\linear_model\\logistic.py:432: FutureWarning: Default solver will be changed to 'lbfgs' in 0.22. Specify a solver to silence this warning.\n",
      "  FutureWarning)\n",
      "C:\\Users\\ankush\\Anaconda3\\lib\\site-packages\\sklearn\\linear_model\\logistic.py:432: FutureWarning: Default solver will be changed to 'lbfgs' in 0.22. Specify a solver to silence this warning.\n",
      "  FutureWarning)\n",
      "C:\\Users\\ankush\\Anaconda3\\lib\\site-packages\\sklearn\\linear_model\\logistic.py:432: FutureWarning: Default solver will be changed to 'lbfgs' in 0.22. Specify a solver to silence this warning.\n",
      "  FutureWarning)\n",
      "C:\\Users\\ankush\\Anaconda3\\lib\\site-packages\\sklearn\\linear_model\\logistic.py:432: FutureWarning: Default solver will be changed to 'lbfgs' in 0.22. Specify a solver to silence this warning.\n",
      "  FutureWarning)\n",
      "C:\\Users\\ankush\\Anaconda3\\lib\\site-packages\\sklearn\\linear_model\\logistic.py:432: FutureWarning: Default solver will be changed to 'lbfgs' in 0.22. Specify a solver to silence this warning.\n",
      "  FutureWarning)\n",
      "C:\\Users\\ankush\\Anaconda3\\lib\\site-packages\\sklearn\\linear_model\\logistic.py:432: FutureWarning: Default solver will be changed to 'lbfgs' in 0.22. Specify a solver to silence this warning.\n",
      "  FutureWarning)\n",
      "C:\\Users\\ankush\\Anaconda3\\lib\\site-packages\\sklearn\\linear_model\\logistic.py:432: FutureWarning: Default solver will be changed to 'lbfgs' in 0.22. Specify a solver to silence this warning.\n",
      "  FutureWarning)\n",
      "C:\\Users\\ankush\\Anaconda3\\lib\\site-packages\\sklearn\\linear_model\\logistic.py:432: FutureWarning: Default solver will be changed to 'lbfgs' in 0.22. Specify a solver to silence this warning.\n",
      "  FutureWarning)\n",
      "C:\\Users\\ankush\\Anaconda3\\lib\\site-packages\\sklearn\\linear_model\\logistic.py:432: FutureWarning: Default solver will be changed to 'lbfgs' in 0.22. Specify a solver to silence this warning.\n",
      "  FutureWarning)\n",
      "C:\\Users\\ankush\\Anaconda3\\lib\\site-packages\\sklearn\\linear_model\\logistic.py:432: FutureWarning: Default solver will be changed to 'lbfgs' in 0.22. Specify a solver to silence this warning.\n",
      "  FutureWarning)\n",
      "C:\\Users\\ankush\\Anaconda3\\lib\\site-packages\\sklearn\\linear_model\\logistic.py:432: FutureWarning: Default solver will be changed to 'lbfgs' in 0.22. Specify a solver to silence this warning.\n",
      "  FutureWarning)\n",
      "C:\\Users\\ankush\\Anaconda3\\lib\\site-packages\\sklearn\\linear_model\\logistic.py:432: FutureWarning: Default solver will be changed to 'lbfgs' in 0.22. Specify a solver to silence this warning.\n",
      "  FutureWarning)\n",
      "C:\\Users\\ankush\\Anaconda3\\lib\\site-packages\\sklearn\\linear_model\\logistic.py:432: FutureWarning: Default solver will be changed to 'lbfgs' in 0.22. Specify a solver to silence this warning.\n",
      "  FutureWarning)\n",
      "C:\\Users\\ankush\\Anaconda3\\lib\\site-packages\\sklearn\\linear_model\\logistic.py:432: FutureWarning: Default solver will be changed to 'lbfgs' in 0.22. Specify a solver to silence this warning.\n",
      "  FutureWarning)\n",
      "C:\\Users\\ankush\\Anaconda3\\lib\\site-packages\\sklearn\\linear_model\\logistic.py:432: FutureWarning: Default solver will be changed to 'lbfgs' in 0.22. Specify a solver to silence this warning.\n",
      "  FutureWarning)\n",
      "C:\\Users\\ankush\\Anaconda3\\lib\\site-packages\\sklearn\\linear_model\\logistic.py:432: FutureWarning: Default solver will be changed to 'lbfgs' in 0.22. Specify a solver to silence this warning.\n",
      "  FutureWarning)\n",
      "C:\\Users\\ankush\\Anaconda3\\lib\\site-packages\\sklearn\\linear_model\\logistic.py:432: FutureWarning: Default solver will be changed to 'lbfgs' in 0.22. Specify a solver to silence this warning.\n",
      "  FutureWarning)\n",
      "C:\\Users\\ankush\\Anaconda3\\lib\\site-packages\\sklearn\\linear_model\\logistic.py:432: FutureWarning: Default solver will be changed to 'lbfgs' in 0.22. Specify a solver to silence this warning.\n",
      "  FutureWarning)\n",
      "C:\\Users\\ankush\\Anaconda3\\lib\\site-packages\\sklearn\\linear_model\\logistic.py:432: FutureWarning: Default solver will be changed to 'lbfgs' in 0.22. Specify a solver to silence this warning.\n",
      "  FutureWarning)\n",
      "C:\\Users\\ankush\\Anaconda3\\lib\\site-packages\\sklearn\\linear_model\\logistic.py:432: FutureWarning: Default solver will be changed to 'lbfgs' in 0.22. Specify a solver to silence this warning.\n",
      "  FutureWarning)\n",
      "C:\\Users\\ankush\\Anaconda3\\lib\\site-packages\\sklearn\\linear_model\\logistic.py:432: FutureWarning: Default solver will be changed to 'lbfgs' in 0.22. Specify a solver to silence this warning.\n",
      "  FutureWarning)\n",
      "C:\\Users\\ankush\\Anaconda3\\lib\\site-packages\\sklearn\\linear_model\\logistic.py:432: FutureWarning: Default solver will be changed to 'lbfgs' in 0.22. Specify a solver to silence this warning.\n",
      "  FutureWarning)\n",
      "C:\\Users\\ankush\\Anaconda3\\lib\\site-packages\\sklearn\\linear_model\\logistic.py:432: FutureWarning: Default solver will be changed to 'lbfgs' in 0.22. Specify a solver to silence this warning.\n",
      "  FutureWarning)\n",
      "C:\\Users\\ankush\\Anaconda3\\lib\\site-packages\\sklearn\\linear_model\\logistic.py:432: FutureWarning: Default solver will be changed to 'lbfgs' in 0.22. Specify a solver to silence this warning.\n",
      "  FutureWarning)\n",
      "C:\\Users\\ankush\\Anaconda3\\lib\\site-packages\\sklearn\\linear_model\\logistic.py:432: FutureWarning: Default solver will be changed to 'lbfgs' in 0.22. Specify a solver to silence this warning.\n",
      "  FutureWarning)\n",
      "C:\\Users\\ankush\\Anaconda3\\lib\\site-packages\\sklearn\\linear_model\\logistic.py:432: FutureWarning: Default solver will be changed to 'lbfgs' in 0.22. Specify a solver to silence this warning.\n",
      "  FutureWarning)\n",
      "C:\\Users\\ankush\\Anaconda3\\lib\\site-packages\\sklearn\\linear_model\\logistic.py:432: FutureWarning: Default solver will be changed to 'lbfgs' in 0.22. Specify a solver to silence this warning.\n",
      "  FutureWarning)\n",
      "C:\\Users\\ankush\\Anaconda3\\lib\\site-packages\\sklearn\\linear_model\\logistic.py:432: FutureWarning: Default solver will be changed to 'lbfgs' in 0.22. Specify a solver to silence this warning.\n",
      "  FutureWarning)\n",
      "C:\\Users\\ankush\\Anaconda3\\lib\\site-packages\\sklearn\\linear_model\\logistic.py:432: FutureWarning: Default solver will be changed to 'lbfgs' in 0.22. Specify a solver to silence this warning.\n",
      "  FutureWarning)\n",
      "C:\\Users\\ankush\\Anaconda3\\lib\\site-packages\\sklearn\\linear_model\\logistic.py:432: FutureWarning: Default solver will be changed to 'lbfgs' in 0.22. Specify a solver to silence this warning.\n",
      "  FutureWarning)\n",
      "C:\\Users\\ankush\\Anaconda3\\lib\\site-packages\\sklearn\\linear_model\\logistic.py:432: FutureWarning: Default solver will be changed to 'lbfgs' in 0.22. Specify a solver to silence this warning.\n",
      "  FutureWarning)\n"
     ]
    },
    {
     "name": "stderr",
     "output_type": "stream",
     "text": [
      "C:\\Users\\ankush\\Anaconda3\\lib\\site-packages\\sklearn\\linear_model\\logistic.py:432: FutureWarning: Default solver will be changed to 'lbfgs' in 0.22. Specify a solver to silence this warning.\n",
      "  FutureWarning)\n",
      "C:\\Users\\ankush\\Anaconda3\\lib\\site-packages\\sklearn\\linear_model\\logistic.py:432: FutureWarning: Default solver will be changed to 'lbfgs' in 0.22. Specify a solver to silence this warning.\n",
      "  FutureWarning)\n",
      "C:\\Users\\ankush\\Anaconda3\\lib\\site-packages\\sklearn\\linear_model\\logistic.py:432: FutureWarning: Default solver will be changed to 'lbfgs' in 0.22. Specify a solver to silence this warning.\n",
      "  FutureWarning)\n",
      "C:\\Users\\ankush\\Anaconda3\\lib\\site-packages\\sklearn\\linear_model\\logistic.py:432: FutureWarning: Default solver will be changed to 'lbfgs' in 0.22. Specify a solver to silence this warning.\n",
      "  FutureWarning)\n",
      "C:\\Users\\ankush\\Anaconda3\\lib\\site-packages\\sklearn\\linear_model\\logistic.py:432: FutureWarning: Default solver will be changed to 'lbfgs' in 0.22. Specify a solver to silence this warning.\n",
      "  FutureWarning)\n",
      "C:\\Users\\ankush\\Anaconda3\\lib\\site-packages\\sklearn\\linear_model\\logistic.py:432: FutureWarning: Default solver will be changed to 'lbfgs' in 0.22. Specify a solver to silence this warning.\n",
      "  FutureWarning)\n",
      "C:\\Users\\ankush\\Anaconda3\\lib\\site-packages\\sklearn\\linear_model\\logistic.py:432: FutureWarning: Default solver will be changed to 'lbfgs' in 0.22. Specify a solver to silence this warning.\n",
      "  FutureWarning)\n",
      "C:\\Users\\ankush\\Anaconda3\\lib\\site-packages\\sklearn\\linear_model\\logistic.py:432: FutureWarning: Default solver will be changed to 'lbfgs' in 0.22. Specify a solver to silence this warning.\n",
      "  FutureWarning)\n",
      "C:\\Users\\ankush\\Anaconda3\\lib\\site-packages\\sklearn\\linear_model\\logistic.py:432: FutureWarning: Default solver will be changed to 'lbfgs' in 0.22. Specify a solver to silence this warning.\n",
      "  FutureWarning)\n",
      "C:\\Users\\ankush\\Anaconda3\\lib\\site-packages\\sklearn\\linear_model\\logistic.py:432: FutureWarning: Default solver will be changed to 'lbfgs' in 0.22. Specify a solver to silence this warning.\n",
      "  FutureWarning)\n",
      "C:\\Users\\ankush\\Anaconda3\\lib\\site-packages\\sklearn\\linear_model\\logistic.py:432: FutureWarning: Default solver will be changed to 'lbfgs' in 0.22. Specify a solver to silence this warning.\n",
      "  FutureWarning)\n",
      "C:\\Users\\ankush\\Anaconda3\\lib\\site-packages\\sklearn\\linear_model\\logistic.py:432: FutureWarning: Default solver will be changed to 'lbfgs' in 0.22. Specify a solver to silence this warning.\n",
      "  FutureWarning)\n",
      "C:\\Users\\ankush\\Anaconda3\\lib\\site-packages\\sklearn\\linear_model\\logistic.py:432: FutureWarning: Default solver will be changed to 'lbfgs' in 0.22. Specify a solver to silence this warning.\n",
      "  FutureWarning)\n",
      "C:\\Users\\ankush\\Anaconda3\\lib\\site-packages\\sklearn\\linear_model\\logistic.py:432: FutureWarning: Default solver will be changed to 'lbfgs' in 0.22. Specify a solver to silence this warning.\n",
      "  FutureWarning)\n",
      "C:\\Users\\ankush\\Anaconda3\\lib\\site-packages\\sklearn\\linear_model\\logistic.py:432: FutureWarning: Default solver will be changed to 'lbfgs' in 0.22. Specify a solver to silence this warning.\n",
      "  FutureWarning)\n",
      "C:\\Users\\ankush\\Anaconda3\\lib\\site-packages\\sklearn\\linear_model\\logistic.py:432: FutureWarning: Default solver will be changed to 'lbfgs' in 0.22. Specify a solver to silence this warning.\n",
      "  FutureWarning)\n",
      "C:\\Users\\ankush\\Anaconda3\\lib\\site-packages\\sklearn\\linear_model\\logistic.py:432: FutureWarning: Default solver will be changed to 'lbfgs' in 0.22. Specify a solver to silence this warning.\n",
      "  FutureWarning)\n",
      "C:\\Users\\ankush\\Anaconda3\\lib\\site-packages\\sklearn\\linear_model\\logistic.py:432: FutureWarning: Default solver will be changed to 'lbfgs' in 0.22. Specify a solver to silence this warning.\n",
      "  FutureWarning)\n",
      "C:\\Users\\ankush\\Anaconda3\\lib\\site-packages\\sklearn\\linear_model\\logistic.py:432: FutureWarning: Default solver will be changed to 'lbfgs' in 0.22. Specify a solver to silence this warning.\n",
      "  FutureWarning)\n",
      "C:\\Users\\ankush\\Anaconda3\\lib\\site-packages\\sklearn\\linear_model\\logistic.py:432: FutureWarning: Default solver will be changed to 'lbfgs' in 0.22. Specify a solver to silence this warning.\n",
      "  FutureWarning)\n",
      "C:\\Users\\ankush\\Anaconda3\\lib\\site-packages\\sklearn\\linear_model\\logistic.py:432: FutureWarning: Default solver will be changed to 'lbfgs' in 0.22. Specify a solver to silence this warning.\n",
      "  FutureWarning)\n"
     ]
    },
    {
     "name": "stdout",
     "output_type": "stream",
     "text": [
      "[{'C': 0.001, 'penalty': 'l1'}, {'C': 0.001, 'penalty': 'l2'}, {'C': 0.01, 'penalty': 'l1'}, {'C': 0.01, 'penalty': 'l2'}, {'C': 0.1, 'penalty': 'l1'}, {'C': 0.1, 'penalty': 'l2'}, {'C': 1.0, 'penalty': 'l1'}, {'C': 1.0, 'penalty': 'l2'}, {'C': 10.0, 'penalty': 'l1'}, {'C': 10.0, 'penalty': 'l2'}, {'C': 100.0, 'penalty': 'l1'}, {'C': 100.0, 'penalty': 'l2'}, {'C': 1000.0, 'penalty': 'l1'}, {'C': 1000.0, 'penalty': 'l2'}]\n",
      "[0.62825374 0.62811652 0.62812993 0.62813715 0.62814541 0.62813922\n",
      " 0.62814128 0.62813922 0.62814128 0.62813922 0.62813922 0.62813922\n",
      " 0.62814025 0.62813922]\n"
     ]
    },
    {
     "name": "stderr",
     "output_type": "stream",
     "text": [
      "C:\\Users\\ankush\\Anaconda3\\lib\\site-packages\\sklearn\\utils\\deprecation.py:125: FutureWarning: You are accessing a training score ('mean_train_score'), which will not be available by default any more in 0.21. If you need training scores, please set return_train_score=True\n",
      "  warnings.warn(*warn_args, **warn_kwargs)\n"
     ]
    },
    {
     "name": "stdout",
     "output_type": "stream",
     "text": [
      "[0.62825569 0.62811388 0.62814999 0.62810758 0.62810838 0.62810746\n",
      " 0.628107   0.62810735 0.62810872 0.62810735 0.62810563 0.62810735\n",
      " 0.62810689 0.62810735]\n",
      "Best Hyper Parameters:\n",
      " {'C': 0.001, 'penalty': 'l1'}\n",
      "0.6282537393046652\n",
      "LogisticRegression(C=0.001, class_weight=None, dual=False, fit_intercept=True,\n",
      "          intercept_scaling=1, max_iter=100, multi_class='warn',\n",
      "          n_jobs=None, penalty='l1', random_state=None, solver='warn',\n",
      "          tol=0.0001, verbose=0, warm_start=False)\n"
     ]
    }
   ],
   "source": [
    "grid={\"C\":np.logspace(-3,3,7), \"penalty\":[\"l1\",\"l2\"]}# l1 lasso l2 ridge\n",
    "logreg_cv=model_selection.GridSearchCV(lr,grid,cv=10)\n",
    "logreg_cv.fit(X_train_pca,y_train)\n",
    "results = logreg_cv.cv_results_\n",
    "print(results.get('params'))\n",
    "print(results.get('mean_test_score'))\n",
    "print(results.get('mean_train_score'))\n",
    "print(\"Best Hyper Parameters:\\n\",logreg_cv.best_params_)\n",
    "print(logreg_cv.best_score_)\n",
    "final_model = logreg_cv.best_estimator_\n",
    "print(final_model)"
   ]
  },
  {
   "cell_type": "code",
   "execution_count": 58,
   "metadata": {},
   "outputs": [
    {
     "name": "stderr",
     "output_type": "stream",
     "text": [
      "C:\\Users\\ankush\\Anaconda3\\lib\\site-packages\\sklearn\\linear_model\\logistic.py:432: FutureWarning: Default solver will be changed to 'lbfgs' in 0.22. Specify a solver to silence this warning.\n",
      "  FutureWarning)\n"
     ]
    },
    {
     "data": {
      "text/plain": [
       "LogisticRegression(C=0.001, class_weight=None, dual=False, fit_intercept=True,\n",
       "          intercept_scaling=1, max_iter=100, multi_class='warn',\n",
       "          n_jobs=None, penalty='l1', random_state=None, solver='warn',\n",
       "          tol=0.0001, verbose=0, warm_start=False)"
      ]
     },
     "execution_count": 58,
     "metadata": {},
     "output_type": "execute_result"
    }
   ],
   "source": [
    "lr = LogisticRegression(C= 0.001, penalty= 'l1')\n",
    "lr.fit(X_train_pca,y_train)"
   ]
  },
  {
   "cell_type": "code",
   "execution_count": 156,
   "metadata": {},
   "outputs": [
    {
     "name": "stderr",
     "output_type": "stream",
     "text": [
      "C:\\Users\\ankush\\Anaconda3\\lib\\site-packages\\sklearn\\linear_model\\logistic.py:432: FutureWarning: Default solver will be changed to 'lbfgs' in 0.22. Specify a solver to silence this warning.\n",
      "  FutureWarning)\n",
      "C:\\Users\\ankush\\Anaconda3\\lib\\site-packages\\sklearn\\linear_model\\logistic.py:432: FutureWarning: Default solver will be changed to 'lbfgs' in 0.22. Specify a solver to silence this warning.\n",
      "  FutureWarning)\n",
      "C:\\Users\\ankush\\Anaconda3\\lib\\site-packages\\sklearn\\linear_model\\logistic.py:432: FutureWarning: Default solver will be changed to 'lbfgs' in 0.22. Specify a solver to silence this warning.\n",
      "  FutureWarning)\n",
      "C:\\Users\\ankush\\Anaconda3\\lib\\site-packages\\sklearn\\linear_model\\logistic.py:432: FutureWarning: Default solver will be changed to 'lbfgs' in 0.22. Specify a solver to silence this warning.\n",
      "  FutureWarning)\n",
      "C:\\Users\\ankush\\Anaconda3\\lib\\site-packages\\sklearn\\linear_model\\logistic.py:432: FutureWarning: Default solver will be changed to 'lbfgs' in 0.22. Specify a solver to silence this warning.\n",
      "  FutureWarning)\n"
     ]
    },
    {
     "name": "stdout",
     "output_type": "stream",
     "text": [
      "Training data accuracy:  [0.62873813 0.62643734 0.62866591 0.62951327 0.62803271]\n"
     ]
    },
    {
     "name": "stderr",
     "output_type": "stream",
     "text": [
      "C:\\Users\\ankush\\Anaconda3\\lib\\site-packages\\sklearn\\linear_model\\logistic.py:432: FutureWarning: Default solver will be changed to 'lbfgs' in 0.22. Specify a solver to silence this warning.\n",
      "  FutureWarning)\n",
      "C:\\Users\\ankush\\Anaconda3\\lib\\site-packages\\sklearn\\linear_model\\logistic.py:432: FutureWarning: Default solver will be changed to 'lbfgs' in 0.22. Specify a solver to silence this warning.\n",
      "  FutureWarning)\n",
      "C:\\Users\\ankush\\Anaconda3\\lib\\site-packages\\sklearn\\linear_model\\logistic.py:432: FutureWarning: Default solver will be changed to 'lbfgs' in 0.22. Specify a solver to silence this warning.\n",
      "  FutureWarning)\n",
      "C:\\Users\\ankush\\Anaconda3\\lib\\site-packages\\sklearn\\linear_model\\logistic.py:432: FutureWarning: Default solver will be changed to 'lbfgs' in 0.22. Specify a solver to silence this warning.\n",
      "  FutureWarning)\n",
      "C:\\Users\\ankush\\Anaconda3\\lib\\site-packages\\sklearn\\linear_model\\logistic.py:432: FutureWarning: Default solver will be changed to 'lbfgs' in 0.22. Specify a solver to silence this warning.\n",
      "  FutureWarning)\n"
     ]
    },
    {
     "name": "stdout",
     "output_type": "stream",
     "text": [
      "Testing data accuracy:  [0.62718168 0.62864571 0.62885034 0.62821238 0.63013831]\n"
     ]
    }
   ],
   "source": [
    "#Cross Validation\n",
    "from sklearn.model_selection import cross_val_score\n",
    "print(\"Training data accuracy: \",cross_val_score(lr, X_train_pca, y_train, cv=5))\n",
    "print(\"Testing data accuracy: \",cross_val_score(lr, X_test_pca, y_test, cv=5))"
   ]
  },
  {
   "cell_type": "code",
   "execution_count": 158,
   "metadata": {},
   "outputs": [],
   "source": [
    "y_pred_lr = lr.predict(X_train_pca)"
   ]
  },
  {
   "cell_type": "markdown",
   "metadata": {},
   "source": [
    "# Confusion Matrix"
   ]
  },
  {
   "cell_type": "code",
   "execution_count": 44,
   "metadata": {},
   "outputs": [
    {
     "name": "stdout",
     "output_type": "stream",
     "text": [
      "[[112718 276250]\n",
      " [ 81116 499147]]\n",
      "Accuracy Score for Random Forest : 0.6312891354073488\n"
     ]
    }
   ],
   "source": [
    "\n",
    "from sklearn.metrics import confusion_matrix\n",
    "from sklearn.metrics import accuracy_score \n",
    "print(confusion_matrix(y_train, y_pred_lr))\n",
    "print('Accuracy Score for Logistic Regression :',accuracy_score(y_train, y_pred_lr))"
   ]
  },
  {
   "cell_type": "markdown",
   "metadata": {},
   "source": [
    "# AUC"
   ]
  },
  {
   "cell_type": "code",
   "execution_count": 43,
   "metadata": {},
   "outputs": [
    {
     "name": "stdout",
     "output_type": "stream",
     "text": [
      "AUC Score for Random Forest : 0.5749977753102224\n"
     ]
    }
   ],
   "source": [
    "\n",
    "from sklearn.metrics import roc_auc_score\n",
    "print (\"AUC Score for Logistic Regression :\" ,roc_auc_score(y_train, y_pred_lr))"
   ]
  },
  {
   "cell_type": "markdown",
   "metadata": {},
   "source": [
    "# Classification Report"
   ]
  },
  {
   "cell_type": "code",
   "execution_count": 159,
   "metadata": {},
   "outputs": [
    {
     "name": "stdout",
     "output_type": "stream",
     "text": [
      "Classification Report for Logistic Regression:               precision    recall  f1-score   support\n",
      "\n",
      "           0       0.56      0.34      0.42    388968\n",
      "           1       0.65      0.82      0.73    580263\n",
      "\n",
      "   micro avg       0.63      0.63      0.63    969231\n",
      "   macro avg       0.61      0.58      0.58    969231\n",
      "weighted avg       0.61      0.63      0.60    969231\n",
      "\n"
     ]
    }
   ],
   "source": [
    "\n",
    "from sklearn.metrics import classification_report\n",
    "print(\"Classification Report for Logistic Regression:\",classification_report(y_train, y_pred_lr))"
   ]
  },
  {
   "cell_type": "markdown",
   "metadata": {},
   "source": [
    "Logistic Regression usually works perfect to explain the relationship between one dependent binary variable and one or more nominal, ordinal, interval or ratio-level independent variables.This model again is easy to implement, quick to train and resistent to overfitting.Here, the accuracy is  in 60s which makes sense because we do not have lot of meaningful features that will help model to understand the data better.Cross validation,AUC, Confusion Matrix,Classification report doesnot have  good scores with no sign of overfitting.TN and FN look okay for both confusion matrix and Classification report.Runtime looks to be better than SVC ,GBR and KNN."
   ]
  },
  {
   "cell_type": "markdown",
   "metadata": {},
   "source": [
    "# KNN Classification"
   ]
  },
  {
   "cell_type": "code",
   "execution_count": 27,
   "metadata": {},
   "outputs": [],
   "source": [
    "knn_model = KNeighborsClassifier(n_neighbors=5)"
   ]
  },
  {
   "cell_type": "code",
   "execution_count": 43,
   "metadata": {},
   "outputs": [
    {
     "name": "stderr",
     "output_type": "stream",
     "text": [
      "C:\\Users\\ankush\\Anaconda3\\lib\\site-packages\\sklearn\\model_selection\\_split.py:1943: FutureWarning: You should specify a value for 'cv' instead of relying on the default value. The default value will change from 3 to 5 in version 0.22.\n",
      "  warnings.warn(CV_WARNING, FutureWarning)\n"
     ]
    },
    {
     "name": "stdout",
     "output_type": "stream",
     "text": [
      "[{'leaf_size': 1, 'n_neighbors': 5}, {'leaf_size': 2, 'n_neighbors': 5}, {'leaf_size': 3, 'n_neighbors': 5}, {'leaf_size': 5, 'n_neighbors': 5}]\n",
      "[0.57054717 0.57054717 0.57054717 0.57054717]\n"
     ]
    },
    {
     "name": "stderr",
     "output_type": "stream",
     "text": [
      "C:\\Users\\ankush\\Anaconda3\\lib\\site-packages\\sklearn\\utils\\deprecation.py:125: FutureWarning: You are accessing a training score ('mean_train_score'), which will not be available by default any more in 0.21. If you need training scores, please set return_train_score=True\n",
      "  warnings.warn(*warn_args, **warn_kwargs)\n"
     ]
    },
    {
     "name": "stdout",
     "output_type": "stream",
     "text": [
      "[0.72350967 0.72350967 0.72350967 0.72350967]\n",
      "Best Hyper Parameters:\n",
      " {'leaf_size': 1, 'n_neighbors': 5}\n",
      "0.5705471657427383\n",
      "KNeighborsClassifier(algorithm='auto', leaf_size=1, metric='minkowski',\n",
      "           metric_params=None, n_jobs=None, n_neighbors=5, p=2,\n",
      "           weights='uniform')\n"
     ]
    }
   ],
   "source": [
    "params = {'n_neighbors':[5],\n",
    "          'leaf_size':[1,2,3,5]\n",
    "                  }\n",
    "#Making models with hyper parameters sets\n",
    "grid_class_knn = model_selection.GridSearchCV(knn_model, param_grid=params)\n",
    "#Learning\n",
    "grid_class_knn.fit(X_train_pca,y_train)\n",
    "#The best hyper parameters set\n",
    "\n",
    "results = grid_class_knn.cv_results_\n",
    "print(results.get('params'))\n",
    "print(results.get('mean_test_score'))\n",
    "print(results.get('mean_train_score'))\n",
    "print(\"Best Hyper Parameters:\\n\",grid_class_knn.best_params_)\n",
    "print(grid_class_knn.best_score_)\n",
    "final_model = grid_class_knn.best_estimator_\n",
    "print(final_model)\n"
   ]
  },
  {
   "cell_type": "code",
   "execution_count": 28,
   "metadata": {},
   "outputs": [],
   "source": [
    "\n",
    "#Fitting the model with the parameters and train data\n",
    "knn_model = KNeighborsClassifier(leaf_size=1,n_neighbors=5)\n",
    "knn_model.fit(X_train_pca, y_train)\n",
    "y_pred_knn = knn_model.predict(X_train_pca)"
   ]
  },
  {
   "cell_type": "code",
   "execution_count": 59,
   "metadata": {},
   "outputs": [
    {
     "data": {
      "text/plain": [
       "(969231,)"
      ]
     },
     "execution_count": 59,
     "metadata": {},
     "output_type": "execute_result"
    }
   ],
   "source": [
    "y_pred_knn.shape"
   ]
  },
  {
   "cell_type": "code",
   "execution_count": 29,
   "metadata": {},
   "outputs": [
    {
     "name": "stdout",
     "output_type": "stream",
     "text": [
      "Training data accuracy for knn:  [0.58909042 0.58860551 0.58934836 0.58908618 0.59056158 0.59064412\n",
      " 0.59096396 0.58943698 0.58689462 0.58962877]\n",
      "Testing data accuracy for knn:  [0.58846895 0.58804978 0.58530538 0.58718313 0.58658129 0.58767875\n",
      " 0.5895084  0.58998989 0.58861765 0.59220473]\n"
     ]
    }
   ],
   "source": [
    "from sklearn.model_selection import cross_val_score\n",
    "print(\"Training data accuracy for knn: \",cross_val_score(knn_model, X_train_pca, y_train, cv=10))\n",
    "print(\"Testing data accuracy for knn: \",cross_val_score(knn_model, X_test_pca, y_test, cv=10))"
   ]
  },
  {
   "cell_type": "markdown",
   "metadata": {},
   "source": [
    "# AUC"
   ]
  },
  {
   "cell_type": "code",
   "execution_count": 46,
   "metadata": {},
   "outputs": [
    {
     "name": "stdout",
     "output_type": "stream",
     "text": [
      "AUC Score for Random Forest : 0.7042915632004009\n"
     ]
    }
   ],
   "source": [
    "from sklearn.metrics import roc_auc_score\n",
    "print (\"AUC Score for KNN :\" ,roc_auc_score(y_train, y_pred_knn))"
   ]
  },
  {
   "cell_type": "markdown",
   "metadata": {},
   "source": [
    "# Confusion Matrix"
   ]
  },
  {
   "cell_type": "code",
   "execution_count": 47,
   "metadata": {},
   "outputs": [
    {
     "name": "stdout",
     "output_type": "stream",
     "text": [
      "[[225505 163463]\n",
      " [ 99323 480940]]\n",
      "Accuracy Score for Random Forest : 0.7288716518559559\n"
     ]
    }
   ],
   "source": [
    "\n",
    "from sklearn.metrics import confusion_matrix\n",
    "from sklearn.metrics import accuracy_score \n",
    "print(confusion_matrix(y_train, y_pred_knn))\n",
    "print('Accuracy Score for KNN :',accuracy_score(y_train, y_pred_knn))"
   ]
  },
  {
   "cell_type": "markdown",
   "metadata": {},
   "source": [
    "# Classification Report"
   ]
  },
  {
   "cell_type": "code",
   "execution_count": 48,
   "metadata": {},
   "outputs": [
    {
     "name": "stdout",
     "output_type": "stream",
     "text": [
      "Classification Report for Random Forest:               precision    recall  f1-score   support\n",
      "\n",
      "           0       0.69      0.58      0.63    388968\n",
      "           1       0.75      0.83      0.79    580263\n",
      "\n",
      "   micro avg       0.73      0.73      0.73    969231\n",
      "   macro avg       0.72      0.70      0.71    969231\n",
      "weighted avg       0.73      0.73      0.72    969231\n",
      "\n"
     ]
    }
   ],
   "source": [
    "from sklearn.metrics import classification_report\n",
    "print(\"Classification Report for KNN:\",classification_report(y_train, y_pred_knn))"
   ]
  },
  {
   "cell_type": "markdown",
   "metadata": {},
   "source": [
    "KNN usually works well for big datasets.If we observce here, dataset is more than 1 million, so knn is having better accuracy than NB and Logistic Regression.As we notice above, Cross validation,AUC, Confusion Matrix,Classification report are having better accuracy than NB and Logistic Regression.There is no sign of overfitting here.If we see false negative and false positives for class 0 and 1 are almost similar and scores are better and run time is short as well."
   ]
  },
  {
   "cell_type": "markdown",
   "metadata": {},
   "source": [
    "# Random Forest Classifier"
   ]
  },
  {
   "cell_type": "code",
   "execution_count": 7,
   "metadata": {},
   "outputs": [],
   "source": [
    "from sklearn import ensemble\n",
    "rfc = ensemble.RandomForestClassifier(max_depth=10,n_estimators= 100)\n",
    "rfc.fit(X_train_pca, y_train)\n",
    "rfc_pred = rfc.predict(X_train_pca)"
   ]
  },
  {
   "cell_type": "code",
   "execution_count": 20,
   "metadata": {},
   "outputs": [
    {
     "name": "stdout",
     "output_type": "stream",
     "text": [
      "[{'max_depth': 3, 'max_features': 5}, {'max_depth': 4, 'max_features': 5}, {'max_depth': 5, 'max_features': 5}]\n",
      "[0.62952691 0.63083414 0.63213517]\n"
     ]
    },
    {
     "name": "stderr",
     "output_type": "stream",
     "text": [
      "C:\\Users\\ankush\\Anaconda3\\lib\\site-packages\\sklearn\\utils\\deprecation.py:125: FutureWarning: You are accessing a training score ('mean_train_score'), which will not be available by default any more in 0.21. If you need training scores, please set return_train_score=True\n",
      "  warnings.warn(*warn_args, **warn_kwargs)\n"
     ]
    },
    {
     "name": "stdout",
     "output_type": "stream",
     "text": [
      "[0.62974152 0.63133948 0.63251898]\n",
      "Best Hyper Parameters:\n",
      " {'max_depth': 5, 'max_features': 5}\n",
      "0.6321351669519444\n",
      "RandomForestClassifier(bootstrap=True, class_weight=None, criterion='gini',\n",
      "            max_depth=5, max_features=5, max_leaf_nodes=None,\n",
      "            min_impurity_decrease=0.0, min_impurity_split=None,\n",
      "            min_samples_leaf=1, min_samples_split=2,\n",
      "            min_weight_fraction_leaf=0.0, n_estimators=100, n_jobs=None,\n",
      "            oob_score=False, random_state=None, verbose=0,\n",
      "            warm_start=False)\n"
     ]
    }
   ],
   "source": [
    "dt_grid={'max_depth':[3,4,5],'max_features': [5]}\n",
    "\n",
    "grid_class_rfc=model_selection.GridSearchCV(rfc,dt_grid,cv=6)\n",
    "grid_class_rfc.fit(X_train_pca, y_train)\n",
    "results = grid_class_rfc.cv_results_\n",
    "print(results.get('params'))\n",
    "print(results.get('mean_test_score'))\n",
    "print(results.get('mean_train_score'))\n",
    "print(\"Best Hyper Parameters:\\n\",grid_class_rfc.best_params_)\n",
    "print(grid_class_rfc.best_score_)\n",
    "final_model = grid_class_rfc.best_estimator_\n",
    "print(final_model)"
   ]
  },
  {
   "cell_type": "code",
   "execution_count": 84,
   "metadata": {},
   "outputs": [
    {
     "name": "stderr",
     "output_type": "stream",
     "text": [
      "C:\\Users\\ankush\\Anaconda3\\lib\\site-packages\\sklearn\\ensemble\\forest.py:248: FutureWarning: The default value of n_estimators will change from 10 in version 0.20 to 100 in 0.22.\n",
      "  \"10 in version 0.20 to 100 in 0.22.\", FutureWarning)\n"
     ]
    }
   ],
   "source": [
    "rfc = ensemble.RandomForestClassifier(max_depth=5,max_features= 5)\n",
    "rfc.fit(X_train_pca, y_train)\n",
    "rfc_pred = rfc.predict(X_train_pca)"
   ]
  },
  {
   "cell_type": "code",
   "execution_count": 22,
   "metadata": {},
   "outputs": [
    {
     "name": "stdout",
     "output_type": "stream",
     "text": [
      "Training data accuracy:  [0.63246787 0.63030122 0.63348414 0.63232995 0.63211329]\n",
      "Testing data accuracy:  [0.66179975 0.66242161 0.66592438 0.66036328 0.66667068]\n"
     ]
    }
   ],
   "source": [
    "from sklearn.model_selection import cross_val_score\n",
    "print(\"Training data accuracy: \",cross_val_score(rfc, X_train_pca, y_train, cv=5))\n",
    "print(\"Testing data accuracy: \",cross_val_score(rfc, X_test, y_test, cv=5))"
   ]
  },
  {
   "cell_type": "markdown",
   "metadata": {},
   "source": [
    "# AUC"
   ]
  },
  {
   "cell_type": "code",
   "execution_count": 23,
   "metadata": {},
   "outputs": [
    {
     "name": "stdout",
     "output_type": "stream",
     "text": [
      "AUC Score for Random Forest : 0.5790349655943385\n"
     ]
    }
   ],
   "source": [
    "from sklearn.metrics import roc_auc_score\n",
    "print (\"AUC Score for Random Forest :\" ,roc_auc_score(y_train, rfc_pred))"
   ]
  },
  {
   "cell_type": "markdown",
   "metadata": {},
   "source": [
    "# Confusion Matrix"
   ]
  },
  {
   "cell_type": "code",
   "execution_count": 25,
   "metadata": {},
   "outputs": [
    {
     "name": "stdout",
     "output_type": "stream",
     "text": [
      "[[120309 268659]\n",
      " [ 87755 492508]]\n",
      "Accuracy Score for Random Forest : 0.6322713573957086\n"
     ]
    }
   ],
   "source": [
    "from sklearn.metrics import confusion_matrix\n",
    "from sklearn.metrics import accuracy_score \n",
    "print(confusion_matrix(y_train, rfc_pred))\n",
    "print('Accuracy Score for Random Forest :',accuracy_score(y_train, rfc_pred))"
   ]
  },
  {
   "cell_type": "markdown",
   "metadata": {},
   "source": [
    "# Classification Report"
   ]
  },
  {
   "cell_type": "code",
   "execution_count": 26,
   "metadata": {},
   "outputs": [
    {
     "name": "stdout",
     "output_type": "stream",
     "text": [
      "Classification Report for Random Forest:               precision    recall  f1-score   support\n",
      "\n",
      "           0       0.58      0.31      0.40    388968\n",
      "           1       0.65      0.85      0.73    580263\n",
      "\n",
      "   micro avg       0.63      0.63      0.63    969231\n",
      "   macro avg       0.61      0.58      0.57    969231\n",
      "weighted avg       0.62      0.63      0.60    969231\n",
      "\n"
     ]
    }
   ],
   "source": [
    "from sklearn.metrics import classification_report\n",
    "print(\"Classification Report for Random Forest:\",classification_report(y_train, rfc_pred))"
   ]
  },
  {
   "cell_type": "markdown",
   "metadata": {},
   "source": [
    "Random forest classifier usually handles the missing values and maintain the accuracy of a large proportion of data.Thats why it is awlays better to use Random Forest for classification problems.If there are more trees, it won’t allow overfitting trees in the model.If we observe here, there seem to be no or very less overfitting.But the accuracy doesnt seem to be good as expected by Random forest.May be its because it doesnot have enough dimensions to understand and get good accuaracy which it required to make it work well."
   ]
  },
  {
   "cell_type": "markdown",
   "metadata": {},
   "source": [
    "# Decision Tree"
   ]
  },
  {
   "cell_type": "code",
   "execution_count": 66,
   "metadata": {},
   "outputs": [],
   "source": [
    "decision_tree = tree.DecisionTreeClassifier(max_depth=10)\n",
    "decision_tree.fit(X_train_pca, y_train)\n",
    "y_pred_dt = decision_tree.predict(X_train_pca)"
   ]
  },
  {
   "cell_type": "code",
   "execution_count": 67,
   "metadata": {},
   "outputs": [
    {
     "name": "stdout",
     "output_type": "stream",
     "text": [
      "[{'max_depth': 50, 'max_features': 5}]\n",
      "[0.60001383]\n"
     ]
    },
    {
     "name": "stderr",
     "output_type": "stream",
     "text": [
      "C:\\Users\\ankush\\Anaconda3\\lib\\site-packages\\sklearn\\utils\\deprecation.py:125: FutureWarning: You are accessing a training score ('mean_train_score'), which will not be available by default any more in 0.21. If you need training scores, please set return_train_score=True\n",
      "  warnings.warn(*warn_args, **warn_kwargs)\n"
     ]
    },
    {
     "name": "stdout",
     "output_type": "stream",
     "text": [
      "[0.99962176]\n",
      "Best Hyper Parameters:\n",
      " {'max_depth': 50, 'max_features': 5}\n",
      "0.6000138253935337\n",
      "DecisionTreeClassifier(class_weight=None, criterion='gini', max_depth=50,\n",
      "            max_features=5, max_leaf_nodes=None, min_impurity_decrease=0.0,\n",
      "            min_impurity_split=None, min_samples_leaf=1,\n",
      "            min_samples_split=2, min_weight_fraction_leaf=0.0,\n",
      "            presort=False, random_state=None, splitter='best')\n"
     ]
    }
   ],
   "source": [
    "\n",
    "dt_grid={'max_depth':[50],'max_features': [5]}\n",
    "grid_class_dt=model_selection.GridSearchCV(decision_tree,dt_grid,cv=6)\n",
    "grid_class_dt.fit(X_train_pca, y_train)\n",
    "results = grid_class_dt.cv_results_\n",
    "print(results.get('params'))\n",
    "print(results.get('mean_test_score'))\n",
    "print(results.get('mean_train_score'))\n",
    "print(\"Best Hyper Parameters:\\n\",grid_class_dt.best_params_)\n",
    "print(grid_class_dt.best_score_)\n",
    "final_model = grid_class_dt.best_estimator_\n",
    "print(final_model)"
   ]
  },
  {
   "cell_type": "code",
   "execution_count": 68,
   "metadata": {},
   "outputs": [],
   "source": [
    "\n",
    "#Fitting the best parmaters after gridsearchcv to the decision tree\n",
    "decision_tree = tree.DecisionTreeClassifier(max_depth=50,max_features=5)\n",
    "decision_tree.fit(X_train_pca, y_train)\n",
    "y_pred_dt = decision_tree.predict(X_train_pca)"
   ]
  },
  {
   "cell_type": "code",
   "execution_count": 69,
   "metadata": {},
   "outputs": [
    {
     "name": "stdout",
     "output_type": "stream",
     "text": [
      "Training data accuracy for Decision Tree:  [0.59990302 0.59899509 0.59903636 0.59944492 0.60186953 0.5997854\n",
      " 0.6027981  0.60035286 0.60286622 0.59834712]\n",
      "Testing data accuracy for Decision Tree:  [0.59354839 0.59534413 0.59247936 0.588772   0.59209418 0.59256584\n",
      " 0.5869806  0.59518995 0.59112138 0.58982137]\n"
     ]
    }
   ],
   "source": [
    "\n",
    "print(\"Training data accuracy for Decision Tree: \",cross_val_score(decision_tree, X_train_pca, y_train, cv=10))\n",
    "print(\"Testing data accuracy for Decision Tree: \",cross_val_score(decision_tree, X_test_pca, y_test, cv=10))"
   ]
  },
  {
   "cell_type": "code",
   "execution_count": 71,
   "metadata": {},
   "outputs": [
    {
     "name": "stdout",
     "output_type": "stream",
     "text": [
      "AUC Score for Decision Tree : 0.9988297008562766\n"
     ]
    }
   ],
   "source": [
    "from sklearn.metrics import roc_auc_score\n",
    "print (\"AUC Score for Decision Tree :\" ,roc_auc_score(y_train, y_pred_dt))"
   ]
  },
  {
   "cell_type": "code",
   "execution_count": 74,
   "metadata": {},
   "outputs": [
    {
     "name": "stdout",
     "output_type": "stream",
     "text": [
      "[[388256    712]\n",
      " [   296 579967]]\n",
      "Accuracy Score for Decision Tree : 0.998960000247619\n"
     ]
    }
   ],
   "source": [
    "\n",
    "print(confusion_matrix(y_train, y_pred_dt))\n",
    "print('Accuracy Score for Decision Tree :',accuracy_score(y_train, y_pred_dt))"
   ]
  },
  {
   "cell_type": "code",
   "execution_count": 75,
   "metadata": {},
   "outputs": [
    {
     "name": "stdout",
     "output_type": "stream",
     "text": [
      "Classification Report for Decision Tree:               precision    recall  f1-score   support\n",
      "\n",
      "           0       1.00      1.00      1.00    388968\n",
      "           1       1.00      1.00      1.00    580263\n",
      "\n",
      "   micro avg       1.00      1.00      1.00    969231\n",
      "   macro avg       1.00      1.00      1.00    969231\n",
      "weighted avg       1.00      1.00      1.00    969231\n",
      "\n"
     ]
    }
   ],
   "source": [
    "print(\"Classification Report for Decision Tree:\",classification_report(y_train, y_pred_dt))"
   ]
  },
  {
   "cell_type": "markdown",
   "metadata": {},
   "source": [
    "Decision Tree are one of the simple models.It is also useful when most of the input variables are categorical and produces good results.It is usually suspectible to overfitting or noise.In this case,the results are ideal, which is not likely possible.Hence, Decision tree has got overfitting.AUC,Confusion Matrix and Classification report are having overfitting which tells us that we should not be using this model and choose other model which have better accuracy"
   ]
  },
  {
   "cell_type": "markdown",
   "metadata": {},
   "source": [
    "# SVC"
   ]
  },
  {
   "cell_type": "code",
   "execution_count": null,
   "metadata": {},
   "outputs": [
    {
     "name": "stderr",
     "output_type": "stream",
     "text": [
      "C:\\Users\\ankush\\Anaconda3\\lib\\site-packages\\sklearn\\svm\\base.py:196: FutureWarning: The default value of gamma will change from 'auto' to 'scale' in version 0.22 to account better for unscaled features. Set gamma explicitly to 'auto' or 'scale' to avoid this warning.\n",
      "  \"avoid this warning.\", FutureWarning)\n"
     ]
    }
   ],
   "source": [
    "from sklearn.svm import SVC\n",
    "svm=SVC()\n",
    "svm.fit(X_train_pca, y_train)\n",
    "y_pred_svm = svm.predict(X_train_pca)"
   ]
  },
  {
   "cell_type": "code",
   "execution_count": null,
   "metadata": {},
   "outputs": [],
   "source": [
    "param_grid = {'C':[1,10,100,1000],'gamma':[1,0.1,0.001,0.0001], 'kernel':['linear','rbf']}\n",
    "grid_class_svm=model_selection.GridSearchCV(svm,param_grid,refit = True)\n",
    "grid_class_svm.fit(X_train_pca, y_train)\n",
    "results = grid_class_svm.cv_results_\n",
    "print(results.get('params'))\n",
    "print(results.get('mean_test_score'))\n",
    "print(results.get('mean_train_score'))\n",
    "print(\"Best Hyper Parameters:\\n\",grid_class_svm.best_params_)\n",
    "print(grid_class_svm.best_score_)\n",
    "final_model = grid_class_svm.best_estimator_\n",
    "print(final_model)"
   ]
  },
  {
   "cell_type": "code",
   "execution_count": null,
   "metadata": {},
   "outputs": [],
   "source": [
    "svm=SVC()\n",
    "svm.fit(X_train_pca, y_train)\n",
    "y_pred_svm = svm.predict(X_train_pca)"
   ]
  },
  {
   "cell_type": "code",
   "execution_count": null,
   "metadata": {},
   "outputs": [],
   "source": [
    "\n",
    "print(\"Training data accuracy for Random Forest: \",cross_val_score(grid_class_svm, X_train_pca, y_train, cv=10))\n",
    "print(\"Testing data accuracy for Random Forest: \",cross_val_score(grid_class_svm, X_test_pca, y_test, cv=10))"
   ]
  },
  {
   "cell_type": "code",
   "execution_count": null,
   "metadata": {},
   "outputs": [],
   "source": [
    "\n",
    "from sklearn.metrics import roc_auc_score\n",
    "print (\"AUC Score for Random Forest :\" ,roc_auc_score(y_train, y_pred_svm))"
   ]
  },
  {
   "cell_type": "code",
   "execution_count": null,
   "metadata": {},
   "outputs": [],
   "source": [
    "\n",
    "print(confusion_matrix(y_train_sample, y_pred_bnb))\n",
    "print('Accuracy Score for Random Forest :',accuracy_score(y_train, y_pred_svm))"
   ]
  },
  {
   "cell_type": "code",
   "execution_count": null,
   "metadata": {},
   "outputs": [],
   "source": [
    "\n",
    "print(\"Classification Report for Random Forest:\",classification_report(y_train, y_pred_svm))"
   ]
  },
  {
   "cell_type": "markdown",
   "metadata": {},
   "source": [
    "SVC is one of the complex models for getting good accuracy.The tradeoff with this model is, it takes more time to run than the other models because of its large computations happening in the background.It taken atleast 8-10 hours to complete.Results are good but we will not be using this model unless other models are not performing well"
   ]
  },
  {
   "cell_type": "markdown",
   "metadata": {},
   "source": [
    "# GradientBoostingClassifier\n"
   ]
  },
  {
   "cell_type": "code",
   "execution_count": null,
   "metadata": {},
   "outputs": [],
   "source": [
    "params = {'n_estimators': 500,\n",
    "          'max_depth': 7,\n",
    "          'loss': 'deviance'}\n",
    "clf = ensemble.GradientBoostingClassifier(**params)\n",
    "clf.fit(X_train_pca, y_train)\n",
    "y_pred_gbr = clf.predict(X_train_pca)"
   ]
  },
  {
   "cell_type": "code",
   "execution_count": null,
   "metadata": {},
   "outputs": [],
   "source": [
    "\n",
    "params ={\n",
    "    \"loss\":[\"deviance\"],\n",
    "    \"max_depth\":[3,5,8],\n",
    "    \"n_estimators\":[1000]\n",
    "    }\n",
    "gb = model_selection.GridSearchCV(clf, params, cv=10)\n",
    "gb.fit(X_train_pca, y_train)\n",
    "results = gb.cv_results_\n",
    "print(results.get('params'))\n",
    "print(results.get('mean_test_score'))\n",
    "print(results.get('mean_train_score'))\n",
    "print(\"Best Hyper Parameters:\\n\",gb.best_params_)\n",
    "print(gb.best_score_)\n",
    "final_model = gb.best_estimator_\n",
    "print(final_model)"
   ]
  },
  {
   "cell_type": "code",
   "execution_count": null,
   "metadata": {},
   "outputs": [],
   "source": [
    "clf = ensemble.GradientBoostingClassifier(**params)\n",
    "clf.fit(X_train_pca, y_train)\n",
    "y_pred_gbr = clf.predict(X_train_pca)"
   ]
  },
  {
   "cell_type": "code",
   "execution_count": null,
   "metadata": {},
   "outputs": [],
   "source": [
    "print(\"Training data accuracy for GBR: \",cross_val_score(gb, X_train_pca, y_train, cv=10))\n",
    "print(\"Testing data accuracy for GBR: \",cross_val_score(gb, X_test_pca, y_test, cv=10))"
   ]
  },
  {
   "cell_type": "code",
   "execution_count": null,
   "metadata": {},
   "outputs": [],
   "source": [
    "\n",
    "from sklearn.metrics import roc_auc_score\n",
    "print (\"AUC Score for GBR :\" ,roc_auc_score(y_train, y_pred_gbr))"
   ]
  },
  {
   "cell_type": "code",
   "execution_count": null,
   "metadata": {},
   "outputs": [],
   "source": [
    "\n",
    "print(confusion_matrix(y_train_sample, y_pred_gbr))\n",
    "print('Accuracy Score for GBR :',accuracy_score(y_train, y_pred_gbr))"
   ]
  },
  {
   "cell_type": "code",
   "execution_count": null,
   "metadata": {},
   "outputs": [],
   "source": [
    "\n",
    "print(\"Classification Report for GBR:\",classification_report(y_train, y_pred_gbr))"
   ]
  },
  {
   "cell_type": "markdown",
   "metadata": {},
   "source": [
    "GBR is especially used to improve the accuaracy.This model is very useful if other models are not accurate ,then model might be a good option for predictive accuracy.The downside of this model is this model can very slow to predict the accuracy because of the ensemble algorithms running in the background.This is the same scenario here.It is very slow.However,Accuracy scores are good since it models the data over and over, each time adjusting the model based on what was learned from the previous one.Now, we will use SKB for dimension reduction and use the same techniques as above to get the accuracy of each model"
   ]
  },
  {
   "cell_type": "markdown",
   "metadata": {},
   "source": [
    "# SKB"
   ]
  },
  {
   "cell_type": "markdown",
   "metadata": {},
   "source": [
    "Now, lets use another popular dimension reduction technique Selectkbest.This is also very effective when compared to PCA.We are trying to compare PCA with SKB and the model accuracies"
   ]
  },
  {
   "cell_type": "code",
   "execution_count": 10,
   "metadata": {},
   "outputs": [],
   "source": [
    "#Using skb to get the best 5 features out of the total\n",
    "from sklearn.feature_selection import SelectKBest\n",
    "from sklearn.feature_selection import f_classif\n",
    "skb = SelectKBest(f_classif,k=5)\n",
    "skb.fit(X_train, y_train)\n",
    "#skb.fit(X_train_sample, y_train_sample)\n",
    "X_train_skb = skb.transform(X_train)\n",
    "X_test_skb = skb.transform(X_test)"
   ]
  },
  {
   "cell_type": "markdown",
   "metadata": {},
   "source": [
    "We have reduced the features to 5 here"
   ]
  },
  {
   "cell_type": "markdown",
   "metadata": {},
   "source": [
    "# Naive Bayes"
   ]
  },
  {
   "cell_type": "code",
   "execution_count": 162,
   "metadata": {},
   "outputs": [],
   "source": [
    "# Our data is binary / boolean, so we're importing the Bernoulli classifier.\n",
    "from sklearn.naive_bayes import BernoulliNB\n",
    "\n",
    "# Instantiate our model and store it in a new variable.\n",
    "bnb = BernoulliNB()\n",
    "\n",
    "# Fit our model to the data.\n",
    "bnb.fit(X_train_skb,y_train)\n",
    "\n",
    "# Classify, storing the result in a new variable.\n",
    "y_pred_bnb = bnb.predict(X_train_skb)"
   ]
  },
  {
   "cell_type": "markdown",
   "metadata": {},
   "source": [
    "# Cross Validation"
   ]
  },
  {
   "cell_type": "code",
   "execution_count": 163,
   "metadata": {},
   "outputs": [
    {
     "name": "stdout",
     "output_type": "stream",
     "text": [
      "Training data accuracy for Naive Bayes:  [0.631567   0.63163922 0.62882258 0.63176955 0.63472035 0.63167669\n",
      " 0.63626797 0.63317272 0.63304513 0.63302449]\n",
      "Testing data accuracy for Naive Bayes:  [0.63370246 0.63171959 0.63037146 0.63318809 0.63578805 0.62935144\n",
      " 0.63385334 0.63033849 0.63033849 0.63794598]\n"
     ]
    }
   ],
   "source": [
    "print(\"Training data accuracy for Naive Bayes: \",cross_val_score(bnb, X_train_skb, y_train, cv=10))\n",
    "print(\"Testing data accuracy for Naive Bayes: \",cross_val_score(bnb, X_test_skb, y_test, cv=10))"
   ]
  },
  {
   "cell_type": "markdown",
   "metadata": {},
   "source": [
    "# AUC"
   ]
  },
  {
   "cell_type": "code",
   "execution_count": 165,
   "metadata": {},
   "outputs": [
    {
     "name": "stdout",
     "output_type": "stream",
     "text": [
      "AUC Score for BNB : 0.6004345924693821\n"
     ]
    }
   ],
   "source": [
    "from sklearn.metrics import roc_auc_score\n",
    "print (\"AUC Score for BNB :\" ,roc_auc_score(y_train, y_pred_bnb))"
   ]
  },
  {
   "cell_type": "markdown",
   "metadata": {},
   "source": [
    "# Confusion Matrix"
   ]
  },
  {
   "cell_type": "code",
   "execution_count": 166,
   "metadata": {},
   "outputs": [
    {
     "name": "stdout",
     "output_type": "stream",
     "text": [
      "[[170217 218751]\n",
      " [137373 442890]]\n",
      "Accuracy Score for BNB : 0.6325705636736754\n"
     ]
    }
   ],
   "source": [
    "\n",
    "print(confusion_matrix(y_train, y_pred_bnb))\n",
    "print('Accuracy Score for BNB :',accuracy_score(y_train, y_pred_bnb))"
   ]
  },
  {
   "cell_type": "code",
   "execution_count": 167,
   "metadata": {},
   "outputs": [
    {
     "name": "stdout",
     "output_type": "stream",
     "text": [
      "Classification Report for BNB:               precision    recall  f1-score   support\n",
      "\n",
      "           0       0.55      0.44      0.49    388968\n",
      "           1       0.67      0.76      0.71    580263\n",
      "\n",
      "   micro avg       0.63      0.63      0.63    969231\n",
      "   macro avg       0.61      0.60      0.60    969231\n",
      "weighted avg       0.62      0.63      0.62    969231\n",
      "\n"
     ]
    }
   ],
   "source": [
    "\n",
    "print(\"Classification Report for BNB:\",classification_report(y_train, y_pred_bnb))"
   ]
  },
  {
   "cell_type": "markdown",
   "metadata": {},
   "source": [
    "Cross validation,AUC, Confusion Matrix,Classification report seem to have much better results than PCA for NB.But still the accuracy scores are not good.Now we will search rest of the models"
   ]
  },
  {
   "cell_type": "markdown",
   "metadata": {},
   "source": [
    "# Logistic Regression"
   ]
  },
  {
   "cell_type": "code",
   "execution_count": 31,
   "metadata": {},
   "outputs": [
    {
     "name": "stderr",
     "output_type": "stream",
     "text": [
      "C:\\Users\\ankush\\Anaconda3\\lib\\site-packages\\sklearn\\linear_model\\logistic.py:432: FutureWarning: Default solver will be changed to 'lbfgs' in 0.22. Specify a solver to silence this warning.\n",
      "  FutureWarning)\n"
     ]
    }
   ],
   "source": [
    "lr = LogisticRegression()\n",
    "lr.fit(X_train_skb,y_train)\n",
    "y_pred_lr = lr.predict(X_train_skb)"
   ]
  },
  {
   "cell_type": "markdown",
   "metadata": {},
   "source": [
    "## Gridsearch cv to get the best parameters"
   ]
  },
  {
   "cell_type": "code",
   "execution_count": 168,
   "metadata": {},
   "outputs": [
    {
     "name": "stderr",
     "output_type": "stream",
     "text": [
      "C:\\Users\\ankush\\Anaconda3\\lib\\site-packages\\sklearn\\linear_model\\logistic.py:432: FutureWarning: Default solver will be changed to 'lbfgs' in 0.22. Specify a solver to silence this warning.\n",
      "  FutureWarning)\n",
      "C:\\Users\\ankush\\Anaconda3\\lib\\site-packages\\sklearn\\linear_model\\logistic.py:432: FutureWarning: Default solver will be changed to 'lbfgs' in 0.22. Specify a solver to silence this warning.\n",
      "  FutureWarning)\n",
      "C:\\Users\\ankush\\Anaconda3\\lib\\site-packages\\sklearn\\linear_model\\logistic.py:432: FutureWarning: Default solver will be changed to 'lbfgs' in 0.22. Specify a solver to silence this warning.\n",
      "  FutureWarning)\n",
      "C:\\Users\\ankush\\Anaconda3\\lib\\site-packages\\sklearn\\linear_model\\logistic.py:432: FutureWarning: Default solver will be changed to 'lbfgs' in 0.22. Specify a solver to silence this warning.\n",
      "  FutureWarning)\n",
      "C:\\Users\\ankush\\Anaconda3\\lib\\site-packages\\sklearn\\linear_model\\logistic.py:432: FutureWarning: Default solver will be changed to 'lbfgs' in 0.22. Specify a solver to silence this warning.\n",
      "  FutureWarning)\n",
      "C:\\Users\\ankush\\Anaconda3\\lib\\site-packages\\sklearn\\linear_model\\logistic.py:432: FutureWarning: Default solver will be changed to 'lbfgs' in 0.22. Specify a solver to silence this warning.\n",
      "  FutureWarning)\n",
      "C:\\Users\\ankush\\Anaconda3\\lib\\site-packages\\sklearn\\linear_model\\logistic.py:432: FutureWarning: Default solver will be changed to 'lbfgs' in 0.22. Specify a solver to silence this warning.\n",
      "  FutureWarning)\n",
      "C:\\Users\\ankush\\Anaconda3\\lib\\site-packages\\sklearn\\linear_model\\logistic.py:432: FutureWarning: Default solver will be changed to 'lbfgs' in 0.22. Specify a solver to silence this warning.\n",
      "  FutureWarning)\n",
      "C:\\Users\\ankush\\Anaconda3\\lib\\site-packages\\sklearn\\linear_model\\logistic.py:432: FutureWarning: Default solver will be changed to 'lbfgs' in 0.22. Specify a solver to silence this warning.\n",
      "  FutureWarning)\n",
      "C:\\Users\\ankush\\Anaconda3\\lib\\site-packages\\sklearn\\linear_model\\logistic.py:432: FutureWarning: Default solver will be changed to 'lbfgs' in 0.22. Specify a solver to silence this warning.\n",
      "  FutureWarning)\n",
      "C:\\Users\\ankush\\Anaconda3\\lib\\site-packages\\sklearn\\linear_model\\logistic.py:432: FutureWarning: Default solver will be changed to 'lbfgs' in 0.22. Specify a solver to silence this warning.\n",
      "  FutureWarning)\n",
      "C:\\Users\\ankush\\Anaconda3\\lib\\site-packages\\sklearn\\linear_model\\logistic.py:432: FutureWarning: Default solver will be changed to 'lbfgs' in 0.22. Specify a solver to silence this warning.\n",
      "  FutureWarning)\n",
      "C:\\Users\\ankush\\Anaconda3\\lib\\site-packages\\sklearn\\linear_model\\logistic.py:432: FutureWarning: Default solver will be changed to 'lbfgs' in 0.22. Specify a solver to silence this warning.\n",
      "  FutureWarning)\n",
      "C:\\Users\\ankush\\Anaconda3\\lib\\site-packages\\sklearn\\linear_model\\logistic.py:432: FutureWarning: Default solver will be changed to 'lbfgs' in 0.22. Specify a solver to silence this warning.\n",
      "  FutureWarning)\n",
      "C:\\Users\\ankush\\Anaconda3\\lib\\site-packages\\sklearn\\linear_model\\logistic.py:432: FutureWarning: Default solver will be changed to 'lbfgs' in 0.22. Specify a solver to silence this warning.\n",
      "  FutureWarning)\n",
      "C:\\Users\\ankush\\Anaconda3\\lib\\site-packages\\sklearn\\linear_model\\logistic.py:432: FutureWarning: Default solver will be changed to 'lbfgs' in 0.22. Specify a solver to silence this warning.\n",
      "  FutureWarning)\n",
      "C:\\Users\\ankush\\Anaconda3\\lib\\site-packages\\sklearn\\linear_model\\logistic.py:432: FutureWarning: Default solver will be changed to 'lbfgs' in 0.22. Specify a solver to silence this warning.\n",
      "  FutureWarning)\n",
      "C:\\Users\\ankush\\Anaconda3\\lib\\site-packages\\sklearn\\linear_model\\logistic.py:432: FutureWarning: Default solver will be changed to 'lbfgs' in 0.22. Specify a solver to silence this warning.\n",
      "  FutureWarning)\n",
      "C:\\Users\\ankush\\Anaconda3\\lib\\site-packages\\sklearn\\linear_model\\logistic.py:432: FutureWarning: Default solver will be changed to 'lbfgs' in 0.22. Specify a solver to silence this warning.\n",
      "  FutureWarning)\n",
      "C:\\Users\\ankush\\Anaconda3\\lib\\site-packages\\sklearn\\linear_model\\logistic.py:432: FutureWarning: Default solver will be changed to 'lbfgs' in 0.22. Specify a solver to silence this warning.\n",
      "  FutureWarning)\n",
      "C:\\Users\\ankush\\Anaconda3\\lib\\site-packages\\sklearn\\linear_model\\logistic.py:432: FutureWarning: Default solver will be changed to 'lbfgs' in 0.22. Specify a solver to silence this warning.\n",
      "  FutureWarning)\n",
      "C:\\Users\\ankush\\Anaconda3\\lib\\site-packages\\sklearn\\linear_model\\logistic.py:432: FutureWarning: Default solver will be changed to 'lbfgs' in 0.22. Specify a solver to silence this warning.\n",
      "  FutureWarning)\n",
      "C:\\Users\\ankush\\Anaconda3\\lib\\site-packages\\sklearn\\linear_model\\logistic.py:432: FutureWarning: Default solver will be changed to 'lbfgs' in 0.22. Specify a solver to silence this warning.\n",
      "  FutureWarning)\n",
      "C:\\Users\\ankush\\Anaconda3\\lib\\site-packages\\sklearn\\linear_model\\logistic.py:432: FutureWarning: Default solver will be changed to 'lbfgs' in 0.22. Specify a solver to silence this warning.\n",
      "  FutureWarning)\n",
      "C:\\Users\\ankush\\Anaconda3\\lib\\site-packages\\sklearn\\linear_model\\logistic.py:432: FutureWarning: Default solver will be changed to 'lbfgs' in 0.22. Specify a solver to silence this warning.\n",
      "  FutureWarning)\n",
      "C:\\Users\\ankush\\Anaconda3\\lib\\site-packages\\sklearn\\linear_model\\logistic.py:432: FutureWarning: Default solver will be changed to 'lbfgs' in 0.22. Specify a solver to silence this warning.\n",
      "  FutureWarning)\n",
      "C:\\Users\\ankush\\Anaconda3\\lib\\site-packages\\sklearn\\linear_model\\logistic.py:432: FutureWarning: Default solver will be changed to 'lbfgs' in 0.22. Specify a solver to silence this warning.\n",
      "  FutureWarning)\n",
      "C:\\Users\\ankush\\Anaconda3\\lib\\site-packages\\sklearn\\linear_model\\logistic.py:432: FutureWarning: Default solver will be changed to 'lbfgs' in 0.22. Specify a solver to silence this warning.\n",
      "  FutureWarning)\n",
      "C:\\Users\\ankush\\Anaconda3\\lib\\site-packages\\sklearn\\linear_model\\logistic.py:432: FutureWarning: Default solver will be changed to 'lbfgs' in 0.22. Specify a solver to silence this warning.\n",
      "  FutureWarning)\n",
      "C:\\Users\\ankush\\Anaconda3\\lib\\site-packages\\sklearn\\linear_model\\logistic.py:432: FutureWarning: Default solver will be changed to 'lbfgs' in 0.22. Specify a solver to silence this warning.\n",
      "  FutureWarning)\n",
      "C:\\Users\\ankush\\Anaconda3\\lib\\site-packages\\sklearn\\linear_model\\logistic.py:432: FutureWarning: Default solver will be changed to 'lbfgs' in 0.22. Specify a solver to silence this warning.\n",
      "  FutureWarning)\n",
      "C:\\Users\\ankush\\Anaconda3\\lib\\site-packages\\sklearn\\linear_model\\logistic.py:432: FutureWarning: Default solver will be changed to 'lbfgs' in 0.22. Specify a solver to silence this warning.\n",
      "  FutureWarning)\n",
      "C:\\Users\\ankush\\Anaconda3\\lib\\site-packages\\sklearn\\linear_model\\logistic.py:432: FutureWarning: Default solver will be changed to 'lbfgs' in 0.22. Specify a solver to silence this warning.\n",
      "  FutureWarning)\n",
      "C:\\Users\\ankush\\Anaconda3\\lib\\site-packages\\sklearn\\linear_model\\logistic.py:432: FutureWarning: Default solver will be changed to 'lbfgs' in 0.22. Specify a solver to silence this warning.\n",
      "  FutureWarning)\n",
      "C:\\Users\\ankush\\Anaconda3\\lib\\site-packages\\sklearn\\linear_model\\logistic.py:432: FutureWarning: Default solver will be changed to 'lbfgs' in 0.22. Specify a solver to silence this warning.\n",
      "  FutureWarning)\n",
      "C:\\Users\\ankush\\Anaconda3\\lib\\site-packages\\sklearn\\linear_model\\logistic.py:432: FutureWarning: Default solver will be changed to 'lbfgs' in 0.22. Specify a solver to silence this warning.\n",
      "  FutureWarning)\n",
      "C:\\Users\\ankush\\Anaconda3\\lib\\site-packages\\sklearn\\linear_model\\logistic.py:432: FutureWarning: Default solver will be changed to 'lbfgs' in 0.22. Specify a solver to silence this warning.\n",
      "  FutureWarning)\n",
      "C:\\Users\\ankush\\Anaconda3\\lib\\site-packages\\sklearn\\linear_model\\logistic.py:432: FutureWarning: Default solver will be changed to 'lbfgs' in 0.22. Specify a solver to silence this warning.\n",
      "  FutureWarning)\n",
      "C:\\Users\\ankush\\Anaconda3\\lib\\site-packages\\sklearn\\linear_model\\logistic.py:432: FutureWarning: Default solver will be changed to 'lbfgs' in 0.22. Specify a solver to silence this warning.\n",
      "  FutureWarning)\n",
      "C:\\Users\\ankush\\Anaconda3\\lib\\site-packages\\sklearn\\linear_model\\logistic.py:432: FutureWarning: Default solver will be changed to 'lbfgs' in 0.22. Specify a solver to silence this warning.\n",
      "  FutureWarning)\n"
     ]
    },
    {
     "name": "stderr",
     "output_type": "stream",
     "text": [
      "C:\\Users\\ankush\\Anaconda3\\lib\\site-packages\\sklearn\\linear_model\\logistic.py:432: FutureWarning: Default solver will be changed to 'lbfgs' in 0.22. Specify a solver to silence this warning.\n",
      "  FutureWarning)\n",
      "C:\\Users\\ankush\\Anaconda3\\lib\\site-packages\\sklearn\\linear_model\\logistic.py:432: FutureWarning: Default solver will be changed to 'lbfgs' in 0.22. Specify a solver to silence this warning.\n",
      "  FutureWarning)\n",
      "C:\\Users\\ankush\\Anaconda3\\lib\\site-packages\\sklearn\\linear_model\\logistic.py:432: FutureWarning: Default solver will be changed to 'lbfgs' in 0.22. Specify a solver to silence this warning.\n",
      "  FutureWarning)\n",
      "C:\\Users\\ankush\\Anaconda3\\lib\\site-packages\\sklearn\\linear_model\\logistic.py:432: FutureWarning: Default solver will be changed to 'lbfgs' in 0.22. Specify a solver to silence this warning.\n",
      "  FutureWarning)\n",
      "C:\\Users\\ankush\\Anaconda3\\lib\\site-packages\\sklearn\\linear_model\\logistic.py:432: FutureWarning: Default solver will be changed to 'lbfgs' in 0.22. Specify a solver to silence this warning.\n",
      "  FutureWarning)\n",
      "C:\\Users\\ankush\\Anaconda3\\lib\\site-packages\\sklearn\\linear_model\\logistic.py:432: FutureWarning: Default solver will be changed to 'lbfgs' in 0.22. Specify a solver to silence this warning.\n",
      "  FutureWarning)\n",
      "C:\\Users\\ankush\\Anaconda3\\lib\\site-packages\\sklearn\\linear_model\\logistic.py:432: FutureWarning: Default solver will be changed to 'lbfgs' in 0.22. Specify a solver to silence this warning.\n",
      "  FutureWarning)\n",
      "C:\\Users\\ankush\\Anaconda3\\lib\\site-packages\\sklearn\\linear_model\\logistic.py:432: FutureWarning: Default solver will be changed to 'lbfgs' in 0.22. Specify a solver to silence this warning.\n",
      "  FutureWarning)\n",
      "C:\\Users\\ankush\\Anaconda3\\lib\\site-packages\\sklearn\\linear_model\\logistic.py:432: FutureWarning: Default solver will be changed to 'lbfgs' in 0.22. Specify a solver to silence this warning.\n",
      "  FutureWarning)\n",
      "C:\\Users\\ankush\\Anaconda3\\lib\\site-packages\\sklearn\\linear_model\\logistic.py:432: FutureWarning: Default solver will be changed to 'lbfgs' in 0.22. Specify a solver to silence this warning.\n",
      "  FutureWarning)\n",
      "C:\\Users\\ankush\\Anaconda3\\lib\\site-packages\\sklearn\\linear_model\\logistic.py:432: FutureWarning: Default solver will be changed to 'lbfgs' in 0.22. Specify a solver to silence this warning.\n",
      "  FutureWarning)\n",
      "C:\\Users\\ankush\\Anaconda3\\lib\\site-packages\\sklearn\\linear_model\\logistic.py:432: FutureWarning: Default solver will be changed to 'lbfgs' in 0.22. Specify a solver to silence this warning.\n",
      "  FutureWarning)\n",
      "C:\\Users\\ankush\\Anaconda3\\lib\\site-packages\\sklearn\\linear_model\\logistic.py:432: FutureWarning: Default solver will be changed to 'lbfgs' in 0.22. Specify a solver to silence this warning.\n",
      "  FutureWarning)\n",
      "C:\\Users\\ankush\\Anaconda3\\lib\\site-packages\\sklearn\\linear_model\\logistic.py:432: FutureWarning: Default solver will be changed to 'lbfgs' in 0.22. Specify a solver to silence this warning.\n",
      "  FutureWarning)\n",
      "C:\\Users\\ankush\\Anaconda3\\lib\\site-packages\\sklearn\\linear_model\\logistic.py:432: FutureWarning: Default solver will be changed to 'lbfgs' in 0.22. Specify a solver to silence this warning.\n",
      "  FutureWarning)\n",
      "C:\\Users\\ankush\\Anaconda3\\lib\\site-packages\\sklearn\\linear_model\\logistic.py:432: FutureWarning: Default solver will be changed to 'lbfgs' in 0.22. Specify a solver to silence this warning.\n",
      "  FutureWarning)\n",
      "C:\\Users\\ankush\\Anaconda3\\lib\\site-packages\\sklearn\\linear_model\\logistic.py:432: FutureWarning: Default solver will be changed to 'lbfgs' in 0.22. Specify a solver to silence this warning.\n",
      "  FutureWarning)\n",
      "C:\\Users\\ankush\\Anaconda3\\lib\\site-packages\\sklearn\\linear_model\\logistic.py:432: FutureWarning: Default solver will be changed to 'lbfgs' in 0.22. Specify a solver to silence this warning.\n",
      "  FutureWarning)\n",
      "C:\\Users\\ankush\\Anaconda3\\lib\\site-packages\\sklearn\\linear_model\\logistic.py:432: FutureWarning: Default solver will be changed to 'lbfgs' in 0.22. Specify a solver to silence this warning.\n",
      "  FutureWarning)\n",
      "C:\\Users\\ankush\\Anaconda3\\lib\\site-packages\\sklearn\\linear_model\\logistic.py:432: FutureWarning: Default solver will be changed to 'lbfgs' in 0.22. Specify a solver to silence this warning.\n",
      "  FutureWarning)\n",
      "C:\\Users\\ankush\\Anaconda3\\lib\\site-packages\\sklearn\\linear_model\\logistic.py:432: FutureWarning: Default solver will be changed to 'lbfgs' in 0.22. Specify a solver to silence this warning.\n",
      "  FutureWarning)\n",
      "C:\\Users\\ankush\\Anaconda3\\lib\\site-packages\\sklearn\\linear_model\\logistic.py:432: FutureWarning: Default solver will be changed to 'lbfgs' in 0.22. Specify a solver to silence this warning.\n",
      "  FutureWarning)\n",
      "C:\\Users\\ankush\\Anaconda3\\lib\\site-packages\\sklearn\\linear_model\\logistic.py:432: FutureWarning: Default solver will be changed to 'lbfgs' in 0.22. Specify a solver to silence this warning.\n",
      "  FutureWarning)\n",
      "C:\\Users\\ankush\\Anaconda3\\lib\\site-packages\\sklearn\\linear_model\\logistic.py:432: FutureWarning: Default solver will be changed to 'lbfgs' in 0.22. Specify a solver to silence this warning.\n",
      "  FutureWarning)\n",
      "C:\\Users\\ankush\\Anaconda3\\lib\\site-packages\\sklearn\\linear_model\\logistic.py:432: FutureWarning: Default solver will be changed to 'lbfgs' in 0.22. Specify a solver to silence this warning.\n",
      "  FutureWarning)\n",
      "C:\\Users\\ankush\\Anaconda3\\lib\\site-packages\\sklearn\\linear_model\\logistic.py:432: FutureWarning: Default solver will be changed to 'lbfgs' in 0.22. Specify a solver to silence this warning.\n",
      "  FutureWarning)\n",
      "C:\\Users\\ankush\\Anaconda3\\lib\\site-packages\\sklearn\\linear_model\\logistic.py:432: FutureWarning: Default solver will be changed to 'lbfgs' in 0.22. Specify a solver to silence this warning.\n",
      "  FutureWarning)\n",
      "C:\\Users\\ankush\\Anaconda3\\lib\\site-packages\\sklearn\\linear_model\\logistic.py:432: FutureWarning: Default solver will be changed to 'lbfgs' in 0.22. Specify a solver to silence this warning.\n",
      "  FutureWarning)\n",
      "C:\\Users\\ankush\\Anaconda3\\lib\\site-packages\\sklearn\\linear_model\\logistic.py:432: FutureWarning: Default solver will be changed to 'lbfgs' in 0.22. Specify a solver to silence this warning.\n",
      "  FutureWarning)\n",
      "C:\\Users\\ankush\\Anaconda3\\lib\\site-packages\\sklearn\\linear_model\\logistic.py:432: FutureWarning: Default solver will be changed to 'lbfgs' in 0.22. Specify a solver to silence this warning.\n",
      "  FutureWarning)\n",
      "C:\\Users\\ankush\\Anaconda3\\lib\\site-packages\\sklearn\\linear_model\\logistic.py:432: FutureWarning: Default solver will be changed to 'lbfgs' in 0.22. Specify a solver to silence this warning.\n",
      "  FutureWarning)\n",
      "C:\\Users\\ankush\\Anaconda3\\lib\\site-packages\\sklearn\\linear_model\\logistic.py:432: FutureWarning: Default solver will be changed to 'lbfgs' in 0.22. Specify a solver to silence this warning.\n",
      "  FutureWarning)\n",
      "C:\\Users\\ankush\\Anaconda3\\lib\\site-packages\\sklearn\\linear_model\\logistic.py:432: FutureWarning: Default solver will be changed to 'lbfgs' in 0.22. Specify a solver to silence this warning.\n",
      "  FutureWarning)\n",
      "C:\\Users\\ankush\\Anaconda3\\lib\\site-packages\\sklearn\\linear_model\\logistic.py:432: FutureWarning: Default solver will be changed to 'lbfgs' in 0.22. Specify a solver to silence this warning.\n",
      "  FutureWarning)\n",
      "C:\\Users\\ankush\\Anaconda3\\lib\\site-packages\\sklearn\\linear_model\\logistic.py:432: FutureWarning: Default solver will be changed to 'lbfgs' in 0.22. Specify a solver to silence this warning.\n",
      "  FutureWarning)\n",
      "C:\\Users\\ankush\\Anaconda3\\lib\\site-packages\\sklearn\\linear_model\\logistic.py:432: FutureWarning: Default solver will be changed to 'lbfgs' in 0.22. Specify a solver to silence this warning.\n",
      "  FutureWarning)\n",
      "C:\\Users\\ankush\\Anaconda3\\lib\\site-packages\\sklearn\\linear_model\\logistic.py:432: FutureWarning: Default solver will be changed to 'lbfgs' in 0.22. Specify a solver to silence this warning.\n",
      "  FutureWarning)\n",
      "C:\\Users\\ankush\\Anaconda3\\lib\\site-packages\\sklearn\\linear_model\\logistic.py:432: FutureWarning: Default solver will be changed to 'lbfgs' in 0.22. Specify a solver to silence this warning.\n",
      "  FutureWarning)\n",
      "C:\\Users\\ankush\\Anaconda3\\lib\\site-packages\\sklearn\\linear_model\\logistic.py:432: FutureWarning: Default solver will be changed to 'lbfgs' in 0.22. Specify a solver to silence this warning.\n",
      "  FutureWarning)\n",
      "C:\\Users\\ankush\\Anaconda3\\lib\\site-packages\\sklearn\\linear_model\\logistic.py:432: FutureWarning: Default solver will be changed to 'lbfgs' in 0.22. Specify a solver to silence this warning.\n",
      "  FutureWarning)\n"
     ]
    },
    {
     "name": "stderr",
     "output_type": "stream",
     "text": [
      "C:\\Users\\ankush\\Anaconda3\\lib\\site-packages\\sklearn\\linear_model\\logistic.py:432: FutureWarning: Default solver will be changed to 'lbfgs' in 0.22. Specify a solver to silence this warning.\n",
      "  FutureWarning)\n",
      "C:\\Users\\ankush\\Anaconda3\\lib\\site-packages\\sklearn\\linear_model\\logistic.py:432: FutureWarning: Default solver will be changed to 'lbfgs' in 0.22. Specify a solver to silence this warning.\n",
      "  FutureWarning)\n",
      "C:\\Users\\ankush\\Anaconda3\\lib\\site-packages\\sklearn\\linear_model\\logistic.py:432: FutureWarning: Default solver will be changed to 'lbfgs' in 0.22. Specify a solver to silence this warning.\n",
      "  FutureWarning)\n",
      "C:\\Users\\ankush\\Anaconda3\\lib\\site-packages\\sklearn\\linear_model\\logistic.py:432: FutureWarning: Default solver will be changed to 'lbfgs' in 0.22. Specify a solver to silence this warning.\n",
      "  FutureWarning)\n",
      "C:\\Users\\ankush\\Anaconda3\\lib\\site-packages\\sklearn\\linear_model\\logistic.py:432: FutureWarning: Default solver will be changed to 'lbfgs' in 0.22. Specify a solver to silence this warning.\n",
      "  FutureWarning)\n",
      "C:\\Users\\ankush\\Anaconda3\\lib\\site-packages\\sklearn\\linear_model\\logistic.py:432: FutureWarning: Default solver will be changed to 'lbfgs' in 0.22. Specify a solver to silence this warning.\n",
      "  FutureWarning)\n",
      "C:\\Users\\ankush\\Anaconda3\\lib\\site-packages\\sklearn\\linear_model\\logistic.py:432: FutureWarning: Default solver will be changed to 'lbfgs' in 0.22. Specify a solver to silence this warning.\n",
      "  FutureWarning)\n",
      "C:\\Users\\ankush\\Anaconda3\\lib\\site-packages\\sklearn\\linear_model\\logistic.py:432: FutureWarning: Default solver will be changed to 'lbfgs' in 0.22. Specify a solver to silence this warning.\n",
      "  FutureWarning)\n",
      "C:\\Users\\ankush\\Anaconda3\\lib\\site-packages\\sklearn\\linear_model\\logistic.py:432: FutureWarning: Default solver will be changed to 'lbfgs' in 0.22. Specify a solver to silence this warning.\n",
      "  FutureWarning)\n",
      "C:\\Users\\ankush\\Anaconda3\\lib\\site-packages\\sklearn\\linear_model\\logistic.py:432: FutureWarning: Default solver will be changed to 'lbfgs' in 0.22. Specify a solver to silence this warning.\n",
      "  FutureWarning)\n",
      "C:\\Users\\ankush\\Anaconda3\\lib\\site-packages\\sklearn\\linear_model\\logistic.py:432: FutureWarning: Default solver will be changed to 'lbfgs' in 0.22. Specify a solver to silence this warning.\n",
      "  FutureWarning)\n",
      "C:\\Users\\ankush\\Anaconda3\\lib\\site-packages\\sklearn\\linear_model\\logistic.py:432: FutureWarning: Default solver will be changed to 'lbfgs' in 0.22. Specify a solver to silence this warning.\n",
      "  FutureWarning)\n",
      "C:\\Users\\ankush\\Anaconda3\\lib\\site-packages\\sklearn\\linear_model\\logistic.py:432: FutureWarning: Default solver will be changed to 'lbfgs' in 0.22. Specify a solver to silence this warning.\n",
      "  FutureWarning)\n",
      "C:\\Users\\ankush\\Anaconda3\\lib\\site-packages\\sklearn\\linear_model\\logistic.py:432: FutureWarning: Default solver will be changed to 'lbfgs' in 0.22. Specify a solver to silence this warning.\n",
      "  FutureWarning)\n",
      "C:\\Users\\ankush\\Anaconda3\\lib\\site-packages\\sklearn\\linear_model\\logistic.py:432: FutureWarning: Default solver will be changed to 'lbfgs' in 0.22. Specify a solver to silence this warning.\n",
      "  FutureWarning)\n",
      "C:\\Users\\ankush\\Anaconda3\\lib\\site-packages\\sklearn\\linear_model\\logistic.py:432: FutureWarning: Default solver will be changed to 'lbfgs' in 0.22. Specify a solver to silence this warning.\n",
      "  FutureWarning)\n",
      "C:\\Users\\ankush\\Anaconda3\\lib\\site-packages\\sklearn\\linear_model\\logistic.py:432: FutureWarning: Default solver will be changed to 'lbfgs' in 0.22. Specify a solver to silence this warning.\n",
      "  FutureWarning)\n",
      "C:\\Users\\ankush\\Anaconda3\\lib\\site-packages\\sklearn\\linear_model\\logistic.py:432: FutureWarning: Default solver will be changed to 'lbfgs' in 0.22. Specify a solver to silence this warning.\n",
      "  FutureWarning)\n",
      "C:\\Users\\ankush\\Anaconda3\\lib\\site-packages\\sklearn\\linear_model\\logistic.py:432: FutureWarning: Default solver will be changed to 'lbfgs' in 0.22. Specify a solver to silence this warning.\n",
      "  FutureWarning)\n",
      "C:\\Users\\ankush\\Anaconda3\\lib\\site-packages\\sklearn\\linear_model\\logistic.py:432: FutureWarning: Default solver will be changed to 'lbfgs' in 0.22. Specify a solver to silence this warning.\n",
      "  FutureWarning)\n",
      "C:\\Users\\ankush\\Anaconda3\\lib\\site-packages\\sklearn\\linear_model\\logistic.py:432: FutureWarning: Default solver will be changed to 'lbfgs' in 0.22. Specify a solver to silence this warning.\n",
      "  FutureWarning)\n",
      "C:\\Users\\ankush\\Anaconda3\\lib\\site-packages\\sklearn\\linear_model\\logistic.py:432: FutureWarning: Default solver will be changed to 'lbfgs' in 0.22. Specify a solver to silence this warning.\n",
      "  FutureWarning)\n",
      "C:\\Users\\ankush\\Anaconda3\\lib\\site-packages\\sklearn\\linear_model\\logistic.py:432: FutureWarning: Default solver will be changed to 'lbfgs' in 0.22. Specify a solver to silence this warning.\n",
      "  FutureWarning)\n",
      "C:\\Users\\ankush\\Anaconda3\\lib\\site-packages\\sklearn\\linear_model\\logistic.py:432: FutureWarning: Default solver will be changed to 'lbfgs' in 0.22. Specify a solver to silence this warning.\n",
      "  FutureWarning)\n",
      "C:\\Users\\ankush\\Anaconda3\\lib\\site-packages\\sklearn\\linear_model\\logistic.py:432: FutureWarning: Default solver will be changed to 'lbfgs' in 0.22. Specify a solver to silence this warning.\n",
      "  FutureWarning)\n",
      "C:\\Users\\ankush\\Anaconda3\\lib\\site-packages\\sklearn\\linear_model\\logistic.py:432: FutureWarning: Default solver will be changed to 'lbfgs' in 0.22. Specify a solver to silence this warning.\n",
      "  FutureWarning)\n",
      "C:\\Users\\ankush\\Anaconda3\\lib\\site-packages\\sklearn\\linear_model\\logistic.py:432: FutureWarning: Default solver will be changed to 'lbfgs' in 0.22. Specify a solver to silence this warning.\n",
      "  FutureWarning)\n",
      "C:\\Users\\ankush\\Anaconda3\\lib\\site-packages\\sklearn\\linear_model\\logistic.py:432: FutureWarning: Default solver will be changed to 'lbfgs' in 0.22. Specify a solver to silence this warning.\n",
      "  FutureWarning)\n",
      "C:\\Users\\ankush\\Anaconda3\\lib\\site-packages\\sklearn\\linear_model\\logistic.py:432: FutureWarning: Default solver will be changed to 'lbfgs' in 0.22. Specify a solver to silence this warning.\n",
      "  FutureWarning)\n",
      "C:\\Users\\ankush\\Anaconda3\\lib\\site-packages\\sklearn\\linear_model\\logistic.py:432: FutureWarning: Default solver will be changed to 'lbfgs' in 0.22. Specify a solver to silence this warning.\n",
      "  FutureWarning)\n",
      "C:\\Users\\ankush\\Anaconda3\\lib\\site-packages\\sklearn\\linear_model\\logistic.py:432: FutureWarning: Default solver will be changed to 'lbfgs' in 0.22. Specify a solver to silence this warning.\n",
      "  FutureWarning)\n",
      "C:\\Users\\ankush\\Anaconda3\\lib\\site-packages\\sklearn\\linear_model\\logistic.py:432: FutureWarning: Default solver will be changed to 'lbfgs' in 0.22. Specify a solver to silence this warning.\n",
      "  FutureWarning)\n",
      "C:\\Users\\ankush\\Anaconda3\\lib\\site-packages\\sklearn\\linear_model\\logistic.py:432: FutureWarning: Default solver will be changed to 'lbfgs' in 0.22. Specify a solver to silence this warning.\n",
      "  FutureWarning)\n",
      "C:\\Users\\ankush\\Anaconda3\\lib\\site-packages\\sklearn\\linear_model\\logistic.py:432: FutureWarning: Default solver will be changed to 'lbfgs' in 0.22. Specify a solver to silence this warning.\n",
      "  FutureWarning)\n",
      "C:\\Users\\ankush\\Anaconda3\\lib\\site-packages\\sklearn\\linear_model\\logistic.py:432: FutureWarning: Default solver will be changed to 'lbfgs' in 0.22. Specify a solver to silence this warning.\n",
      "  FutureWarning)\n",
      "C:\\Users\\ankush\\Anaconda3\\lib\\site-packages\\sklearn\\linear_model\\logistic.py:432: FutureWarning: Default solver will be changed to 'lbfgs' in 0.22. Specify a solver to silence this warning.\n",
      "  FutureWarning)\n",
      "C:\\Users\\ankush\\Anaconda3\\lib\\site-packages\\sklearn\\linear_model\\logistic.py:432: FutureWarning: Default solver will be changed to 'lbfgs' in 0.22. Specify a solver to silence this warning.\n",
      "  FutureWarning)\n",
      "C:\\Users\\ankush\\Anaconda3\\lib\\site-packages\\sklearn\\linear_model\\logistic.py:432: FutureWarning: Default solver will be changed to 'lbfgs' in 0.22. Specify a solver to silence this warning.\n",
      "  FutureWarning)\n",
      "C:\\Users\\ankush\\Anaconda3\\lib\\site-packages\\sklearn\\linear_model\\logistic.py:432: FutureWarning: Default solver will be changed to 'lbfgs' in 0.22. Specify a solver to silence this warning.\n",
      "  FutureWarning)\n",
      "C:\\Users\\ankush\\Anaconda3\\lib\\site-packages\\sklearn\\linear_model\\logistic.py:432: FutureWarning: Default solver will be changed to 'lbfgs' in 0.22. Specify a solver to silence this warning.\n",
      "  FutureWarning)\n"
     ]
    },
    {
     "name": "stderr",
     "output_type": "stream",
     "text": [
      "C:\\Users\\ankush\\Anaconda3\\lib\\site-packages\\sklearn\\linear_model\\logistic.py:432: FutureWarning: Default solver will be changed to 'lbfgs' in 0.22. Specify a solver to silence this warning.\n",
      "  FutureWarning)\n",
      "C:\\Users\\ankush\\Anaconda3\\lib\\site-packages\\sklearn\\linear_model\\logistic.py:432: FutureWarning: Default solver will be changed to 'lbfgs' in 0.22. Specify a solver to silence this warning.\n",
      "  FutureWarning)\n",
      "C:\\Users\\ankush\\Anaconda3\\lib\\site-packages\\sklearn\\linear_model\\logistic.py:432: FutureWarning: Default solver will be changed to 'lbfgs' in 0.22. Specify a solver to silence this warning.\n",
      "  FutureWarning)\n",
      "C:\\Users\\ankush\\Anaconda3\\lib\\site-packages\\sklearn\\linear_model\\logistic.py:432: FutureWarning: Default solver will be changed to 'lbfgs' in 0.22. Specify a solver to silence this warning.\n",
      "  FutureWarning)\n",
      "C:\\Users\\ankush\\Anaconda3\\lib\\site-packages\\sklearn\\linear_model\\logistic.py:432: FutureWarning: Default solver will be changed to 'lbfgs' in 0.22. Specify a solver to silence this warning.\n",
      "  FutureWarning)\n",
      "C:\\Users\\ankush\\Anaconda3\\lib\\site-packages\\sklearn\\linear_model\\logistic.py:432: FutureWarning: Default solver will be changed to 'lbfgs' in 0.22. Specify a solver to silence this warning.\n",
      "  FutureWarning)\n",
      "C:\\Users\\ankush\\Anaconda3\\lib\\site-packages\\sklearn\\linear_model\\logistic.py:432: FutureWarning: Default solver will be changed to 'lbfgs' in 0.22. Specify a solver to silence this warning.\n",
      "  FutureWarning)\n",
      "C:\\Users\\ankush\\Anaconda3\\lib\\site-packages\\sklearn\\linear_model\\logistic.py:432: FutureWarning: Default solver will be changed to 'lbfgs' in 0.22. Specify a solver to silence this warning.\n",
      "  FutureWarning)\n",
      "C:\\Users\\ankush\\Anaconda3\\lib\\site-packages\\sklearn\\linear_model\\logistic.py:432: FutureWarning: Default solver will be changed to 'lbfgs' in 0.22. Specify a solver to silence this warning.\n",
      "  FutureWarning)\n",
      "C:\\Users\\ankush\\Anaconda3\\lib\\site-packages\\sklearn\\linear_model\\logistic.py:432: FutureWarning: Default solver will be changed to 'lbfgs' in 0.22. Specify a solver to silence this warning.\n",
      "  FutureWarning)\n",
      "C:\\Users\\ankush\\Anaconda3\\lib\\site-packages\\sklearn\\linear_model\\logistic.py:432: FutureWarning: Default solver will be changed to 'lbfgs' in 0.22. Specify a solver to silence this warning.\n",
      "  FutureWarning)\n",
      "C:\\Users\\ankush\\Anaconda3\\lib\\site-packages\\sklearn\\linear_model\\logistic.py:432: FutureWarning: Default solver will be changed to 'lbfgs' in 0.22. Specify a solver to silence this warning.\n",
      "  FutureWarning)\n",
      "C:\\Users\\ankush\\Anaconda3\\lib\\site-packages\\sklearn\\linear_model\\logistic.py:432: FutureWarning: Default solver will be changed to 'lbfgs' in 0.22. Specify a solver to silence this warning.\n",
      "  FutureWarning)\n",
      "C:\\Users\\ankush\\Anaconda3\\lib\\site-packages\\sklearn\\linear_model\\logistic.py:432: FutureWarning: Default solver will be changed to 'lbfgs' in 0.22. Specify a solver to silence this warning.\n",
      "  FutureWarning)\n",
      "C:\\Users\\ankush\\Anaconda3\\lib\\site-packages\\sklearn\\linear_model\\logistic.py:432: FutureWarning: Default solver will be changed to 'lbfgs' in 0.22. Specify a solver to silence this warning.\n",
      "  FutureWarning)\n",
      "C:\\Users\\ankush\\Anaconda3\\lib\\site-packages\\sklearn\\linear_model\\logistic.py:432: FutureWarning: Default solver will be changed to 'lbfgs' in 0.22. Specify a solver to silence this warning.\n",
      "  FutureWarning)\n",
      "C:\\Users\\ankush\\Anaconda3\\lib\\site-packages\\sklearn\\linear_model\\logistic.py:432: FutureWarning: Default solver will be changed to 'lbfgs' in 0.22. Specify a solver to silence this warning.\n",
      "  FutureWarning)\n",
      "C:\\Users\\ankush\\Anaconda3\\lib\\site-packages\\sklearn\\linear_model\\logistic.py:432: FutureWarning: Default solver will be changed to 'lbfgs' in 0.22. Specify a solver to silence this warning.\n",
      "  FutureWarning)\n",
      "C:\\Users\\ankush\\Anaconda3\\lib\\site-packages\\sklearn\\linear_model\\logistic.py:432: FutureWarning: Default solver will be changed to 'lbfgs' in 0.22. Specify a solver to silence this warning.\n",
      "  FutureWarning)\n",
      "C:\\Users\\ankush\\Anaconda3\\lib\\site-packages\\sklearn\\linear_model\\logistic.py:432: FutureWarning: Default solver will be changed to 'lbfgs' in 0.22. Specify a solver to silence this warning.\n",
      "  FutureWarning)\n",
      "C:\\Users\\ankush\\Anaconda3\\lib\\site-packages\\sklearn\\linear_model\\logistic.py:432: FutureWarning: Default solver will be changed to 'lbfgs' in 0.22. Specify a solver to silence this warning.\n",
      "  FutureWarning)\n"
     ]
    },
    {
     "name": "stdout",
     "output_type": "stream",
     "text": [
      "[{'C': 0.001, 'penalty': 'l1'}, {'C': 0.001, 'penalty': 'l2'}, {'C': 0.01, 'penalty': 'l1'}, {'C': 0.01, 'penalty': 'l2'}, {'C': 0.1, 'penalty': 'l1'}, {'C': 0.1, 'penalty': 'l2'}, {'C': 1.0, 'penalty': 'l1'}, {'C': 1.0, 'penalty': 'l2'}, {'C': 10.0, 'penalty': 'l1'}, {'C': 10.0, 'penalty': 'l2'}, {'C': 100.0, 'penalty': 'l1'}, {'C': 100.0, 'penalty': 'l2'}, {'C': 1000.0, 'penalty': 'l1'}, {'C': 1000.0, 'penalty': 'l2'}]\n",
      "[0.62825064 0.62811652 0.62812787 0.62813715 0.62814437 0.62813922\n",
      " 0.62814025 0.62813922 0.62813922 0.62813922 0.62814025 0.62813922\n",
      " 0.62813818 0.62813922]\n"
     ]
    },
    {
     "name": "stderr",
     "output_type": "stream",
     "text": [
      "C:\\Users\\ankush\\Anaconda3\\lib\\site-packages\\sklearn\\utils\\deprecation.py:125: FutureWarning: You are accessing a training score ('mean_train_score'), which will not be available by default any more in 0.21. If you need training scores, please set return_train_score=True\n",
      "  warnings.warn(*warn_args, **warn_kwargs)\n"
     ]
    },
    {
     "name": "stdout",
     "output_type": "stream",
     "text": [
      "[0.62825832 0.62811388 0.6281485  0.62810758 0.62810677 0.62810746\n",
      " 0.62810769 0.62810735 0.62810769 0.62810735 0.62810826 0.62810735\n",
      " 0.62810677 0.62810735]\n",
      "Best Hyper Parameters:\n",
      " {'C': 0.001, 'penalty': 'l1'}\n",
      "0.628250644067307\n",
      "LogisticRegression(C=0.001, class_weight=None, dual=False, fit_intercept=True,\n",
      "          intercept_scaling=1, max_iter=100, multi_class='warn',\n",
      "          n_jobs=None, penalty='l1', random_state=None, solver='warn',\n",
      "          tol=0.0001, verbose=0, warm_start=False)\n"
     ]
    }
   ],
   "source": [
    "grid={\"C\":np.logspace(-3,3,7), \"penalty\":[\"l1\",\"l2\"]}# l1 lasso l2 ridge\n",
    "logreg_cv=model_selection.GridSearchCV(lr,grid,cv=10)\n",
    "logreg_cv.fit(X_train_pca,y_train)\n",
    "results = logreg_cv.cv_results_\n",
    "print(results.get('params'))\n",
    "print(results.get('mean_test_score'))\n",
    "print(results.get('mean_train_score'))\n",
    "print(\"Best Hyper Parameters:\\n\",logreg_cv.best_params_)\n",
    "print(logreg_cv.best_score_)\n",
    "final_model = logreg_cv.best_estimator_\n",
    "print(final_model)"
   ]
  },
  {
   "cell_type": "code",
   "execution_count": 169,
   "metadata": {},
   "outputs": [
    {
     "name": "stderr",
     "output_type": "stream",
     "text": [
      "C:\\Users\\ankush\\Anaconda3\\lib\\site-packages\\sklearn\\linear_model\\logistic.py:432: FutureWarning: Default solver will be changed to 'lbfgs' in 0.22. Specify a solver to silence this warning.\n",
      "  FutureWarning)\n"
     ]
    }
   ],
   "source": [
    "lr = LogisticRegression(C= 0.001, penalty= 'l1')\n",
    "lr.fit(X_train_skb,y_train)\n",
    "y_pred_lr = lr.predict(X_train_skb)"
   ]
  },
  {
   "cell_type": "code",
   "execution_count": 170,
   "metadata": {},
   "outputs": [
    {
     "name": "stderr",
     "output_type": "stream",
     "text": [
      "C:\\Users\\ankush\\Anaconda3\\lib\\site-packages\\sklearn\\linear_model\\logistic.py:432: FutureWarning: Default solver will be changed to 'lbfgs' in 0.22. Specify a solver to silence this warning.\n",
      "  FutureWarning)\n",
      "C:\\Users\\ankush\\Anaconda3\\lib\\site-packages\\sklearn\\linear_model\\logistic.py:432: FutureWarning: Default solver will be changed to 'lbfgs' in 0.22. Specify a solver to silence this warning.\n",
      "  FutureWarning)\n",
      "C:\\Users\\ankush\\Anaconda3\\lib\\site-packages\\sklearn\\linear_model\\logistic.py:432: FutureWarning: Default solver will be changed to 'lbfgs' in 0.22. Specify a solver to silence this warning.\n",
      "  FutureWarning)\n",
      "C:\\Users\\ankush\\Anaconda3\\lib\\site-packages\\sklearn\\linear_model\\logistic.py:432: FutureWarning: Default solver will be changed to 'lbfgs' in 0.22. Specify a solver to silence this warning.\n",
      "  FutureWarning)\n",
      "C:\\Users\\ankush\\Anaconda3\\lib\\site-packages\\sklearn\\linear_model\\logistic.py:432: FutureWarning: Default solver will be changed to 'lbfgs' in 0.22. Specify a solver to silence this warning.\n",
      "  FutureWarning)\n"
     ]
    },
    {
     "name": "stdout",
     "output_type": "stream",
     "text": [
      "Training data accuracy:  [0.64873328 0.64712376 0.64734043 0.64783719 0.6480229 ]\n"
     ]
    },
    {
     "name": "stderr",
     "output_type": "stream",
     "text": [
      "C:\\Users\\ankush\\Anaconda3\\lib\\site-packages\\sklearn\\linear_model\\logistic.py:432: FutureWarning: Default solver will be changed to 'lbfgs' in 0.22. Specify a solver to silence this warning.\n",
      "  FutureWarning)\n",
      "C:\\Users\\ankush\\Anaconda3\\lib\\site-packages\\sklearn\\linear_model\\logistic.py:432: FutureWarning: Default solver will be changed to 'lbfgs' in 0.22. Specify a solver to silence this warning.\n",
      "  FutureWarning)\n",
      "C:\\Users\\ankush\\Anaconda3\\lib\\site-packages\\sklearn\\linear_model\\logistic.py:432: FutureWarning: Default solver will be changed to 'lbfgs' in 0.22. Specify a solver to silence this warning.\n",
      "  FutureWarning)\n",
      "C:\\Users\\ankush\\Anaconda3\\lib\\site-packages\\sklearn\\linear_model\\logistic.py:432: FutureWarning: Default solver will be changed to 'lbfgs' in 0.22. Specify a solver to silence this warning.\n",
      "  FutureWarning)\n",
      "C:\\Users\\ankush\\Anaconda3\\lib\\site-packages\\sklearn\\linear_model\\logistic.py:432: FutureWarning: Default solver will be changed to 'lbfgs' in 0.22. Specify a solver to silence this warning.\n",
      "  FutureWarning)\n"
     ]
    },
    {
     "name": "stdout",
     "output_type": "stream",
     "text": [
      "Testing data accuracy:  [0.64562219 0.65021606 0.65076977 0.64760403 0.6478207 ]\n"
     ]
    }
   ],
   "source": [
    "#Cross Validation\n",
    "from sklearn.model_selection import cross_val_score\n",
    "print(\"Training data accuracy: \",cross_val_score(lr, X_train_skb, y_train, cv=5))\n",
    "print(\"Testing data accuracy: \",cross_val_score(lr, X_test_skb, y_test, cv=5))"
   ]
  },
  {
   "cell_type": "markdown",
   "metadata": {},
   "source": [
    "# AUC"
   ]
  },
  {
   "cell_type": "code",
   "execution_count": 171,
   "metadata": {},
   "outputs": [
    {
     "name": "stdout",
     "output_type": "stream",
     "text": [
      "AUC Score for LR : 0.5968909258047632\n"
     ]
    }
   ],
   "source": [
    "\n",
    "from sklearn.metrics import roc_auc_score\n",
    "print (\"AUC Score for LR :\" ,roc_auc_score(y_train, y_pred_lr))"
   ]
  },
  {
   "cell_type": "code",
   "execution_count": 172,
   "metadata": {},
   "outputs": [
    {
     "name": "stdout",
     "output_type": "stream",
     "text": [
      "[[131798 257170]\n",
      " [ 84172 496091]]\n",
      "Accuracy Score for LR : 0.6478218298836913\n"
     ]
    }
   ],
   "source": [
    "from sklearn.metrics import confusion_matrix\n",
    "from sklearn.metrics import accuracy_score \n",
    "print(confusion_matrix(y_train, y_pred_lr))\n",
    "print('Accuracy Score for LR :',accuracy_score(y_train, y_pred_lr))"
   ]
  },
  {
   "cell_type": "code",
   "execution_count": 173,
   "metadata": {},
   "outputs": [
    {
     "name": "stdout",
     "output_type": "stream",
     "text": [
      "Classification Report for LR:               precision    recall  f1-score   support\n",
      "\n",
      "           0       0.61      0.34      0.44    388968\n",
      "           1       0.66      0.85      0.74    580263\n",
      "\n",
      "   micro avg       0.65      0.65      0.65    969231\n",
      "   macro avg       0.63      0.60      0.59    969231\n",
      "weighted avg       0.64      0.65      0.62    969231\n",
      "\n"
     ]
    }
   ],
   "source": [
    "from sklearn.metrics import classification_report\n",
    "print(\"Classification Report for LR:\",classification_report(y_train, y_pred_lr))"
   ]
  },
  {
   "cell_type": "markdown",
   "metadata": {},
   "source": [
    "Logistic Regression usually works perfect to explain the relationship between one dependent binary variable and one or more nominal, ordinal, interval or ratio-level independent variables.This model again is easy to implement, quick to train and resistent to overfitting.Here, the accuracy is in 60s which makes sense because we do not have lot of meaningful features that will help model to understand the data better.Cross validation,AUC, Confusion Matrix,Classification report doesnot have good scores with no sign of overfitting.TN and FN look okay for both confusion matrix and Classification report.Runtime looks to be better than SVC ,GBR and KNN."
   ]
  },
  {
   "cell_type": "markdown",
   "metadata": {},
   "source": [
    "# KNN"
   ]
  },
  {
   "cell_type": "code",
   "execution_count": 124,
   "metadata": {},
   "outputs": [],
   "source": [
    "#Fitting the model with the parameters and train data\n",
    "knn_model = KNeighborsClassifier(n_neighbors=5)\n",
    "knn_model.fit(X_train_skb, y_train)\n",
    "y_pred_knn = knn_model.predict(X_train_skb)"
   ]
  },
  {
   "cell_type": "code",
   "execution_count": 57,
   "metadata": {},
   "outputs": [
    {
     "name": "stderr",
     "output_type": "stream",
     "text": [
      "C:\\Users\\ankush\\Anaconda3\\lib\\site-packages\\sklearn\\model_selection\\_split.py:1943: FutureWarning: You should specify a value for 'cv' instead of relying on the default value. The default value will change from 3 to 5 in version 0.22.\n",
      "  warnings.warn(CV_WARNING, FutureWarning)\n"
     ]
    },
    {
     "name": "stdout",
     "output_type": "stream",
     "text": [
      "[{'leaf_size': 1, 'n_neighbors': 5}, {'leaf_size': 2, 'n_neighbors': 5}, {'leaf_size': 3, 'n_neighbors': 5}, {'leaf_size': 5, 'n_neighbors': 5}]\n",
      "[0.63439159 0.63460104 0.63437612 0.63429048]\n"
     ]
    },
    {
     "name": "stderr",
     "output_type": "stream",
     "text": [
      "C:\\Users\\ankush\\Anaconda3\\lib\\site-packages\\sklearn\\utils\\deprecation.py:125: FutureWarning: You are accessing a training score ('mean_train_score'), which will not be available by default any more in 0.21. If you need training scores, please set return_train_score=True\n",
      "  warnings.warn(*warn_args, **warn_kwargs)\n"
     ]
    },
    {
     "name": "stdout",
     "output_type": "stream",
     "text": [
      "[0.7425397  0.74252423 0.74252474 0.74233078]\n",
      "Best Hyper Parameters:\n",
      " {'leaf_size': 2, 'n_neighbors': 5}\n",
      "0.6346010393807049\n",
      "KNeighborsClassifier(algorithm='auto', leaf_size=2, metric='minkowski',\n",
      "           metric_params=None, n_jobs=None, n_neighbors=5, p=2,\n",
      "           weights='uniform')\n"
     ]
    }
   ],
   "source": [
    "\n",
    "params = {'n_neighbors':[5],\n",
    "          'leaf_size':[1,2,3,5]\n",
    "                  }\n",
    "#Making models with hyper parameters sets\n",
    "grid_class_knn = model_selection.GridSearchCV(knn_model, param_grid=params)\n",
    "#Learning\n",
    "grid_class_knn.fit(X_train_skb,y_train)\n",
    "#The best hyper parameters set\n",
    "\n",
    "results = grid_class_knn.cv_results_\n",
    "print(results.get('params'))\n",
    "print(results.get('mean_test_score'))\n",
    "print(results.get('mean_train_score'))\n",
    "print(\"Best Hyper Parameters:\\n\",grid_class_knn.best_params_)\n",
    "print(grid_class_knn.best_score_)\n",
    "final_model = grid_class_knn.best_estimator_\n",
    "print(final_model)"
   ]
  },
  {
   "cell_type": "code",
   "execution_count": 125,
   "metadata": {},
   "outputs": [],
   "source": [
    "\n",
    "#Fitting the model with the best parameters we got above to improve the performance\n",
    "knn_model = KNeighborsClassifier(leaf_size= 2,n_neighbors=5)\n",
    "knn_model.fit(X_train_skb, y_train)\n",
    "y_pred_knn = knn_model.predict(X_train_skb)"
   ]
  },
  {
   "cell_type": "markdown",
   "metadata": {},
   "source": [
    "# Cross Validation"
   ]
  },
  {
   "cell_type": "code",
   "execution_count": 59,
   "metadata": {},
   "outputs": [
    {
     "name": "stdout",
     "output_type": "stream",
     "text": [
      "Training data accuracy for KNN:  [0.6357249  0.6370352  0.63624077 0.63537035 0.63627828 0.63483384\n",
      " 0.63819733 0.63732035 0.63763645 0.63613008]\n",
      "Testing data accuracy for KNN:  [0.63088589 0.63241773 0.62890296 0.63020294 0.63410289 0.62855698\n",
      " 0.63329963 0.63026626 0.6317348  0.63380519]\n"
     ]
    }
   ],
   "source": [
    "print(\"Training data accuracy for KNN: \",cross_val_score(knn_model, X_train_skb, y_train, cv=10))\n",
    "print(\"Testing data accuracy for KNN: \",cross_val_score(knn_model, X_test_skb, y_test, cv=10))"
   ]
  },
  {
   "cell_type": "markdown",
   "metadata": {},
   "source": [
    "# AUC"
   ]
  },
  {
   "cell_type": "code",
   "execution_count": 60,
   "metadata": {},
   "outputs": [
    {
     "name": "stdout",
     "output_type": "stream",
     "text": [
      "AUC Score for KNN : 0.7215467450149926\n"
     ]
    }
   ],
   "source": [
    "from sklearn.metrics import roc_auc_score\n",
    "print (\"AUC Score for KNN :\" ,roc_auc_score(y_train, y_pred_knn))"
   ]
  },
  {
   "cell_type": "markdown",
   "metadata": {},
   "source": [
    "# Confusion Matrix"
   ]
  },
  {
   "cell_type": "code",
   "execution_count": null,
   "metadata": {},
   "outputs": [],
   "source": [
    "from sklearn.metrics import confusion_matrix\n",
    "from sklearn.metrics import accuracy_score \n",
    "print(confusion_matrix(y_train, y_pred_knn))\n",
    "print('Accuracy Score for KNN :',accuracy_score(y_train, y_pred_knn))"
   ]
  },
  {
   "cell_type": "markdown",
   "metadata": {},
   "source": [
    "# Classification Report"
   ]
  },
  {
   "cell_type": "code",
   "execution_count": 61,
   "metadata": {},
   "outputs": [
    {
     "name": "stdout",
     "output_type": "stream",
     "text": [
      "Classification Report for KNN:               precision    recall  f1-score   support\n",
      "\n",
      "           0       0.70      0.62      0.66    388968\n",
      "           1       0.76      0.83      0.79    580263\n",
      "\n",
      "   micro avg       0.74      0.74      0.74    969231\n",
      "   macro avg       0.73      0.72      0.73    969231\n",
      "weighted avg       0.74      0.74      0.74    969231\n",
      "\n"
     ]
    }
   ],
   "source": [
    "\n",
    "print(\"Classification Report for KNN:\",classification_report(y_train, y_pred_knn))"
   ]
  },
  {
   "cell_type": "markdown",
   "metadata": {},
   "source": [
    "KNN usually works well for big datasets.If we observce here, dataset is more than 1 million, so knn is having better accuracy than NB and Logistic Regression.As we notice above, Cross validation,AUC, Confusion Matrix,Classification report are having better accuracy than NB and Logistic Regression.There is no sign of overfitting here.If we see false negative and false positives for class 0 and 1 are almost similar and scores are better and run time is short as well."
   ]
  },
  {
   "cell_type": "markdown",
   "metadata": {},
   "source": [
    "# Random Forest"
   ]
  },
  {
   "cell_type": "code",
   "execution_count": 11,
   "metadata": {},
   "outputs": [],
   "source": [
    "\n",
    "#Fitting the model with the parameters and train data\n",
    "rfc = ensemble.RandomForestClassifier(max_depth=10,n_estimators= 100)\n",
    "rfc.fit(X_train_skb, y_train)\n",
    "y_pred_rfc = rfc.predict(X_train_skb)"
   ]
  },
  {
   "cell_type": "code",
   "execution_count": null,
   "metadata": {},
   "outputs": [],
   "source": [
    "\n",
    "dt_grid={'max_depth':[1,2,3,4,5],'max_features': [5]}\n",
    "\n",
    "grid_class_rfc=model_selection.GridSearchCV(rfc,dt_grid,cv=6)\n",
    "grid_class_rfc.fit(X_train_skb, y_train)\n",
    "results = grid_class_rfc.cv_results_\n",
    "print(results.get('params'))\n",
    "print(results.get('mean_test_score'))\n",
    "print(results.get('mean_train_score'))\n",
    "print(\"Best Hyper Parameters:\\n\",grid_class_rfc.best_params_)\n",
    "print(grid_class_rfc.best_score_)\n",
    "final_model = grid_class_rfc.best_estimator_\n",
    "print(final_model)"
   ]
  },
  {
   "cell_type": "code",
   "execution_count": 38,
   "metadata": {},
   "outputs": [],
   "source": [
    "\n",
    "#Fitting the model with the best parameters we got above to improve the performance\n",
    "rfc = ensemble.RandomForestClassifier(max_depth=5, max_features= 5,n_estimators= 100)\n",
    "rfc.fit(X_train_skb, y_train)\n",
    "y_pred_rfc = rfc.predict(X_train_skb)"
   ]
  },
  {
   "cell_type": "code",
   "execution_count": 40,
   "metadata": {},
   "outputs": [
    {
     "name": "stdout",
     "output_type": "stream",
     "text": [
      "Training data accuracy for Random Forest:  [0.64327721 0.64592877 0.64400974 0.64358305 0.64249972 0.64403702\n",
      " 0.64754496 0.64106559 0.64519923 0.64649925]\n",
      "Testing data accuracy for Random Forest:  [0.64557053 0.64659717 0.64736753 0.64883603 0.64922121 0.64714238\n",
      " 0.64709423 0.64379604 0.6445905  0.64846646]\n"
     ]
    }
   ],
   "source": [
    "\n",
    "print(\"Training data accuracy for Random Forest: \",cross_val_score(rfc, X_train_skb, y_train, cv=10))\n",
    "print(\"Testing data accuracy for Random Forest: \",cross_val_score(rfc, X_test_skb, y_test, cv=10))"
   ]
  },
  {
   "cell_type": "code",
   "execution_count": 42,
   "metadata": {},
   "outputs": [
    {
     "name": "stdout",
     "output_type": "stream",
     "text": [
      "AUC Score for Random Forest : 0.6111819520156541\n"
     ]
    }
   ],
   "source": [
    "\n",
    "print (\"AUC Score for Random Forest :\" ,roc_auc_score(y_train, y_pred_rfc))"
   ]
  },
  {
   "cell_type": "code",
   "execution_count": 43,
   "metadata": {},
   "outputs": [
    {
     "name": "stdout",
     "output_type": "stream",
     "text": [
      "[[230000 158968]\n",
      " [102308 477955]]\n",
      "Accuracy Score for Random Forest : 0.7304295879929552\n"
     ]
    }
   ],
   "source": [
    "from sklearn.metrics import confusion_matrix\n",
    "from sklearn.metrics import accuracy_score \n",
    "print(confusion_matrix(y_train, y_pred_knn))\n",
    "print('Accuracy Score for Random Forest :',accuracy_score(y_train, y_pred_knn))"
   ]
  },
  {
   "cell_type": "code",
   "execution_count": 44,
   "metadata": {},
   "outputs": [
    {
     "name": "stdout",
     "output_type": "stream",
     "text": [
      "Classification Report for Random Forest:               precision    recall  f1-score   support\n",
      "\n",
      "           0       0.58      0.44      0.50    388968\n",
      "           1       0.68      0.78      0.73    580263\n",
      "\n",
      "   micro avg       0.65      0.65      0.65    969231\n",
      "   macro avg       0.63      0.61      0.61    969231\n",
      "weighted avg       0.64      0.65      0.63    969231\n",
      "\n"
     ]
    }
   ],
   "source": [
    "print(\"Classification Report for Random Forest:\",classification_report(y_train, y_pred_rfc))"
   ]
  },
  {
   "cell_type": "markdown",
   "metadata": {},
   "source": [
    "Random forest classifier usually handles the missing values and maintain the accuracy of a large proportion of data.Thats why it is always better to use Random Forest for classification problems.If there are more trees, it won’t allow overfitting trees in the model.If we observe here, there seem to be no or very less overfitting.But the accuracy doesnt seem to be good as expected by Random forest.May be its because it doesnot have enough dimensions to understand and get good accuaracy which it required to make it work well."
   ]
  },
  {
   "cell_type": "markdown",
   "metadata": {},
   "source": [
    "# Decision Tree"
   ]
  },
  {
   "cell_type": "code",
   "execution_count": 45,
   "metadata": {},
   "outputs": [],
   "source": [
    "#Fitting the model with the parameters and train data\n",
    "decision_tree = tree.DecisionTreeClassifier(max_depth=10)\n",
    "decision_tree.fit(X_train_skb, y_train)\n",
    "y_pred_dt = decision_tree.predict(X_train_skb)"
   ]
  },
  {
   "cell_type": "code",
   "execution_count": 47,
   "metadata": {},
   "outputs": [
    {
     "name": "stdout",
     "output_type": "stream",
     "text": [
      "[{'max_depth': 50, 'max_features': 5}]\n",
      "[0.60235795]\n"
     ]
    },
    {
     "name": "stderr",
     "output_type": "stream",
     "text": [
      "C:\\Users\\ankush\\Anaconda3\\lib\\site-packages\\sklearn\\utils\\deprecation.py:125: FutureWarning: You are accessing a training score ('mean_train_score'), which will not be available by default any more in 0.21. If you need training scores, please set return_train_score=True\n",
      "  warnings.warn(*warn_args, **warn_kwargs)\n"
     ]
    },
    {
     "name": "stdout",
     "output_type": "stream",
     "text": [
      "[0.88816226]\n",
      "Best Hyper Parameters:\n",
      " {'max_depth': 50, 'max_features': 5}\n",
      "0.6023579518195353\n",
      "DecisionTreeClassifier(class_weight=None, criterion='gini', max_depth=50,\n",
      "            max_features=5, max_leaf_nodes=None, min_impurity_decrease=0.0,\n",
      "            min_impurity_split=None, min_samples_leaf=1,\n",
      "            min_samples_split=2, min_weight_fraction_leaf=0.0,\n",
      "            presort=False, random_state=None, splitter='best')\n"
     ]
    }
   ],
   "source": [
    "\n",
    "dt_grid={'max_depth':[50],'max_features': [5]}\n",
    "grid_class_dt=model_selection.GridSearchCV(decision_tree,dt_grid,cv=6)\n",
    "grid_class_dt.fit(X_train_skb, y_train)\n",
    "results = grid_class_dt.cv_results_\n",
    "print(results.get('params'))\n",
    "print(results.get('mean_test_score'))\n",
    "print(results.get('mean_train_score'))\n",
    "print(\"Best Hyper Parameters:\\n\",grid_class_dt.best_params_)\n",
    "print(grid_class_dt.best_score_)\n",
    "final_model = grid_class_dt.best_estimator_\n",
    "print(final_model)"
   ]
  },
  {
   "cell_type": "code",
   "execution_count": 48,
   "metadata": {},
   "outputs": [],
   "source": [
    "\n",
    "#Fitting the model with the best parameters we got above to improve the performance\n",
    "decision_tree = tree.DecisionTreeClassifier(max_depth=50,max_features=5)\n",
    "decision_tree.fit(X_train_skb, y_train)\n",
    "y_pred_dt = decision_tree.predict(X_train_skb)"
   ]
  },
  {
   "cell_type": "code",
   "execution_count": 49,
   "metadata": {},
   "outputs": [
    {
     "name": "stdout",
     "output_type": "stream",
     "text": [
      "Training data accuracy for Decision Tree:  [0.60249578 0.60119579 0.60184063 0.6020016  0.60185715]\n",
      "Testing data accuracy for Decision Tree:  [0.59099882 0.59084945 0.59342538 0.59503834 0.59338927]\n"
     ]
    }
   ],
   "source": [
    "\n",
    "print(\"Training data accuracy for Decision Tree: \",cross_val_score(decision_tree, X_train_skb, y_train, cv=5))\n",
    "print(\"Testing data accuracy for Decision Tree: \",cross_val_score(decision_tree, X_test_skb, y_test, cv=5))"
   ]
  },
  {
   "cell_type": "code",
   "execution_count": 50,
   "metadata": {},
   "outputs": [
    {
     "name": "stdout",
     "output_type": "stream",
     "text": [
      "AUC Score for Decision Tree : 0.8832534428502907\n"
     ]
    }
   ],
   "source": [
    "\n",
    "from sklearn.metrics import roc_auc_score\n",
    "print (\"AUC Score for Decision Tree :\" ,roc_auc_score(y_train, y_pred_dt))"
   ]
  },
  {
   "cell_type": "code",
   "execution_count": 53,
   "metadata": {},
   "outputs": [
    {
     "name": "stdout",
     "output_type": "stream",
     "text": [
      "[[348463  40505]\n",
      " [ 75062 505201]]\n",
      "Accuracy Score for Decision Tree : 0.8807642347386743\n"
     ]
    }
   ],
   "source": [
    "print(confusion_matrix(y_train, y_pred_dt))\n",
    "print('Accuracy Score for Decision Tree :',accuracy_score(y_train, y_pred_dt))"
   ]
  },
  {
   "cell_type": "markdown",
   "metadata": {},
   "source": [
    "Decision Tree are one of the simple models.It is also useful when most of the input variables are categorical and produces good results.It is usually suspectible to overfitting or noise.In this case,the results are very good, which is not likely possible.Hence, Decision tree has got overfitting.AUC,Confusion Matrix and Classification report are having overfitting which tells us that we should not be using this model and choose other model which have better accuracy"
   ]
  },
  {
   "cell_type": "markdown",
   "metadata": {},
   "source": [
    "# SVC"
   ]
  },
  {
   "cell_type": "code",
   "execution_count": null,
   "metadata": {},
   "outputs": [],
   "source": [
    "#Fitting the model with the parameters and train data\n",
    "from sklearn.svm import SVC\n",
    "svm=SVC()\n",
    "svm.fit(X_train_skb, y_train)\n",
    "y_pred_svm = svm.predict(X_train_skb)"
   ]
  },
  {
   "cell_type": "code",
   "execution_count": null,
   "metadata": {},
   "outputs": [],
   "source": [
    "\n",
    "param_grid = {'C':[1,10,100,1000],'gamma':[1,0.1,0.001,0.0001], 'kernel':['linear','rbf']}\n",
    "grid_class_svm=model_selection.GridSearchCV(SVC(),param_grid,refit = True)\n",
    "grid_class_svm.fit(X_train_skb, y_train)\n",
    "results = grid_class_svm.cv_results_\n",
    "print(results.get('params'))\n",
    "print(results.get('mean_test_score'))\n",
    "print(results.get('mean_train_score'))\n",
    "print(\"Best Hyper Parameters:\\n\",grid_class_svm.best_params_)\n",
    "print(grid_class_svm.best_score_)\n",
    "final_model = grid_class_svm.best_estimator_\n",
    "print(final_model)"
   ]
  },
  {
   "cell_type": "code",
   "execution_count": null,
   "metadata": {},
   "outputs": [],
   "source": [
    "\n",
    "print(\"Training data accuracy for SVC: \",cross_val_score(grid_class_svm, X_train_skb, y_train, cv=5))\n",
    "print(\"Testing data accuracy for SVC: \",cross_val_score(grid_class_svm, X_test_skb, y_test, cv=5))"
   ]
  },
  {
   "cell_type": "code",
   "execution_count": null,
   "metadata": {},
   "outputs": [],
   "source": [
    "\n",
    "from sklearn.metrics import roc_auc_score\n",
    "print (\"AUC Score for SVC :\" ,roc_auc_score(y_train, y_pred_dt))"
   ]
  },
  {
   "cell_type": "code",
   "execution_count": null,
   "metadata": {},
   "outputs": [],
   "source": [
    "\n",
    "print(confusion_matrix(y_train_sample, y_pred_dt))\n",
    "print('Accuracy Score for SVC :',accuracy_score(y_train_sample, y_pred_dt))"
   ]
  },
  {
   "cell_type": "code",
   "execution_count": null,
   "metadata": {},
   "outputs": [],
   "source": [
    "\n",
    "print(\"Classification Report for SVC:\",classification_report(y_train_sample, y_pred_dt))"
   ]
  },
  {
   "cell_type": "markdown",
   "metadata": {},
   "source": [
    "SVC is one of the complex models for getting good accuracy.The tradeoff with this model is, it takes more time to run than the other models because of its large computations happening in the background.It taken atleast 8-10 hours to complete.Results are good but we will not be using this model unless other models are not performing well"
   ]
  },
  {
   "cell_type": "markdown",
   "metadata": {},
   "source": [
    "# Gradient Boost Classifier\n"
   ]
  },
  {
   "cell_type": "code",
   "execution_count": null,
   "metadata": {},
   "outputs": [],
   "source": [
    "\n",
    "#Fitting the model with the parameters and train data\n",
    "params = {'n_estimators': 500,\n",
    "          'max_depth': 7,\n",
    "          'loss': 'deviance'}\n",
    "clf = ensemble.GradientBoostingClassifier(**params)\n",
    "clf.fit(X_train_skb, y_train)\n",
    "y_pred_gbr = clf.predict(X_train_skb)"
   ]
  },
  {
   "cell_type": "code",
   "execution_count": null,
   "metadata": {},
   "outputs": [],
   "source": [
    "params ={\n",
    "    \"loss\":[\"deviance\"],\n",
    "    \"max_depth\":[3,5,8],\n",
    "    \"n_estimators\":[1000]\n",
    "    \n",
    "    }\n",
    "gb = model_selection.GridSearchCV(clf, params, cv=10)\n",
    "gb.fit(X_train_skb, y_train)\n",
    "results = gb.cv_results_\n",
    "print(results.get('params'))\n",
    "print(results.get('mean_test_score'))\n",
    "print(results.get('mean_train_score'))\n",
    "print(\"Best Hyper Parameters:\\n\",gb.best_params_)\n",
    "print(gb.best_score_)\n",
    "final_model = gb.best_estimator_\n",
    "print(final_model)"
   ]
  },
  {
   "cell_type": "code",
   "execution_count": null,
   "metadata": {},
   "outputs": [],
   "source": [
    "clf = ensemble.GradientBoostingClassifier(**params)\n",
    "clf.fit(X_train_pca, y_train)\n",
    "y_pred_gbr = clf.predict(X_train_pca)"
   ]
  },
  {
   "cell_type": "code",
   "execution_count": null,
   "metadata": {},
   "outputs": [],
   "source": [
    "\n",
    "print(\"Training data accuracy for GBR: \",cross_val_score(gb, X_train_skb, y_train, cv=5))\n",
    "print(\"Testing data accuracy for GBR: \",cross_val_score(gb, X_test_skb, y_test, cv=5))"
   ]
  },
  {
   "cell_type": "code",
   "execution_count": null,
   "metadata": {},
   "outputs": [],
   "source": [
    "from sklearn.metrics import roc_auc_score\n",
    "print (\"AUC Score for GBR :\" ,roc_auc_score(y_train y_pred_gbr))"
   ]
  },
  {
   "cell_type": "code",
   "execution_count": null,
   "metadata": {},
   "outputs": [],
   "source": [
    "\n",
    "print(confusion_matrix(y_train_sample, y_pred_gbr))\n",
    "print('Accuracy Score for GBR :',accuracy_score(y_train, y_pred_gbr))"
   ]
  },
  {
   "cell_type": "code",
   "execution_count": null,
   "metadata": {},
   "outputs": [],
   "source": [
    "\n",
    "print(\"Classification Report for GBR:\",classification_report(y_train, y_pred_gbr))"
   ]
  },
  {
   "cell_type": "markdown",
   "metadata": {},
   "source": [
    "\n",
    "GBR is especially used to improve the accuaracy.This model is very useful if other models are not accurate ,then model might be a good option for predictive accuracy.The downside of this model is this model can very slow to predict the accuracy because of the ensemble algorithms running in the background.This is the same scenario here.It is very slow.However,Accuracy scores are good since it models the data over and over, each time adjusting the model based on what was learned from the previous one.Now, we will use SKB for dimension reduction and use the same techniques as above to get the accuracy of each model"
   ]
  },
  {
   "cell_type": "markdown",
   "metadata": {},
   "source": [
    "## 2.Unsupervised Learning"
   ]
  },
  {
   "cell_type": "markdown",
   "metadata": {},
   "source": [
    "# K-Means Clustering"
   ]
  },
  {
   "cell_type": "code",
   "execution_count": 13,
   "metadata": {},
   "outputs": [
    {
     "name": "stdout",
     "output_type": "stream",
     "text": [
      "Silhouette Score for 2 clusters is:0.48619271349655085 \n",
      "Silhouette Score for 3 clusters is:0.43284916064917783 \n",
      "Silhouette Score for 4 clusters is:0.4576065914132273 \n",
      "Silhouette Score for 5 clusters is:0.4104443825147923 \n",
      "Silhouette Score for 6 clusters is:0.36833285498627955 \n"
     ]
    }
   ],
   "source": [
    "from sklearn.preprocessing import normalize\n",
    "from sklearn.cluster import KMeans\n",
    "# Normalize the data.\n",
    "X_train_norm = normalize(X_train)\n",
    "\n",
    "# Reduce it to two components.\n",
    "X_train_pca = PCA(5).fit_transform(X_train_norm)\n",
    "n_clusters=7\n",
    "for i in range(2,n_clusters):\n",
    "# Calculate predicted values.\n",
    "  y_pred = KMeans(i, random_state=42).fit(X_train_pca)\n",
    "  labels = y_pred.labels_\n",
    "  print(\"Silhouette Score for {} clusters is:{} \".format(i,metrics.silhouette_score(X_train_pca, labels, metric='euclidean')))\n",
    "\n"
   ]
  },
  {
   "cell_type": "markdown",
   "metadata": {},
   "source": [
    "The silhouette score seems to perform better when number of clusters=2 rather than others if we observe above.This might be because of the reason that it is a classification problem and it checks the 2 most important features and determines the accuracy based on that"
   ]
  },
  {
   "cell_type": "code",
   "execution_count": 15,
   "metadata": {
    "scrolled": false
   },
   "outputs": [
    {
     "data": {
      "image/png": "[encoded data removed]",
      "text/plain": [
       "<Figure size 432x288 with 1 Axes>"
      ]
     },
     "metadata": {
      "needs_background": "light"
     },
     "output_type": "display_data"
    },
    {
     "name": "stdout",
     "output_type": "stream",
     "text": [
      "Comparing k-means 2 clusters against the data:\n",
      "reordered      0      1\n",
      "row_0                  \n",
      "0           9118  13998\n",
      "1          11531  16902\n"
     ]
    },
    {
     "data": {
      "image/png": "[encoded data removed]",
      "text/plain": [
       "<Figure size 432x288 with 1 Axes>"
      ]
     },
     "metadata": {
      "needs_background": "light"
     },
     "output_type": "display_data"
    },
    {
     "name": "stdout",
     "output_type": "stream",
     "text": [
      "Comparing k-means 3 clusters against the data:\n",
      "reordered     0      1\n",
      "row_0                 \n",
      "0          7992  12052\n",
      "1          6876   9771\n",
      "2          5781   9077\n"
     ]
    },
    {
     "data": {
      "image/png": "[encoded data removed]",
      "text/plain": [
       "<Figure size 432x288 with 1 Axes>"
      ]
     },
     "metadata": {
      "needs_background": "light"
     },
     "output_type": "display_data"
    },
    {
     "name": "stdout",
     "output_type": "stream",
     "text": [
      "Comparing k-means 4 clusters against the data:\n",
      "reordered     0      1\n",
      "row_0                 \n",
      "0          5340   8375\n",
      "1          6585   9414\n",
      "2           985   1487\n",
      "3          7739  11624\n"
     ]
    },
    {
     "data": {
      "image/png": "[encoded data removed]",
      "text/plain": [
       "<Figure size 432x288 with 1 Axes>"
      ]
     },
     "metadata": {
      "needs_background": "light"
     },
     "output_type": "display_data"
    },
    {
     "name": "stdout",
     "output_type": "stream",
     "text": [
      "Comparing k-means 5 clusters against the data:\n",
      "reordered     0     1\n",
      "row_0                \n",
      "0          3704  5745\n",
      "1          5177  7332\n",
      "2          6050  9195\n",
      "3           950  1408\n",
      "4          4768  7220\n"
     ]
    },
    {
     "data": {
      "image/png": "[encoded data removed]",
      "text/plain": [
       "<Figure size 432x288 with 1 Axes>"
      ]
     },
     "metadata": {
      "needs_background": "light"
     },
     "output_type": "display_data"
    },
    {
     "name": "stdout",
     "output_type": "stream",
     "text": [
      "Comparing k-means 6 clusters against the data:\n",
      "reordered     0     1\n",
      "row_0                \n",
      "0          3782  5887\n",
      "1          4171  5999\n",
      "2          4646  7302\n",
      "3           929  1370\n",
      "4          3857  5395\n",
      "5          3264  4947\n"
     ]
    }
   ],
   "source": [
    "n_clusters=7\n",
    "for i in range(2,n_clusters):\n",
    " y_pred = KMeans(i, random_state=42).fit_predict(X_train_pca)\n",
    "\n",
    "# Plot the solution.\n",
    " plt.scatter(X_train_pca[:, 0], X_train_pca[:, 1], c=y_pred)\n",
    " plt.show()\n",
    "\n",
    "# Check the solution against the data.\n",
    " print('Comparing k-means {} clusters against the data:'.format(i))\n",
    " print(pd.crosstab(y_pred, y_train))"
   ]
  },
  {
   "cell_type": "markdown",
   "metadata": {},
   "source": [
    "Number of clusters is 2  shows that there are 2 distinctive groups classified by the algorithm.We do see some overlaps within the two groups.But we can classify the data points using 2 clusters using 2 groups.When number of clsuters is more than 2, it is being gouped based on factors such customer reorder the products, based on order_id, high buying customer/low buying customer etc.But there will more overlaps within the groups hence less accuracy.For chosing the k for clustering, we should have rough idea of the groups in the dataset which we are trying to analyse.This is a classification problem , so here the ideal clusters will be 2.Using number of clusters more than 2  will not achieve anything and we are not going to learn anything from the dataset since nature of the problem is more of classification rather than regression."
   ]
  },
  {
   "cell_type": "markdown",
   "metadata": {},
   "source": [
    "Now let's try MiniBatch:"
   ]
  },
  {
   "cell_type": "code",
   "execution_count": 24,
   "metadata": {},
   "outputs": [
    {
     "name": "stdout",
     "output_type": "stream",
     "text": [
      "2 clusters for mini-batch\n",
      "col_0     0      1     2     3     4     5\n",
      "row_0                                     \n",
      "0         0  10170  8388  1065  9252     0\n",
      "1      9669      0  3560  1234     0  8211\n",
      "3 clusters for mini-batch\n",
      "col_0     0      1     2     3     4     5\n",
      "row_0                                     \n",
      "0      9669      0  5327  1303     0  8211\n",
      "1         0  10170  6621   996  9252     0\n",
      "4 clusters for mini-batch\n",
      "col_0     0      1     2     3     4     5\n",
      "row_0                                     \n",
      "0      9669      0  4966  1288     0  8211\n",
      "1         0  10170  6982  1011  9252     0\n",
      "5 clusters for mini-batch\n",
      "col_0     0      1      2     3     4     5\n",
      "row_0                                      \n",
      "0         0  10170  10431  1217  9252     0\n",
      "1      9669      0   1517  1082     0  8211\n",
      "6 clusters for mini-batch\n",
      "col_0     0      1     2     3     4     5\n",
      "row_0                                     \n",
      "0      9669      0  3086  1193     0  8211\n",
      "1         0  10170  8862  1106  9252     0\n"
     ]
    }
   ],
   "source": [
    "n_clusters=7\n",
    "for i in range(2,n_clusters):\n",
    "# Each batch will be made up of 200 data points.\n",
    "  minibatchkmeans = MiniBatchKMeans(\n",
    "    init='random',\n",
    "    n_clusters=2,\n",
    "    batch_size=200)\n",
    "  minibatchkmeans.fit(X_train_pca)\n",
    "\n",
    "# Add the new predicted cluster memberships to the data frame.\n",
    "  predict_mini = minibatchkmeans.predict(X_train_pca)\n",
    "\n",
    "# Check the MiniBatch model against our earlier one.\n",
    "  print('{} clusters for mini-batch'.format(i))\n",
    "  print(pd.crosstab(predict_mini, y_pred))        \n"
   ]
  },
  {
   "cell_type": "markdown",
   "metadata": {},
   "source": [
    "Using Mini batch doesnt seem to have a consistent result.So, we should not consider it."
   ]
  },
  {
   "cell_type": "markdown",
   "metadata": {},
   "source": [
    "# Mean-shift"
   ]
  },
  {
   "cell_type": "code",
   "execution_count": 206,
   "metadata": {},
   "outputs": [
    {
     "name": "stdout",
     "output_type": "stream",
     "text": [
      "Number of estimated clusters: 1\n"
     ]
    }
   ],
   "source": [
    "from sklearn.cluster import MeanShift, estimate_bandwidth\n",
    "\n",
    "# Here we set the bandwidth. This function automatically derives a bandwidth\n",
    "# number based on an inspection of the distances among points in the data.\n",
    "bandwidth = estimate_bandwidth(X_train_pca, quantile=0.2, n_samples=500)\n",
    "\n",
    "# Declare and fit the model.\n",
    "ms = MeanShift(bandwidth=bandwidth, bin_seeding=True)\n",
    "ms.fit(X_train_pca)\n",
    "\n",
    "# Extract cluster assignments for each data point.\n",
    "labels = ms.labels_\n",
    "\n",
    "# Coordinates of the cluster centers.\n",
    "cluster_centers = ms.cluster_centers_\n",
    "\n",
    "# Count our clusters.\n",
    "n_clusters_ = len(np.unique(labels))\n",
    "\n",
    "print(\"Number of estimated clusters: {}\".format(n_clusters_))\n"
   ]
  },
  {
   "cell_type": "code",
   "execution_count": 71,
   "metadata": {},
   "outputs": [
    {
     "data": {
      "image/png": "[encoded data removed]",
      "text/plain": [
       "<Figure size 432x288 with 1 Axes>"
      ]
     },
     "metadata": {
      "needs_background": "light"
     },
     "output_type": "display_data"
    },
    {
     "name": "stdout",
     "output_type": "stream",
     "text": [
      "Comparing the assigned categories to the ones in the data:\n",
      "col_0           0\n",
      "reordered        \n",
      "0          388968\n",
      "1          580263\n"
     ]
    }
   ],
   "source": [
    "plt.scatter(X_train[:, 0], X_train[:, 1], c=labels)\n",
    "plt.show()\n",
    "\n",
    "print('Comparing the assigned categories to the ones in the data:')\n",
    "print(pd.crosstab(y_train,labels))"
   ]
  },
  {
   "cell_type": "markdown",
   "metadata": {},
   "source": [
    "Mean shift is showing only 1 cluster which doesnt seem to be correct.So, we will not be using this model on our dataset."
   ]
  },
  {
   "cell_type": "markdown",
   "metadata": {},
   "source": [
    "# Spectral Clustering"
   ]
  },
  {
   "cell_type": "code",
   "execution_count": 9,
   "metadata": {},
   "outputs": [
    {
     "name": "stderr",
     "output_type": "stream",
     "text": [
      "C:\\Users\\ankush\\Anaconda3\\lib\\site-packages\\sklearn\\manifold\\spectral_embedding_.py:237: UserWarning: Graph is not fully connected, spectral embedding may not work as expected.\n",
      "  warnings.warn(\"Graph is not fully connected, spectral embedding\"\n",
      "C:\\Users\\ankush\\Anaconda3\\lib\\site-packages\\numpy\\core\\_methods.py:116: RuntimeWarning: overflow encountered in multiply\n",
      "  x = um.multiply(x, x, out=x)\n",
      "C:\\Users\\ankush\\Anaconda3\\lib\\site-packages\\sklearn\\metrics\\pairwise.py:249: RuntimeWarning: invalid value encountered in add\n",
      "  distances += XX\n",
      "C:\\Users\\ankush\\Anaconda3\\lib\\site-packages\\sklearn\\metrics\\pairwise.py:251: RuntimeWarning: invalid value encountered in maximum\n",
      "  np.maximum(distances, 0, out=distances)\n",
      "C:\\Users\\ankush\\Anaconda3\\lib\\site-packages\\sklearn\\metrics\\pairwise.py:249: RuntimeWarning: invalid value encountered in add\n",
      "  distances += XX\n",
      "C:\\Users\\ankush\\Anaconda3\\lib\\site-packages\\sklearn\\metrics\\pairwise.py:251: RuntimeWarning: invalid value encountered in maximum\n",
      "  np.maximum(distances, 0, out=distances)\n",
      "C:\\Users\\ankush\\Anaconda3\\lib\\site-packages\\sklearn\\cluster\\k_means_.py:126: RuntimeWarning: invalid value encountered in minimum\n",
      "  distance_to_candidates[trial])\n",
      "C:\\Users\\ankush\\Anaconda3\\lib\\site-packages\\sklearn\\metrics\\pairwise.py:249: RuntimeWarning: invalid value encountered in add\n",
      "  distances += XX\n",
      "C:\\Users\\ankush\\Anaconda3\\lib\\site-packages\\sklearn\\metrics\\pairwise.py:251: RuntimeWarning: invalid value encountered in maximum\n",
      "  np.maximum(distances, 0, out=distances)\n",
      "C:\\Users\\ankush\\Anaconda3\\lib\\site-packages\\sklearn\\cluster\\k_means_.py:126: RuntimeWarning: invalid value encountered in minimum\n",
      "  distance_to_candidates[trial])\n",
      "C:\\Users\\ankush\\Anaconda3\\lib\\site-packages\\sklearn\\metrics\\pairwise.py:249: RuntimeWarning: invalid value encountered in add\n",
      "  distances += XX\n",
      "C:\\Users\\ankush\\Anaconda3\\lib\\site-packages\\sklearn\\metrics\\pairwise.py:251: RuntimeWarning: invalid value encountered in maximum\n",
      "  np.maximum(distances, 0, out=distances)\n",
      "C:\\Users\\ankush\\Anaconda3\\lib\\site-packages\\sklearn\\cluster\\k_means_.py:126: RuntimeWarning: invalid value encountered in minimum\n",
      "  distance_to_candidates[trial])\n",
      "C:\\Users\\ankush\\Anaconda3\\lib\\site-packages\\sklearn\\metrics\\pairwise.py:249: RuntimeWarning: invalid value encountered in add\n",
      "  distances += XX\n",
      "C:\\Users\\ankush\\Anaconda3\\lib\\site-packages\\sklearn\\metrics\\pairwise.py:251: RuntimeWarning: invalid value encountered in maximum\n",
      "  np.maximum(distances, 0, out=distances)\n",
      "C:\\Users\\ankush\\Anaconda3\\lib\\site-packages\\sklearn\\cluster\\k_means_.py:126: RuntimeWarning: invalid value encountered in minimum\n",
      "  distance_to_candidates[trial])\n",
      "C:\\Users\\ankush\\Anaconda3\\lib\\site-packages\\sklearn\\metrics\\pairwise.py:249: RuntimeWarning: invalid value encountered in add\n",
      "  distances += XX\n",
      "C:\\Users\\ankush\\Anaconda3\\lib\\site-packages\\sklearn\\metrics\\pairwise.py:251: RuntimeWarning: invalid value encountered in maximum\n",
      "  np.maximum(distances, 0, out=distances)\n",
      "C:\\Users\\ankush\\Anaconda3\\lib\\site-packages\\sklearn\\cluster\\k_means_.py:444: RuntimeWarning: overflow encountered in square\n",
      "  max_iter=max_iter, verbose=verbose)\n",
      "C:\\Users\\ankush\\Anaconda3\\lib\\site-packages\\sklearn\\cluster\\k_means_.py:444: RuntimeWarning: invalid value encountered in subtract\n",
      "  max_iter=max_iter, verbose=verbose)\n",
      "C:\\Users\\ankush\\Anaconda3\\lib\\site-packages\\sklearn\\cluster\\k_means_.py:444: RuntimeWarning: invalid value encountered in maximum\n",
      "  max_iter=max_iter, verbose=verbose)\n",
      "C:\\Users\\ankush\\Anaconda3\\lib\\site-packages\\sklearn\\metrics\\pairwise.py:249: RuntimeWarning: invalid value encountered in add\n",
      "  distances += XX\n",
      "C:\\Users\\ankush\\Anaconda3\\lib\\site-packages\\sklearn\\metrics\\pairwise.py:251: RuntimeWarning: invalid value encountered in maximum\n",
      "  np.maximum(distances, 0, out=distances)\n",
      "C:\\Users\\ankush\\Anaconda3\\lib\\site-packages\\sklearn\\cluster\\k_means_.py:444: RuntimeWarning: invalid value encountered in maximum\n",
      "  max_iter=max_iter, verbose=verbose)\n",
      "C:\\Users\\ankush\\Anaconda3\\lib\\site-packages\\sklearn\\metrics\\pairwise.py:249: RuntimeWarning: invalid value encountered in add\n",
      "  distances += XX\n",
      "C:\\Users\\ankush\\Anaconda3\\lib\\site-packages\\sklearn\\metrics\\pairwise.py:251: RuntimeWarning: invalid value encountered in maximum\n",
      "  np.maximum(distances, 0, out=distances)\n",
      "C:\\Users\\ankush\\Anaconda3\\lib\\site-packages\\sklearn\\cluster\\k_means_.py:446: RuntimeWarning: overflow encountered in square\n",
      "  inertia = np.sum((X - centers[labels]) ** 2, dtype=np.float64)\n",
      "C:\\Users\\ankush\\Anaconda3\\lib\\site-packages\\sklearn\\metrics\\pairwise.py:249: RuntimeWarning: invalid value encountered in add\n",
      "  distances += XX\n",
      "C:\\Users\\ankush\\Anaconda3\\lib\\site-packages\\sklearn\\metrics\\pairwise.py:251: RuntimeWarning: invalid value encountered in maximum\n",
      "  np.maximum(distances, 0, out=distances)\n",
      "C:\\Users\\ankush\\Anaconda3\\lib\\site-packages\\sklearn\\metrics\\pairwise.py:249: RuntimeWarning: invalid value encountered in add\n",
      "  distances += XX\n",
      "C:\\Users\\ankush\\Anaconda3\\lib\\site-packages\\sklearn\\metrics\\pairwise.py:251: RuntimeWarning: invalid value encountered in maximum\n",
      "  np.maximum(distances, 0, out=distances)\n",
      "C:\\Users\\ankush\\Anaconda3\\lib\\site-packages\\sklearn\\cluster\\k_means_.py:126: RuntimeWarning: invalid value encountered in minimum\n",
      "  distance_to_candidates[trial])\n",
      "C:\\Users\\ankush\\Anaconda3\\lib\\site-packages\\sklearn\\metrics\\pairwise.py:249: RuntimeWarning: invalid value encountered in add\n",
      "  distances += XX\n",
      "C:\\Users\\ankush\\Anaconda3\\lib\\site-packages\\sklearn\\metrics\\pairwise.py:251: RuntimeWarning: invalid value encountered in maximum\n",
      "  np.maximum(distances, 0, out=distances)\n",
      "C:\\Users\\ankush\\Anaconda3\\lib\\site-packages\\sklearn\\cluster\\k_means_.py:126: RuntimeWarning: invalid value encountered in minimum\n",
      "  distance_to_candidates[trial])\n",
      "C:\\Users\\ankush\\Anaconda3\\lib\\site-packages\\sklearn\\metrics\\pairwise.py:249: RuntimeWarning: invalid value encountered in add\n",
      "  distances += XX\n",
      "C:\\Users\\ankush\\Anaconda3\\lib\\site-packages\\sklearn\\metrics\\pairwise.py:251: RuntimeWarning: invalid value encountered in maximum\n",
      "  np.maximum(distances, 0, out=distances)\n",
      "C:\\Users\\ankush\\Anaconda3\\lib\\site-packages\\sklearn\\cluster\\k_means_.py:126: RuntimeWarning: invalid value encountered in minimum\n",
      "  distance_to_candidates[trial])\n",
      "C:\\Users\\ankush\\Anaconda3\\lib\\site-packages\\sklearn\\metrics\\pairwise.py:249: RuntimeWarning: invalid value encountered in add\n",
      "  distances += XX\n",
      "C:\\Users\\ankush\\Anaconda3\\lib\\site-packages\\sklearn\\metrics\\pairwise.py:251: RuntimeWarning: invalid value encountered in maximum\n",
      "  np.maximum(distances, 0, out=distances)\n",
      "C:\\Users\\ankush\\Anaconda3\\lib\\site-packages\\sklearn\\cluster\\k_means_.py:126: RuntimeWarning: invalid value encountered in minimum\n",
      "  distance_to_candidates[trial])\n",
      "C:\\Users\\ankush\\Anaconda3\\lib\\site-packages\\sklearn\\metrics\\pairwise.py:249: RuntimeWarning: invalid value encountered in add\n",
      "  distances += XX\n",
      "C:\\Users\\ankush\\Anaconda3\\lib\\site-packages\\sklearn\\metrics\\pairwise.py:251: RuntimeWarning: invalid value encountered in maximum\n",
      "  np.maximum(distances, 0, out=distances)\n",
      "C:\\Users\\ankush\\Anaconda3\\lib\\site-packages\\sklearn\\cluster\\k_means_.py:444: RuntimeWarning: overflow encountered in square\n",
      "  max_iter=max_iter, verbose=verbose)\n",
      "C:\\Users\\ankush\\Anaconda3\\lib\\site-packages\\sklearn\\cluster\\k_means_.py:444: RuntimeWarning: invalid value encountered in subtract\n",
      "  max_iter=max_iter, verbose=verbose)\n",
      "C:\\Users\\ankush\\Anaconda3\\lib\\site-packages\\sklearn\\cluster\\k_means_.py:444: RuntimeWarning: invalid value encountered in maximum\n",
      "  max_iter=max_iter, verbose=verbose)\n",
      "C:\\Users\\ankush\\Anaconda3\\lib\\site-packages\\sklearn\\metrics\\pairwise.py:249: RuntimeWarning: invalid value encountered in add\n",
      "  distances += XX\n",
      "C:\\Users\\ankush\\Anaconda3\\lib\\site-packages\\sklearn\\metrics\\pairwise.py:251: RuntimeWarning: invalid value encountered in maximum\n",
      "  np.maximum(distances, 0, out=distances)\n",
      "C:\\Users\\ankush\\Anaconda3\\lib\\site-packages\\sklearn\\cluster\\k_means_.py:444: RuntimeWarning: invalid value encountered in maximum\n",
      "  max_iter=max_iter, verbose=verbose)\n",
      "C:\\Users\\ankush\\Anaconda3\\lib\\site-packages\\sklearn\\metrics\\pairwise.py:249: RuntimeWarning: invalid value encountered in add\n",
      "  distances += XX\n",
      "C:\\Users\\ankush\\Anaconda3\\lib\\site-packages\\sklearn\\metrics\\pairwise.py:251: RuntimeWarning: invalid value encountered in maximum\n",
      "  np.maximum(distances, 0, out=distances)\n"
     ]
    },
    {
     "name": "stderr",
     "output_type": "stream",
     "text": [
      "C:\\Users\\ankush\\Anaconda3\\lib\\site-packages\\sklearn\\cluster\\k_means_.py:446: RuntimeWarning: overflow encountered in square\n",
      "  inertia = np.sum((X - centers[labels]) ** 2, dtype=np.float64)\n",
      "C:\\Users\\ankush\\Anaconda3\\lib\\site-packages\\sklearn\\metrics\\pairwise.py:249: RuntimeWarning: invalid value encountered in add\n",
      "  distances += XX\n",
      "C:\\Users\\ankush\\Anaconda3\\lib\\site-packages\\sklearn\\metrics\\pairwise.py:251: RuntimeWarning: invalid value encountered in maximum\n",
      "  np.maximum(distances, 0, out=distances)\n",
      "C:\\Users\\ankush\\Anaconda3\\lib\\site-packages\\sklearn\\metrics\\pairwise.py:249: RuntimeWarning: invalid value encountered in add\n",
      "  distances += XX\n",
      "C:\\Users\\ankush\\Anaconda3\\lib\\site-packages\\sklearn\\metrics\\pairwise.py:251: RuntimeWarning: invalid value encountered in maximum\n",
      "  np.maximum(distances, 0, out=distances)\n",
      "C:\\Users\\ankush\\Anaconda3\\lib\\site-packages\\sklearn\\cluster\\k_means_.py:126: RuntimeWarning: invalid value encountered in minimum\n",
      "  distance_to_candidates[trial])\n",
      "C:\\Users\\ankush\\Anaconda3\\lib\\site-packages\\sklearn\\metrics\\pairwise.py:249: RuntimeWarning: invalid value encountered in add\n",
      "  distances += XX\n",
      "C:\\Users\\ankush\\Anaconda3\\lib\\site-packages\\sklearn\\metrics\\pairwise.py:251: RuntimeWarning: invalid value encountered in maximum\n",
      "  np.maximum(distances, 0, out=distances)\n",
      "C:\\Users\\ankush\\Anaconda3\\lib\\site-packages\\sklearn\\cluster\\k_means_.py:126: RuntimeWarning: invalid value encountered in minimum\n",
      "  distance_to_candidates[trial])\n",
      "C:\\Users\\ankush\\Anaconda3\\lib\\site-packages\\sklearn\\metrics\\pairwise.py:249: RuntimeWarning: invalid value encountered in add\n",
      "  distances += XX\n",
      "C:\\Users\\ankush\\Anaconda3\\lib\\site-packages\\sklearn\\metrics\\pairwise.py:251: RuntimeWarning: invalid value encountered in maximum\n",
      "  np.maximum(distances, 0, out=distances)\n",
      "C:\\Users\\ankush\\Anaconda3\\lib\\site-packages\\sklearn\\cluster\\k_means_.py:126: RuntimeWarning: invalid value encountered in minimum\n",
      "  distance_to_candidates[trial])\n",
      "C:\\Users\\ankush\\Anaconda3\\lib\\site-packages\\sklearn\\metrics\\pairwise.py:249: RuntimeWarning: invalid value encountered in add\n",
      "  distances += XX\n",
      "C:\\Users\\ankush\\Anaconda3\\lib\\site-packages\\sklearn\\metrics\\pairwise.py:251: RuntimeWarning: invalid value encountered in maximum\n",
      "  np.maximum(distances, 0, out=distances)\n",
      "C:\\Users\\ankush\\Anaconda3\\lib\\site-packages\\sklearn\\cluster\\k_means_.py:126: RuntimeWarning: invalid value encountered in minimum\n",
      "  distance_to_candidates[trial])\n",
      "C:\\Users\\ankush\\Anaconda3\\lib\\site-packages\\sklearn\\metrics\\pairwise.py:249: RuntimeWarning: invalid value encountered in add\n",
      "  distances += XX\n",
      "C:\\Users\\ankush\\Anaconda3\\lib\\site-packages\\sklearn\\metrics\\pairwise.py:251: RuntimeWarning: invalid value encountered in maximum\n",
      "  np.maximum(distances, 0, out=distances)\n",
      "C:\\Users\\ankush\\Anaconda3\\lib\\site-packages\\sklearn\\cluster\\k_means_.py:444: RuntimeWarning: overflow encountered in square\n",
      "  max_iter=max_iter, verbose=verbose)\n",
      "C:\\Users\\ankush\\Anaconda3\\lib\\site-packages\\sklearn\\cluster\\k_means_.py:444: RuntimeWarning: invalid value encountered in subtract\n",
      "  max_iter=max_iter, verbose=verbose)\n",
      "C:\\Users\\ankush\\Anaconda3\\lib\\site-packages\\sklearn\\cluster\\k_means_.py:444: RuntimeWarning: invalid value encountered in maximum\n",
      "  max_iter=max_iter, verbose=verbose)\n",
      "C:\\Users\\ankush\\Anaconda3\\lib\\site-packages\\sklearn\\metrics\\pairwise.py:249: RuntimeWarning: invalid value encountered in add\n",
      "  distances += XX\n",
      "C:\\Users\\ankush\\Anaconda3\\lib\\site-packages\\sklearn\\metrics\\pairwise.py:251: RuntimeWarning: invalid value encountered in maximum\n",
      "  np.maximum(distances, 0, out=distances)\n",
      "C:\\Users\\ankush\\Anaconda3\\lib\\site-packages\\sklearn\\cluster\\k_means_.py:444: RuntimeWarning: invalid value encountered in maximum\n",
      "  max_iter=max_iter, verbose=verbose)\n",
      "C:\\Users\\ankush\\Anaconda3\\lib\\site-packages\\sklearn\\metrics\\pairwise.py:249: RuntimeWarning: invalid value encountered in add\n",
      "  distances += XX\n",
      "C:\\Users\\ankush\\Anaconda3\\lib\\site-packages\\sklearn\\metrics\\pairwise.py:251: RuntimeWarning: invalid value encountered in maximum\n",
      "  np.maximum(distances, 0, out=distances)\n",
      "C:\\Users\\ankush\\Anaconda3\\lib\\site-packages\\sklearn\\cluster\\k_means_.py:446: RuntimeWarning: overflow encountered in square\n",
      "  inertia = np.sum((X - centers[labels]) ** 2, dtype=np.float64)\n",
      "C:\\Users\\ankush\\Anaconda3\\lib\\site-packages\\sklearn\\metrics\\pairwise.py:249: RuntimeWarning: invalid value encountered in add\n",
      "  distances += XX\n",
      "C:\\Users\\ankush\\Anaconda3\\lib\\site-packages\\sklearn\\metrics\\pairwise.py:251: RuntimeWarning: invalid value encountered in maximum\n",
      "  np.maximum(distances, 0, out=distances)\n",
      "C:\\Users\\ankush\\Anaconda3\\lib\\site-packages\\sklearn\\metrics\\pairwise.py:249: RuntimeWarning: invalid value encountered in add\n",
      "  distances += XX\n",
      "C:\\Users\\ankush\\Anaconda3\\lib\\site-packages\\sklearn\\metrics\\pairwise.py:251: RuntimeWarning: invalid value encountered in maximum\n",
      "  np.maximum(distances, 0, out=distances)\n",
      "C:\\Users\\ankush\\Anaconda3\\lib\\site-packages\\sklearn\\cluster\\k_means_.py:126: RuntimeWarning: invalid value encountered in minimum\n",
      "  distance_to_candidates[trial])\n",
      "C:\\Users\\ankush\\Anaconda3\\lib\\site-packages\\sklearn\\metrics\\pairwise.py:249: RuntimeWarning: invalid value encountered in add\n",
      "  distances += XX\n",
      "C:\\Users\\ankush\\Anaconda3\\lib\\site-packages\\sklearn\\metrics\\pairwise.py:251: RuntimeWarning: invalid value encountered in maximum\n",
      "  np.maximum(distances, 0, out=distances)\n",
      "C:\\Users\\ankush\\Anaconda3\\lib\\site-packages\\sklearn\\cluster\\k_means_.py:126: RuntimeWarning: invalid value encountered in minimum\n",
      "  distance_to_candidates[trial])\n",
      "C:\\Users\\ankush\\Anaconda3\\lib\\site-packages\\sklearn\\metrics\\pairwise.py:249: RuntimeWarning: invalid value encountered in add\n",
      "  distances += XX\n",
      "C:\\Users\\ankush\\Anaconda3\\lib\\site-packages\\sklearn\\metrics\\pairwise.py:251: RuntimeWarning: invalid value encountered in maximum\n",
      "  np.maximum(distances, 0, out=distances)\n",
      "C:\\Users\\ankush\\Anaconda3\\lib\\site-packages\\sklearn\\cluster\\k_means_.py:126: RuntimeWarning: invalid value encountered in minimum\n",
      "  distance_to_candidates[trial])\n",
      "C:\\Users\\ankush\\Anaconda3\\lib\\site-packages\\sklearn\\metrics\\pairwise.py:249: RuntimeWarning: invalid value encountered in add\n",
      "  distances += XX\n",
      "C:\\Users\\ankush\\Anaconda3\\lib\\site-packages\\sklearn\\metrics\\pairwise.py:251: RuntimeWarning: invalid value encountered in maximum\n",
      "  np.maximum(distances, 0, out=distances)\n",
      "C:\\Users\\ankush\\Anaconda3\\lib\\site-packages\\sklearn\\cluster\\k_means_.py:126: RuntimeWarning: invalid value encountered in minimum\n",
      "  distance_to_candidates[trial])\n",
      "C:\\Users\\ankush\\Anaconda3\\lib\\site-packages\\sklearn\\metrics\\pairwise.py:249: RuntimeWarning: invalid value encountered in add\n",
      "  distances += XX\n",
      "C:\\Users\\ankush\\Anaconda3\\lib\\site-packages\\sklearn\\metrics\\pairwise.py:251: RuntimeWarning: invalid value encountered in maximum\n",
      "  np.maximum(distances, 0, out=distances)\n",
      "C:\\Users\\ankush\\Anaconda3\\lib\\site-packages\\sklearn\\cluster\\k_means_.py:444: RuntimeWarning: overflow encountered in square\n",
      "  max_iter=max_iter, verbose=verbose)\n",
      "C:\\Users\\ankush\\Anaconda3\\lib\\site-packages\\sklearn\\cluster\\k_means_.py:444: RuntimeWarning: invalid value encountered in subtract\n",
      "  max_iter=max_iter, verbose=verbose)\n",
      "C:\\Users\\ankush\\Anaconda3\\lib\\site-packages\\sklearn\\cluster\\k_means_.py:444: RuntimeWarning: invalid value encountered in maximum\n",
      "  max_iter=max_iter, verbose=verbose)\n",
      "C:\\Users\\ankush\\Anaconda3\\lib\\site-packages\\sklearn\\metrics\\pairwise.py:249: RuntimeWarning: invalid value encountered in add\n",
      "  distances += XX\n",
      "C:\\Users\\ankush\\Anaconda3\\lib\\site-packages\\sklearn\\metrics\\pairwise.py:251: RuntimeWarning: invalid value encountered in maximum\n",
      "  np.maximum(distances, 0, out=distances)\n",
      "C:\\Users\\ankush\\Anaconda3\\lib\\site-packages\\sklearn\\cluster\\k_means_.py:444: RuntimeWarning: invalid value encountered in maximum\n",
      "  max_iter=max_iter, verbose=verbose)\n",
      "C:\\Users\\ankush\\Anaconda3\\lib\\site-packages\\sklearn\\metrics\\pairwise.py:249: RuntimeWarning: invalid value encountered in add\n",
      "  distances += XX\n",
      "C:\\Users\\ankush\\Anaconda3\\lib\\site-packages\\sklearn\\metrics\\pairwise.py:251: RuntimeWarning: invalid value encountered in maximum\n",
      "  np.maximum(distances, 0, out=distances)\n",
      "C:\\Users\\ankush\\Anaconda3\\lib\\site-packages\\sklearn\\cluster\\k_means_.py:446: RuntimeWarning: overflow encountered in square\n",
      "  inertia = np.sum((X - centers[labels]) ** 2, dtype=np.float64)\n"
     ]
    },
    {
     "name": "stderr",
     "output_type": "stream",
     "text": [
      "C:\\Users\\ankush\\Anaconda3\\lib\\site-packages\\sklearn\\metrics\\pairwise.py:249: RuntimeWarning: invalid value encountered in add\n",
      "  distances += XX\n",
      "C:\\Users\\ankush\\Anaconda3\\lib\\site-packages\\sklearn\\metrics\\pairwise.py:251: RuntimeWarning: invalid value encountered in maximum\n",
      "  np.maximum(distances, 0, out=distances)\n",
      "C:\\Users\\ankush\\Anaconda3\\lib\\site-packages\\sklearn\\metrics\\pairwise.py:249: RuntimeWarning: invalid value encountered in add\n",
      "  distances += XX\n",
      "C:\\Users\\ankush\\Anaconda3\\lib\\site-packages\\sklearn\\metrics\\pairwise.py:251: RuntimeWarning: invalid value encountered in maximum\n",
      "  np.maximum(distances, 0, out=distances)\n",
      "C:\\Users\\ankush\\Anaconda3\\lib\\site-packages\\sklearn\\cluster\\k_means_.py:126: RuntimeWarning: invalid value encountered in minimum\n",
      "  distance_to_candidates[trial])\n",
      "C:\\Users\\ankush\\Anaconda3\\lib\\site-packages\\sklearn\\metrics\\pairwise.py:249: RuntimeWarning: invalid value encountered in add\n",
      "  distances += XX\n",
      "C:\\Users\\ankush\\Anaconda3\\lib\\site-packages\\sklearn\\metrics\\pairwise.py:251: RuntimeWarning: invalid value encountered in maximum\n",
      "  np.maximum(distances, 0, out=distances)\n",
      "C:\\Users\\ankush\\Anaconda3\\lib\\site-packages\\sklearn\\cluster\\k_means_.py:126: RuntimeWarning: invalid value encountered in minimum\n",
      "  distance_to_candidates[trial])\n",
      "C:\\Users\\ankush\\Anaconda3\\lib\\site-packages\\sklearn\\metrics\\pairwise.py:249: RuntimeWarning: invalid value encountered in add\n",
      "  distances += XX\n",
      "C:\\Users\\ankush\\Anaconda3\\lib\\site-packages\\sklearn\\metrics\\pairwise.py:251: RuntimeWarning: invalid value encountered in maximum\n",
      "  np.maximum(distances, 0, out=distances)\n",
      "C:\\Users\\ankush\\Anaconda3\\lib\\site-packages\\sklearn\\cluster\\k_means_.py:126: RuntimeWarning: invalid value encountered in minimum\n",
      "  distance_to_candidates[trial])\n",
      "C:\\Users\\ankush\\Anaconda3\\lib\\site-packages\\sklearn\\metrics\\pairwise.py:249: RuntimeWarning: invalid value encountered in add\n",
      "  distances += XX\n",
      "C:\\Users\\ankush\\Anaconda3\\lib\\site-packages\\sklearn\\metrics\\pairwise.py:251: RuntimeWarning: invalid value encountered in maximum\n",
      "  np.maximum(distances, 0, out=distances)\n",
      "C:\\Users\\ankush\\Anaconda3\\lib\\site-packages\\sklearn\\cluster\\k_means_.py:126: RuntimeWarning: invalid value encountered in minimum\n",
      "  distance_to_candidates[trial])\n",
      "C:\\Users\\ankush\\Anaconda3\\lib\\site-packages\\sklearn\\metrics\\pairwise.py:249: RuntimeWarning: invalid value encountered in add\n",
      "  distances += XX\n",
      "C:\\Users\\ankush\\Anaconda3\\lib\\site-packages\\sklearn\\metrics\\pairwise.py:251: RuntimeWarning: invalid value encountered in maximum\n",
      "  np.maximum(distances, 0, out=distances)\n",
      "C:\\Users\\ankush\\Anaconda3\\lib\\site-packages\\sklearn\\cluster\\k_means_.py:444: RuntimeWarning: overflow encountered in square\n",
      "  max_iter=max_iter, verbose=verbose)\n",
      "C:\\Users\\ankush\\Anaconda3\\lib\\site-packages\\sklearn\\cluster\\k_means_.py:444: RuntimeWarning: invalid value encountered in subtract\n",
      "  max_iter=max_iter, verbose=verbose)\n",
      "C:\\Users\\ankush\\Anaconda3\\lib\\site-packages\\sklearn\\cluster\\k_means_.py:444: RuntimeWarning: invalid value encountered in maximum\n",
      "  max_iter=max_iter, verbose=verbose)\n",
      "C:\\Users\\ankush\\Anaconda3\\lib\\site-packages\\sklearn\\metrics\\pairwise.py:249: RuntimeWarning: invalid value encountered in add\n",
      "  distances += XX\n",
      "C:\\Users\\ankush\\Anaconda3\\lib\\site-packages\\sklearn\\metrics\\pairwise.py:251: RuntimeWarning: invalid value encountered in maximum\n",
      "  np.maximum(distances, 0, out=distances)\n",
      "C:\\Users\\ankush\\Anaconda3\\lib\\site-packages\\sklearn\\cluster\\k_means_.py:444: RuntimeWarning: invalid value encountered in maximum\n",
      "  max_iter=max_iter, verbose=verbose)\n",
      "C:\\Users\\ankush\\Anaconda3\\lib\\site-packages\\sklearn\\metrics\\pairwise.py:249: RuntimeWarning: invalid value encountered in add\n",
      "  distances += XX\n",
      "C:\\Users\\ankush\\Anaconda3\\lib\\site-packages\\sklearn\\metrics\\pairwise.py:251: RuntimeWarning: invalid value encountered in maximum\n",
      "  np.maximum(distances, 0, out=distances)\n",
      "C:\\Users\\ankush\\Anaconda3\\lib\\site-packages\\sklearn\\cluster\\k_means_.py:446: RuntimeWarning: overflow encountered in square\n",
      "  inertia = np.sum((X - centers[labels]) ** 2, dtype=np.float64)\n",
      "C:\\Users\\ankush\\Anaconda3\\lib\\site-packages\\sklearn\\metrics\\pairwise.py:249: RuntimeWarning: invalid value encountered in add\n",
      "  distances += XX\n",
      "C:\\Users\\ankush\\Anaconda3\\lib\\site-packages\\sklearn\\metrics\\pairwise.py:251: RuntimeWarning: invalid value encountered in maximum\n",
      "  np.maximum(distances, 0, out=distances)\n",
      "C:\\Users\\ankush\\Anaconda3\\lib\\site-packages\\sklearn\\metrics\\pairwise.py:249: RuntimeWarning: invalid value encountered in add\n",
      "  distances += XX\n",
      "C:\\Users\\ankush\\Anaconda3\\lib\\site-packages\\sklearn\\metrics\\pairwise.py:251: RuntimeWarning: invalid value encountered in maximum\n",
      "  np.maximum(distances, 0, out=distances)\n",
      "C:\\Users\\ankush\\Anaconda3\\lib\\site-packages\\sklearn\\cluster\\k_means_.py:126: RuntimeWarning: invalid value encountered in minimum\n",
      "  distance_to_candidates[trial])\n",
      "C:\\Users\\ankush\\Anaconda3\\lib\\site-packages\\sklearn\\metrics\\pairwise.py:249: RuntimeWarning: invalid value encountered in add\n",
      "  distances += XX\n",
      "C:\\Users\\ankush\\Anaconda3\\lib\\site-packages\\sklearn\\metrics\\pairwise.py:251: RuntimeWarning: invalid value encountered in maximum\n",
      "  np.maximum(distances, 0, out=distances)\n",
      "C:\\Users\\ankush\\Anaconda3\\lib\\site-packages\\sklearn\\cluster\\k_means_.py:126: RuntimeWarning: invalid value encountered in minimum\n",
      "  distance_to_candidates[trial])\n",
      "C:\\Users\\ankush\\Anaconda3\\lib\\site-packages\\sklearn\\metrics\\pairwise.py:249: RuntimeWarning: invalid value encountered in add\n",
      "  distances += XX\n",
      "C:\\Users\\ankush\\Anaconda3\\lib\\site-packages\\sklearn\\metrics\\pairwise.py:251: RuntimeWarning: invalid value encountered in maximum\n",
      "  np.maximum(distances, 0, out=distances)\n",
      "C:\\Users\\ankush\\Anaconda3\\lib\\site-packages\\sklearn\\cluster\\k_means_.py:126: RuntimeWarning: invalid value encountered in minimum\n",
      "  distance_to_candidates[trial])\n",
      "C:\\Users\\ankush\\Anaconda3\\lib\\site-packages\\sklearn\\metrics\\pairwise.py:249: RuntimeWarning: invalid value encountered in add\n",
      "  distances += XX\n",
      "C:\\Users\\ankush\\Anaconda3\\lib\\site-packages\\sklearn\\metrics\\pairwise.py:251: RuntimeWarning: invalid value encountered in maximum\n",
      "  np.maximum(distances, 0, out=distances)\n",
      "C:\\Users\\ankush\\Anaconda3\\lib\\site-packages\\sklearn\\cluster\\k_means_.py:126: RuntimeWarning: invalid value encountered in minimum\n",
      "  distance_to_candidates[trial])\n",
      "C:\\Users\\ankush\\Anaconda3\\lib\\site-packages\\sklearn\\metrics\\pairwise.py:249: RuntimeWarning: invalid value encountered in add\n",
      "  distances += XX\n",
      "C:\\Users\\ankush\\Anaconda3\\lib\\site-packages\\sklearn\\metrics\\pairwise.py:251: RuntimeWarning: invalid value encountered in maximum\n",
      "  np.maximum(distances, 0, out=distances)\n",
      "C:\\Users\\ankush\\Anaconda3\\lib\\site-packages\\sklearn\\cluster\\k_means_.py:444: RuntimeWarning: overflow encountered in square\n",
      "  max_iter=max_iter, verbose=verbose)\n",
      "C:\\Users\\ankush\\Anaconda3\\lib\\site-packages\\sklearn\\cluster\\k_means_.py:444: RuntimeWarning: invalid value encountered in subtract\n",
      "  max_iter=max_iter, verbose=verbose)\n",
      "C:\\Users\\ankush\\Anaconda3\\lib\\site-packages\\sklearn\\cluster\\k_means_.py:444: RuntimeWarning: invalid value encountered in maximum\n",
      "  max_iter=max_iter, verbose=verbose)\n",
      "C:\\Users\\ankush\\Anaconda3\\lib\\site-packages\\sklearn\\metrics\\pairwise.py:249: RuntimeWarning: invalid value encountered in add\n",
      "  distances += XX\n",
      "C:\\Users\\ankush\\Anaconda3\\lib\\site-packages\\sklearn\\metrics\\pairwise.py:251: RuntimeWarning: invalid value encountered in maximum\n",
      "  np.maximum(distances, 0, out=distances)\n",
      "C:\\Users\\ankush\\Anaconda3\\lib\\site-packages\\sklearn\\cluster\\k_means_.py:444: RuntimeWarning: invalid value encountered in maximum\n",
      "  max_iter=max_iter, verbose=verbose)\n",
      "C:\\Users\\ankush\\Anaconda3\\lib\\site-packages\\sklearn\\metrics\\pairwise.py:249: RuntimeWarning: invalid value encountered in add\n",
      "  distances += XX\n",
      "C:\\Users\\ankush\\Anaconda3\\lib\\site-packages\\sklearn\\metrics\\pairwise.py:251: RuntimeWarning: invalid value encountered in maximum\n",
      "  np.maximum(distances, 0, out=distances)\n",
      "C:\\Users\\ankush\\Anaconda3\\lib\\site-packages\\sklearn\\cluster\\k_means_.py:446: RuntimeWarning: overflow encountered in square\n",
      "  inertia = np.sum((X - centers[labels]) ** 2, dtype=np.float64)\n",
      "C:\\Users\\ankush\\Anaconda3\\lib\\site-packages\\sklearn\\metrics\\pairwise.py:249: RuntimeWarning: invalid value encountered in add\n",
      "  distances += XX\n"
     ]
    },
    {
     "name": "stderr",
     "output_type": "stream",
     "text": [
      "C:\\Users\\ankush\\Anaconda3\\lib\\site-packages\\sklearn\\metrics\\pairwise.py:251: RuntimeWarning: invalid value encountered in maximum\n",
      "  np.maximum(distances, 0, out=distances)\n",
      "C:\\Users\\ankush\\Anaconda3\\lib\\site-packages\\sklearn\\metrics\\pairwise.py:249: RuntimeWarning: invalid value encountered in add\n",
      "  distances += XX\n",
      "C:\\Users\\ankush\\Anaconda3\\lib\\site-packages\\sklearn\\metrics\\pairwise.py:251: RuntimeWarning: invalid value encountered in maximum\n",
      "  np.maximum(distances, 0, out=distances)\n",
      "C:\\Users\\ankush\\Anaconda3\\lib\\site-packages\\sklearn\\cluster\\k_means_.py:126: RuntimeWarning: invalid value encountered in minimum\n",
      "  distance_to_candidates[trial])\n",
      "C:\\Users\\ankush\\Anaconda3\\lib\\site-packages\\sklearn\\metrics\\pairwise.py:249: RuntimeWarning: invalid value encountered in add\n",
      "  distances += XX\n",
      "C:\\Users\\ankush\\Anaconda3\\lib\\site-packages\\sklearn\\metrics\\pairwise.py:251: RuntimeWarning: invalid value encountered in maximum\n",
      "  np.maximum(distances, 0, out=distances)\n",
      "C:\\Users\\ankush\\Anaconda3\\lib\\site-packages\\sklearn\\cluster\\k_means_.py:126: RuntimeWarning: invalid value encountered in minimum\n",
      "  distance_to_candidates[trial])\n",
      "C:\\Users\\ankush\\Anaconda3\\lib\\site-packages\\sklearn\\metrics\\pairwise.py:249: RuntimeWarning: invalid value encountered in add\n",
      "  distances += XX\n",
      "C:\\Users\\ankush\\Anaconda3\\lib\\site-packages\\sklearn\\metrics\\pairwise.py:251: RuntimeWarning: invalid value encountered in maximum\n",
      "  np.maximum(distances, 0, out=distances)\n",
      "C:\\Users\\ankush\\Anaconda3\\lib\\site-packages\\sklearn\\cluster\\k_means_.py:126: RuntimeWarning: invalid value encountered in minimum\n",
      "  distance_to_candidates[trial])\n",
      "C:\\Users\\ankush\\Anaconda3\\lib\\site-packages\\sklearn\\metrics\\pairwise.py:249: RuntimeWarning: invalid value encountered in add\n",
      "  distances += XX\n",
      "C:\\Users\\ankush\\Anaconda3\\lib\\site-packages\\sklearn\\metrics\\pairwise.py:251: RuntimeWarning: invalid value encountered in maximum\n",
      "  np.maximum(distances, 0, out=distances)\n",
      "C:\\Users\\ankush\\Anaconda3\\lib\\site-packages\\sklearn\\cluster\\k_means_.py:126: RuntimeWarning: invalid value encountered in minimum\n",
      "  distance_to_candidates[trial])\n",
      "C:\\Users\\ankush\\Anaconda3\\lib\\site-packages\\sklearn\\metrics\\pairwise.py:249: RuntimeWarning: invalid value encountered in add\n",
      "  distances += XX\n",
      "C:\\Users\\ankush\\Anaconda3\\lib\\site-packages\\sklearn\\metrics\\pairwise.py:251: RuntimeWarning: invalid value encountered in maximum\n",
      "  np.maximum(distances, 0, out=distances)\n",
      "C:\\Users\\ankush\\Anaconda3\\lib\\site-packages\\sklearn\\cluster\\k_means_.py:444: RuntimeWarning: overflow encountered in square\n",
      "  max_iter=max_iter, verbose=verbose)\n",
      "C:\\Users\\ankush\\Anaconda3\\lib\\site-packages\\sklearn\\cluster\\k_means_.py:444: RuntimeWarning: invalid value encountered in subtract\n",
      "  max_iter=max_iter, verbose=verbose)\n",
      "C:\\Users\\ankush\\Anaconda3\\lib\\site-packages\\sklearn\\cluster\\k_means_.py:444: RuntimeWarning: invalid value encountered in maximum\n",
      "  max_iter=max_iter, verbose=verbose)\n",
      "C:\\Users\\ankush\\Anaconda3\\lib\\site-packages\\sklearn\\metrics\\pairwise.py:249: RuntimeWarning: invalid value encountered in add\n",
      "  distances += XX\n",
      "C:\\Users\\ankush\\Anaconda3\\lib\\site-packages\\sklearn\\metrics\\pairwise.py:251: RuntimeWarning: invalid value encountered in maximum\n",
      "  np.maximum(distances, 0, out=distances)\n",
      "C:\\Users\\ankush\\Anaconda3\\lib\\site-packages\\sklearn\\cluster\\k_means_.py:444: RuntimeWarning: invalid value encountered in maximum\n",
      "  max_iter=max_iter, verbose=verbose)\n",
      "C:\\Users\\ankush\\Anaconda3\\lib\\site-packages\\sklearn\\metrics\\pairwise.py:249: RuntimeWarning: invalid value encountered in add\n",
      "  distances += XX\n",
      "C:\\Users\\ankush\\Anaconda3\\lib\\site-packages\\sklearn\\metrics\\pairwise.py:251: RuntimeWarning: invalid value encountered in maximum\n",
      "  np.maximum(distances, 0, out=distances)\n",
      "C:\\Users\\ankush\\Anaconda3\\lib\\site-packages\\sklearn\\cluster\\k_means_.py:446: RuntimeWarning: overflow encountered in square\n",
      "  inertia = np.sum((X - centers[labels]) ** 2, dtype=np.float64)\n",
      "C:\\Users\\ankush\\Anaconda3\\lib\\site-packages\\sklearn\\metrics\\pairwise.py:249: RuntimeWarning: invalid value encountered in add\n",
      "  distances += XX\n",
      "C:\\Users\\ankush\\Anaconda3\\lib\\site-packages\\sklearn\\metrics\\pairwise.py:251: RuntimeWarning: invalid value encountered in maximum\n",
      "  np.maximum(distances, 0, out=distances)\n",
      "C:\\Users\\ankush\\Anaconda3\\lib\\site-packages\\sklearn\\metrics\\pairwise.py:249: RuntimeWarning: invalid value encountered in add\n",
      "  distances += XX\n",
      "C:\\Users\\ankush\\Anaconda3\\lib\\site-packages\\sklearn\\metrics\\pairwise.py:251: RuntimeWarning: invalid value encountered in maximum\n",
      "  np.maximum(distances, 0, out=distances)\n",
      "C:\\Users\\ankush\\Anaconda3\\lib\\site-packages\\sklearn\\cluster\\k_means_.py:126: RuntimeWarning: invalid value encountered in minimum\n",
      "  distance_to_candidates[trial])\n",
      "C:\\Users\\ankush\\Anaconda3\\lib\\site-packages\\sklearn\\metrics\\pairwise.py:249: RuntimeWarning: invalid value encountered in add\n",
      "  distances += XX\n",
      "C:\\Users\\ankush\\Anaconda3\\lib\\site-packages\\sklearn\\metrics\\pairwise.py:251: RuntimeWarning: invalid value encountered in maximum\n",
      "  np.maximum(distances, 0, out=distances)\n",
      "C:\\Users\\ankush\\Anaconda3\\lib\\site-packages\\sklearn\\cluster\\k_means_.py:126: RuntimeWarning: invalid value encountered in minimum\n",
      "  distance_to_candidates[trial])\n",
      "C:\\Users\\ankush\\Anaconda3\\lib\\site-packages\\sklearn\\metrics\\pairwise.py:249: RuntimeWarning: invalid value encountered in add\n",
      "  distances += XX\n",
      "C:\\Users\\ankush\\Anaconda3\\lib\\site-packages\\sklearn\\metrics\\pairwise.py:251: RuntimeWarning: invalid value encountered in maximum\n",
      "  np.maximum(distances, 0, out=distances)\n",
      "C:\\Users\\ankush\\Anaconda3\\lib\\site-packages\\sklearn\\cluster\\k_means_.py:126: RuntimeWarning: invalid value encountered in minimum\n",
      "  distance_to_candidates[trial])\n",
      "C:\\Users\\ankush\\Anaconda3\\lib\\site-packages\\sklearn\\metrics\\pairwise.py:249: RuntimeWarning: invalid value encountered in add\n",
      "  distances += XX\n",
      "C:\\Users\\ankush\\Anaconda3\\lib\\site-packages\\sklearn\\metrics\\pairwise.py:251: RuntimeWarning: invalid value encountered in maximum\n",
      "  np.maximum(distances, 0, out=distances)\n",
      "C:\\Users\\ankush\\Anaconda3\\lib\\site-packages\\sklearn\\cluster\\k_means_.py:126: RuntimeWarning: invalid value encountered in minimum\n",
      "  distance_to_candidates[trial])\n",
      "C:\\Users\\ankush\\Anaconda3\\lib\\site-packages\\sklearn\\metrics\\pairwise.py:249: RuntimeWarning: invalid value encountered in add\n",
      "  distances += XX\n",
      "C:\\Users\\ankush\\Anaconda3\\lib\\site-packages\\sklearn\\metrics\\pairwise.py:251: RuntimeWarning: invalid value encountered in maximum\n",
      "  np.maximum(distances, 0, out=distances)\n",
      "C:\\Users\\ankush\\Anaconda3\\lib\\site-packages\\sklearn\\cluster\\k_means_.py:444: RuntimeWarning: overflow encountered in square\n",
      "  max_iter=max_iter, verbose=verbose)\n",
      "C:\\Users\\ankush\\Anaconda3\\lib\\site-packages\\sklearn\\cluster\\k_means_.py:444: RuntimeWarning: invalid value encountered in subtract\n",
      "  max_iter=max_iter, verbose=verbose)\n",
      "C:\\Users\\ankush\\Anaconda3\\lib\\site-packages\\sklearn\\cluster\\k_means_.py:444: RuntimeWarning: invalid value encountered in maximum\n",
      "  max_iter=max_iter, verbose=verbose)\n",
      "C:\\Users\\ankush\\Anaconda3\\lib\\site-packages\\sklearn\\metrics\\pairwise.py:249: RuntimeWarning: invalid value encountered in add\n",
      "  distances += XX\n",
      "C:\\Users\\ankush\\Anaconda3\\lib\\site-packages\\sklearn\\metrics\\pairwise.py:251: RuntimeWarning: invalid value encountered in maximum\n",
      "  np.maximum(distances, 0, out=distances)\n",
      "C:\\Users\\ankush\\Anaconda3\\lib\\site-packages\\sklearn\\cluster\\k_means_.py:444: RuntimeWarning: invalid value encountered in maximum\n",
      "  max_iter=max_iter, verbose=verbose)\n",
      "C:\\Users\\ankush\\Anaconda3\\lib\\site-packages\\sklearn\\metrics\\pairwise.py:249: RuntimeWarning: invalid value encountered in add\n",
      "  distances += XX\n",
      "C:\\Users\\ankush\\Anaconda3\\lib\\site-packages\\sklearn\\metrics\\pairwise.py:251: RuntimeWarning: invalid value encountered in maximum\n",
      "  np.maximum(distances, 0, out=distances)\n",
      "C:\\Users\\ankush\\Anaconda3\\lib\\site-packages\\sklearn\\cluster\\k_means_.py:446: RuntimeWarning: overflow encountered in square\n",
      "  inertia = np.sum((X - centers[labels]) ** 2, dtype=np.float64)\n",
      "C:\\Users\\ankush\\Anaconda3\\lib\\site-packages\\sklearn\\metrics\\pairwise.py:249: RuntimeWarning: invalid value encountered in add\n",
      "  distances += XX\n",
      "C:\\Users\\ankush\\Anaconda3\\lib\\site-packages\\sklearn\\metrics\\pairwise.py:251: RuntimeWarning: invalid value encountered in maximum\n",
      "  np.maximum(distances, 0, out=distances)\n"
     ]
    },
    {
     "name": "stderr",
     "output_type": "stream",
     "text": [
      "C:\\Users\\ankush\\Anaconda3\\lib\\site-packages\\sklearn\\metrics\\pairwise.py:249: RuntimeWarning: invalid value encountered in add\n",
      "  distances += XX\n",
      "C:\\Users\\ankush\\Anaconda3\\lib\\site-packages\\sklearn\\metrics\\pairwise.py:251: RuntimeWarning: invalid value encountered in maximum\n",
      "  np.maximum(distances, 0, out=distances)\n",
      "C:\\Users\\ankush\\Anaconda3\\lib\\site-packages\\sklearn\\cluster\\k_means_.py:126: RuntimeWarning: invalid value encountered in minimum\n",
      "  distance_to_candidates[trial])\n",
      "C:\\Users\\ankush\\Anaconda3\\lib\\site-packages\\sklearn\\metrics\\pairwise.py:249: RuntimeWarning: invalid value encountered in add\n",
      "  distances += XX\n",
      "C:\\Users\\ankush\\Anaconda3\\lib\\site-packages\\sklearn\\metrics\\pairwise.py:251: RuntimeWarning: invalid value encountered in maximum\n",
      "  np.maximum(distances, 0, out=distances)\n",
      "C:\\Users\\ankush\\Anaconda3\\lib\\site-packages\\sklearn\\cluster\\k_means_.py:126: RuntimeWarning: invalid value encountered in minimum\n",
      "  distance_to_candidates[trial])\n",
      "C:\\Users\\ankush\\Anaconda3\\lib\\site-packages\\sklearn\\metrics\\pairwise.py:249: RuntimeWarning: invalid value encountered in add\n",
      "  distances += XX\n",
      "C:\\Users\\ankush\\Anaconda3\\lib\\site-packages\\sklearn\\metrics\\pairwise.py:251: RuntimeWarning: invalid value encountered in maximum\n",
      "  np.maximum(distances, 0, out=distances)\n",
      "C:\\Users\\ankush\\Anaconda3\\lib\\site-packages\\sklearn\\cluster\\k_means_.py:126: RuntimeWarning: invalid value encountered in minimum\n",
      "  distance_to_candidates[trial])\n",
      "C:\\Users\\ankush\\Anaconda3\\lib\\site-packages\\sklearn\\metrics\\pairwise.py:249: RuntimeWarning: invalid value encountered in add\n",
      "  distances += XX\n",
      "C:\\Users\\ankush\\Anaconda3\\lib\\site-packages\\sklearn\\metrics\\pairwise.py:251: RuntimeWarning: invalid value encountered in maximum\n",
      "  np.maximum(distances, 0, out=distances)\n",
      "C:\\Users\\ankush\\Anaconda3\\lib\\site-packages\\sklearn\\cluster\\k_means_.py:126: RuntimeWarning: invalid value encountered in minimum\n",
      "  distance_to_candidates[trial])\n",
      "C:\\Users\\ankush\\Anaconda3\\lib\\site-packages\\sklearn\\metrics\\pairwise.py:249: RuntimeWarning: invalid value encountered in add\n",
      "  distances += XX\n",
      "C:\\Users\\ankush\\Anaconda3\\lib\\site-packages\\sklearn\\metrics\\pairwise.py:251: RuntimeWarning: invalid value encountered in maximum\n",
      "  np.maximum(distances, 0, out=distances)\n",
      "C:\\Users\\ankush\\Anaconda3\\lib\\site-packages\\sklearn\\cluster\\k_means_.py:444: RuntimeWarning: overflow encountered in square\n",
      "  max_iter=max_iter, verbose=verbose)\n",
      "C:\\Users\\ankush\\Anaconda3\\lib\\site-packages\\sklearn\\cluster\\k_means_.py:444: RuntimeWarning: invalid value encountered in subtract\n",
      "  max_iter=max_iter, verbose=verbose)\n",
      "C:\\Users\\ankush\\Anaconda3\\lib\\site-packages\\sklearn\\cluster\\k_means_.py:444: RuntimeWarning: invalid value encountered in maximum\n",
      "  max_iter=max_iter, verbose=verbose)\n",
      "C:\\Users\\ankush\\Anaconda3\\lib\\site-packages\\sklearn\\metrics\\pairwise.py:249: RuntimeWarning: invalid value encountered in add\n",
      "  distances += XX\n",
      "C:\\Users\\ankush\\Anaconda3\\lib\\site-packages\\sklearn\\metrics\\pairwise.py:251: RuntimeWarning: invalid value encountered in maximum\n",
      "  np.maximum(distances, 0, out=distances)\n",
      "C:\\Users\\ankush\\Anaconda3\\lib\\site-packages\\sklearn\\cluster\\k_means_.py:444: RuntimeWarning: invalid value encountered in maximum\n",
      "  max_iter=max_iter, verbose=verbose)\n",
      "C:\\Users\\ankush\\Anaconda3\\lib\\site-packages\\sklearn\\metrics\\pairwise.py:249: RuntimeWarning: invalid value encountered in add\n",
      "  distances += XX\n",
      "C:\\Users\\ankush\\Anaconda3\\lib\\site-packages\\sklearn\\metrics\\pairwise.py:251: RuntimeWarning: invalid value encountered in maximum\n",
      "  np.maximum(distances, 0, out=distances)\n",
      "C:\\Users\\ankush\\Anaconda3\\lib\\site-packages\\sklearn\\cluster\\k_means_.py:446: RuntimeWarning: overflow encountered in square\n",
      "  inertia = np.sum((X - centers[labels]) ** 2, dtype=np.float64)\n",
      "C:\\Users\\ankush\\Anaconda3\\lib\\site-packages\\sklearn\\metrics\\pairwise.py:249: RuntimeWarning: invalid value encountered in add\n",
      "  distances += XX\n",
      "C:\\Users\\ankush\\Anaconda3\\lib\\site-packages\\sklearn\\metrics\\pairwise.py:251: RuntimeWarning: invalid value encountered in maximum\n",
      "  np.maximum(distances, 0, out=distances)\n",
      "C:\\Users\\ankush\\Anaconda3\\lib\\site-packages\\sklearn\\metrics\\pairwise.py:249: RuntimeWarning: invalid value encountered in add\n",
      "  distances += XX\n",
      "C:\\Users\\ankush\\Anaconda3\\lib\\site-packages\\sklearn\\metrics\\pairwise.py:251: RuntimeWarning: invalid value encountered in maximum\n",
      "  np.maximum(distances, 0, out=distances)\n",
      "C:\\Users\\ankush\\Anaconda3\\lib\\site-packages\\sklearn\\cluster\\k_means_.py:126: RuntimeWarning: invalid value encountered in minimum\n",
      "  distance_to_candidates[trial])\n",
      "C:\\Users\\ankush\\Anaconda3\\lib\\site-packages\\sklearn\\metrics\\pairwise.py:249: RuntimeWarning: invalid value encountered in add\n",
      "  distances += XX\n",
      "C:\\Users\\ankush\\Anaconda3\\lib\\site-packages\\sklearn\\metrics\\pairwise.py:251: RuntimeWarning: invalid value encountered in maximum\n",
      "  np.maximum(distances, 0, out=distances)\n",
      "C:\\Users\\ankush\\Anaconda3\\lib\\site-packages\\sklearn\\cluster\\k_means_.py:126: RuntimeWarning: invalid value encountered in minimum\n",
      "  distance_to_candidates[trial])\n",
      "C:\\Users\\ankush\\Anaconda3\\lib\\site-packages\\sklearn\\metrics\\pairwise.py:249: RuntimeWarning: invalid value encountered in add\n",
      "  distances += XX\n",
      "C:\\Users\\ankush\\Anaconda3\\lib\\site-packages\\sklearn\\metrics\\pairwise.py:251: RuntimeWarning: invalid value encountered in maximum\n",
      "  np.maximum(distances, 0, out=distances)\n",
      "C:\\Users\\ankush\\Anaconda3\\lib\\site-packages\\sklearn\\cluster\\k_means_.py:126: RuntimeWarning: invalid value encountered in minimum\n",
      "  distance_to_candidates[trial])\n",
      "C:\\Users\\ankush\\Anaconda3\\lib\\site-packages\\sklearn\\metrics\\pairwise.py:249: RuntimeWarning: invalid value encountered in add\n",
      "  distances += XX\n",
      "C:\\Users\\ankush\\Anaconda3\\lib\\site-packages\\sklearn\\metrics\\pairwise.py:251: RuntimeWarning: invalid value encountered in maximum\n",
      "  np.maximum(distances, 0, out=distances)\n",
      "C:\\Users\\ankush\\Anaconda3\\lib\\site-packages\\sklearn\\cluster\\k_means_.py:126: RuntimeWarning: invalid value encountered in minimum\n",
      "  distance_to_candidates[trial])\n",
      "C:\\Users\\ankush\\Anaconda3\\lib\\site-packages\\sklearn\\metrics\\pairwise.py:249: RuntimeWarning: invalid value encountered in add\n",
      "  distances += XX\n",
      "C:\\Users\\ankush\\Anaconda3\\lib\\site-packages\\sklearn\\metrics\\pairwise.py:251: RuntimeWarning: invalid value encountered in maximum\n",
      "  np.maximum(distances, 0, out=distances)\n",
      "C:\\Users\\ankush\\Anaconda3\\lib\\site-packages\\sklearn\\cluster\\k_means_.py:444: RuntimeWarning: overflow encountered in square\n",
      "  max_iter=max_iter, verbose=verbose)\n",
      "C:\\Users\\ankush\\Anaconda3\\lib\\site-packages\\sklearn\\cluster\\k_means_.py:444: RuntimeWarning: invalid value encountered in subtract\n",
      "  max_iter=max_iter, verbose=verbose)\n",
      "C:\\Users\\ankush\\Anaconda3\\lib\\site-packages\\sklearn\\cluster\\k_means_.py:444: RuntimeWarning: invalid value encountered in maximum\n",
      "  max_iter=max_iter, verbose=verbose)\n",
      "C:\\Users\\ankush\\Anaconda3\\lib\\site-packages\\sklearn\\metrics\\pairwise.py:249: RuntimeWarning: invalid value encountered in add\n",
      "  distances += XX\n",
      "C:\\Users\\ankush\\Anaconda3\\lib\\site-packages\\sklearn\\metrics\\pairwise.py:251: RuntimeWarning: invalid value encountered in maximum\n",
      "  np.maximum(distances, 0, out=distances)\n",
      "C:\\Users\\ankush\\Anaconda3\\lib\\site-packages\\sklearn\\cluster\\k_means_.py:444: RuntimeWarning: invalid value encountered in maximum\n",
      "  max_iter=max_iter, verbose=verbose)\n",
      "C:\\Users\\ankush\\Anaconda3\\lib\\site-packages\\sklearn\\metrics\\pairwise.py:249: RuntimeWarning: invalid value encountered in add\n",
      "  distances += XX\n",
      "C:\\Users\\ankush\\Anaconda3\\lib\\site-packages\\sklearn\\metrics\\pairwise.py:251: RuntimeWarning: invalid value encountered in maximum\n",
      "  np.maximum(distances, 0, out=distances)\n",
      "C:\\Users\\ankush\\Anaconda3\\lib\\site-packages\\sklearn\\cluster\\k_means_.py:446: RuntimeWarning: overflow encountered in square\n",
      "  inertia = np.sum((X - centers[labels]) ** 2, dtype=np.float64)\n",
      "C:\\Users\\ankush\\Anaconda3\\lib\\site-packages\\sklearn\\cluster\\spectral.py:268: ConvergenceWarning: Number of distinct clusters (1) found smaller than n_clusters (5). Possibly due to duplicate points in X.\n",
      "  n_init=n_init)\n",
      "C:\\Users\\ankush\\Anaconda3\\lib\\site-packages\\sklearn\\manifold\\spectral_embedding_.py:237: UserWarning: Graph is not fully connected, spectral embedding may not work as expected.\n",
      "  warnings.warn(\"Graph is not fully connected, spectral embedding\"\n"
     ]
    },
    {
     "name": "stderr",
     "output_type": "stream",
     "text": [
      "C:\\Users\\ankush\\Anaconda3\\lib\\site-packages\\numpy\\core\\_methods.py:116: RuntimeWarning: overflow encountered in multiply\n",
      "  x = um.multiply(x, x, out=x)\n",
      "C:\\Users\\ankush\\Anaconda3\\lib\\site-packages\\sklearn\\metrics\\pairwise.py:249: RuntimeWarning: invalid value encountered in add\n",
      "  distances += XX\n",
      "C:\\Users\\ankush\\Anaconda3\\lib\\site-packages\\sklearn\\metrics\\pairwise.py:251: RuntimeWarning: invalid value encountered in maximum\n",
      "  np.maximum(distances, 0, out=distances)\n",
      "C:\\Users\\ankush\\Anaconda3\\lib\\site-packages\\sklearn\\metrics\\pairwise.py:249: RuntimeWarning: invalid value encountered in add\n",
      "  distances += XX\n",
      "C:\\Users\\ankush\\Anaconda3\\lib\\site-packages\\sklearn\\metrics\\pairwise.py:251: RuntimeWarning: invalid value encountered in maximum\n",
      "  np.maximum(distances, 0, out=distances)\n",
      "C:\\Users\\ankush\\Anaconda3\\lib\\site-packages\\sklearn\\cluster\\k_means_.py:126: RuntimeWarning: invalid value encountered in minimum\n",
      "  distance_to_candidates[trial])\n",
      "C:\\Users\\ankush\\Anaconda3\\lib\\site-packages\\sklearn\\metrics\\pairwise.py:249: RuntimeWarning: invalid value encountered in add\n",
      "  distances += XX\n",
      "C:\\Users\\ankush\\Anaconda3\\lib\\site-packages\\sklearn\\metrics\\pairwise.py:251: RuntimeWarning: invalid value encountered in maximum\n",
      "  np.maximum(distances, 0, out=distances)\n",
      "C:\\Users\\ankush\\Anaconda3\\lib\\site-packages\\sklearn\\cluster\\k_means_.py:126: RuntimeWarning: invalid value encountered in minimum\n",
      "  distance_to_candidates[trial])\n",
      "C:\\Users\\ankush\\Anaconda3\\lib\\site-packages\\sklearn\\metrics\\pairwise.py:249: RuntimeWarning: invalid value encountered in add\n",
      "  distances += XX\n",
      "C:\\Users\\ankush\\Anaconda3\\lib\\site-packages\\sklearn\\metrics\\pairwise.py:251: RuntimeWarning: invalid value encountered in maximum\n",
      "  np.maximum(distances, 0, out=distances)\n",
      "C:\\Users\\ankush\\Anaconda3\\lib\\site-packages\\sklearn\\cluster\\k_means_.py:126: RuntimeWarning: invalid value encountered in minimum\n",
      "  distance_to_candidates[trial])\n",
      "C:\\Users\\ankush\\Anaconda3\\lib\\site-packages\\sklearn\\metrics\\pairwise.py:249: RuntimeWarning: invalid value encountered in add\n",
      "  distances += XX\n",
      "C:\\Users\\ankush\\Anaconda3\\lib\\site-packages\\sklearn\\metrics\\pairwise.py:251: RuntimeWarning: invalid value encountered in maximum\n",
      "  np.maximum(distances, 0, out=distances)\n",
      "C:\\Users\\ankush\\Anaconda3\\lib\\site-packages\\sklearn\\cluster\\k_means_.py:126: RuntimeWarning: invalid value encountered in minimum\n",
      "  distance_to_candidates[trial])\n",
      "C:\\Users\\ankush\\Anaconda3\\lib\\site-packages\\sklearn\\metrics\\pairwise.py:249: RuntimeWarning: invalid value encountered in add\n",
      "  distances += XX\n",
      "C:\\Users\\ankush\\Anaconda3\\lib\\site-packages\\sklearn\\metrics\\pairwise.py:251: RuntimeWarning: invalid value encountered in maximum\n",
      "  np.maximum(distances, 0, out=distances)\n",
      "C:\\Users\\ankush\\Anaconda3\\lib\\site-packages\\sklearn\\cluster\\k_means_.py:444: RuntimeWarning: overflow encountered in square\n",
      "  max_iter=max_iter, verbose=verbose)\n",
      "C:\\Users\\ankush\\Anaconda3\\lib\\site-packages\\sklearn\\cluster\\k_means_.py:444: RuntimeWarning: invalid value encountered in subtract\n",
      "  max_iter=max_iter, verbose=verbose)\n",
      "C:\\Users\\ankush\\Anaconda3\\lib\\site-packages\\sklearn\\cluster\\k_means_.py:444: RuntimeWarning: invalid value encountered in maximum\n",
      "  max_iter=max_iter, verbose=verbose)\n",
      "C:\\Users\\ankush\\Anaconda3\\lib\\site-packages\\sklearn\\metrics\\pairwise.py:249: RuntimeWarning: invalid value encountered in add\n",
      "  distances += XX\n",
      "C:\\Users\\ankush\\Anaconda3\\lib\\site-packages\\sklearn\\metrics\\pairwise.py:251: RuntimeWarning: invalid value encountered in maximum\n",
      "  np.maximum(distances, 0, out=distances)\n",
      "C:\\Users\\ankush\\Anaconda3\\lib\\site-packages\\sklearn\\cluster\\k_means_.py:444: RuntimeWarning: invalid value encountered in maximum\n",
      "  max_iter=max_iter, verbose=verbose)\n",
      "C:\\Users\\ankush\\Anaconda3\\lib\\site-packages\\sklearn\\metrics\\pairwise.py:249: RuntimeWarning: invalid value encountered in add\n",
      "  distances += XX\n",
      "C:\\Users\\ankush\\Anaconda3\\lib\\site-packages\\sklearn\\metrics\\pairwise.py:251: RuntimeWarning: invalid value encountered in maximum\n",
      "  np.maximum(distances, 0, out=distances)\n",
      "C:\\Users\\ankush\\Anaconda3\\lib\\site-packages\\sklearn\\cluster\\k_means_.py:446: RuntimeWarning: overflow encountered in square\n",
      "  inertia = np.sum((X - centers[labels]) ** 2, dtype=np.float64)\n",
      "C:\\Users\\ankush\\Anaconda3\\lib\\site-packages\\sklearn\\metrics\\pairwise.py:249: RuntimeWarning: invalid value encountered in add\n",
      "  distances += XX\n",
      "C:\\Users\\ankush\\Anaconda3\\lib\\site-packages\\sklearn\\metrics\\pairwise.py:251: RuntimeWarning: invalid value encountered in maximum\n",
      "  np.maximum(distances, 0, out=distances)\n",
      "C:\\Users\\ankush\\Anaconda3\\lib\\site-packages\\sklearn\\metrics\\pairwise.py:249: RuntimeWarning: invalid value encountered in add\n",
      "  distances += XX\n",
      "C:\\Users\\ankush\\Anaconda3\\lib\\site-packages\\sklearn\\metrics\\pairwise.py:251: RuntimeWarning: invalid value encountered in maximum\n",
      "  np.maximum(distances, 0, out=distances)\n",
      "C:\\Users\\ankush\\Anaconda3\\lib\\site-packages\\sklearn\\cluster\\k_means_.py:126: RuntimeWarning: invalid value encountered in minimum\n",
      "  distance_to_candidates[trial])\n",
      "C:\\Users\\ankush\\Anaconda3\\lib\\site-packages\\sklearn\\metrics\\pairwise.py:249: RuntimeWarning: invalid value encountered in add\n",
      "  distances += XX\n",
      "C:\\Users\\ankush\\Anaconda3\\lib\\site-packages\\sklearn\\metrics\\pairwise.py:251: RuntimeWarning: invalid value encountered in maximum\n",
      "  np.maximum(distances, 0, out=distances)\n",
      "C:\\Users\\ankush\\Anaconda3\\lib\\site-packages\\sklearn\\cluster\\k_means_.py:126: RuntimeWarning: invalid value encountered in minimum\n",
      "  distance_to_candidates[trial])\n",
      "C:\\Users\\ankush\\Anaconda3\\lib\\site-packages\\sklearn\\metrics\\pairwise.py:249: RuntimeWarning: invalid value encountered in add\n",
      "  distances += XX\n",
      "C:\\Users\\ankush\\Anaconda3\\lib\\site-packages\\sklearn\\metrics\\pairwise.py:251: RuntimeWarning: invalid value encountered in maximum\n",
      "  np.maximum(distances, 0, out=distances)\n",
      "C:\\Users\\ankush\\Anaconda3\\lib\\site-packages\\sklearn\\cluster\\k_means_.py:126: RuntimeWarning: invalid value encountered in minimum\n",
      "  distance_to_candidates[trial])\n",
      "C:\\Users\\ankush\\Anaconda3\\lib\\site-packages\\sklearn\\metrics\\pairwise.py:249: RuntimeWarning: invalid value encountered in add\n",
      "  distances += XX\n",
      "C:\\Users\\ankush\\Anaconda3\\lib\\site-packages\\sklearn\\metrics\\pairwise.py:251: RuntimeWarning: invalid value encountered in maximum\n",
      "  np.maximum(distances, 0, out=distances)\n",
      "C:\\Users\\ankush\\Anaconda3\\lib\\site-packages\\sklearn\\cluster\\k_means_.py:126: RuntimeWarning: invalid value encountered in minimum\n",
      "  distance_to_candidates[trial])\n",
      "C:\\Users\\ankush\\Anaconda3\\lib\\site-packages\\sklearn\\metrics\\pairwise.py:249: RuntimeWarning: invalid value encountered in add\n",
      "  distances += XX\n",
      "C:\\Users\\ankush\\Anaconda3\\lib\\site-packages\\sklearn\\metrics\\pairwise.py:251: RuntimeWarning: invalid value encountered in maximum\n",
      "  np.maximum(distances, 0, out=distances)\n",
      "C:\\Users\\ankush\\Anaconda3\\lib\\site-packages\\sklearn\\cluster\\k_means_.py:444: RuntimeWarning: overflow encountered in square\n",
      "  max_iter=max_iter, verbose=verbose)\n",
      "C:\\Users\\ankush\\Anaconda3\\lib\\site-packages\\sklearn\\cluster\\k_means_.py:444: RuntimeWarning: invalid value encountered in subtract\n",
      "  max_iter=max_iter, verbose=verbose)\n",
      "C:\\Users\\ankush\\Anaconda3\\lib\\site-packages\\sklearn\\cluster\\k_means_.py:444: RuntimeWarning: invalid value encountered in maximum\n",
      "  max_iter=max_iter, verbose=verbose)\n",
      "C:\\Users\\ankush\\Anaconda3\\lib\\site-packages\\sklearn\\metrics\\pairwise.py:249: RuntimeWarning: invalid value encountered in add\n",
      "  distances += XX\n",
      "C:\\Users\\ankush\\Anaconda3\\lib\\site-packages\\sklearn\\metrics\\pairwise.py:251: RuntimeWarning: invalid value encountered in maximum\n",
      "  np.maximum(distances, 0, out=distances)\n",
      "C:\\Users\\ankush\\Anaconda3\\lib\\site-packages\\sklearn\\cluster\\k_means_.py:444: RuntimeWarning: invalid value encountered in maximum\n",
      "  max_iter=max_iter, verbose=verbose)\n",
      "C:\\Users\\ankush\\Anaconda3\\lib\\site-packages\\sklearn\\metrics\\pairwise.py:249: RuntimeWarning: invalid value encountered in add\n",
      "  distances += XX\n",
      "C:\\Users\\ankush\\Anaconda3\\lib\\site-packages\\sklearn\\metrics\\pairwise.py:251: RuntimeWarning: invalid value encountered in maximum\n",
      "  np.maximum(distances, 0, out=distances)\n",
      "C:\\Users\\ankush\\Anaconda3\\lib\\site-packages\\sklearn\\cluster\\k_means_.py:446: RuntimeWarning: overflow encountered in square\n",
      "  inertia = np.sum((X - centers[labels]) ** 2, dtype=np.float64)\n"
     ]
    },
    {
     "name": "stderr",
     "output_type": "stream",
     "text": [
      "C:\\Users\\ankush\\Anaconda3\\lib\\site-packages\\sklearn\\metrics\\pairwise.py:249: RuntimeWarning: invalid value encountered in add\n",
      "  distances += XX\n",
      "C:\\Users\\ankush\\Anaconda3\\lib\\site-packages\\sklearn\\metrics\\pairwise.py:251: RuntimeWarning: invalid value encountered in maximum\n",
      "  np.maximum(distances, 0, out=distances)\n",
      "C:\\Users\\ankush\\Anaconda3\\lib\\site-packages\\sklearn\\metrics\\pairwise.py:249: RuntimeWarning: invalid value encountered in add\n",
      "  distances += XX\n",
      "C:\\Users\\ankush\\Anaconda3\\lib\\site-packages\\sklearn\\metrics\\pairwise.py:251: RuntimeWarning: invalid value encountered in maximum\n",
      "  np.maximum(distances, 0, out=distances)\n",
      "C:\\Users\\ankush\\Anaconda3\\lib\\site-packages\\sklearn\\cluster\\k_means_.py:126: RuntimeWarning: invalid value encountered in minimum\n",
      "  distance_to_candidates[trial])\n",
      "C:\\Users\\ankush\\Anaconda3\\lib\\site-packages\\sklearn\\metrics\\pairwise.py:249: RuntimeWarning: invalid value encountered in add\n",
      "  distances += XX\n",
      "C:\\Users\\ankush\\Anaconda3\\lib\\site-packages\\sklearn\\metrics\\pairwise.py:251: RuntimeWarning: invalid value encountered in maximum\n",
      "  np.maximum(distances, 0, out=distances)\n",
      "C:\\Users\\ankush\\Anaconda3\\lib\\site-packages\\sklearn\\cluster\\k_means_.py:126: RuntimeWarning: invalid value encountered in minimum\n",
      "  distance_to_candidates[trial])\n",
      "C:\\Users\\ankush\\Anaconda3\\lib\\site-packages\\sklearn\\metrics\\pairwise.py:249: RuntimeWarning: invalid value encountered in add\n",
      "  distances += XX\n",
      "C:\\Users\\ankush\\Anaconda3\\lib\\site-packages\\sklearn\\metrics\\pairwise.py:251: RuntimeWarning: invalid value encountered in maximum\n",
      "  np.maximum(distances, 0, out=distances)\n",
      "C:\\Users\\ankush\\Anaconda3\\lib\\site-packages\\sklearn\\cluster\\k_means_.py:126: RuntimeWarning: invalid value encountered in minimum\n",
      "  distance_to_candidates[trial])\n",
      "C:\\Users\\ankush\\Anaconda3\\lib\\site-packages\\sklearn\\metrics\\pairwise.py:249: RuntimeWarning: invalid value encountered in add\n",
      "  distances += XX\n",
      "C:\\Users\\ankush\\Anaconda3\\lib\\site-packages\\sklearn\\metrics\\pairwise.py:251: RuntimeWarning: invalid value encountered in maximum\n",
      "  np.maximum(distances, 0, out=distances)\n",
      "C:\\Users\\ankush\\Anaconda3\\lib\\site-packages\\sklearn\\cluster\\k_means_.py:126: RuntimeWarning: invalid value encountered in minimum\n",
      "  distance_to_candidates[trial])\n",
      "C:\\Users\\ankush\\Anaconda3\\lib\\site-packages\\sklearn\\metrics\\pairwise.py:249: RuntimeWarning: invalid value encountered in add\n",
      "  distances += XX\n",
      "C:\\Users\\ankush\\Anaconda3\\lib\\site-packages\\sklearn\\metrics\\pairwise.py:251: RuntimeWarning: invalid value encountered in maximum\n",
      "  np.maximum(distances, 0, out=distances)\n",
      "C:\\Users\\ankush\\Anaconda3\\lib\\site-packages\\sklearn\\cluster\\k_means_.py:444: RuntimeWarning: overflow encountered in square\n",
      "  max_iter=max_iter, verbose=verbose)\n",
      "C:\\Users\\ankush\\Anaconda3\\lib\\site-packages\\sklearn\\cluster\\k_means_.py:444: RuntimeWarning: invalid value encountered in subtract\n",
      "  max_iter=max_iter, verbose=verbose)\n",
      "C:\\Users\\ankush\\Anaconda3\\lib\\site-packages\\sklearn\\cluster\\k_means_.py:444: RuntimeWarning: invalid value encountered in maximum\n",
      "  max_iter=max_iter, verbose=verbose)\n",
      "C:\\Users\\ankush\\Anaconda3\\lib\\site-packages\\sklearn\\metrics\\pairwise.py:249: RuntimeWarning: invalid value encountered in add\n",
      "  distances += XX\n",
      "C:\\Users\\ankush\\Anaconda3\\lib\\site-packages\\sklearn\\metrics\\pairwise.py:251: RuntimeWarning: invalid value encountered in maximum\n",
      "  np.maximum(distances, 0, out=distances)\n",
      "C:\\Users\\ankush\\Anaconda3\\lib\\site-packages\\sklearn\\cluster\\k_means_.py:444: RuntimeWarning: invalid value encountered in maximum\n",
      "  max_iter=max_iter, verbose=verbose)\n",
      "C:\\Users\\ankush\\Anaconda3\\lib\\site-packages\\sklearn\\metrics\\pairwise.py:249: RuntimeWarning: invalid value encountered in add\n",
      "  distances += XX\n",
      "C:\\Users\\ankush\\Anaconda3\\lib\\site-packages\\sklearn\\metrics\\pairwise.py:251: RuntimeWarning: invalid value encountered in maximum\n",
      "  np.maximum(distances, 0, out=distances)\n",
      "C:\\Users\\ankush\\Anaconda3\\lib\\site-packages\\sklearn\\cluster\\k_means_.py:446: RuntimeWarning: overflow encountered in square\n",
      "  inertia = np.sum((X - centers[labels]) ** 2, dtype=np.float64)\n",
      "C:\\Users\\ankush\\Anaconda3\\lib\\site-packages\\sklearn\\metrics\\pairwise.py:249: RuntimeWarning: invalid value encountered in add\n",
      "  distances += XX\n",
      "C:\\Users\\ankush\\Anaconda3\\lib\\site-packages\\sklearn\\metrics\\pairwise.py:251: RuntimeWarning: invalid value encountered in maximum\n",
      "  np.maximum(distances, 0, out=distances)\n",
      "C:\\Users\\ankush\\Anaconda3\\lib\\site-packages\\sklearn\\metrics\\pairwise.py:249: RuntimeWarning: invalid value encountered in add\n",
      "  distances += XX\n",
      "C:\\Users\\ankush\\Anaconda3\\lib\\site-packages\\sklearn\\metrics\\pairwise.py:251: RuntimeWarning: invalid value encountered in maximum\n",
      "  np.maximum(distances, 0, out=distances)\n",
      "C:\\Users\\ankush\\Anaconda3\\lib\\site-packages\\sklearn\\cluster\\k_means_.py:126: RuntimeWarning: invalid value encountered in minimum\n",
      "  distance_to_candidates[trial])\n",
      "C:\\Users\\ankush\\Anaconda3\\lib\\site-packages\\sklearn\\metrics\\pairwise.py:249: RuntimeWarning: invalid value encountered in add\n",
      "  distances += XX\n",
      "C:\\Users\\ankush\\Anaconda3\\lib\\site-packages\\sklearn\\metrics\\pairwise.py:251: RuntimeWarning: invalid value encountered in maximum\n",
      "  np.maximum(distances, 0, out=distances)\n",
      "C:\\Users\\ankush\\Anaconda3\\lib\\site-packages\\sklearn\\cluster\\k_means_.py:126: RuntimeWarning: invalid value encountered in minimum\n",
      "  distance_to_candidates[trial])\n",
      "C:\\Users\\ankush\\Anaconda3\\lib\\site-packages\\sklearn\\metrics\\pairwise.py:249: RuntimeWarning: invalid value encountered in add\n",
      "  distances += XX\n",
      "C:\\Users\\ankush\\Anaconda3\\lib\\site-packages\\sklearn\\metrics\\pairwise.py:251: RuntimeWarning: invalid value encountered in maximum\n",
      "  np.maximum(distances, 0, out=distances)\n",
      "C:\\Users\\ankush\\Anaconda3\\lib\\site-packages\\sklearn\\cluster\\k_means_.py:126: RuntimeWarning: invalid value encountered in minimum\n",
      "  distance_to_candidates[trial])\n",
      "C:\\Users\\ankush\\Anaconda3\\lib\\site-packages\\sklearn\\metrics\\pairwise.py:249: RuntimeWarning: invalid value encountered in add\n",
      "  distances += XX\n",
      "C:\\Users\\ankush\\Anaconda3\\lib\\site-packages\\sklearn\\metrics\\pairwise.py:251: RuntimeWarning: invalid value encountered in maximum\n",
      "  np.maximum(distances, 0, out=distances)\n",
      "C:\\Users\\ankush\\Anaconda3\\lib\\site-packages\\sklearn\\cluster\\k_means_.py:126: RuntimeWarning: invalid value encountered in minimum\n",
      "  distance_to_candidates[trial])\n",
      "C:\\Users\\ankush\\Anaconda3\\lib\\site-packages\\sklearn\\metrics\\pairwise.py:249: RuntimeWarning: invalid value encountered in add\n",
      "  distances += XX\n",
      "C:\\Users\\ankush\\Anaconda3\\lib\\site-packages\\sklearn\\metrics\\pairwise.py:251: RuntimeWarning: invalid value encountered in maximum\n",
      "  np.maximum(distances, 0, out=distances)\n",
      "C:\\Users\\ankush\\Anaconda3\\lib\\site-packages\\sklearn\\cluster\\k_means_.py:444: RuntimeWarning: overflow encountered in square\n",
      "  max_iter=max_iter, verbose=verbose)\n",
      "C:\\Users\\ankush\\Anaconda3\\lib\\site-packages\\sklearn\\cluster\\k_means_.py:444: RuntimeWarning: invalid value encountered in subtract\n",
      "  max_iter=max_iter, verbose=verbose)\n",
      "C:\\Users\\ankush\\Anaconda3\\lib\\site-packages\\sklearn\\cluster\\k_means_.py:444: RuntimeWarning: invalid value encountered in maximum\n",
      "  max_iter=max_iter, verbose=verbose)\n",
      "C:\\Users\\ankush\\Anaconda3\\lib\\site-packages\\sklearn\\metrics\\pairwise.py:249: RuntimeWarning: invalid value encountered in add\n",
      "  distances += XX\n",
      "C:\\Users\\ankush\\Anaconda3\\lib\\site-packages\\sklearn\\metrics\\pairwise.py:251: RuntimeWarning: invalid value encountered in maximum\n",
      "  np.maximum(distances, 0, out=distances)\n",
      "C:\\Users\\ankush\\Anaconda3\\lib\\site-packages\\sklearn\\cluster\\k_means_.py:444: RuntimeWarning: invalid value encountered in maximum\n",
      "  max_iter=max_iter, verbose=verbose)\n",
      "C:\\Users\\ankush\\Anaconda3\\lib\\site-packages\\sklearn\\metrics\\pairwise.py:249: RuntimeWarning: invalid value encountered in add\n",
      "  distances += XX\n",
      "C:\\Users\\ankush\\Anaconda3\\lib\\site-packages\\sklearn\\metrics\\pairwise.py:251: RuntimeWarning: invalid value encountered in maximum\n",
      "  np.maximum(distances, 0, out=distances)\n",
      "C:\\Users\\ankush\\Anaconda3\\lib\\site-packages\\sklearn\\cluster\\k_means_.py:446: RuntimeWarning: overflow encountered in square\n",
      "  inertia = np.sum((X - centers[labels]) ** 2, dtype=np.float64)\n",
      "C:\\Users\\ankush\\Anaconda3\\lib\\site-packages\\sklearn\\metrics\\pairwise.py:249: RuntimeWarning: invalid value encountered in add\n",
      "  distances += XX\n"
     ]
    },
    {
     "name": "stderr",
     "output_type": "stream",
     "text": [
      "C:\\Users\\ankush\\Anaconda3\\lib\\site-packages\\sklearn\\metrics\\pairwise.py:251: RuntimeWarning: invalid value encountered in maximum\n",
      "  np.maximum(distances, 0, out=distances)\n",
      "C:\\Users\\ankush\\Anaconda3\\lib\\site-packages\\sklearn\\metrics\\pairwise.py:249: RuntimeWarning: invalid value encountered in add\n",
      "  distances += XX\n",
      "C:\\Users\\ankush\\Anaconda3\\lib\\site-packages\\sklearn\\metrics\\pairwise.py:251: RuntimeWarning: invalid value encountered in maximum\n",
      "  np.maximum(distances, 0, out=distances)\n",
      "C:\\Users\\ankush\\Anaconda3\\lib\\site-packages\\sklearn\\cluster\\k_means_.py:126: RuntimeWarning: invalid value encountered in minimum\n",
      "  distance_to_candidates[trial])\n",
      "C:\\Users\\ankush\\Anaconda3\\lib\\site-packages\\sklearn\\metrics\\pairwise.py:249: RuntimeWarning: invalid value encountered in add\n",
      "  distances += XX\n",
      "C:\\Users\\ankush\\Anaconda3\\lib\\site-packages\\sklearn\\metrics\\pairwise.py:251: RuntimeWarning: invalid value encountered in maximum\n",
      "  np.maximum(distances, 0, out=distances)\n",
      "C:\\Users\\ankush\\Anaconda3\\lib\\site-packages\\sklearn\\cluster\\k_means_.py:126: RuntimeWarning: invalid value encountered in minimum\n",
      "  distance_to_candidates[trial])\n",
      "C:\\Users\\ankush\\Anaconda3\\lib\\site-packages\\sklearn\\metrics\\pairwise.py:249: RuntimeWarning: invalid value encountered in add\n",
      "  distances += XX\n",
      "C:\\Users\\ankush\\Anaconda3\\lib\\site-packages\\sklearn\\metrics\\pairwise.py:251: RuntimeWarning: invalid value encountered in maximum\n",
      "  np.maximum(distances, 0, out=distances)\n",
      "C:\\Users\\ankush\\Anaconda3\\lib\\site-packages\\sklearn\\cluster\\k_means_.py:126: RuntimeWarning: invalid value encountered in minimum\n",
      "  distance_to_candidates[trial])\n",
      "C:\\Users\\ankush\\Anaconda3\\lib\\site-packages\\sklearn\\metrics\\pairwise.py:249: RuntimeWarning: invalid value encountered in add\n",
      "  distances += XX\n",
      "C:\\Users\\ankush\\Anaconda3\\lib\\site-packages\\sklearn\\metrics\\pairwise.py:251: RuntimeWarning: invalid value encountered in maximum\n",
      "  np.maximum(distances, 0, out=distances)\n",
      "C:\\Users\\ankush\\Anaconda3\\lib\\site-packages\\sklearn\\cluster\\k_means_.py:126: RuntimeWarning: invalid value encountered in minimum\n",
      "  distance_to_candidates[trial])\n",
      "C:\\Users\\ankush\\Anaconda3\\lib\\site-packages\\sklearn\\metrics\\pairwise.py:249: RuntimeWarning: invalid value encountered in add\n",
      "  distances += XX\n",
      "C:\\Users\\ankush\\Anaconda3\\lib\\site-packages\\sklearn\\metrics\\pairwise.py:251: RuntimeWarning: invalid value encountered in maximum\n",
      "  np.maximum(distances, 0, out=distances)\n",
      "C:\\Users\\ankush\\Anaconda3\\lib\\site-packages\\sklearn\\cluster\\k_means_.py:444: RuntimeWarning: overflow encountered in square\n",
      "  max_iter=max_iter, verbose=verbose)\n",
      "C:\\Users\\ankush\\Anaconda3\\lib\\site-packages\\sklearn\\cluster\\k_means_.py:444: RuntimeWarning: invalid value encountered in subtract\n",
      "  max_iter=max_iter, verbose=verbose)\n",
      "C:\\Users\\ankush\\Anaconda3\\lib\\site-packages\\sklearn\\cluster\\k_means_.py:444: RuntimeWarning: invalid value encountered in maximum\n",
      "  max_iter=max_iter, verbose=verbose)\n",
      "C:\\Users\\ankush\\Anaconda3\\lib\\site-packages\\sklearn\\metrics\\pairwise.py:249: RuntimeWarning: invalid value encountered in add\n",
      "  distances += XX\n",
      "C:\\Users\\ankush\\Anaconda3\\lib\\site-packages\\sklearn\\metrics\\pairwise.py:251: RuntimeWarning: invalid value encountered in maximum\n",
      "  np.maximum(distances, 0, out=distances)\n",
      "C:\\Users\\ankush\\Anaconda3\\lib\\site-packages\\sklearn\\cluster\\k_means_.py:444: RuntimeWarning: invalid value encountered in maximum\n",
      "  max_iter=max_iter, verbose=verbose)\n",
      "C:\\Users\\ankush\\Anaconda3\\lib\\site-packages\\sklearn\\metrics\\pairwise.py:249: RuntimeWarning: invalid value encountered in add\n",
      "  distances += XX\n",
      "C:\\Users\\ankush\\Anaconda3\\lib\\site-packages\\sklearn\\metrics\\pairwise.py:251: RuntimeWarning: invalid value encountered in maximum\n",
      "  np.maximum(distances, 0, out=distances)\n",
      "C:\\Users\\ankush\\Anaconda3\\lib\\site-packages\\sklearn\\cluster\\k_means_.py:446: RuntimeWarning: overflow encountered in square\n",
      "  inertia = np.sum((X - centers[labels]) ** 2, dtype=np.float64)\n",
      "C:\\Users\\ankush\\Anaconda3\\lib\\site-packages\\sklearn\\metrics\\pairwise.py:249: RuntimeWarning: invalid value encountered in add\n",
      "  distances += XX\n",
      "C:\\Users\\ankush\\Anaconda3\\lib\\site-packages\\sklearn\\metrics\\pairwise.py:251: RuntimeWarning: invalid value encountered in maximum\n",
      "  np.maximum(distances, 0, out=distances)\n",
      "C:\\Users\\ankush\\Anaconda3\\lib\\site-packages\\sklearn\\metrics\\pairwise.py:249: RuntimeWarning: invalid value encountered in add\n",
      "  distances += XX\n",
      "C:\\Users\\ankush\\Anaconda3\\lib\\site-packages\\sklearn\\metrics\\pairwise.py:251: RuntimeWarning: invalid value encountered in maximum\n",
      "  np.maximum(distances, 0, out=distances)\n",
      "C:\\Users\\ankush\\Anaconda3\\lib\\site-packages\\sklearn\\cluster\\k_means_.py:126: RuntimeWarning: invalid value encountered in minimum\n",
      "  distance_to_candidates[trial])\n",
      "C:\\Users\\ankush\\Anaconda3\\lib\\site-packages\\sklearn\\metrics\\pairwise.py:249: RuntimeWarning: invalid value encountered in add\n",
      "  distances += XX\n",
      "C:\\Users\\ankush\\Anaconda3\\lib\\site-packages\\sklearn\\metrics\\pairwise.py:251: RuntimeWarning: invalid value encountered in maximum\n",
      "  np.maximum(distances, 0, out=distances)\n",
      "C:\\Users\\ankush\\Anaconda3\\lib\\site-packages\\sklearn\\cluster\\k_means_.py:126: RuntimeWarning: invalid value encountered in minimum\n",
      "  distance_to_candidates[trial])\n",
      "C:\\Users\\ankush\\Anaconda3\\lib\\site-packages\\sklearn\\metrics\\pairwise.py:249: RuntimeWarning: invalid value encountered in add\n",
      "  distances += XX\n",
      "C:\\Users\\ankush\\Anaconda3\\lib\\site-packages\\sklearn\\metrics\\pairwise.py:251: RuntimeWarning: invalid value encountered in maximum\n",
      "  np.maximum(distances, 0, out=distances)\n",
      "C:\\Users\\ankush\\Anaconda3\\lib\\site-packages\\sklearn\\cluster\\k_means_.py:126: RuntimeWarning: invalid value encountered in minimum\n",
      "  distance_to_candidates[trial])\n",
      "C:\\Users\\ankush\\Anaconda3\\lib\\site-packages\\sklearn\\metrics\\pairwise.py:249: RuntimeWarning: invalid value encountered in add\n",
      "  distances += XX\n",
      "C:\\Users\\ankush\\Anaconda3\\lib\\site-packages\\sklearn\\metrics\\pairwise.py:251: RuntimeWarning: invalid value encountered in maximum\n",
      "  np.maximum(distances, 0, out=distances)\n",
      "C:\\Users\\ankush\\Anaconda3\\lib\\site-packages\\sklearn\\cluster\\k_means_.py:126: RuntimeWarning: invalid value encountered in minimum\n",
      "  distance_to_candidates[trial])\n",
      "C:\\Users\\ankush\\Anaconda3\\lib\\site-packages\\sklearn\\metrics\\pairwise.py:249: RuntimeWarning: invalid value encountered in add\n",
      "  distances += XX\n",
      "C:\\Users\\ankush\\Anaconda3\\lib\\site-packages\\sklearn\\metrics\\pairwise.py:251: RuntimeWarning: invalid value encountered in maximum\n",
      "  np.maximum(distances, 0, out=distances)\n",
      "C:\\Users\\ankush\\Anaconda3\\lib\\site-packages\\sklearn\\cluster\\k_means_.py:444: RuntimeWarning: overflow encountered in square\n",
      "  max_iter=max_iter, verbose=verbose)\n",
      "C:\\Users\\ankush\\Anaconda3\\lib\\site-packages\\sklearn\\cluster\\k_means_.py:444: RuntimeWarning: invalid value encountered in subtract\n",
      "  max_iter=max_iter, verbose=verbose)\n",
      "C:\\Users\\ankush\\Anaconda3\\lib\\site-packages\\sklearn\\cluster\\k_means_.py:444: RuntimeWarning: invalid value encountered in maximum\n",
      "  max_iter=max_iter, verbose=verbose)\n",
      "C:\\Users\\ankush\\Anaconda3\\lib\\site-packages\\sklearn\\metrics\\pairwise.py:249: RuntimeWarning: invalid value encountered in add\n",
      "  distances += XX\n",
      "C:\\Users\\ankush\\Anaconda3\\lib\\site-packages\\sklearn\\metrics\\pairwise.py:251: RuntimeWarning: invalid value encountered in maximum\n",
      "  np.maximum(distances, 0, out=distances)\n",
      "C:\\Users\\ankush\\Anaconda3\\lib\\site-packages\\sklearn\\cluster\\k_means_.py:444: RuntimeWarning: invalid value encountered in maximum\n",
      "  max_iter=max_iter, verbose=verbose)\n",
      "C:\\Users\\ankush\\Anaconda3\\lib\\site-packages\\sklearn\\metrics\\pairwise.py:249: RuntimeWarning: invalid value encountered in add\n",
      "  distances += XX\n",
      "C:\\Users\\ankush\\Anaconda3\\lib\\site-packages\\sklearn\\metrics\\pairwise.py:251: RuntimeWarning: invalid value encountered in maximum\n",
      "  np.maximum(distances, 0, out=distances)\n",
      "C:\\Users\\ankush\\Anaconda3\\lib\\site-packages\\sklearn\\cluster\\k_means_.py:446: RuntimeWarning: overflow encountered in square\n",
      "  inertia = np.sum((X - centers[labels]) ** 2, dtype=np.float64)\n",
      "C:\\Users\\ankush\\Anaconda3\\lib\\site-packages\\sklearn\\metrics\\pairwise.py:249: RuntimeWarning: invalid value encountered in add\n",
      "  distances += XX\n",
      "C:\\Users\\ankush\\Anaconda3\\lib\\site-packages\\sklearn\\metrics\\pairwise.py:251: RuntimeWarning: invalid value encountered in maximum\n",
      "  np.maximum(distances, 0, out=distances)\n"
     ]
    },
    {
     "name": "stderr",
     "output_type": "stream",
     "text": [
      "C:\\Users\\ankush\\Anaconda3\\lib\\site-packages\\sklearn\\metrics\\pairwise.py:249: RuntimeWarning: invalid value encountered in add\n",
      "  distances += XX\n",
      "C:\\Users\\ankush\\Anaconda3\\lib\\site-packages\\sklearn\\metrics\\pairwise.py:251: RuntimeWarning: invalid value encountered in maximum\n",
      "  np.maximum(distances, 0, out=distances)\n",
      "C:\\Users\\ankush\\Anaconda3\\lib\\site-packages\\sklearn\\cluster\\k_means_.py:126: RuntimeWarning: invalid value encountered in minimum\n",
      "  distance_to_candidates[trial])\n",
      "C:\\Users\\ankush\\Anaconda3\\lib\\site-packages\\sklearn\\metrics\\pairwise.py:249: RuntimeWarning: invalid value encountered in add\n",
      "  distances += XX\n",
      "C:\\Users\\ankush\\Anaconda3\\lib\\site-packages\\sklearn\\metrics\\pairwise.py:251: RuntimeWarning: invalid value encountered in maximum\n",
      "  np.maximum(distances, 0, out=distances)\n",
      "C:\\Users\\ankush\\Anaconda3\\lib\\site-packages\\sklearn\\cluster\\k_means_.py:126: RuntimeWarning: invalid value encountered in minimum\n",
      "  distance_to_candidates[trial])\n",
      "C:\\Users\\ankush\\Anaconda3\\lib\\site-packages\\sklearn\\metrics\\pairwise.py:249: RuntimeWarning: invalid value encountered in add\n",
      "  distances += XX\n",
      "C:\\Users\\ankush\\Anaconda3\\lib\\site-packages\\sklearn\\metrics\\pairwise.py:251: RuntimeWarning: invalid value encountered in maximum\n",
      "  np.maximum(distances, 0, out=distances)\n",
      "C:\\Users\\ankush\\Anaconda3\\lib\\site-packages\\sklearn\\cluster\\k_means_.py:126: RuntimeWarning: invalid value encountered in minimum\n",
      "  distance_to_candidates[trial])\n",
      "C:\\Users\\ankush\\Anaconda3\\lib\\site-packages\\sklearn\\metrics\\pairwise.py:249: RuntimeWarning: invalid value encountered in add\n",
      "  distances += XX\n",
      "C:\\Users\\ankush\\Anaconda3\\lib\\site-packages\\sklearn\\metrics\\pairwise.py:251: RuntimeWarning: invalid value encountered in maximum\n",
      "  np.maximum(distances, 0, out=distances)\n",
      "C:\\Users\\ankush\\Anaconda3\\lib\\site-packages\\sklearn\\cluster\\k_means_.py:126: RuntimeWarning: invalid value encountered in minimum\n",
      "  distance_to_candidates[trial])\n",
      "C:\\Users\\ankush\\Anaconda3\\lib\\site-packages\\sklearn\\metrics\\pairwise.py:249: RuntimeWarning: invalid value encountered in add\n",
      "  distances += XX\n",
      "C:\\Users\\ankush\\Anaconda3\\lib\\site-packages\\sklearn\\metrics\\pairwise.py:251: RuntimeWarning: invalid value encountered in maximum\n",
      "  np.maximum(distances, 0, out=distances)\n",
      "C:\\Users\\ankush\\Anaconda3\\lib\\site-packages\\sklearn\\cluster\\k_means_.py:444: RuntimeWarning: overflow encountered in square\n",
      "  max_iter=max_iter, verbose=verbose)\n",
      "C:\\Users\\ankush\\Anaconda3\\lib\\site-packages\\sklearn\\cluster\\k_means_.py:444: RuntimeWarning: invalid value encountered in subtract\n",
      "  max_iter=max_iter, verbose=verbose)\n",
      "C:\\Users\\ankush\\Anaconda3\\lib\\site-packages\\sklearn\\cluster\\k_means_.py:444: RuntimeWarning: invalid value encountered in maximum\n",
      "  max_iter=max_iter, verbose=verbose)\n",
      "C:\\Users\\ankush\\Anaconda3\\lib\\site-packages\\sklearn\\metrics\\pairwise.py:249: RuntimeWarning: invalid value encountered in add\n",
      "  distances += XX\n",
      "C:\\Users\\ankush\\Anaconda3\\lib\\site-packages\\sklearn\\metrics\\pairwise.py:251: RuntimeWarning: invalid value encountered in maximum\n",
      "  np.maximum(distances, 0, out=distances)\n",
      "C:\\Users\\ankush\\Anaconda3\\lib\\site-packages\\sklearn\\cluster\\k_means_.py:444: RuntimeWarning: invalid value encountered in maximum\n",
      "  max_iter=max_iter, verbose=verbose)\n",
      "C:\\Users\\ankush\\Anaconda3\\lib\\site-packages\\sklearn\\metrics\\pairwise.py:249: RuntimeWarning: invalid value encountered in add\n",
      "  distances += XX\n",
      "C:\\Users\\ankush\\Anaconda3\\lib\\site-packages\\sklearn\\metrics\\pairwise.py:251: RuntimeWarning: invalid value encountered in maximum\n",
      "  np.maximum(distances, 0, out=distances)\n",
      "C:\\Users\\ankush\\Anaconda3\\lib\\site-packages\\sklearn\\cluster\\k_means_.py:446: RuntimeWarning: overflow encountered in square\n",
      "  inertia = np.sum((X - centers[labels]) ** 2, dtype=np.float64)\n",
      "C:\\Users\\ankush\\Anaconda3\\lib\\site-packages\\sklearn\\metrics\\pairwise.py:249: RuntimeWarning: invalid value encountered in add\n",
      "  distances += XX\n",
      "C:\\Users\\ankush\\Anaconda3\\lib\\site-packages\\sklearn\\metrics\\pairwise.py:251: RuntimeWarning: invalid value encountered in maximum\n",
      "  np.maximum(distances, 0, out=distances)\n",
      "C:\\Users\\ankush\\Anaconda3\\lib\\site-packages\\sklearn\\metrics\\pairwise.py:249: RuntimeWarning: invalid value encountered in add\n",
      "  distances += XX\n",
      "C:\\Users\\ankush\\Anaconda3\\lib\\site-packages\\sklearn\\metrics\\pairwise.py:251: RuntimeWarning: invalid value encountered in maximum\n",
      "  np.maximum(distances, 0, out=distances)\n",
      "C:\\Users\\ankush\\Anaconda3\\lib\\site-packages\\sklearn\\cluster\\k_means_.py:126: RuntimeWarning: invalid value encountered in minimum\n",
      "  distance_to_candidates[trial])\n",
      "C:\\Users\\ankush\\Anaconda3\\lib\\site-packages\\sklearn\\metrics\\pairwise.py:249: RuntimeWarning: invalid value encountered in add\n",
      "  distances += XX\n",
      "C:\\Users\\ankush\\Anaconda3\\lib\\site-packages\\sklearn\\metrics\\pairwise.py:251: RuntimeWarning: invalid value encountered in maximum\n",
      "  np.maximum(distances, 0, out=distances)\n",
      "C:\\Users\\ankush\\Anaconda3\\lib\\site-packages\\sklearn\\cluster\\k_means_.py:126: RuntimeWarning: invalid value encountered in minimum\n",
      "  distance_to_candidates[trial])\n",
      "C:\\Users\\ankush\\Anaconda3\\lib\\site-packages\\sklearn\\metrics\\pairwise.py:249: RuntimeWarning: invalid value encountered in add\n",
      "  distances += XX\n",
      "C:\\Users\\ankush\\Anaconda3\\lib\\site-packages\\sklearn\\metrics\\pairwise.py:251: RuntimeWarning: invalid value encountered in maximum\n",
      "  np.maximum(distances, 0, out=distances)\n",
      "C:\\Users\\ankush\\Anaconda3\\lib\\site-packages\\sklearn\\cluster\\k_means_.py:126: RuntimeWarning: invalid value encountered in minimum\n",
      "  distance_to_candidates[trial])\n",
      "C:\\Users\\ankush\\Anaconda3\\lib\\site-packages\\sklearn\\metrics\\pairwise.py:249: RuntimeWarning: invalid value encountered in add\n",
      "  distances += XX\n",
      "C:\\Users\\ankush\\Anaconda3\\lib\\site-packages\\sklearn\\metrics\\pairwise.py:251: RuntimeWarning: invalid value encountered in maximum\n",
      "  np.maximum(distances, 0, out=distances)\n",
      "C:\\Users\\ankush\\Anaconda3\\lib\\site-packages\\sklearn\\cluster\\k_means_.py:126: RuntimeWarning: invalid value encountered in minimum\n",
      "  distance_to_candidates[trial])\n",
      "C:\\Users\\ankush\\Anaconda3\\lib\\site-packages\\sklearn\\metrics\\pairwise.py:249: RuntimeWarning: invalid value encountered in add\n",
      "  distances += XX\n",
      "C:\\Users\\ankush\\Anaconda3\\lib\\site-packages\\sklearn\\metrics\\pairwise.py:251: RuntimeWarning: invalid value encountered in maximum\n",
      "  np.maximum(distances, 0, out=distances)\n",
      "C:\\Users\\ankush\\Anaconda3\\lib\\site-packages\\sklearn\\cluster\\k_means_.py:444: RuntimeWarning: overflow encountered in square\n",
      "  max_iter=max_iter, verbose=verbose)\n",
      "C:\\Users\\ankush\\Anaconda3\\lib\\site-packages\\sklearn\\cluster\\k_means_.py:444: RuntimeWarning: invalid value encountered in subtract\n",
      "  max_iter=max_iter, verbose=verbose)\n",
      "C:\\Users\\ankush\\Anaconda3\\lib\\site-packages\\sklearn\\cluster\\k_means_.py:444: RuntimeWarning: invalid value encountered in maximum\n",
      "  max_iter=max_iter, verbose=verbose)\n",
      "C:\\Users\\ankush\\Anaconda3\\lib\\site-packages\\sklearn\\metrics\\pairwise.py:249: RuntimeWarning: invalid value encountered in add\n",
      "  distances += XX\n",
      "C:\\Users\\ankush\\Anaconda3\\lib\\site-packages\\sklearn\\metrics\\pairwise.py:251: RuntimeWarning: invalid value encountered in maximum\n",
      "  np.maximum(distances, 0, out=distances)\n",
      "C:\\Users\\ankush\\Anaconda3\\lib\\site-packages\\sklearn\\cluster\\k_means_.py:444: RuntimeWarning: invalid value encountered in maximum\n",
      "  max_iter=max_iter, verbose=verbose)\n",
      "C:\\Users\\ankush\\Anaconda3\\lib\\site-packages\\sklearn\\metrics\\pairwise.py:249: RuntimeWarning: invalid value encountered in add\n",
      "  distances += XX\n",
      "C:\\Users\\ankush\\Anaconda3\\lib\\site-packages\\sklearn\\metrics\\pairwise.py:251: RuntimeWarning: invalid value encountered in maximum\n",
      "  np.maximum(distances, 0, out=distances)\n",
      "C:\\Users\\ankush\\Anaconda3\\lib\\site-packages\\sklearn\\cluster\\k_means_.py:446: RuntimeWarning: overflow encountered in square\n",
      "  inertia = np.sum((X - centers[labels]) ** 2, dtype=np.float64)\n",
      "C:\\Users\\ankush\\Anaconda3\\lib\\site-packages\\sklearn\\metrics\\pairwise.py:249: RuntimeWarning: invalid value encountered in add\n",
      "  distances += XX\n",
      "C:\\Users\\ankush\\Anaconda3\\lib\\site-packages\\sklearn\\metrics\\pairwise.py:251: RuntimeWarning: invalid value encountered in maximum\n",
      "  np.maximum(distances, 0, out=distances)\n",
      "C:\\Users\\ankush\\Anaconda3\\lib\\site-packages\\sklearn\\metrics\\pairwise.py:249: RuntimeWarning: invalid value encountered in add\n",
      "  distances += XX\n"
     ]
    },
    {
     "name": "stderr",
     "output_type": "stream",
     "text": [
      "C:\\Users\\ankush\\Anaconda3\\lib\\site-packages\\sklearn\\metrics\\pairwise.py:251: RuntimeWarning: invalid value encountered in maximum\n",
      "  np.maximum(distances, 0, out=distances)\n",
      "C:\\Users\\ankush\\Anaconda3\\lib\\site-packages\\sklearn\\cluster\\k_means_.py:126: RuntimeWarning: invalid value encountered in minimum\n",
      "  distance_to_candidates[trial])\n",
      "C:\\Users\\ankush\\Anaconda3\\lib\\site-packages\\sklearn\\metrics\\pairwise.py:249: RuntimeWarning: invalid value encountered in add\n",
      "  distances += XX\n",
      "C:\\Users\\ankush\\Anaconda3\\lib\\site-packages\\sklearn\\metrics\\pairwise.py:251: RuntimeWarning: invalid value encountered in maximum\n",
      "  np.maximum(distances, 0, out=distances)\n",
      "C:\\Users\\ankush\\Anaconda3\\lib\\site-packages\\sklearn\\cluster\\k_means_.py:126: RuntimeWarning: invalid value encountered in minimum\n",
      "  distance_to_candidates[trial])\n",
      "C:\\Users\\ankush\\Anaconda3\\lib\\site-packages\\sklearn\\metrics\\pairwise.py:249: RuntimeWarning: invalid value encountered in add\n",
      "  distances += XX\n",
      "C:\\Users\\ankush\\Anaconda3\\lib\\site-packages\\sklearn\\metrics\\pairwise.py:251: RuntimeWarning: invalid value encountered in maximum\n",
      "  np.maximum(distances, 0, out=distances)\n",
      "C:\\Users\\ankush\\Anaconda3\\lib\\site-packages\\sklearn\\cluster\\k_means_.py:126: RuntimeWarning: invalid value encountered in minimum\n",
      "  distance_to_candidates[trial])\n",
      "C:\\Users\\ankush\\Anaconda3\\lib\\site-packages\\sklearn\\metrics\\pairwise.py:249: RuntimeWarning: invalid value encountered in add\n",
      "  distances += XX\n",
      "C:\\Users\\ankush\\Anaconda3\\lib\\site-packages\\sklearn\\metrics\\pairwise.py:251: RuntimeWarning: invalid value encountered in maximum\n",
      "  np.maximum(distances, 0, out=distances)\n",
      "C:\\Users\\ankush\\Anaconda3\\lib\\site-packages\\sklearn\\cluster\\k_means_.py:126: RuntimeWarning: invalid value encountered in minimum\n",
      "  distance_to_candidates[trial])\n",
      "C:\\Users\\ankush\\Anaconda3\\lib\\site-packages\\sklearn\\metrics\\pairwise.py:249: RuntimeWarning: invalid value encountered in add\n",
      "  distances += XX\n",
      "C:\\Users\\ankush\\Anaconda3\\lib\\site-packages\\sklearn\\metrics\\pairwise.py:251: RuntimeWarning: invalid value encountered in maximum\n",
      "  np.maximum(distances, 0, out=distances)\n",
      "C:\\Users\\ankush\\Anaconda3\\lib\\site-packages\\sklearn\\cluster\\k_means_.py:444: RuntimeWarning: overflow encountered in square\n",
      "  max_iter=max_iter, verbose=verbose)\n",
      "C:\\Users\\ankush\\Anaconda3\\lib\\site-packages\\sklearn\\cluster\\k_means_.py:444: RuntimeWarning: invalid value encountered in subtract\n",
      "  max_iter=max_iter, verbose=verbose)\n",
      "C:\\Users\\ankush\\Anaconda3\\lib\\site-packages\\sklearn\\cluster\\k_means_.py:444: RuntimeWarning: invalid value encountered in maximum\n",
      "  max_iter=max_iter, verbose=verbose)\n",
      "C:\\Users\\ankush\\Anaconda3\\lib\\site-packages\\sklearn\\metrics\\pairwise.py:249: RuntimeWarning: invalid value encountered in add\n",
      "  distances += XX\n",
      "C:\\Users\\ankush\\Anaconda3\\lib\\site-packages\\sklearn\\metrics\\pairwise.py:251: RuntimeWarning: invalid value encountered in maximum\n",
      "  np.maximum(distances, 0, out=distances)\n",
      "C:\\Users\\ankush\\Anaconda3\\lib\\site-packages\\sklearn\\cluster\\k_means_.py:444: RuntimeWarning: invalid value encountered in maximum\n",
      "  max_iter=max_iter, verbose=verbose)\n",
      "C:\\Users\\ankush\\Anaconda3\\lib\\site-packages\\sklearn\\metrics\\pairwise.py:249: RuntimeWarning: invalid value encountered in add\n",
      "  distances += XX\n",
      "C:\\Users\\ankush\\Anaconda3\\lib\\site-packages\\sklearn\\metrics\\pairwise.py:251: RuntimeWarning: invalid value encountered in maximum\n",
      "  np.maximum(distances, 0, out=distances)\n",
      "C:\\Users\\ankush\\Anaconda3\\lib\\site-packages\\sklearn\\cluster\\k_means_.py:446: RuntimeWarning: overflow encountered in square\n",
      "  inertia = np.sum((X - centers[labels]) ** 2, dtype=np.float64)\n",
      "C:\\Users\\ankush\\Anaconda3\\lib\\site-packages\\sklearn\\metrics\\pairwise.py:249: RuntimeWarning: invalid value encountered in add\n",
      "  distances += XX\n",
      "C:\\Users\\ankush\\Anaconda3\\lib\\site-packages\\sklearn\\metrics\\pairwise.py:251: RuntimeWarning: invalid value encountered in maximum\n",
      "  np.maximum(distances, 0, out=distances)\n",
      "C:\\Users\\ankush\\Anaconda3\\lib\\site-packages\\sklearn\\metrics\\pairwise.py:249: RuntimeWarning: invalid value encountered in add\n",
      "  distances += XX\n",
      "C:\\Users\\ankush\\Anaconda3\\lib\\site-packages\\sklearn\\metrics\\pairwise.py:251: RuntimeWarning: invalid value encountered in maximum\n",
      "  np.maximum(distances, 0, out=distances)\n",
      "C:\\Users\\ankush\\Anaconda3\\lib\\site-packages\\sklearn\\cluster\\k_means_.py:126: RuntimeWarning: invalid value encountered in minimum\n",
      "  distance_to_candidates[trial])\n",
      "C:\\Users\\ankush\\Anaconda3\\lib\\site-packages\\sklearn\\metrics\\pairwise.py:249: RuntimeWarning: invalid value encountered in add\n",
      "  distances += XX\n",
      "C:\\Users\\ankush\\Anaconda3\\lib\\site-packages\\sklearn\\metrics\\pairwise.py:251: RuntimeWarning: invalid value encountered in maximum\n",
      "  np.maximum(distances, 0, out=distances)\n",
      "C:\\Users\\ankush\\Anaconda3\\lib\\site-packages\\sklearn\\cluster\\k_means_.py:126: RuntimeWarning: invalid value encountered in minimum\n",
      "  distance_to_candidates[trial])\n",
      "C:\\Users\\ankush\\Anaconda3\\lib\\site-packages\\sklearn\\metrics\\pairwise.py:249: RuntimeWarning: invalid value encountered in add\n",
      "  distances += XX\n",
      "C:\\Users\\ankush\\Anaconda3\\lib\\site-packages\\sklearn\\metrics\\pairwise.py:251: RuntimeWarning: invalid value encountered in maximum\n",
      "  np.maximum(distances, 0, out=distances)\n",
      "C:\\Users\\ankush\\Anaconda3\\lib\\site-packages\\sklearn\\cluster\\k_means_.py:126: RuntimeWarning: invalid value encountered in minimum\n",
      "  distance_to_candidates[trial])\n",
      "C:\\Users\\ankush\\Anaconda3\\lib\\site-packages\\sklearn\\metrics\\pairwise.py:249: RuntimeWarning: invalid value encountered in add\n",
      "  distances += XX\n",
      "C:\\Users\\ankush\\Anaconda3\\lib\\site-packages\\sklearn\\metrics\\pairwise.py:251: RuntimeWarning: invalid value encountered in maximum\n",
      "  np.maximum(distances, 0, out=distances)\n",
      "C:\\Users\\ankush\\Anaconda3\\lib\\site-packages\\sklearn\\cluster\\k_means_.py:126: RuntimeWarning: invalid value encountered in minimum\n",
      "  distance_to_candidates[trial])\n",
      "C:\\Users\\ankush\\Anaconda3\\lib\\site-packages\\sklearn\\metrics\\pairwise.py:249: RuntimeWarning: invalid value encountered in add\n",
      "  distances += XX\n",
      "C:\\Users\\ankush\\Anaconda3\\lib\\site-packages\\sklearn\\metrics\\pairwise.py:251: RuntimeWarning: invalid value encountered in maximum\n",
      "  np.maximum(distances, 0, out=distances)\n",
      "C:\\Users\\ankush\\Anaconda3\\lib\\site-packages\\sklearn\\cluster\\k_means_.py:444: RuntimeWarning: overflow encountered in square\n",
      "  max_iter=max_iter, verbose=verbose)\n",
      "C:\\Users\\ankush\\Anaconda3\\lib\\site-packages\\sklearn\\cluster\\k_means_.py:444: RuntimeWarning: invalid value encountered in subtract\n",
      "  max_iter=max_iter, verbose=verbose)\n",
      "C:\\Users\\ankush\\Anaconda3\\lib\\site-packages\\sklearn\\cluster\\k_means_.py:444: RuntimeWarning: invalid value encountered in maximum\n",
      "  max_iter=max_iter, verbose=verbose)\n",
      "C:\\Users\\ankush\\Anaconda3\\lib\\site-packages\\sklearn\\metrics\\pairwise.py:249: RuntimeWarning: invalid value encountered in add\n",
      "  distances += XX\n",
      "C:\\Users\\ankush\\Anaconda3\\lib\\site-packages\\sklearn\\metrics\\pairwise.py:251: RuntimeWarning: invalid value encountered in maximum\n",
      "  np.maximum(distances, 0, out=distances)\n",
      "C:\\Users\\ankush\\Anaconda3\\lib\\site-packages\\sklearn\\cluster\\k_means_.py:444: RuntimeWarning: invalid value encountered in maximum\n",
      "  max_iter=max_iter, verbose=verbose)\n",
      "C:\\Users\\ankush\\Anaconda3\\lib\\site-packages\\sklearn\\metrics\\pairwise.py:249: RuntimeWarning: invalid value encountered in add\n",
      "  distances += XX\n",
      "C:\\Users\\ankush\\Anaconda3\\lib\\site-packages\\sklearn\\metrics\\pairwise.py:251: RuntimeWarning: invalid value encountered in maximum\n",
      "  np.maximum(distances, 0, out=distances)\n",
      "C:\\Users\\ankush\\Anaconda3\\lib\\site-packages\\sklearn\\cluster\\k_means_.py:446: RuntimeWarning: overflow encountered in square\n",
      "  inertia = np.sum((X - centers[labels]) ** 2, dtype=np.float64)\n",
      "C:\\Users\\ankush\\Anaconda3\\lib\\site-packages\\sklearn\\cluster\\spectral.py:268: ConvergenceWarning: Number of distinct clusters (1) found smaller than n_clusters (5). Possibly due to duplicate points in X.\n",
      "  n_init=n_init)\n"
     ]
    },
    {
     "data": {
      "image/png": "[encoded data removed]",
      "text/plain": [
       "<Figure size 432x288 with 1 Axes>"
      ]
     },
     "metadata": {
      "needs_background": "light"
     },
     "output_type": "display_data"
    },
    {
     "name": "stdout",
     "output_type": "stream",
     "text": [
      "Comparing the assigned categories to the ones in the data:\n",
      "col_0          0\n",
      "reordered       \n",
      "0           9294\n",
      "1          13456\n"
     ]
    }
   ],
   "source": [
    "from sklearn.cluster import SpectralClustering\n",
    "\n",
    "# We know we're looking for three clusters.\n",
    "n_clusters=5\n",
    "\n",
    "# Declare and fit the model.\n",
    "sc = SpectralClustering(n_clusters=5)\n",
    "sc.fit(X_train_pca)\n",
    "\n",
    "#Predicted clusters.\n",
    "predict=sc.fit_predict(X_train_pca)\n",
    "\n",
    "#Graph results.\n",
    "plt.scatter(X_train_pca[:, 0], X_train_pca[:, 1], c=predict)\n",
    "plt.show()\n",
    "\n",
    "print('Comparing the assigned categories to the ones in the data:')\n",
    "print(pd.crosstab(y_train,predict))"
   ]
  },
  {
   "cell_type": "markdown",
   "metadata": {},
   "source": [
    "# Affinity Propogation"
   ]
  },
  {
   "cell_type": "code",
   "execution_count": null,
   "metadata": {},
   "outputs": [],
   "source": [
    "from sklearn.cluster import AffinityPropagation\n",
    "from sklearn import metrics\n",
    "\n",
    "# Declare the model and fit it in one statement.\n",
    "# Note that you can provide arguments to the model, but we didn't.\n",
    "af = AffinityPropagation().fit(X_train_pca)\n",
    "print('Done')\n",
    "\n",
    "# Pull the number of clusters and cluster assignments for each data point.\n",
    "cluster_centers_indices = af.cluster_centers_indices_\n",
    "n_clusters_ = 5\n",
    "labels = af.labels_\n",
    "\n",
    "print('Estimated number of clusters: {}'.format(n_clusters_))"
   ]
  },
  {
   "cell_type": "markdown",
   "metadata": {},
   "source": [
    "Same goes with Spectral propogation and affinity propogation,results are poor which means that we will not be using them for our prediction purpose.So, the standout algorithm here is k means which is usually the case.It is more reliable than other unsupervised algorithms.Now , let us use deep learning on our dataset to check the accuracies of the models.Deep learning is ideally used for image classification, object recognition, Digital signature recognition.Here, we are trying to use deep learning for our own sake  on the dataset to check the accuracy of the model and predict the outsomee"
   ]
  },
  {
   "cell_type": "markdown",
   "metadata": {},
   "source": [
    "## 3.Deep Learning"
   ]
  },
  {
   "cell_type": "markdown",
   "metadata": {},
   "source": [
    "Let us first start with Multi Layered Perception"
   ]
  },
  {
   "cell_type": "markdown",
   "metadata": {},
   "source": [
    "### Multi Layered Perception(MLP)"
   ]
  },
  {
   "cell_type": "markdown",
   "metadata": {},
   "source": [
    "It  is a set of perceptron models organized into layers, one layer feeding into the next."
   ]
  },
  {
   "cell_type": "code",
   "execution_count": 6,
   "metadata": {
    "scrolled": true
   },
   "outputs": [
    {
     "name": "stdout",
     "output_type": "stream",
     "text": [
      "_________________________________________________________________\n",
      "Layer (type)                 Output Shape              Param #   \n",
      "=================================================================\n",
      "dense_1 (Dense)              (None, 64)                704       \n",
      "_________________________________________________________________\n",
      "dropout_1 (Dropout)          (None, 64)                0         \n",
      "_________________________________________________________________\n",
      "dense_2 (Dense)              (None, 64)                4160      \n",
      "_________________________________________________________________\n",
      "dropout_2 (Dropout)          (None, 64)                0         \n",
      "_________________________________________________________________\n",
      "dense_3 (Dense)              (None, 2)                 130       \n",
      "=================================================================\n",
      "Total params: 4,994\n",
      "Trainable params: 4,994\n",
      "Non-trainable params: 0\n",
      "_________________________________________________________________\n"
     ]
    }
   ],
   "source": [
    "# Start with a simple sequential model\n",
    "model = Sequential()\n",
    "\n",
    "# Add dense layers to create a fully connected MLP\n",
    "# Note that we specify an input shape for the first layer, but only the first layer.\n",
    "# Relu is the activation function used\n",
    "model.add(Dense(64, activation='relu', input_shape=(X_train.shape[1],)))\n",
    "# Dropout layers remove features and fight overfitting\n",
    "model.add(Dropout(0.1))\n",
    "model.add(Dense(64, activation='relu'))\n",
    "model.add(Dropout(0.1))\n",
    "# End with a number of units equal to the number of classes we have for our outcome\n",
    "model.add(Dense(2, activation='softmax'))\n",
    "\n",
    "model.summary()\n",
    "\n"
   ]
  },
  {
   "cell_type": "code",
   "execution_count": 50,
   "metadata": {},
   "outputs": [
    {
     "data": {
      "text/html": [
       "<div>\n",
       "<style scoped>\n",
       "    .dataframe tbody tr th:only-of-type {\n",
       "        vertical-align: middle;\n",
       "    }\n",
       "\n",
       "    .dataframe tbody tr th {\n",
       "        vertical-align: top;\n",
       "    }\n",
       "\n",
       "    .dataframe thead th {\n",
       "        text-align: right;\n",
       "    }\n",
       "</style>\n",
       "<table border=\"1\" class=\"dataframe\">\n",
       "  <thead>\n",
       "    <tr style=\"text-align: right;\">\n",
       "      <th></th>\n",
       "      <th>order_id</th>\n",
       "      <th>product_id</th>\n",
       "      <th>add_to_cart_order</th>\n",
       "      <th>aisle_id</th>\n",
       "      <th>department_id</th>\n",
       "      <th>user_id</th>\n",
       "      <th>order_number</th>\n",
       "      <th>order_dow</th>\n",
       "      <th>order_hour_of_day</th>\n",
       "      <th>days_since_prior_order</th>\n",
       "    </tr>\n",
       "  </thead>\n",
       "  <tbody>\n",
       "    <tr>\n",
       "      <th>7980</th>\n",
       "      <td>19271</td>\n",
       "      <td>24852</td>\n",
       "      <td>11</td>\n",
       "      <td>24</td>\n",
       "      <td>4</td>\n",
       "      <td>18681</td>\n",
       "      <td>10</td>\n",
       "      <td>1</td>\n",
       "      <td>21</td>\n",
       "      <td>30.0</td>\n",
       "    </tr>\n",
       "    <tr>\n",
       "      <th>43462</th>\n",
       "      <td>107233</td>\n",
       "      <td>5769</td>\n",
       "      <td>7</td>\n",
       "      <td>69</td>\n",
       "      <td>15</td>\n",
       "      <td>92458</td>\n",
       "      <td>9</td>\n",
       "      <td>0</td>\n",
       "      <td>20</td>\n",
       "      <td>6.0</td>\n",
       "    </tr>\n",
       "    <tr>\n",
       "      <th>65829</th>\n",
       "      <td>161886</td>\n",
       "      <td>39877</td>\n",
       "      <td>7</td>\n",
       "      <td>24</td>\n",
       "      <td>4</td>\n",
       "      <td>101939</td>\n",
       "      <td>4</td>\n",
       "      <td>4</td>\n",
       "      <td>14</td>\n",
       "      <td>2.0</td>\n",
       "    </tr>\n",
       "    <tr>\n",
       "      <th>46884</th>\n",
       "      <td>115455</td>\n",
       "      <td>19862</td>\n",
       "      <td>1</td>\n",
       "      <td>78</td>\n",
       "      <td>19</td>\n",
       "      <td>63848</td>\n",
       "      <td>5</td>\n",
       "      <td>6</td>\n",
       "      <td>12</td>\n",
       "      <td>30.0</td>\n",
       "    </tr>\n",
       "    <tr>\n",
       "      <th>6161</th>\n",
       "      <td>15131</td>\n",
       "      <td>14947</td>\n",
       "      <td>5</td>\n",
       "      <td>115</td>\n",
       "      <td>7</td>\n",
       "      <td>201884</td>\n",
       "      <td>4</td>\n",
       "      <td>0</td>\n",
       "      <td>17</td>\n",
       "      <td>30.0</td>\n",
       "    </tr>\n",
       "  </tbody>\n",
       "</table>\n",
       "</div>"
      ],
      "text/plain": [
       "       order_id  product_id  add_to_cart_order  aisle_id  department_id  \\\n",
       "7980      19271       24852                 11        24              4   \n",
       "43462    107233        5769                  7        69             15   \n",
       "65829    161886       39877                  7        24              4   \n",
       "46884    115455       19862                  1        78             19   \n",
       "6161      15131       14947                  5       115              7   \n",
       "\n",
       "       user_id  order_number  order_dow  order_hour_of_day  \\\n",
       "7980     18681            10          1                 21   \n",
       "43462    92458             9          0                 20   \n",
       "65829   101939             4          4                 14   \n",
       "46884    63848             5          6                 12   \n",
       "6161    201884             4          0                 17   \n",
       "\n",
       "       days_since_prior_order  \n",
       "7980                     30.0  \n",
       "43462                     6.0  \n",
       "65829                     2.0  \n",
       "46884                    30.0  \n",
       "6161                     30.0  "
      ]
     },
     "execution_count": 50,
     "metadata": {},
     "output_type": "execute_result"
    }
   ],
   "source": [
    "X_train.head()"
   ]
  },
  {
   "cell_type": "code",
   "execution_count": 7,
   "metadata": {},
   "outputs": [
    {
     "name": "stdout",
     "output_type": "stream",
     "text": [
      "Train on 51549 samples, validate on 51549 samples\n",
      "Epoch 1/10\n",
      "51549/51549 [==============================] - ETA: 4:32 - loss: 8.9405 - acc: 0.445 - ETA: 41s - loss: 9.6061 - acc: 0.404 - ETA: 21s - loss: 9.4802 - acc: 0.41 - ETA: 16s - loss: 9.5198 - acc: 0.40 - ETA: 13s - loss: 9.5449 - acc: 0.40 - ETA: 11s - loss: 9.5491 - acc: 0.40 - ETA: 10s - loss: 9.6205 - acc: 0.40 - ETA: 10s - loss: 9.6296 - acc: 0.40 - ETA: 10s - loss: 9.6153 - acc: 0.40 - ETA: 10s - loss: 9.6301 - acc: 0.40 - ETA: 9s - loss: 9.6249 - acc: 0.4029 - ETA: 9s - loss: 9.6215 - acc: 0.403 - ETA: 8s - loss: 9.6028 - acc: 0.404 - ETA: 8s - loss: 9.6143 - acc: 0.403 - ETA: 8s - loss: 9.6192 - acc: 0.403 - ETA: 8s - loss: 9.6252 - acc: 0.402 - ETA: 7s - loss: 9.6586 - acc: 0.400 - ETA: 6s - loss: 9.6299 - acc: 0.402 - ETA: 6s - loss: 9.6346 - acc: 0.402 - ETA: 6s - loss: 9.6396 - acc: 0.401 - ETA: 6s - loss: 9.6545 - acc: 0.401 - ETA: 6s - loss: 9.6632 - acc: 0.400 - ETA: 6s - loss: 9.6685 - acc: 0.400 - ETA: 6s - loss: 9.6558 - acc: 0.400 - ETA: 6s - loss: 9.6281 - acc: 0.402 - ETA: 6s - loss: 9.6307 - acc: 0.402 - ETA: 5s - loss: 9.6109 - acc: 0.403 - ETA: 5s - loss: 9.5781 - acc: 0.405 - ETA: 5s - loss: 9.5590 - acc: 0.406 - ETA: 5s - loss: 9.5581 - acc: 0.407 - ETA: 5s - loss: 9.5647 - acc: 0.406 - ETA: 5s - loss: 9.5669 - acc: 0.406 - ETA: 5s - loss: 9.5650 - acc: 0.406 - ETA: 5s - loss: 9.5610 - acc: 0.406 - ETA: 5s - loss: 9.5631 - acc: 0.406 - ETA: 5s - loss: 9.5652 - acc: 0.406 - ETA: 5s - loss: 9.5616 - acc: 0.406 - ETA: 5s - loss: 9.5294 - acc: 0.408 - ETA: 5s - loss: 9.5395 - acc: 0.408 - ETA: 5s - loss: 9.5243 - acc: 0.409 - ETA: 5s - loss: 9.5114 - acc: 0.409 - ETA: 5s - loss: 9.4689 - acc: 0.412 - ETA: 4s - loss: 9.4260 - acc: 0.415 - ETA: 4s - loss: 9.3797 - acc: 0.418 - ETA: 4s - loss: 9.3760 - acc: 0.418 - ETA: 4s - loss: 9.3720 - acc: 0.418 - ETA: 4s - loss: 9.3552 - acc: 0.419 - ETA: 4s - loss: 9.3427 - acc: 0.420 - ETA: 4s - loss: 9.3293 - acc: 0.421 - ETA: 3s - loss: 9.3282 - acc: 0.421 - ETA: 3s - loss: 9.3150 - acc: 0.422 - ETA: 3s - loss: 9.2979 - acc: 0.423 - ETA: 3s - loss: 9.2767 - acc: 0.424 - ETA: 3s - loss: 9.2679 - acc: 0.425 - ETA: 3s - loss: 9.2578 - acc: 0.425 - ETA: 3s - loss: 9.2254 - acc: 0.427 - ETA: 3s - loss: 9.2188 - acc: 0.428 - ETA: 3s - loss: 9.2082 - acc: 0.428 - ETA: 2s - loss: 9.2125 - acc: 0.428 - ETA: 2s - loss: 9.1955 - acc: 0.429 - ETA: 2s - loss: 9.1939 - acc: 0.429 - ETA: 2s - loss: 9.1897 - acc: 0.429 - ETA: 2s - loss: 9.1923 - acc: 0.429 - ETA: 2s - loss: 9.1744 - acc: 0.430 - ETA: 2s - loss: 9.1716 - acc: 0.430 - ETA: 2s - loss: 9.1672 - acc: 0.431 - ETA: 2s - loss: 9.1597 - acc: 0.431 - ETA: 2s - loss: 9.1446 - acc: 0.432 - ETA: 2s - loss: 9.1352 - acc: 0.433 - ETA: 1s - loss: 9.1359 - acc: 0.433 - ETA: 1s - loss: 9.1244 - acc: 0.433 - ETA: 1s - loss: 9.1137 - acc: 0.434 - ETA: 1s - loss: 9.1076 - acc: 0.434 - ETA: 1s - loss: 9.1009 - acc: 0.435 - ETA: 1s - loss: 9.0996 - acc: 0.435 - ETA: 1s - loss: 9.0837 - acc: 0.436 - ETA: 1s - loss: 9.0734 - acc: 0.437 - ETA: 1s - loss: 9.0643 - acc: 0.437 - ETA: 1s - loss: 9.0505 - acc: 0.438 - ETA: 1s - loss: 9.0273 - acc: 0.439 - ETA: 0s - loss: 9.0122 - acc: 0.440 - ETA: 0s - loss: 8.9917 - acc: 0.442 - ETA: 0s - loss: 8.9785 - acc: 0.442 - ETA: 0s - loss: 8.9749 - acc: 0.443 - ETA: 0s - loss: 8.9709 - acc: 0.443 - ETA: 0s - loss: 8.9679 - acc: 0.443 - ETA: 0s - loss: 8.9667 - acc: 0.443 - ETA: 0s - loss: 8.9733 - acc: 0.443 - ETA: 0s - loss: 8.9743 - acc: 0.443 - ETA: 0s - loss: 8.9781 - acc: 0.442 - ETA: 0s - loss: 8.9781 - acc: 0.442 - 6s 124us/step - loss: 8.9725 - acc: 0.4433 - val_loss: 8.3723 - val_acc: 0.4805\n",
      "Epoch 2/10\n",
      "51549/51549 [==============================] - ETA: 4s - loss: 7.6813 - acc: 0.523 - ETA: 2s - loss: 9.0044 - acc: 0.441 - ETA: 2s - loss: 8.9442 - acc: 0.444 - ETA: 2s - loss: 9.0095 - acc: 0.440 - ETA: 3s - loss: 8.9699 - acc: 0.443 - ETA: 3s - loss: 8.9050 - acc: 0.447 - ETA: 3s - loss: 8.8658 - acc: 0.449 - ETA: 3s - loss: 8.7385 - acc: 0.457 - ETA: 3s - loss: 8.7128 - acc: 0.459 - ETA: 3s - loss: 8.6858 - acc: 0.460 - ETA: 3s - loss: 8.6419 - acc: 0.463 - ETA: 3s - loss: 8.6569 - acc: 0.462 - ETA: 3s - loss: 8.6625 - acc: 0.462 - ETA: 3s - loss: 8.6917 - acc: 0.460 - ETA: 3s - loss: 8.6933 - acc: 0.460 - ETA: 3s - loss: 8.6775 - acc: 0.461 - ETA: 3s - loss: 8.6667 - acc: 0.462 - ETA: 3s - loss: 8.6617 - acc: 0.462 - ETA: 3s - loss: 8.6668 - acc: 0.462 - ETA: 3s - loss: 8.6677 - acc: 0.462 - ETA: 3s - loss: 8.6448 - acc: 0.463 - ETA: 3s - loss: 8.6265 - acc: 0.464 - ETA: 3s - loss: 8.6129 - acc: 0.465 - ETA: 2s - loss: 8.6158 - acc: 0.465 - ETA: 2s - loss: 8.6112 - acc: 0.465 - ETA: 2s - loss: 8.6062 - acc: 0.465 - ETA: 2s - loss: 8.6102 - acc: 0.465 - ETA: 2s - loss: 8.6070 - acc: 0.465 - ETA: 2s - loss: 8.6189 - acc: 0.465 - ETA: 2s - loss: 8.5938 - acc: 0.466 - ETA: 2s - loss: 8.5823 - acc: 0.467 - ETA: 2s - loss: 8.5539 - acc: 0.469 - ETA: 2s - loss: 8.5393 - acc: 0.470 - ETA: 2s - loss: 8.5229 - acc: 0.471 - ETA: 2s - loss: 8.5023 - acc: 0.472 - ETA: 2s - loss: 8.4785 - acc: 0.473 - ETA: 2s - loss: 8.4345 - acc: 0.476 - ETA: 2s - loss: 8.4082 - acc: 0.478 - ETA: 2s - loss: 8.3904 - acc: 0.479 - ETA: 2s - loss: 8.3603 - acc: 0.481 - ETA: 2s - loss: 8.3242 - acc: 0.483 - ETA: 2s - loss: 8.3079 - acc: 0.484 - ETA: 2s - loss: 8.2675 - acc: 0.487 - ETA: 1s - loss: 8.2465 - acc: 0.488 - ETA: 1s - loss: 8.2194 - acc: 0.489 - ETA: 1s - loss: 8.2093 - acc: 0.490 - ETA: 1s - loss: 8.1700 - acc: 0.493 - ETA: 1s - loss: 8.1565 - acc: 0.493 - ETA: 1s - loss: 8.1303 - acc: 0.495 - ETA: 1s - loss: 8.1069 - acc: 0.496 - ETA: 1s - loss: 8.1011 - acc: 0.497 - ETA: 1s - loss: 8.0984 - acc: 0.497 - ETA: 1s - loss: 8.0953 - acc: 0.497 - ETA: 1s - loss: 8.0715 - acc: 0.499 - ETA: 1s - loss: 8.0701 - acc: 0.499 - ETA: 1s - loss: 8.0569 - acc: 0.500 - ETA: 1s - loss: 8.0522 - acc: 0.500 - ETA: 1s - loss: 8.0354 - acc: 0.501 - ETA: 1s - loss: 8.0343 - acc: 0.501 - ETA: 1s - loss: 8.0200 - acc: 0.502 - ETA: 1s - loss: 8.0206 - acc: 0.502 - ETA: 1s - loss: 8.0177 - acc: 0.502 - ETA: 0s - loss: 8.0092 - acc: 0.503 - ETA: 0s - loss: 8.0224 - acc: 0.502 - ETA: 0s - loss: 8.0281 - acc: 0.501 - ETA: 0s - loss: 8.0344 - acc: 0.501 - ETA: 0s - loss: 8.0339 - acc: 0.501 - ETA: 0s - loss: 8.0360 - acc: 0.501 - ETA: 0s - loss: 8.0318 - acc: 0.501 - ETA: 0s - loss: 8.0222 - acc: 0.502 - ETA: 0s - loss: 8.0234 - acc: 0.502 - ETA: 0s - loss: 8.0236 - acc: 0.502 - ETA: 0s - loss: 8.0375 - acc: 0.501 - ETA: 0s - loss: 8.0443 - acc: 0.500 - ETA: 0s - loss: 8.0477 - acc: 0.500 - ETA: 0s - loss: 8.0478 - acc: 0.500 - ETA: 0s - loss: 8.0489 - acc: 0.500 - ETA: 0s - loss: 8.0447 - acc: 0.500 - ETA: 0s - loss: 8.0486 - acc: 0.500 - 5s 96us/step - loss: 8.0593 - acc: 0.4999 - val_loss: 8.5648 - val_acc: 0.4686\n",
      "Epoch 3/10\n",
      "51549/51549 [==============================] - ETA: 2s - loss: 8.4368 - acc: 0.476 - ETA: 1s - loss: 8.5537 - acc: 0.469 - ETA: 1s - loss: 8.4526 - acc: 0.475 - ETA: 2s - loss: 8.4284 - acc: 0.477 - ETA: 2s - loss: 8.5068 - acc: 0.472 - ETA: 2s - loss: 8.5573 - acc: 0.468 - ETA: 2s - loss: 8.6180 - acc: 0.465 - ETA: 2s - loss: 8.5602 - acc: 0.468 - ETA: 2s - loss: 8.5545 - acc: 0.469 - ETA: 2s - loss: 8.5210 - acc: 0.471 - ETA: 2s - loss: 8.5301 - acc: 0.470 - ETA: 2s - loss: 8.5243 - acc: 0.471 - ETA: 2s - loss: 8.5043 - acc: 0.472 - ETA: 2s - loss: 8.5215 - acc: 0.471 - ETA: 2s - loss: 8.5192 - acc: 0.471 - ETA: 2s - loss: 8.4934 - acc: 0.472 - ETA: 2s - loss: 8.4944 - acc: 0.472 - ETA: 2s - loss: 8.4753 - acc: 0.474 - ETA: 2s - loss: 8.4450 - acc: 0.475 - ETA: 2s - loss: 8.4220 - acc: 0.477 - ETA: 2s - loss: 8.3929 - acc: 0.479 - ETA: 2s - loss: 8.3861 - acc: 0.479 - ETA: 2s - loss: 8.3586 - acc: 0.481 - ETA: 2s - loss: 8.3473 - acc: 0.481 - ETA: 2s - loss: 8.3658 - acc: 0.480 - ETA: 2s - loss: 8.3710 - acc: 0.480 - ETA: 2s - loss: 8.3545 - acc: 0.481 - ETA: 2s - loss: 8.3547 - acc: 0.481 - ETA: 2s - loss: 8.3725 - acc: 0.480 - ETA: 2s - loss: 8.3661 - acc: 0.480 - ETA: 2s - loss: 8.3637 - acc: 0.481 - ETA: 2s - loss: 8.3678 - acc: 0.480 - ETA: 2s - loss: 8.3493 - acc: 0.481 - ETA: 2s - loss: 8.3320 - acc: 0.482 - ETA: 2s - loss: 8.3323 - acc: 0.482 - ETA: 2s - loss: 8.3161 - acc: 0.483 - ETA: 2s - loss: 8.3166 - acc: 0.483 - ETA: 2s - loss: 8.3072 - acc: 0.484 - ETA: 1s - loss: 8.2967 - acc: 0.485 - ETA: 1s - loss: 8.2780 - acc: 0.486 - ETA: 1s - loss: 8.2644 - acc: 0.487 - ETA: 1s - loss: 8.2592 - acc: 0.487 - ETA: 1s - loss: 8.2529 - acc: 0.487 - ETA: 1s - loss: 8.2225 - acc: 0.489 - ETA: 1s - loss: 8.2114 - acc: 0.490 - ETA: 1s - loss: 8.2070 - acc: 0.490 - ETA: 1s - loss: 8.1965 - acc: 0.491 - ETA: 1s - loss: 8.1909 - acc: 0.491 - ETA: 1s - loss: 8.1909 - acc: 0.491 - ETA: 1s - loss: 8.1888 - acc: 0.491 - ETA: 1s - loss: 8.1859 - acc: 0.492 - ETA: 1s - loss: 8.1822 - acc: 0.492 - ETA: 1s - loss: 8.1642 - acc: 0.493 - ETA: 1s - loss: 8.1540 - acc: 0.494 - ETA: 1s - loss: 8.1469 - acc: 0.494 - ETA: 1s - loss: 8.1317 - acc: 0.495 - ETA: 1s - loss: 8.1188 - acc: 0.496 - ETA: 1s - loss: 8.1120 - acc: 0.496 - ETA: 1s - loss: 8.0996 - acc: 0.497 - ETA: 1s - loss: 8.0818 - acc: 0.498 - ETA: 1s - loss: 8.0737 - acc: 0.499 - ETA: 0s - loss: 8.0579 - acc: 0.500 - ETA: 0s - loss: 8.0492 - acc: 0.500 - ETA: 0s - loss: 8.0504 - acc: 0.500 - ETA: 0s - loss: 8.0421 - acc: 0.501 - ETA: 0s - loss: 8.0300 - acc: 0.501 - ETA: 0s - loss: 8.0215 - acc: 0.502 - ETA: 0s - loss: 8.0031 - acc: 0.503 - ETA: 0s - loss: 8.0004 - acc: 0.503 - ETA: 0s - loss: 7.9808 - acc: 0.504 - ETA: 0s - loss: 7.9729 - acc: 0.505 - ETA: 0s - loss: 7.9681 - acc: 0.505 - ETA: 0s - loss: 7.9540 - acc: 0.506 - ETA: 0s - loss: 7.9508 - acc: 0.506 - ETA: 0s - loss: 7.9493 - acc: 0.506 - ETA: 0s - loss: 7.9384 - acc: 0.507 - ETA: 0s - loss: 7.9387 - acc: 0.507 - ETA: 0s - loss: 7.9363 - acc: 0.507 - ETA: 0s - loss: 7.9266 - acc: 0.508 - ETA: 0s - loss: 7.9234 - acc: 0.508 - ETA: 0s - loss: 7.9235 - acc: 0.508 - 5s 98us/step - loss: 7.9119 - acc: 0.5091 - val_loss: 7.3721 - val_acc: 0.5425\n",
      "Epoch 4/10\n",
      "51549/51549 [==============================] - ETA: 4s - loss: 6.6739 - acc: 0.585 - ETA: 2s - loss: 7.0517 - acc: 0.562 - ETA: 2s - loss: 7.2436 - acc: 0.550 - ETA: 2s - loss: 7.3088 - acc: 0.546 - ETA: 2s - loss: 7.1927 - acc: 0.553 - ETA: 2s - loss: 7.1381 - acc: 0.556 - ETA: 2s - loss: 7.1449 - acc: 0.556 - ETA: 2s - loss: 7.1358 - acc: 0.557 - ETA: 3s - loss: 7.1284 - acc: 0.557 - ETA: 3s - loss: 7.0892 - acc: 0.560 - ETA: 3s - loss: 7.0412 - acc: 0.563 - ETA: 3s - loss: 7.0046 - acc: 0.565 - ETA: 3s - loss: 6.9314 - acc: 0.569 - ETA: 3s - loss: 6.9471 - acc: 0.568 - ETA: 3s - loss: 6.9533 - acc: 0.568 - ETA: 3s - loss: 6.9153 - acc: 0.570 - ETA: 3s - loss: 6.9058 - acc: 0.571 - ETA: 3s - loss: 6.8937 - acc: 0.572 - ETA: 3s - loss: 6.8882 - acc: 0.572 - ETA: 3s - loss: 6.8880 - acc: 0.572 - ETA: 2s - loss: 6.8880 - acc: 0.572 - ETA: 2s - loss: 6.8810 - acc: 0.573 - ETA: 2s - loss: 6.8509 - acc: 0.574 - ETA: 2s - loss: 6.8400 - acc: 0.575 - ETA: 2s - loss: 6.8326 - acc: 0.576 - ETA: 2s - loss: 6.8347 - acc: 0.575 - ETA: 2s - loss: 6.8402 - acc: 0.575 - ETA: 2s - loss: 6.8220 - acc: 0.576 - ETA: 2s - loss: 6.8148 - acc: 0.577 - ETA: 2s - loss: 6.7808 - acc: 0.579 - ETA: 2s - loss: 6.7762 - acc: 0.579 - ETA: 2s - loss: 6.7727 - acc: 0.579 - ETA: 2s - loss: 6.7812 - acc: 0.579 - ETA: 2s - loss: 6.7605 - acc: 0.580 - ETA: 2s - loss: 6.7450 - acc: 0.581 - ETA: 2s - loss: 6.7495 - acc: 0.581 - ETA: 1s - loss: 6.7227 - acc: 0.582 - ETA: 1s - loss: 6.7172 - acc: 0.583 - ETA: 1s - loss: 6.7199 - acc: 0.583 - ETA: 1s - loss: 6.7216 - acc: 0.582 - ETA: 1s - loss: 6.7108 - acc: 0.583 - ETA: 1s - loss: 6.6980 - acc: 0.584 - ETA: 1s - loss: 6.7076 - acc: 0.583 - ETA: 1s - loss: 6.7035 - acc: 0.584 - ETA: 1s - loss: 6.7001 - acc: 0.584 - ETA: 1s - loss: 6.6926 - acc: 0.584 - ETA: 1s - loss: 6.6831 - acc: 0.585 - ETA: 1s - loss: 6.6854 - acc: 0.585 - ETA: 1s - loss: 6.6734 - acc: 0.585 - ETA: 0s - loss: 6.6663 - acc: 0.586 - ETA: 0s - loss: 6.6655 - acc: 0.586 - ETA: 0s - loss: 6.6682 - acc: 0.586 - ETA: 0s - loss: 6.6663 - acc: 0.586 - ETA: 0s - loss: 6.6679 - acc: 0.586 - ETA: 0s - loss: 6.6672 - acc: 0.586 - ETA: 0s - loss: 6.6689 - acc: 0.586 - ETA: 0s - loss: 6.6623 - acc: 0.586 - ETA: 0s - loss: 6.6581 - acc: 0.586 - ETA: 0s - loss: 6.6569 - acc: 0.587 - ETA: 0s - loss: 6.6503 - acc: 0.587 - ETA: 0s - loss: 6.6416 - acc: 0.587 - ETA: 0s - loss: 6.6408 - acc: 0.588 - ETA: 0s - loss: 6.6396 - acc: 0.588 - ETA: 0s - loss: 6.6391 - acc: 0.588 - ETA: 0s - loss: 6.6409 - acc: 0.588 - ETA: 0s - loss: 6.6443 - acc: 0.587 - ETA: 0s - loss: 6.6489 - acc: 0.587 - ETA: 0s - loss: 6.6452 - acc: 0.587 - ETA: 0s - loss: 6.6473 - acc: 0.587 - ETA: 0s - loss: 6.6394 - acc: 0.588 - ETA: 0s - loss: 6.6293 - acc: 0.588 - 4s 86us/step - loss: 6.6265 - acc: 0.5888 - val_loss: 6.4564 - val_acc: 0.5994\n",
      "Epoch 5/10\n"
     ]
    },
    {
     "name": "stdout",
     "output_type": "stream",
     "text": [
      "51549/51549 [==============================] - ETA: 4s - loss: 6.6739 - acc: 0.585 - ETA: 2s - loss: 6.3969 - acc: 0.603 - ETA: 4s - loss: 6.3419 - acc: 0.606 - ETA: 4s - loss: 6.3045 - acc: 0.608 - ETA: 4s - loss: 6.3534 - acc: 0.605 - ETA: 4s - loss: 6.3288 - acc: 0.607 - ETA: 4s - loss: 6.3917 - acc: 0.603 - ETA: 4s - loss: 6.3556 - acc: 0.605 - ETA: 4s - loss: 6.3752 - acc: 0.604 - ETA: 4s - loss: 6.3872 - acc: 0.603 - ETA: 4s - loss: 6.4270 - acc: 0.601 - ETA: 3s - loss: 6.4552 - acc: 0.599 - ETA: 3s - loss: 6.4745 - acc: 0.598 - ETA: 3s - loss: 6.4712 - acc: 0.598 - ETA: 3s - loss: 6.4348 - acc: 0.600 - ETA: 3s - loss: 6.4500 - acc: 0.599 - ETA: 4s - loss: 6.4606 - acc: 0.599 - ETA: 3s - loss: 6.4865 - acc: 0.597 - ETA: 3s - loss: 6.4798 - acc: 0.598 - ETA: 3s - loss: 6.4738 - acc: 0.598 - ETA: 3s - loss: 6.4928 - acc: 0.597 - ETA: 3s - loss: 6.4813 - acc: 0.597 - ETA: 3s - loss: 6.5040 - acc: 0.596 - ETA: 3s - loss: 6.5019 - acc: 0.596 - ETA: 3s - loss: 6.4924 - acc: 0.597 - ETA: 3s - loss: 6.5001 - acc: 0.596 - ETA: 3s - loss: 6.4919 - acc: 0.597 - ETA: 3s - loss: 6.4940 - acc: 0.597 - ETA: 3s - loss: 6.5003 - acc: 0.596 - ETA: 3s - loss: 6.5149 - acc: 0.595 - ETA: 3s - loss: 6.5224 - acc: 0.595 - ETA: 2s - loss: 6.5291 - acc: 0.594 - ETA: 2s - loss: 6.5292 - acc: 0.594 - ETA: 2s - loss: 6.5342 - acc: 0.594 - ETA: 2s - loss: 6.5242 - acc: 0.595 - ETA: 2s - loss: 6.5216 - acc: 0.595 - ETA: 2s - loss: 6.5249 - acc: 0.595 - ETA: 2s - loss: 6.5268 - acc: 0.595 - ETA: 2s - loss: 6.5225 - acc: 0.595 - ETA: 2s - loss: 6.5265 - acc: 0.595 - ETA: 2s - loss: 6.5200 - acc: 0.595 - ETA: 2s - loss: 6.5157 - acc: 0.595 - ETA: 2s - loss: 6.5220 - acc: 0.595 - ETA: 2s - loss: 6.5204 - acc: 0.595 - ETA: 2s - loss: 6.5206 - acc: 0.595 - ETA: 2s - loss: 6.5112 - acc: 0.596 - ETA: 2s - loss: 6.5029 - acc: 0.596 - ETA: 2s - loss: 6.4889 - acc: 0.597 - ETA: 2s - loss: 6.4881 - acc: 0.597 - ETA: 2s - loss: 6.4757 - acc: 0.598 - ETA: 2s - loss: 6.4772 - acc: 0.598 - ETA: 1s - loss: 6.4886 - acc: 0.597 - ETA: 1s - loss: 6.4926 - acc: 0.597 - ETA: 1s - loss: 6.4983 - acc: 0.596 - ETA: 1s - loss: 6.4946 - acc: 0.597 - ETA: 1s - loss: 6.4945 - acc: 0.597 - ETA: 1s - loss: 6.4895 - acc: 0.597 - ETA: 1s - loss: 6.4825 - acc: 0.597 - ETA: 1s - loss: 6.4823 - acc: 0.597 - ETA: 1s - loss: 6.4794 - acc: 0.598 - ETA: 1s - loss: 6.4758 - acc: 0.598 - ETA: 1s - loss: 6.4777 - acc: 0.598 - ETA: 1s - loss: 6.4781 - acc: 0.598 - ETA: 1s - loss: 6.4725 - acc: 0.598 - ETA: 1s - loss: 6.4615 - acc: 0.599 - ETA: 1s - loss: 6.4607 - acc: 0.599 - ETA: 1s - loss: 6.4648 - acc: 0.598 - ETA: 1s - loss: 6.4660 - acc: 0.598 - ETA: 1s - loss: 6.4630 - acc: 0.599 - ETA: 0s - loss: 6.4609 - acc: 0.599 - ETA: 0s - loss: 6.4537 - acc: 0.599 - ETA: 0s - loss: 6.4489 - acc: 0.599 - ETA: 0s - loss: 6.4506 - acc: 0.599 - ETA: 0s - loss: 6.4579 - acc: 0.599 - ETA: 0s - loss: 6.4554 - acc: 0.599 - ETA: 0s - loss: 6.4536 - acc: 0.599 - ETA: 0s - loss: 6.4539 - acc: 0.599 - ETA: 0s - loss: 6.4556 - acc: 0.599 - ETA: 0s - loss: 6.4553 - acc: 0.599 - ETA: 0s - loss: 6.4574 - acc: 0.599 - ETA: 0s - loss: 6.4624 - acc: 0.599 - ETA: 0s - loss: 6.4587 - acc: 0.599 - ETA: 0s - loss: 6.4585 - acc: 0.599 - ETA: 0s - loss: 6.4624 - acc: 0.599 - ETA: 0s - loss: 6.4605 - acc: 0.599 - ETA: 0s - loss: 6.4616 - acc: 0.599 - ETA: 0s - loss: 6.4663 - acc: 0.598 - ETA: 0s - loss: 6.4711 - acc: 0.598 - ETA: 0s - loss: 6.4635 - acc: 0.599 - 5s 106us/step - loss: 6.4620 - acc: 0.5991 - val_loss: 6.4564 - val_acc: 0.5994\n",
      "Epoch 6/10\n",
      "51549/51549 [==============================] - ETA: 4s - loss: 6.5480 - acc: 0.593 - ETA: 10s - loss: 6.6739 - acc: 0.58 - ETA: 6s - loss: 6.6991 - acc: 0.5844 - ETA: 5s - loss: 6.6739 - acc: 0.585 - ETA: 4s - loss: 6.5136 - acc: 0.595 - ETA: 4s - loss: 6.4705 - acc: 0.598 - ETA: 4s - loss: 6.4339 - acc: 0.600 - ETA: 4s - loss: 6.4332 - acc: 0.600 - ETA: 5s - loss: 6.4465 - acc: 0.600 - ETA: 4s - loss: 6.3668 - acc: 0.605 - ETA: 5s - loss: 6.3906 - acc: 0.603 - ETA: 5s - loss: 6.3717 - acc: 0.604 - ETA: 5s - loss: 6.3748 - acc: 0.604 - ETA: 5s - loss: 6.3871 - acc: 0.603 - ETA: 5s - loss: 6.4086 - acc: 0.602 - ETA: 5s - loss: 6.4242 - acc: 0.601 - ETA: 5s - loss: 6.4122 - acc: 0.602 - ETA: 4s - loss: 6.4054 - acc: 0.602 - ETA: 4s - loss: 6.4116 - acc: 0.602 - ETA: 4s - loss: 6.4187 - acc: 0.601 - ETA: 4s - loss: 6.4125 - acc: 0.602 - ETA: 4s - loss: 6.4312 - acc: 0.601 - ETA: 4s - loss: 6.4323 - acc: 0.600 - ETA: 4s - loss: 6.4293 - acc: 0.601 - ETA: 4s - loss: 6.4586 - acc: 0.599 - ETA: 4s - loss: 6.4532 - acc: 0.599 - ETA: 4s - loss: 6.4421 - acc: 0.600 - ETA: 4s - loss: 6.4417 - acc: 0.600 - ETA: 4s - loss: 6.4470 - acc: 0.600 - ETA: 4s - loss: 6.4479 - acc: 0.600 - ETA: 4s - loss: 6.4552 - acc: 0.599 - ETA: 4s - loss: 6.4626 - acc: 0.599 - ETA: 4s - loss: 6.4607 - acc: 0.599 - ETA: 3s - loss: 6.4465 - acc: 0.600 - ETA: 4s - loss: 6.4500 - acc: 0.599 - ETA: 3s - loss: 6.4447 - acc: 0.600 - ETA: 3s - loss: 6.4538 - acc: 0.599 - ETA: 3s - loss: 6.4617 - acc: 0.599 - ETA: 3s - loss: 6.4433 - acc: 0.600 - ETA: 3s - loss: 6.4469 - acc: 0.600 - ETA: 3s - loss: 6.4501 - acc: 0.599 - ETA: 3s - loss: 6.4452 - acc: 0.600 - ETA: 3s - loss: 6.4363 - acc: 0.600 - ETA: 3s - loss: 6.4440 - acc: 0.600 - ETA: 3s - loss: 6.4480 - acc: 0.600 - ETA: 3s - loss: 6.4409 - acc: 0.600 - ETA: 3s - loss: 6.4483 - acc: 0.599 - ETA: 3s - loss: 6.4427 - acc: 0.600 - ETA: 3s - loss: 6.4491 - acc: 0.599 - ETA: 2s - loss: 6.4553 - acc: 0.599 - ETA: 2s - loss: 6.4570 - acc: 0.599 - ETA: 2s - loss: 6.4446 - acc: 0.600 - ETA: 2s - loss: 6.4391 - acc: 0.600 - ETA: 2s - loss: 6.4436 - acc: 0.600 - ETA: 2s - loss: 6.4451 - acc: 0.600 - ETA: 2s - loss: 6.4504 - acc: 0.599 - ETA: 2s - loss: 6.4418 - acc: 0.600 - ETA: 2s - loss: 6.4521 - acc: 0.599 - ETA: 2s - loss: 6.4537 - acc: 0.599 - ETA: 2s - loss: 6.4501 - acc: 0.599 - ETA: 2s - loss: 6.4505 - acc: 0.599 - ETA: 2s - loss: 6.4475 - acc: 0.600 - ETA: 2s - loss: 6.4481 - acc: 0.599 - ETA: 1s - loss: 6.4453 - acc: 0.600 - ETA: 1s - loss: 6.4510 - acc: 0.599 - ETA: 1s - loss: 6.4573 - acc: 0.599 - ETA: 1s - loss: 6.4646 - acc: 0.598 - ETA: 1s - loss: 6.4731 - acc: 0.598 - ETA: 1s - loss: 6.4734 - acc: 0.598 - ETA: 1s - loss: 6.4726 - acc: 0.598 - ETA: 1s - loss: 6.4739 - acc: 0.598 - ETA: 1s - loss: 6.4715 - acc: 0.598 - ETA: 1s - loss: 6.4711 - acc: 0.598 - ETA: 1s - loss: 6.4732 - acc: 0.598 - ETA: 1s - loss: 6.4635 - acc: 0.599 - ETA: 1s - loss: 6.4686 - acc: 0.598 - ETA: 1s - loss: 6.4643 - acc: 0.598 - ETA: 1s - loss: 6.4600 - acc: 0.599 - ETA: 1s - loss: 6.4654 - acc: 0.598 - ETA: 1s - loss: 6.4611 - acc: 0.599 - ETA: 0s - loss: 6.4554 - acc: 0.599 - ETA: 0s - loss: 6.4594 - acc: 0.599 - ETA: 0s - loss: 6.4595 - acc: 0.599 - ETA: 0s - loss: 6.4627 - acc: 0.599 - ETA: 0s - loss: 6.4691 - acc: 0.598 - ETA: 0s - loss: 6.4688 - acc: 0.598 - ETA: 0s - loss: 6.4703 - acc: 0.598 - ETA: 0s - loss: 6.4612 - acc: 0.599 - ETA: 0s - loss: 6.4626 - acc: 0.599 - ETA: 0s - loss: 6.4618 - acc: 0.599 - ETA: 0s - loss: 6.4584 - acc: 0.599 - ETA: 0s - loss: 6.4652 - acc: 0.598 - ETA: 0s - loss: 6.4657 - acc: 0.598 - ETA: 0s - loss: 6.4621 - acc: 0.599 - 6s 112us/step - loss: 6.4602 - acc: 0.5992 - val_loss: 6.4564 - val_acc: 0.5994\n",
      "Epoch 7/10\n",
      "51549/51549 [==============================] - ETA: 4s - loss: 6.6739 - acc: 0.585 - ETA: 1s - loss: 6.5060 - acc: 0.596 - ETA: 3s - loss: 6.4614 - acc: 0.599 - ETA: 3s - loss: 6.4793 - acc: 0.598 - ETA: 3s - loss: 6.3591 - acc: 0.605 - ETA: 3s - loss: 6.3788 - acc: 0.604 - ETA: 3s - loss: 6.3540 - acc: 0.605 - ETA: 3s - loss: 6.4045 - acc: 0.602 - ETA: 3s - loss: 6.3646 - acc: 0.605 - ETA: 3s - loss: 6.3541 - acc: 0.605 - ETA: 3s - loss: 6.4155 - acc: 0.602 - ETA: 3s - loss: 6.4102 - acc: 0.602 - ETA: 3s - loss: 6.3965 - acc: 0.603 - ETA: 3s - loss: 6.3750 - acc: 0.604 - ETA: 3s - loss: 6.3583 - acc: 0.605 - ETA: 3s - loss: 6.3692 - acc: 0.604 - ETA: 3s - loss: 6.3106 - acc: 0.608 - ETA: 3s - loss: 6.3300 - acc: 0.607 - ETA: 3s - loss: 6.3420 - acc: 0.606 - ETA: 3s - loss: 6.3585 - acc: 0.605 - ETA: 3s - loss: 6.3631 - acc: 0.605 - ETA: 3s - loss: 6.3445 - acc: 0.606 - ETA: 3s - loss: 6.3378 - acc: 0.606 - ETA: 3s - loss: 6.3539 - acc: 0.605 - ETA: 3s - loss: 6.3477 - acc: 0.606 - ETA: 2s - loss: 6.3638 - acc: 0.605 - ETA: 2s - loss: 6.3731 - acc: 0.604 - ETA: 2s - loss: 6.3639 - acc: 0.605 - ETA: 2s - loss: 6.3787 - acc: 0.604 - ETA: 2s - loss: 6.3725 - acc: 0.604 - ETA: 2s - loss: 6.3831 - acc: 0.604 - ETA: 2s - loss: 6.3820 - acc: 0.604 - ETA: 2s - loss: 6.3765 - acc: 0.604 - ETA: 2s - loss: 6.3874 - acc: 0.603 - ETA: 2s - loss: 6.3863 - acc: 0.603 - ETA: 2s - loss: 6.3960 - acc: 0.603 - ETA: 2s - loss: 6.4001 - acc: 0.602 - ETA: 2s - loss: 6.3946 - acc: 0.603 - ETA: 2s - loss: 6.3960 - acc: 0.603 - ETA: 2s - loss: 6.3970 - acc: 0.603 - ETA: 2s - loss: 6.4073 - acc: 0.602 - ETA: 2s - loss: 6.4177 - acc: 0.601 - ETA: 2s - loss: 6.4087 - acc: 0.602 - ETA: 2s - loss: 6.4185 - acc: 0.601 - ETA: 2s - loss: 6.4232 - acc: 0.601 - ETA: 2s - loss: 6.4232 - acc: 0.601 - ETA: 2s - loss: 6.4221 - acc: 0.601 - ETA: 2s - loss: 6.4314 - acc: 0.601 - ETA: 2s - loss: 6.4346 - acc: 0.600 - ETA: 2s - loss: 6.4334 - acc: 0.600 - ETA: 1s - loss: 6.4368 - acc: 0.600 - ETA: 1s - loss: 6.4362 - acc: 0.600 - ETA: 1s - loss: 6.4350 - acc: 0.600 - ETA: 1s - loss: 6.4349 - acc: 0.600 - ETA: 1s - loss: 6.4362 - acc: 0.600 - ETA: 1s - loss: 6.4379 - acc: 0.600 - ETA: 1s - loss: 6.4410 - acc: 0.600 - ETA: 1s - loss: 6.4452 - acc: 0.600 - ETA: 1s - loss: 6.4491 - acc: 0.599 - ETA: 1s - loss: 6.4542 - acc: 0.599 - ETA: 1s - loss: 6.4588 - acc: 0.599 - ETA: 1s - loss: 6.4617 - acc: 0.599 - ETA: 1s - loss: 6.4652 - acc: 0.598 - ETA: 1s - loss: 6.4670 - acc: 0.598 - ETA: 1s - loss: 6.4751 - acc: 0.598 - ETA: 1s - loss: 6.4745 - acc: 0.598 - ETA: 1s - loss: 6.4715 - acc: 0.598 - ETA: 1s - loss: 6.4640 - acc: 0.599 - ETA: 1s - loss: 6.4704 - acc: 0.598 - ETA: 1s - loss: 6.4685 - acc: 0.598 - ETA: 0s - loss: 6.4567 - acc: 0.599 - ETA: 0s - loss: 6.4556 - acc: 0.599 - ETA: 0s - loss: 6.4566 - acc: 0.599 - ETA: 0s - loss: 6.4495 - acc: 0.599 - ETA: 0s - loss: 6.4431 - acc: 0.600 - ETA: 0s - loss: 6.4445 - acc: 0.600 - ETA: 0s - loss: 6.4421 - acc: 0.600 - ETA: 0s - loss: 6.4518 - acc: 0.599 - ETA: 0s - loss: 6.4500 - acc: 0.599 - ETA: 0s - loss: 6.4522 - acc: 0.599 - ETA: 0s - loss: 6.4492 - acc: 0.599 - ETA: 0s - loss: 6.4546 - acc: 0.599 - ETA: 0s - loss: 6.4617 - acc: 0.599 - ETA: 0s - loss: 6.4591 - acc: 0.599 - ETA: 0s - loss: 6.4571 - acc: 0.599 - ETA: 0s - loss: 6.4551 - acc: 0.599 - ETA: 0s - loss: 6.4583 - acc: 0.599 - ETA: 0s - loss: 6.4576 - acc: 0.599 - ETA: 0s - loss: 6.4585 - acc: 0.599 - 5s 105us/step - loss: 6.4592 - acc: 0.5993 - val_loss: 6.4564 - val_acc: 0.5994\n",
      "Epoch 8/10\n",
      "51549/51549 [==============================] - ETA: 4s - loss: 6.4221 - acc: 0.601 - ETA: 2s - loss: 6.7884 - acc: 0.578 - ETA: 3s - loss: 6.6109 - acc: 0.589 - ETA: 3s - loss: 6.5546 - acc: 0.593 - ETA: 3s - loss: 6.5127 - acc: 0.595 - ETA: 3s - loss: 6.4959 - acc: 0.597 - ETA: 4s - loss: 6.5558 - acc: 0.593 - ETA: 4s - loss: 6.5003 - acc: 0.596 - ETA: 4s - loss: 6.5142 - acc: 0.595 - ETA: 4s - loss: 6.4703 - acc: 0.598 - ETA: 4s - loss: 6.4535 - acc: 0.599 - ETA: 4s - loss: 6.4757 - acc: 0.598 - ETA: 4s - loss: 6.4535 - acc: 0.599 - ETA: 4s - loss: 6.4773 - acc: 0.598 - ETA: 4s - loss: 6.5100 - acc: 0.596 - ETA: 4s - loss: 6.5048 - acc: 0.596 - ETA: 4s - loss: 6.5178 - acc: 0.595 - ETA: 4s - loss: 6.4791 - acc: 0.598 - ETA: 4s - loss: 6.4504 - acc: 0.599 - ETA: 4s - loss: 6.4445 - acc: 0.600 - ETA: 4s - loss: 6.4568 - acc: 0.599 - ETA: 4s - loss: 6.4612 - acc: 0.599 - ETA: 4s - loss: 6.4260 - acc: 0.601 - ETA: 3s - loss: 6.4071 - acc: 0.602 - ETA: 3s - loss: 6.3825 - acc: 0.604 - ETA: 3s - loss: 6.3862 - acc: 0.603 - ETA: 3s - loss: 6.3962 - acc: 0.603 - ETA: 3s - loss: 6.3930 - acc: 0.603 - ETA: 3s - loss: 6.4107 - acc: 0.602 - ETA: 3s - loss: 6.4250 - acc: 0.601 - ETA: 3s - loss: 6.4169 - acc: 0.601 - ETA: 3s - loss: 6.4145 - acc: 0.602 - ETA: 3s - loss: 6.4395 - acc: 0.600 - ETA: 3s - loss: 6.4366 - acc: 0.600 - ETA: 3s - loss: 6.4291 - acc: 0.601 - ETA: 3s - loss: 6.4403 - acc: 0.600 - ETA: 3s - loss: 6.4512 - acc: 0.599 - ETA: 2s - loss: 6.4737 - acc: 0.598 - ETA: 2s - loss: 6.4698 - acc: 0.598 - ETA: 2s - loss: 6.4795 - acc: 0.598 - ETA: 2s - loss: 6.4770 - acc: 0.598 - ETA: 2s - loss: 6.4712 - acc: 0.598 - ETA: 2s - loss: 6.4722 - acc: 0.598 - ETA: 2s - loss: 6.4711 - acc: 0.598 - ETA: 2s - loss: 6.4702 - acc: 0.598 - ETA: 2s - loss: 6.4698 - acc: 0.598 - ETA: 2s - loss: 6.4476 - acc: 0.600 - ETA: 2s - loss: 6.4511 - acc: 0.599 - ETA: 2s - loss: 6.4595 - acc: 0.599 - ETA: 2s - loss: 6.4679 - acc: 0.598 - ETA: 2s - loss: 6.4634 - acc: 0.599 - ETA: 2s - loss: 6.4681 - acc: 0.598 - ETA: 2s - loss: 6.4682 - acc: 0.598 - ETA: 2s - loss: 6.4760 - acc: 0.598 - ETA: 1s - loss: 6.4785 - acc: 0.598 - ETA: 1s - loss: 6.4785 - acc: 0.598 - ETA: 1s - loss: 6.4799 - acc: 0.598 - ETA: 1s - loss: 6.4764 - acc: 0.598 - ETA: 1s - loss: 6.4798 - acc: 0.598 - ETA: 1s - loss: 6.4737 - acc: 0.598 - ETA: 1s - loss: 6.4656 - acc: 0.598 - ETA: 1s - loss: 6.4686 - acc: 0.598 - ETA: 1s - loss: 6.4600 - acc: 0.599 - ETA: 1s - loss: 6.4618 - acc: 0.599 - ETA: 1s - loss: 6.4538 - acc: 0.599 - ETA: 1s - loss: 6.4566 - acc: 0.599 - ETA: 1s - loss: 6.4583 - acc: 0.599 - ETA: 1s - loss: 6.4650 - acc: 0.598 - ETA: 0s - loss: 6.4611 - acc: 0.599 - ETA: 0s - loss: 6.4576 - acc: 0.599 - ETA: 0s - loss: 6.4615 - acc: 0.599 - ETA: 0s - loss: 6.4608 - acc: 0.599 - ETA: 0s - loss: 6.4641 - acc: 0.598 - ETA: 0s - loss: 6.4659 - acc: 0.598 - ETA: 0s - loss: 6.4647 - acc: 0.598 - ETA: 0s - loss: 6.4675 - acc: 0.598 - ETA: 0s - loss: 6.4657 - acc: 0.598 - ETA: 0s - loss: 6.4652 - acc: 0.598 - ETA: 0s - loss: 6.4641 - acc: 0.598 - ETA: 0s - loss: 6.4633 - acc: 0.599 - ETA: 0s - loss: 6.4675 - acc: 0.598 - ETA: 0s - loss: 6.4637 - acc: 0.599 - ETA: 0s - loss: 6.4613 - acc: 0.599 - ETA: 0s - loss: 6.4598 - acc: 0.599 - ETA: 0s - loss: 6.4589 - acc: 0.599 - ETA: 0s - loss: 6.4617 - acc: 0.599 - ETA: 0s - loss: 6.4615 - acc: 0.599 - 5s 102us/step - loss: 6.4616 - acc: 0.5991 - val_loss: 6.4564 - val_acc: 0.5994\n",
      "Epoch 9/10\n"
     ]
    },
    {
     "name": "stdout",
     "output_type": "stream",
     "text": [
      "51549/51549 [==============================] - ETA: 4s - loss: 5.9184 - acc: 0.632 - ETA: 3s - loss: 6.3521 - acc: 0.605 - ETA: 3s - loss: 6.2647 - acc: 0.611 - ETA: 3s - loss: 6.2472 - acc: 0.612 - ETA: 3s - loss: 6.2633 - acc: 0.611 - ETA: 3s - loss: 6.3482 - acc: 0.606 - ETA: 3s - loss: 6.3608 - acc: 0.605 - ETA: 3s - loss: 6.4103 - acc: 0.602 - ETA: 3s - loss: 6.3707 - acc: 0.604 - ETA: 3s - loss: 6.4104 - acc: 0.602 - ETA: 3s - loss: 6.4108 - acc: 0.602 - ETA: 3s - loss: 6.3922 - acc: 0.603 - ETA: 3s - loss: 6.4201 - acc: 0.601 - ETA: 3s - loss: 6.4330 - acc: 0.600 - ETA: 3s - loss: 6.4357 - acc: 0.600 - ETA: 3s - loss: 6.4489 - acc: 0.599 - ETA: 3s - loss: 6.4409 - acc: 0.600 - ETA: 3s - loss: 6.4865 - acc: 0.597 - ETA: 3s - loss: 6.4772 - acc: 0.598 - ETA: 3s - loss: 6.4529 - acc: 0.599 - ETA: 3s - loss: 6.4420 - acc: 0.600 - ETA: 3s - loss: 6.4430 - acc: 0.600 - ETA: 3s - loss: 6.4648 - acc: 0.598 - ETA: 3s - loss: 6.4774 - acc: 0.598 - ETA: 3s - loss: 6.4787 - acc: 0.598 - ETA: 3s - loss: 6.4663 - acc: 0.598 - ETA: 3s - loss: 6.4549 - acc: 0.599 - ETA: 2s - loss: 6.4540 - acc: 0.599 - ETA: 2s - loss: 6.4605 - acc: 0.599 - ETA: 2s - loss: 6.4745 - acc: 0.598 - ETA: 2s - loss: 6.4711 - acc: 0.598 - ETA: 2s - loss: 6.4810 - acc: 0.597 - ETA: 2s - loss: 6.4953 - acc: 0.597 - ETA: 2s - loss: 6.4964 - acc: 0.597 - ETA: 2s - loss: 6.4869 - acc: 0.597 - ETA: 2s - loss: 6.4799 - acc: 0.598 - ETA: 2s - loss: 6.4926 - acc: 0.597 - ETA: 2s - loss: 6.4857 - acc: 0.597 - ETA: 2s - loss: 6.4792 - acc: 0.598 - ETA: 2s - loss: 6.4782 - acc: 0.598 - ETA: 2s - loss: 6.4737 - acc: 0.598 - ETA: 2s - loss: 6.4698 - acc: 0.598 - ETA: 2s - loss: 6.4674 - acc: 0.598 - ETA: 2s - loss: 6.4622 - acc: 0.599 - ETA: 2s - loss: 6.4593 - acc: 0.599 - ETA: 2s - loss: 6.4434 - acc: 0.600 - ETA: 2s - loss: 6.4414 - acc: 0.600 - ETA: 2s - loss: 6.4276 - acc: 0.601 - ETA: 2s - loss: 6.4319 - acc: 0.601 - ETA: 1s - loss: 6.4359 - acc: 0.600 - ETA: 1s - loss: 6.4363 - acc: 0.600 - ETA: 1s - loss: 6.4346 - acc: 0.600 - ETA: 1s - loss: 6.4256 - acc: 0.601 - ETA: 1s - loss: 6.4231 - acc: 0.601 - ETA: 1s - loss: 6.4305 - acc: 0.601 - ETA: 1s - loss: 6.4356 - acc: 0.600 - ETA: 1s - loss: 6.4394 - acc: 0.600 - ETA: 1s - loss: 6.4361 - acc: 0.600 - ETA: 1s - loss: 6.4373 - acc: 0.600 - ETA: 1s - loss: 6.4338 - acc: 0.600 - ETA: 1s - loss: 6.4451 - acc: 0.600 - ETA: 1s - loss: 6.4505 - acc: 0.599 - ETA: 1s - loss: 6.4494 - acc: 0.599 - ETA: 1s - loss: 6.4501 - acc: 0.599 - ETA: 1s - loss: 6.4486 - acc: 0.599 - ETA: 1s - loss: 6.4521 - acc: 0.599 - ETA: 1s - loss: 6.4492 - acc: 0.599 - ETA: 1s - loss: 6.4479 - acc: 0.600 - ETA: 1s - loss: 6.4499 - acc: 0.599 - ETA: 1s - loss: 6.4474 - acc: 0.600 - ETA: 1s - loss: 6.4527 - acc: 0.599 - ETA: 0s - loss: 6.4534 - acc: 0.599 - ETA: 0s - loss: 6.4531 - acc: 0.599 - ETA: 0s - loss: 6.4538 - acc: 0.599 - ETA: 0s - loss: 6.4577 - acc: 0.599 - ETA: 0s - loss: 6.4628 - acc: 0.599 - ETA: 0s - loss: 6.4600 - acc: 0.599 - ETA: 0s - loss: 6.4626 - acc: 0.599 - ETA: 0s - loss: 6.4585 - acc: 0.599 - ETA: 0s - loss: 6.4550 - acc: 0.599 - ETA: 0s - loss: 6.4545 - acc: 0.599 - ETA: 0s - loss: 6.4544 - acc: 0.599 - ETA: 0s - loss: 6.4558 - acc: 0.599 - ETA: 0s - loss: 6.4555 - acc: 0.599 - ETA: 0s - loss: 6.4614 - acc: 0.599 - ETA: 0s - loss: 6.4635 - acc: 0.599 - ETA: 0s - loss: 6.4649 - acc: 0.598 - ETA: 0s - loss: 6.4666 - acc: 0.598 - ETA: 0s - loss: 6.4648 - acc: 0.598 - 5s 105us/step - loss: 6.4592 - acc: 0.5993 - val_loss: 6.4564 - val_acc: 0.5994\n",
      "Epoch 10/10\n",
      "51549/51549 [==============================] - ETA: 4s - loss: 6.4221 - acc: 0.601 - ETA: 4s - loss: 6.1492 - acc: 0.618 - ETA: 4s - loss: 6.1198 - acc: 0.620 - ETA: 5s - loss: 6.2122 - acc: 0.614 - ETA: 7s - loss: 6.3058 - acc: 0.608 - ETA: 6s - loss: 6.4665 - acc: 0.598 - ETA: 6s - loss: 6.5754 - acc: 0.592 - ETA: 6s - loss: 6.5782 - acc: 0.591 - ETA: 6s - loss: 6.5886 - acc: 0.591 - ETA: 5s - loss: 6.5515 - acc: 0.593 - ETA: 5s - loss: 6.5900 - acc: 0.591 - ETA: 5s - loss: 6.5570 - acc: 0.593 - ETA: 5s - loss: 6.5532 - acc: 0.593 - ETA: 5s - loss: 6.5581 - acc: 0.593 - ETA: 5s - loss: 6.5431 - acc: 0.594 - ETA: 5s - loss: 6.5223 - acc: 0.595 - ETA: 5s - loss: 6.4787 - acc: 0.598 - ETA: 5s - loss: 6.4373 - acc: 0.600 - ETA: 5s - loss: 6.4275 - acc: 0.601 - ETA: 5s - loss: 6.4465 - acc: 0.600 - ETA: 5s - loss: 6.4088 - acc: 0.602 - ETA: 5s - loss: 6.4173 - acc: 0.601 - ETA: 4s - loss: 6.4130 - acc: 0.602 - ETA: 4s - loss: 6.4249 - acc: 0.601 - ETA: 4s - loss: 6.4115 - acc: 0.602 - ETA: 4s - loss: 6.4170 - acc: 0.601 - ETA: 4s - loss: 6.4074 - acc: 0.602 - ETA: 4s - loss: 6.3915 - acc: 0.603 - ETA: 4s - loss: 6.4107 - acc: 0.602 - ETA: 4s - loss: 6.4108 - acc: 0.602 - ETA: 4s - loss: 6.4065 - acc: 0.602 - ETA: 4s - loss: 6.4027 - acc: 0.602 - ETA: 4s - loss: 6.4066 - acc: 0.602 - ETA: 4s - loss: 6.4042 - acc: 0.602 - ETA: 4s - loss: 6.4014 - acc: 0.602 - ETA: 3s - loss: 6.3865 - acc: 0.603 - ETA: 3s - loss: 6.3763 - acc: 0.604 - ETA: 3s - loss: 6.3715 - acc: 0.604 - ETA: 3s - loss: 6.3700 - acc: 0.604 - ETA: 3s - loss: 6.3735 - acc: 0.604 - ETA: 3s - loss: 6.3555 - acc: 0.605 - ETA: 3s - loss: 6.3485 - acc: 0.606 - ETA: 3s - loss: 6.3610 - acc: 0.605 - ETA: 3s - loss: 6.3678 - acc: 0.604 - ETA: 3s - loss: 6.3528 - acc: 0.605 - ETA: 3s - loss: 6.3563 - acc: 0.605 - ETA: 3s - loss: 6.3605 - acc: 0.605 - ETA: 3s - loss: 6.3701 - acc: 0.604 - ETA: 2s - loss: 6.3915 - acc: 0.603 - ETA: 2s - loss: 6.3889 - acc: 0.603 - ETA: 2s - loss: 6.3851 - acc: 0.603 - ETA: 2s - loss: 6.3852 - acc: 0.603 - ETA: 2s - loss: 6.3809 - acc: 0.604 - ETA: 2s - loss: 6.3947 - acc: 0.603 - ETA: 2s - loss: 6.3896 - acc: 0.603 - ETA: 2s - loss: 6.4073 - acc: 0.602 - ETA: 2s - loss: 6.4017 - acc: 0.602 - ETA: 2s - loss: 6.4050 - acc: 0.602 - ETA: 2s - loss: 6.4063 - acc: 0.602 - ETA: 2s - loss: 6.3956 - acc: 0.603 - ETA: 2s - loss: 6.3962 - acc: 0.603 - ETA: 1s - loss: 6.3992 - acc: 0.603 - ETA: 1s - loss: 6.4077 - acc: 0.602 - ETA: 1s - loss: 6.4211 - acc: 0.601 - ETA: 1s - loss: 6.4184 - acc: 0.601 - ETA: 1s - loss: 6.4180 - acc: 0.601 - ETA: 1s - loss: 6.4234 - acc: 0.601 - ETA: 1s - loss: 6.4207 - acc: 0.601 - ETA: 1s - loss: 6.4325 - acc: 0.600 - ETA: 1s - loss: 6.4328 - acc: 0.600 - ETA: 1s - loss: 6.4386 - acc: 0.600 - ETA: 1s - loss: 6.4409 - acc: 0.600 - ETA: 1s - loss: 6.4454 - acc: 0.600 - ETA: 1s - loss: 6.4479 - acc: 0.600 - ETA: 1s - loss: 6.4476 - acc: 0.600 - ETA: 1s - loss: 6.4558 - acc: 0.599 - ETA: 1s - loss: 6.4562 - acc: 0.599 - ETA: 1s - loss: 6.4667 - acc: 0.598 - ETA: 0s - loss: 6.4580 - acc: 0.599 - ETA: 0s - loss: 6.4587 - acc: 0.599 - ETA: 0s - loss: 6.4601 - acc: 0.599 - ETA: 0s - loss: 6.4566 - acc: 0.599 - ETA: 0s - loss: 6.4572 - acc: 0.599 - ETA: 0s - loss: 6.4501 - acc: 0.599 - ETA: 0s - loss: 6.4498 - acc: 0.599 - ETA: 0s - loss: 6.4505 - acc: 0.599 - ETA: 0s - loss: 6.4498 - acc: 0.599 - ETA: 0s - loss: 6.4529 - acc: 0.599 - ETA: 0s - loss: 6.4550 - acc: 0.599 - ETA: 0s - loss: 6.4578 - acc: 0.599 - ETA: 0s - loss: 6.4567 - acc: 0.599 - ETA: 0s - loss: 6.4568 - acc: 0.599 - ETA: 0s - loss: 6.4607 - acc: 0.599 - 6s 110us/step - loss: 6.4583 - acc: 0.5993 - val_loss: 6.4564 - val_acc: 0.5994\n",
      "Training loss: 6.456430858098565\n",
      "Training accuracy: 0.599429668842568\n"
     ]
    }
   ],
   "source": [
    "model.compile(loss='categorical_crossentropy',\n",
    "              optimizer='rmsprop',\n",
    "              metrics=['accuracy'])\n",
    "#y_train = y_train.values\n",
    "X_train=np.array(X_train).reshape(X_train.shape[0], 10)\n",
    "#X_train=np.array(X_train).reshape(X_train.shape[0], 10, 1)\n",
    "y_train = keras.utils.to_categorical(y_train, 2)\n",
    "#y_train=np.array(y_train).reshape(y_train.shape[0], 1)\n",
    "#y_train=y_train.reshape(y_train.shape[0],1)\n",
    "# Training..\n",
    "model.fit(X_train, y_train,\n",
    "          batch_size=128,\n",
    "          epochs=10,\n",
    "          verbose=1,\n",
    "          validation_data=(X_train, y_train))\n",
    "\n",
    "# Evaluation.\n",
    "scores = model.evaluate(X_train, y_train, verbose=0)\n",
    "print('Training loss:', scores[0])\n",
    "print('Training accuracy:', scores[1])"
   ]
  },
  {
   "cell_type": "markdown",
   "metadata": {},
   "source": [
    "This model has the accuracy of 59.8% which is very low.It is not going to help to predict the outcome correctly since MLP is not the ideal model to use for this type of dataset"
   ]
  },
  {
   "cell_type": "markdown",
   "metadata": {},
   "source": [
    "### RNN(Recurrent Neural Network)"
   ]
  },
  {
   "cell_type": "code",
   "execution_count": 7,
   "metadata": {},
   "outputs": [
    {
     "name": "stdout",
     "output_type": "stream",
     "text": [
      "_________________________________________________________________\n",
      "Layer (type)                 Output Shape              Param #   \n",
      "=================================================================\n",
      "lstm_1 (LSTM)                (None, 51549, 128)        71168     \n",
      "_________________________________________________________________\n",
      "dropout_1 (Dropout)          (None, 51549, 128)        0         \n",
      "_________________________________________________________________\n",
      "lstm_2 (LSTM)                (None, 128)               131584    \n",
      "_________________________________________________________________\n",
      "dropout_2 (Dropout)          (None, 128)               0         \n",
      "_________________________________________________________________\n",
      "dense_1 (Dense)              (None, 32)                4128      \n",
      "_________________________________________________________________\n",
      "dropout_3 (Dropout)          (None, 32)                0         \n",
      "_________________________________________________________________\n",
      "dense_2 (Dense)              (None, 2)                 66        \n",
      "=================================================================\n",
      "Total params: 206,946\n",
      "Trainable params: 206,946\n",
      "Non-trainable params: 0\n",
      "_________________________________________________________________\n"
     ]
    }
   ],
   "source": [
    "model = Sequential()\n",
    "model.add(LSTM(128, input_shape=(X_train.shape[0],X_train.shape[1],), activation='relu', return_sequences=True))\n",
    "model.add(Dropout(0.2))\n",
    "\n",
    "model.add(LSTM(128, activation='relu'))\n",
    "model.add(Dropout(0.1))\n",
    "\n",
    "model.add(Dense(32, activation='relu'))\n",
    "model.add(Dropout(0.2))\n",
    "\n",
    "model.add(Dense(2, activation='softmax'))\n",
    "model.summary()"
   ]
  },
  {
   "cell_type": "code",
   "execution_count": 8,
   "metadata": {},
   "outputs": [
    {
     "data": {
      "text/plain": [
       "(51549, 10)"
      ]
     },
     "execution_count": 8,
     "metadata": {},
     "output_type": "execute_result"
    }
   ],
   "source": [
    "X_train.shape"
   ]
  },
  {
   "cell_type": "code",
   "execution_count": 11,
   "metadata": {},
   "outputs": [
    {
     "ename": "ValueError",
     "evalue": "Error when checking input: expected lstm_1_input to have shape (51549, 10) but got array with shape (10, 1)",
     "output_type": "error",
     "traceback": [
      "\u001b[1;31m---------------------------------------------------------------------------\u001b[0m",
      "\u001b[1;31mValueError\u001b[0m                                Traceback (most recent call last)",
      "\u001b[1;32m<ipython-input-11-e3363765a258>\u001b[0m in \u001b[0;36m<module>\u001b[1;34m\u001b[0m\n\u001b[0;32m      8\u001b[0m           \u001b[0mepochs\u001b[0m\u001b[1;33m=\u001b[0m\u001b[1;36m30\u001b[0m\u001b[1;33m,\u001b[0m\u001b[1;33m\u001b[0m\u001b[0m\n\u001b[0;32m      9\u001b[0m           \u001b[0mverbose\u001b[0m\u001b[1;33m=\u001b[0m\u001b[1;36m1\u001b[0m\u001b[1;33m,\u001b[0m\u001b[1;33m\u001b[0m\u001b[0m\n\u001b[1;32m---> 10\u001b[1;33m           validation_data=(X_train2, y_train))\n\u001b[0m\u001b[0;32m     11\u001b[0m \u001b[1;33m\u001b[0m\u001b[0m\n\u001b[0;32m     12\u001b[0m \u001b[1;31m# Evaluation.\u001b[0m\u001b[1;33m\u001b[0m\u001b[1;33m\u001b[0m\u001b[0m\n",
      "\u001b[1;32m~\\Anaconda3\\lib\\site-packages\\keras\\engine\\training.py\u001b[0m in \u001b[0;36mfit\u001b[1;34m(self, x, y, batch_size, epochs, verbose, callbacks, validation_split, validation_data, shuffle, class_weight, sample_weight, initial_epoch, steps_per_epoch, validation_steps, **kwargs)\u001b[0m\n\u001b[0;32m    950\u001b[0m             \u001b[0msample_weight\u001b[0m\u001b[1;33m=\u001b[0m\u001b[0msample_weight\u001b[0m\u001b[1;33m,\u001b[0m\u001b[1;33m\u001b[0m\u001b[0m\n\u001b[0;32m    951\u001b[0m             \u001b[0mclass_weight\u001b[0m\u001b[1;33m=\u001b[0m\u001b[0mclass_weight\u001b[0m\u001b[1;33m,\u001b[0m\u001b[1;33m\u001b[0m\u001b[0m\n\u001b[1;32m--> 952\u001b[1;33m             batch_size=batch_size)\n\u001b[0m\u001b[0;32m    953\u001b[0m         \u001b[1;31m# Prepare validation data.\u001b[0m\u001b[1;33m\u001b[0m\u001b[1;33m\u001b[0m\u001b[0m\n\u001b[0;32m    954\u001b[0m         \u001b[0mdo_validation\u001b[0m \u001b[1;33m=\u001b[0m \u001b[1;32mFalse\u001b[0m\u001b[1;33m\u001b[0m\u001b[0m\n",
      "\u001b[1;32m~\\Anaconda3\\lib\\site-packages\\keras\\engine\\training.py\u001b[0m in \u001b[0;36m_standardize_user_data\u001b[1;34m(self, x, y, sample_weight, class_weight, check_array_lengths, batch_size)\u001b[0m\n\u001b[0;32m    749\u001b[0m             \u001b[0mfeed_input_shapes\u001b[0m\u001b[1;33m,\u001b[0m\u001b[1;33m\u001b[0m\u001b[0m\n\u001b[0;32m    750\u001b[0m             \u001b[0mcheck_batch_axis\u001b[0m\u001b[1;33m=\u001b[0m\u001b[1;32mFalse\u001b[0m\u001b[1;33m,\u001b[0m  \u001b[1;31m# Don't enforce the batch size.\u001b[0m\u001b[1;33m\u001b[0m\u001b[0m\n\u001b[1;32m--> 751\u001b[1;33m             exception_prefix='input')\n\u001b[0m\u001b[0;32m    752\u001b[0m \u001b[1;33m\u001b[0m\u001b[0m\n\u001b[0;32m    753\u001b[0m         \u001b[1;32mif\u001b[0m \u001b[0my\u001b[0m \u001b[1;32mis\u001b[0m \u001b[1;32mnot\u001b[0m \u001b[1;32mNone\u001b[0m\u001b[1;33m:\u001b[0m\u001b[1;33m\u001b[0m\u001b[0m\n",
      "\u001b[1;32m~\\Anaconda3\\lib\\site-packages\\keras\\engine\\training_utils.py\u001b[0m in \u001b[0;36mstandardize_input_data\u001b[1;34m(data, names, shapes, check_batch_axis, exception_prefix)\u001b[0m\n\u001b[0;32m    136\u001b[0m                             \u001b[1;34m': expected '\u001b[0m \u001b[1;33m+\u001b[0m \u001b[0mnames\u001b[0m\u001b[1;33m[\u001b[0m\u001b[0mi\u001b[0m\u001b[1;33m]\u001b[0m \u001b[1;33m+\u001b[0m \u001b[1;34m' to have shape '\u001b[0m \u001b[1;33m+\u001b[0m\u001b[1;33m\u001b[0m\u001b[0m\n\u001b[0;32m    137\u001b[0m                             \u001b[0mstr\u001b[0m\u001b[1;33m(\u001b[0m\u001b[0mshape\u001b[0m\u001b[1;33m)\u001b[0m \u001b[1;33m+\u001b[0m \u001b[1;34m' but got array with shape '\u001b[0m \u001b[1;33m+\u001b[0m\u001b[1;33m\u001b[0m\u001b[0m\n\u001b[1;32m--> 138\u001b[1;33m                             str(data_shape))\n\u001b[0m\u001b[0;32m    139\u001b[0m     \u001b[1;32mreturn\u001b[0m \u001b[0mdata\u001b[0m\u001b[1;33m\u001b[0m\u001b[0m\n\u001b[0;32m    140\u001b[0m \u001b[1;33m\u001b[0m\u001b[0m\n",
      "\u001b[1;31mValueError\u001b[0m: Error when checking input: expected lstm_1_input to have shape (51549, 10) but got array with shape (10, 1)"
     ]
    }
   ],
   "source": [
    "model.compile(loss='categorical_crossentropy',\n",
    "              optimizer='rmsprop',\n",
    "              metrics=['accuracy'])\n",
    "X_train2=np.array(X_train).reshape(X_train.shape[0],X_train.shape[1],1)\n",
    "# Training.\n",
    "model.fit(X_train2, y_train,\n",
    "          batch_size=128,\n",
    "          epochs=30,\n",
    "          verbose=1,\n",
    "          validation_data=(X_train2, y_train))\n",
    "\n",
    "# Evaluation.\n",
    "scores = model.evaluate(X_train2, y_train, verbose=2)\n",
    "print('Training loss:', scores[0])\n",
    "print('Training accuracy:', scores[1])"
   ]
  },
  {
   "cell_type": "markdown",
   "metadata": {},
   "source": [
    "RNN would be best option in Deep Learning  to be used here since they can produce better results with non-image dataset.This is the usual case for deep learning model when the dataset is non-image.This model learn from previous errors and tries to implement that in the next cycle and provides better accuracies."
   ]
  },
  {
   "cell_type": "markdown",
   "metadata": {},
   "source": [
    "### Convolutional Neural Networks(CNN)"
   ]
  },
  {
   "cell_type": "code",
   "execution_count": 21,
   "metadata": {},
   "outputs": [
    {
     "name": "stdout",
     "output_type": "stream",
     "text": [
      "Train on 51549 samples, validate on 51549 samples\n",
      "Epoch 1/35\n",
      "51549/51549 [==============================] - ETA: 11:33 - loss: 9.3183 - acc: 0.42 - ETA: 2:21 - loss: 8.4368 - acc: 0.4766 - ETA: 1:11 - loss: 8.3910 - acc: 0.478 - ETA: 1:07 - loss: 8.2692 - acc: 0.486 - ETA: 1:00 - loss: 8.1013 - acc: 0.497 - ETA: 50s - loss: 8.0147 - acc: 0.502 - ETA: 45s - loss: 7.9776 - acc: 0.50 - ETA: 37s - loss: 7.9066 - acc: 0.50 - ETA: 37s - loss: 7.8584 - acc: 0.51 - ETA: 32s - loss: 7.8695 - acc: 0.51 - ETA: 27s - loss: 7.8224 - acc: 0.51 - ETA: 26s - loss: 7.7882 - acc: 0.51 - ETA: 25s - loss: 7.7578 - acc: 0.51 - ETA: 22s - loss: 7.6602 - acc: 0.52 - ETA: 22s - loss: 7.6084 - acc: 0.52 - ETA: 22s - loss: 7.5815 - acc: 0.52 - ETA: 20s - loss: 7.5032 - acc: 0.53 - ETA: 19s - loss: 7.4396 - acc: 0.53 - ETA: 19s - loss: 7.4131 - acc: 0.53 - ETA: 17s - loss: 7.3546 - acc: 0.54 - ETA: 17s - loss: 7.3529 - acc: 0.54 - ETA: 17s - loss: 7.3436 - acc: 0.54 - ETA: 16s - loss: 7.3337 - acc: 0.54 - ETA: 16s - loss: 7.3057 - acc: 0.54 - ETA: 16s - loss: 7.2699 - acc: 0.54 - ETA: 16s - loss: 7.2563 - acc: 0.54 - ETA: 15s - loss: 7.2390 - acc: 0.55 - ETA: 14s - loss: 7.2275 - acc: 0.55 - ETA: 15s - loss: 7.2056 - acc: 0.55 - ETA: 14s - loss: 7.1591 - acc: 0.55 - ETA: 14s - loss: 7.1505 - acc: 0.55 - ETA: 13s - loss: 7.1529 - acc: 0.55 - ETA: 13s - loss: 7.0994 - acc: 0.55 - ETA: 12s - loss: 7.0982 - acc: 0.55 - ETA: 11s - loss: 7.0871 - acc: 0.56 - ETA: 11s - loss: 7.0530 - acc: 0.56 - ETA: 11s - loss: 7.0671 - acc: 0.56 - ETA: 10s - loss: 7.0393 - acc: 0.56 - ETA: 10s - loss: 7.0518 - acc: 0.56 - ETA: 10s - loss: 7.0280 - acc: 0.56 - ETA: 9s - loss: 7.0159 - acc: 0.5646 - ETA: 9s - loss: 7.0072 - acc: 0.565 - ETA: 9s - loss: 6.9977 - acc: 0.565 - ETA: 9s - loss: 6.9854 - acc: 0.566 - ETA: 9s - loss: 6.9907 - acc: 0.566 - ETA: 8s - loss: 6.9768 - acc: 0.567 - ETA: 8s - loss: 6.9734 - acc: 0.567 - ETA: 8s - loss: 6.9688 - acc: 0.567 - ETA: 8s - loss: 6.9662 - acc: 0.567 - ETA: 8s - loss: 6.9716 - acc: 0.567 - ETA: 8s - loss: 6.9642 - acc: 0.567 - ETA: 8s - loss: 6.9654 - acc: 0.567 - ETA: 8s - loss: 6.9622 - acc: 0.567 - ETA: 8s - loss: 6.9593 - acc: 0.568 - ETA: 8s - loss: 6.9573 - acc: 0.568 - ETA: 7s - loss: 6.9489 - acc: 0.568 - ETA: 7s - loss: 6.9484 - acc: 0.568 - ETA: 7s - loss: 6.9482 - acc: 0.568 - ETA: 7s - loss: 6.9435 - acc: 0.569 - ETA: 7s - loss: 6.9493 - acc: 0.568 - ETA: 7s - loss: 6.9569 - acc: 0.568 - ETA: 7s - loss: 6.9463 - acc: 0.568 - ETA: 7s - loss: 6.9447 - acc: 0.569 - ETA: 7s - loss: 6.9452 - acc: 0.569 - ETA: 7s - loss: 6.9388 - acc: 0.569 - ETA: 7s - loss: 6.9401 - acc: 0.569 - ETA: 7s - loss: 6.9351 - acc: 0.569 - ETA: 7s - loss: 6.9234 - acc: 0.570 - ETA: 6s - loss: 6.9181 - acc: 0.570 - ETA: 6s - loss: 6.9096 - acc: 0.571 - ETA: 6s - loss: 6.8981 - acc: 0.571 - ETA: 6s - loss: 6.9004 - acc: 0.571 - ETA: 6s - loss: 6.8943 - acc: 0.572 - ETA: 6s - loss: 6.8940 - acc: 0.572 - ETA: 6s - loss: 6.8923 - acc: 0.572 - ETA: 6s - loss: 6.8906 - acc: 0.572 - ETA: 6s - loss: 6.8843 - acc: 0.572 - ETA: 6s - loss: 6.8800 - acc: 0.573 - ETA: 6s - loss: 6.8765 - acc: 0.573 - ETA: 6s - loss: 6.8803 - acc: 0.573 - ETA: 6s - loss: 6.8860 - acc: 0.572 - ETA: 6s - loss: 6.8832 - acc: 0.572 - ETA: 6s - loss: 6.8865 - acc: 0.572 - ETA: 5s - loss: 6.8844 - acc: 0.572 - ETA: 5s - loss: 6.8913 - acc: 0.572 - ETA: 5s - loss: 6.8967 - acc: 0.572 - ETA: 5s - loss: 6.9007 - acc: 0.571 - ETA: 5s - loss: 6.9091 - acc: 0.571 - ETA: 5s - loss: 6.9167 - acc: 0.570 - ETA: 5s - loss: 6.9226 - acc: 0.570 - ETA: 5s - loss: 6.9221 - acc: 0.570 - ETA: 5s - loss: 6.9263 - acc: 0.570 - ETA: 5s - loss: 6.9279 - acc: 0.570 - ETA: 4s - loss: 6.9322 - acc: 0.569 - ETA: 4s - loss: 6.9311 - acc: 0.569 - ETA: 4s - loss: 6.9525 - acc: 0.568 - ETA: 4s - loss: 6.9535 - acc: 0.568 - ETA: 3s - loss: 6.9571 - acc: 0.568 - ETA: 3s - loss: 6.9469 - acc: 0.568 - ETA: 3s - loss: 6.9388 - acc: 0.569 - ETA: 3s - loss: 6.9324 - acc: 0.569 - ETA: 3s - loss: 6.9391 - acc: 0.569 - ETA: 2s - loss: 6.9173 - acc: 0.570 - ETA: 2s - loss: 6.9146 - acc: 0.570 - ETA: 2s - loss: 6.9083 - acc: 0.571 - ETA: 2s - loss: 6.9042 - acc: 0.571 - ETA: 2s - loss: 6.9105 - acc: 0.571 - ETA: 2s - loss: 6.9088 - acc: 0.571 - ETA: 1s - loss: 6.9078 - acc: 0.571 - ETA: 1s - loss: 6.9102 - acc: 0.571 - ETA: 1s - loss: 6.9106 - acc: 0.571 - ETA: 1s - loss: 6.9084 - acc: 0.571 - ETA: 1s - loss: 6.9085 - acc: 0.571 - ETA: 1s - loss: 6.9076 - acc: 0.571 - ETA: 1s - loss: 6.9078 - acc: 0.571 - ETA: 1s - loss: 6.9078 - acc: 0.571 - ETA: 1s - loss: 6.9095 - acc: 0.571 - ETA: 1s - loss: 6.9103 - acc: 0.571 - ETA: 1s - loss: 6.9107 - acc: 0.571 - ETA: 1s - loss: 6.9103 - acc: 0.571 - ETA: 1s - loss: 6.9108 - acc: 0.571 - ETA: 1s - loss: 6.9122 - acc: 0.571 - ETA: 1s - loss: 6.9133 - acc: 0.570 - ETA: 1s - loss: 6.9160 - acc: 0.570 - ETA: 1s - loss: 6.9197 - acc: 0.570 - ETA: 1s - loss: 6.9150 - acc: 0.570 - ETA: 0s - loss: 6.9048 - acc: 0.571 - ETA: 0s - loss: 6.8995 - acc: 0.571 - ETA: 0s - loss: 6.8987 - acc: 0.571 - ETA: 0s - loss: 6.8994 - acc: 0.571 - ETA: 0s - loss: 6.9027 - acc: 0.571 - ETA: 0s - loss: 6.9047 - acc: 0.571 - ETA: 0s - loss: 6.9055 - acc: 0.571 - ETA: 0s - loss: 6.9056 - acc: 0.571 - ETA: 0s - loss: 6.9073 - acc: 0.571 - ETA: 0s - loss: 6.9103 - acc: 0.571 - ETA: 0s - loss: 6.9145 - acc: 0.570 - ETA: 0s - loss: 6.9103 - acc: 0.571 - ETA: 0s - loss: 6.9143 - acc: 0.570 - ETA: 0s - loss: 6.9138 - acc: 0.570 - ETA: 0s - loss: 6.9104 - acc: 0.571 - 13s 244us/step - loss: 6.9117 - acc: 0.5710 - val_loss: 6.4564 - val_acc: 0.5994\n",
      "Epoch 2/35\n",
      "51549/51549 [==============================] - ETA: 7s - loss: 6.4221 - acc: 0.601 - ETA: 7s - loss: 6.7369 - acc: 0.582 - ETA: 5s - loss: 6.8189 - acc: 0.576 - ETA: 7s - loss: 6.6323 - acc: 0.588 - ETA: 8s - loss: 6.5709 - acc: 0.591 - ETA: 8s - loss: 6.5678 - acc: 0.592 - ETA: 9s - loss: 6.5744 - acc: 0.591 - ETA: 9s - loss: 6.5855 - acc: 0.591 - ETA: 10s - loss: 6.6006 - acc: 0.59 - ETA: 10s - loss: 6.6581 - acc: 0.58 - ETA: 10s - loss: 6.6338 - acc: 0.58 - ETA: 8s - loss: 6.5799 - acc: 0.5916 - ETA: 8s - loss: 6.6063 - acc: 0.590 - ETA: 8s - loss: 6.5745 - acc: 0.592 - ETA: 8s - loss: 6.5840 - acc: 0.591 - ETA: 8s - loss: 6.6346 - acc: 0.588 - ETA: 8s - loss: 6.6540 - acc: 0.587 - ETA: 8s - loss: 6.6421 - acc: 0.587 - ETA: 7s - loss: 6.6662 - acc: 0.586 - ETA: 7s - loss: 6.6416 - acc: 0.587 - ETA: 7s - loss: 6.6074 - acc: 0.589 - ETA: 7s - loss: 6.6365 - acc: 0.588 - ETA: 7s - loss: 6.6402 - acc: 0.587 - ETA: 7s - loss: 6.6533 - acc: 0.587 - ETA: 7s - loss: 6.6287 - acc: 0.588 - ETA: 7s - loss: 6.6461 - acc: 0.587 - ETA: 7s - loss: 6.6317 - acc: 0.588 - ETA: 7s - loss: 6.6334 - acc: 0.588 - ETA: 7s - loss: 6.6353 - acc: 0.588 - ETA: 7s - loss: 6.6392 - acc: 0.588 - ETA: 7s - loss: 6.6386 - acc: 0.588 - ETA: 7s - loss: 6.6390 - acc: 0.588 - ETA: 7s - loss: 6.6408 - acc: 0.587 - ETA: 7s - loss: 6.6399 - acc: 0.588 - ETA: 7s - loss: 6.6349 - acc: 0.588 - ETA: 7s - loss: 6.6353 - acc: 0.588 - ETA: 7s - loss: 6.6192 - acc: 0.589 - ETA: 7s - loss: 6.6140 - acc: 0.589 - ETA: 7s - loss: 6.6374 - acc: 0.588 - ETA: 6s - loss: 6.6287 - acc: 0.588 - ETA: 6s - loss: 6.6428 - acc: 0.587 - ETA: 6s - loss: 6.6445 - acc: 0.587 - ETA: 6s - loss: 6.6428 - acc: 0.587 - ETA: 6s - loss: 6.6463 - acc: 0.587 - ETA: 6s - loss: 6.6402 - acc: 0.588 - ETA: 6s - loss: 6.6397 - acc: 0.588 - ETA: 6s - loss: 6.6311 - acc: 0.588 - ETA: 6s - loss: 6.6355 - acc: 0.588 - ETA: 6s - loss: 6.6371 - acc: 0.588 - ETA: 6s - loss: 6.6315 - acc: 0.588 - ETA: 6s - loss: 6.6422 - acc: 0.587 - ETA: 6s - loss: 6.6552 - acc: 0.587 - ETA: 6s - loss: 6.6532 - acc: 0.587 - ETA: 6s - loss: 6.6756 - acc: 0.585 - ETA: 6s - loss: 6.6811 - acc: 0.585 - ETA: 6s - loss: 6.6735 - acc: 0.585 - ETA: 6s - loss: 6.6793 - acc: 0.585 - ETA: 6s - loss: 6.6852 - acc: 0.585 - ETA: 6s - loss: 6.6802 - acc: 0.585 - ETA: 6s - loss: 6.6890 - acc: 0.584 - ETA: 5s - loss: 6.7027 - acc: 0.584 - ETA: 5s - loss: 6.7029 - acc: 0.584 - ETA: 5s - loss: 6.7073 - acc: 0.583 - ETA: 5s - loss: 6.7071 - acc: 0.583 - ETA: 5s - loss: 6.7047 - acc: 0.583 - ETA: 5s - loss: 6.7006 - acc: 0.584 - ETA: 5s - loss: 6.7027 - acc: 0.584 - ETA: 5s - loss: 6.7143 - acc: 0.583 - ETA: 5s - loss: 6.6989 - acc: 0.584 - ETA: 5s - loss: 6.6897 - acc: 0.584 - ETA: 5s - loss: 6.6910 - acc: 0.584 - ETA: 5s - loss: 6.6916 - acc: 0.584 - ETA: 5s - loss: 6.6906 - acc: 0.584 - ETA: 5s - loss: 6.6965 - acc: 0.584 - ETA: 5s - loss: 6.6910 - acc: 0.584 - ETA: 5s - loss: 6.6901 - acc: 0.584 - ETA: 5s - loss: 6.6873 - acc: 0.585 - ETA: 5s - loss: 6.6846 - acc: 0.585 - ETA: 5s - loss: 6.6820 - acc: 0.585 - ETA: 5s - loss: 6.6800 - acc: 0.585 - ETA: 5s - loss: 6.6762 - acc: 0.585 - ETA: 5s - loss: 6.6768 - acc: 0.585 - ETA: 5s - loss: 6.6732 - acc: 0.585 - ETA: 5s - loss: 6.6701 - acc: 0.586 - ETA: 5s - loss: 6.6756 - acc: 0.585 - ETA: 5s - loss: 6.6678 - acc: 0.586 - ETA: 5s - loss: 6.6655 - acc: 0.586 - ETA: 5s - loss: 6.6621 - acc: 0.586 - ETA: 5s - loss: 6.6558 - acc: 0.586 - ETA: 4s - loss: 6.6419 - acc: 0.587 - ETA: 4s - loss: 6.6305 - acc: 0.588 - ETA: 4s - loss: 6.6273 - acc: 0.588 - ETA: 4s - loss: 6.6266 - acc: 0.588 - ETA: 4s - loss: 6.6274 - acc: 0.588 - ETA: 4s - loss: 6.6333 - acc: 0.588 - ETA: 4s - loss: 6.6340 - acc: 0.588 - ETA: 4s - loss: 6.6306 - acc: 0.588 - ETA: 4s - loss: 6.6291 - acc: 0.588 - ETA: 4s - loss: 6.6261 - acc: 0.588 - ETA: 4s - loss: 6.6237 - acc: 0.588 - ETA: 4s - loss: 6.6287 - acc: 0.588 - ETA: 4s - loss: 6.6245 - acc: 0.588 - ETA: 4s - loss: 6.6305 - acc: 0.588 - ETA: 4s - loss: 6.6176 - acc: 0.589 - ETA: 4s - loss: 6.6173 - acc: 0.589 - ETA: 4s - loss: 6.6188 - acc: 0.589 - ETA: 4s - loss: 6.6182 - acc: 0.589 - ETA: 3s - loss: 6.6162 - acc: 0.589 - ETA: 3s - loss: 6.6181 - acc: 0.589 - ETA: 3s - loss: 6.6207 - acc: 0.589 - ETA: 3s - loss: 6.6209 - acc: 0.589 - ETA: 3s - loss: 6.6229 - acc: 0.589 - ETA: 3s - loss: 6.6340 - acc: 0.588 - ETA: 3s - loss: 6.6266 - acc: 0.588 - ETA: 3s - loss: 6.6287 - acc: 0.588 - ETA: 3s - loss: 6.6316 - acc: 0.588 - ETA: 3s - loss: 6.6313 - acc: 0.588 - ETA: 3s - loss: 6.6301 - acc: 0.588 - ETA: 3s - loss: 6.6293 - acc: 0.588 - ETA: 3s - loss: 6.6339 - acc: 0.588 - ETA: 3s - loss: 6.6261 - acc: 0.588 - ETA: 2s - loss: 6.6312 - acc: 0.588 - ETA: 2s - loss: 6.6341 - acc: 0.588 - ETA: 2s - loss: 6.6364 - acc: 0.588 - ETA: 2s - loss: 6.6373 - acc: 0.588 - ETA: 2s - loss: 6.6306 - acc: 0.588 - ETA: 2s - loss: 6.6332 - acc: 0.588 - ETA: 2s - loss: 6.6394 - acc: 0.588 - ETA: 2s - loss: 6.6433 - acc: 0.587 - ETA: 2s - loss: 6.6454 - acc: 0.587 - ETA: 2s - loss: 6.6452 - acc: 0.587 - ETA: 2s - loss: 6.6475 - acc: 0.587 - ETA: 2s - loss: 6.6471 - acc: 0.587 - ETA: 2s - loss: 6.6442 - acc: 0.587 - ETA: 2s - loss: 6.6486 - acc: 0.587 - ETA: 2s - loss: 6.6490 - acc: 0.587 - ETA: 2s - loss: 6.6480 - acc: 0.587 - ETA: 1s - loss: 6.6494 - acc: 0.587 - ETA: 1s - loss: 6.6494 - acc: 0.587 - ETA: 1s - loss: 6.6450 - acc: 0.587 - ETA: 1s - loss: 6.6413 - acc: 0.587 - ETA: 1s - loss: 6.6415 - acc: 0.587 - ETA: 1s - loss: 6.6423 - acc: 0.587 - ETA: 1s - loss: 6.6410 - acc: 0.587 - ETA: 1s - loss: 6.6408 - acc: 0.587 - ETA: 1s - loss: 6.6387 - acc: 0.588 - ETA: 1s - loss: 6.6381 - acc: 0.588 - ETA: 1s - loss: 6.6368 - acc: 0.588 - ETA: 1s - loss: 6.6402 - acc: 0.587 - ETA: 1s - loss: 6.6376 - acc: 0.588 - ETA: 1s - loss: 6.6353 - acc: 0.588 - ETA: 1s - loss: 6.6296 - acc: 0.588 - ETA: 1s - loss: 6.6295 - acc: 0.588 - ETA: 1s - loss: 6.6280 - acc: 0.588 - ETA: 1s - loss: 6.6241 - acc: 0.588 - ETA: 1s - loss: 6.6248 - acc: 0.588 - ETA: 0s - loss: 6.6285 - acc: 0.588 - ETA: 0s - loss: 6.6284 - acc: 0.588 - ETA: 0s - loss: 6.6256 - acc: 0.588 - ETA: 0s - loss: 6.6221 - acc: 0.589 - ETA: 0s - loss: 6.6213 - acc: 0.589 - ETA: 0s - loss: 6.6176 - acc: 0.589 - ETA: 0s - loss: 6.6223 - acc: 0.589 - ETA: 0s - loss: 6.6184 - acc: 0.589 - ETA: 0s - loss: 6.6147 - acc: 0.589 - ETA: 0s - loss: 6.6132 - acc: 0.589 - ETA: 0s - loss: 6.6109 - acc: 0.589 - ETA: 0s - loss: 6.6099 - acc: 0.589 - 13s 259us/step - loss: 6.6062 - acc: 0.5900 - val_loss: 6.4564 - val_acc: 0.5994\n",
      "Epoch 3/35\n"
     ]
    },
    {
     "name": "stdout",
     "output_type": "stream",
     "text": [
      "51549/51549 [==============================] - ETA: 13s - loss: 6.4221 - acc: 0.60 - ETA: 6s - loss: 6.3465 - acc: 0.6062 - ETA: 8s - loss: 6.3501 - acc: 0.606 - ETA: 9s - loss: 6.3941 - acc: 0.603 - ETA: 9s - loss: 6.3992 - acc: 0.603 - ETA: 8s - loss: 6.4310 - acc: 0.601 - ETA: 8s - loss: 6.3661 - acc: 0.605 - ETA: 9s - loss: 6.2895 - acc: 0.609 - ETA: 10s - loss: 6.3150 - acc: 0.60 - ETA: 10s - loss: 6.3016 - acc: 0.60 - ETA: 10s - loss: 6.3107 - acc: 0.60 - ETA: 10s - loss: 6.3092 - acc: 0.60 - ETA: 10s - loss: 6.2877 - acc: 0.60 - ETA: 11s - loss: 6.3164 - acc: 0.60 - ETA: 10s - loss: 6.4113 - acc: 0.60 - ETA: 10s - loss: 6.4353 - acc: 0.60 - ETA: 10s - loss: 6.4063 - acc: 0.60 - ETA: 10s - loss: 6.3981 - acc: 0.60 - ETA: 10s - loss: 6.4221 - acc: 0.60 - ETA: 10s - loss: 6.4335 - acc: 0.60 - ETA: 10s - loss: 6.4248 - acc: 0.60 - ETA: 10s - loss: 6.3984 - acc: 0.60 - ETA: 10s - loss: 6.4095 - acc: 0.60 - ETA: 9s - loss: 6.3754 - acc: 0.6045 - ETA: 9s - loss: 6.3973 - acc: 0.603 - ETA: 9s - loss: 6.4022 - acc: 0.602 - ETA: 10s - loss: 6.4221 - acc: 0.60 - ETA: 9s - loss: 6.4282 - acc: 0.6012 - ETA: 9s - loss: 6.4693 - acc: 0.598 - ETA: 9s - loss: 6.4684 - acc: 0.598 - ETA: 8s - loss: 6.4728 - acc: 0.598 - ETA: 8s - loss: 6.4815 - acc: 0.597 - ETA: 8s - loss: 6.4652 - acc: 0.598 - ETA: 8s - loss: 6.4705 - acc: 0.598 - ETA: 8s - loss: 6.4793 - acc: 0.597 - ETA: 7s - loss: 6.4954 - acc: 0.596 - ETA: 7s - loss: 6.4962 - acc: 0.596 - ETA: 7s - loss: 6.5125 - acc: 0.595 - ETA: 6s - loss: 6.5283 - acc: 0.594 - ETA: 7s - loss: 6.5296 - acc: 0.594 - ETA: 6s - loss: 6.5202 - acc: 0.595 - ETA: 6s - loss: 6.4997 - acc: 0.596 - ETA: 6s - loss: 6.5136 - acc: 0.595 - ETA: 6s - loss: 6.5127 - acc: 0.595 - ETA: 6s - loss: 6.5235 - acc: 0.595 - ETA: 5s - loss: 6.5330 - acc: 0.594 - ETA: 5s - loss: 6.5296 - acc: 0.594 - ETA: 5s - loss: 6.5200 - acc: 0.595 - ETA: 5s - loss: 6.5222 - acc: 0.595 - ETA: 5s - loss: 6.5254 - acc: 0.595 - ETA: 5s - loss: 6.5275 - acc: 0.594 - ETA: 5s - loss: 6.5324 - acc: 0.594 - ETA: 5s - loss: 6.5386 - acc: 0.594 - ETA: 5s - loss: 6.5323 - acc: 0.594 - ETA: 5s - loss: 6.5336 - acc: 0.594 - ETA: 4s - loss: 6.5400 - acc: 0.594 - ETA: 4s - loss: 6.5447 - acc: 0.593 - ETA: 4s - loss: 6.5353 - acc: 0.594 - ETA: 4s - loss: 6.5391 - acc: 0.594 - ETA: 4s - loss: 6.5456 - acc: 0.593 - ETA: 4s - loss: 6.5396 - acc: 0.594 - ETA: 4s - loss: 6.5371 - acc: 0.594 - ETA: 4s - loss: 6.5438 - acc: 0.594 - ETA: 4s - loss: 6.5509 - acc: 0.593 - ETA: 3s - loss: 6.5558 - acc: 0.593 - ETA: 3s - loss: 6.5508 - acc: 0.593 - ETA: 3s - loss: 6.5513 - acc: 0.593 - ETA: 3s - loss: 6.5442 - acc: 0.593 - ETA: 3s - loss: 6.5407 - acc: 0.594 - ETA: 3s - loss: 6.5312 - acc: 0.594 - ETA: 3s - loss: 6.5303 - acc: 0.594 - ETA: 3s - loss: 6.5249 - acc: 0.595 - ETA: 3s - loss: 6.5285 - acc: 0.594 - ETA: 3s - loss: 6.5271 - acc: 0.595 - ETA: 3s - loss: 6.5258 - acc: 0.595 - ETA: 3s - loss: 6.5234 - acc: 0.595 - ETA: 3s - loss: 6.5223 - acc: 0.595 - ETA: 2s - loss: 6.5211 - acc: 0.595 - ETA: 2s - loss: 6.5265 - acc: 0.595 - ETA: 2s - loss: 6.5288 - acc: 0.594 - ETA: 2s - loss: 6.5256 - acc: 0.595 - ETA: 2s - loss: 6.5139 - acc: 0.595 - ETA: 2s - loss: 6.5125 - acc: 0.595 - ETA: 2s - loss: 6.5093 - acc: 0.596 - ETA: 2s - loss: 6.5135 - acc: 0.595 - ETA: 2s - loss: 6.5172 - acc: 0.595 - ETA: 2s - loss: 6.5231 - acc: 0.595 - ETA: 2s - loss: 6.5112 - acc: 0.596 - ETA: 2s - loss: 6.5070 - acc: 0.596 - ETA: 1s - loss: 6.5071 - acc: 0.596 - ETA: 1s - loss: 6.5078 - acc: 0.596 - ETA: 1s - loss: 6.5004 - acc: 0.596 - ETA: 1s - loss: 6.5014 - acc: 0.596 - ETA: 1s - loss: 6.4994 - acc: 0.596 - ETA: 1s - loss: 6.5013 - acc: 0.596 - ETA: 1s - loss: 6.4987 - acc: 0.596 - ETA: 1s - loss: 6.4865 - acc: 0.597 - ETA: 1s - loss: 6.4844 - acc: 0.597 - ETA: 1s - loss: 6.4807 - acc: 0.597 - ETA: 1s - loss: 6.4819 - acc: 0.597 - ETA: 1s - loss: 6.4821 - acc: 0.597 - ETA: 1s - loss: 6.4793 - acc: 0.598 - ETA: 1s - loss: 6.4716 - acc: 0.598 - ETA: 1s - loss: 6.4645 - acc: 0.598 - ETA: 0s - loss: 6.4662 - acc: 0.598 - ETA: 0s - loss: 6.4669 - acc: 0.598 - ETA: 0s - loss: 6.4573 - acc: 0.599 - ETA: 0s - loss: 6.4591 - acc: 0.599 - ETA: 0s - loss: 6.4675 - acc: 0.598 - ETA: 0s - loss: 6.4695 - acc: 0.598 - ETA: 0s - loss: 6.4674 - acc: 0.598 - ETA: 0s - loss: 6.4680 - acc: 0.598 - ETA: 0s - loss: 6.4679 - acc: 0.598 - ETA: 0s - loss: 6.4669 - acc: 0.598 - ETA: 0s - loss: 6.4668 - acc: 0.598 - ETA: 0s - loss: 6.4695 - acc: 0.598 - ETA: 0s - loss: 6.4721 - acc: 0.598 - ETA: 0s - loss: 6.4768 - acc: 0.598 - ETA: 0s - loss: 6.4804 - acc: 0.597 - ETA: 0s - loss: 6.4782 - acc: 0.598 - ETA: 0s - loss: 6.4802 - acc: 0.597 - ETA: 0s - loss: 6.4767 - acc: 0.598 - 8s 161us/step - loss: 6.4737 - acc: 0.5983 - val_loss: 6.4564 - val_acc: 0.5994\n",
      "Epoch 4/35\n",
      "51549/51549 [==============================] - ETA: 7s - loss: 6.6739 - acc: 0.585 - ETA: 7s - loss: 6.7683 - acc: 0.580 - ETA: 7s - loss: 6.7998 - acc: 0.578 - ETA: 7s - loss: 6.6487 - acc: 0.587 - ETA: 6s - loss: 6.5840 - acc: 0.591 - ETA: 6s - loss: 6.5550 - acc: 0.593 - ETA: 5s - loss: 6.5880 - acc: 0.591 - ETA: 5s - loss: 6.5429 - acc: 0.594 - ETA: 5s - loss: 6.4785 - acc: 0.598 - ETA: 5s - loss: 6.3992 - acc: 0.603 - ETA: 5s - loss: 6.4459 - acc: 0.600 - ETA: 5s - loss: 6.4535 - acc: 0.599 - ETA: 5s - loss: 6.4621 - acc: 0.599 - ETA: 5s - loss: 6.4741 - acc: 0.598 - ETA: 5s - loss: 6.4735 - acc: 0.598 - ETA: 5s - loss: 6.4608 - acc: 0.599 - ETA: 5s - loss: 6.4381 - acc: 0.600 - ETA: 5s - loss: 6.4438 - acc: 0.600 - ETA: 5s - loss: 6.4424 - acc: 0.600 - ETA: 5s - loss: 6.4627 - acc: 0.599 - ETA: 5s - loss: 6.4276 - acc: 0.601 - ETA: 5s - loss: 6.4469 - acc: 0.600 - ETA: 5s - loss: 6.4271 - acc: 0.601 - ETA: 5s - loss: 6.4236 - acc: 0.601 - ETA: 5s - loss: 6.4205 - acc: 0.601 - ETA: 5s - loss: 6.4411 - acc: 0.600 - ETA: 5s - loss: 6.4419 - acc: 0.600 - ETA: 4s - loss: 6.4355 - acc: 0.600 - ETA: 4s - loss: 6.4571 - acc: 0.599 - ETA: 4s - loss: 6.4520 - acc: 0.599 - ETA: 4s - loss: 6.4508 - acc: 0.599 - ETA: 4s - loss: 6.4706 - acc: 0.598 - ETA: 4s - loss: 6.4778 - acc: 0.598 - ETA: 4s - loss: 6.4931 - acc: 0.597 - ETA: 4s - loss: 6.4793 - acc: 0.598 - ETA: 4s - loss: 6.4785 - acc: 0.598 - ETA: 4s - loss: 6.4661 - acc: 0.598 - ETA: 4s - loss: 6.4733 - acc: 0.598 - ETA: 4s - loss: 6.4837 - acc: 0.597 - ETA: 4s - loss: 6.4668 - acc: 0.598 - ETA: 3s - loss: 6.4517 - acc: 0.599 - ETA: 3s - loss: 6.4509 - acc: 0.599 - ETA: 3s - loss: 6.4520 - acc: 0.599 - ETA: 3s - loss: 6.4540 - acc: 0.599 - ETA: 3s - loss: 6.4692 - acc: 0.598 - ETA: 3s - loss: 6.4742 - acc: 0.598 - ETA: 3s - loss: 6.4817 - acc: 0.597 - ETA: 3s - loss: 6.4959 - acc: 0.596 - ETA: 3s - loss: 6.5031 - acc: 0.596 - ETA: 3s - loss: 6.5041 - acc: 0.596 - ETA: 3s - loss: 6.4908 - acc: 0.597 - ETA: 3s - loss: 6.4956 - acc: 0.597 - ETA: 3s - loss: 6.4913 - acc: 0.597 - ETA: 3s - loss: 6.4858 - acc: 0.597 - ETA: 3s - loss: 6.4838 - acc: 0.597 - ETA: 3s - loss: 6.4710 - acc: 0.598 - ETA: 3s - loss: 6.4686 - acc: 0.598 - ETA: 3s - loss: 6.4660 - acc: 0.598 - ETA: 3s - loss: 6.4680 - acc: 0.598 - ETA: 3s - loss: 6.4705 - acc: 0.598 - ETA: 2s - loss: 6.4666 - acc: 0.598 - ETA: 2s - loss: 6.4731 - acc: 0.598 - ETA: 2s - loss: 6.4697 - acc: 0.598 - ETA: 2s - loss: 6.4708 - acc: 0.598 - ETA: 2s - loss: 6.4661 - acc: 0.598 - ETA: 2s - loss: 6.4692 - acc: 0.598 - ETA: 2s - loss: 6.4599 - acc: 0.599 - ETA: 2s - loss: 6.4607 - acc: 0.599 - ETA: 2s - loss: 6.4636 - acc: 0.599 - ETA: 2s - loss: 6.4510 - acc: 0.599 - ETA: 2s - loss: 6.4540 - acc: 0.599 - ETA: 2s - loss: 6.4491 - acc: 0.599 - ETA: 1s - loss: 6.4398 - acc: 0.600 - ETA: 1s - loss: 6.4468 - acc: 0.600 - ETA: 1s - loss: 6.4457 - acc: 0.600 - ETA: 1s - loss: 6.4426 - acc: 0.600 - ETA: 1s - loss: 6.4540 - acc: 0.599 - ETA: 1s - loss: 6.4634 - acc: 0.599 - ETA: 1s - loss: 6.4720 - acc: 0.598 - ETA: 1s - loss: 6.4666 - acc: 0.598 - ETA: 1s - loss: 6.4597 - acc: 0.599 - ETA: 1s - loss: 6.4541 - acc: 0.599 - ETA: 1s - loss: 6.4535 - acc: 0.599 - ETA: 1s - loss: 6.4601 - acc: 0.599 - ETA: 1s - loss: 6.4615 - acc: 0.599 - ETA: 1s - loss: 6.4616 - acc: 0.599 - ETA: 1s - loss: 6.4542 - acc: 0.599 - ETA: 0s - loss: 6.4572 - acc: 0.599 - ETA: 0s - loss: 6.4589 - acc: 0.599 - ETA: 0s - loss: 6.4718 - acc: 0.598 - ETA: 0s - loss: 6.4697 - acc: 0.598 - ETA: 0s - loss: 6.4714 - acc: 0.598 - ETA: 0s - loss: 6.4669 - acc: 0.598 - ETA: 0s - loss: 6.4726 - acc: 0.598 - ETA: 0s - loss: 6.4727 - acc: 0.598 - ETA: 0s - loss: 6.4725 - acc: 0.598 - ETA: 0s - loss: 6.4737 - acc: 0.598 - ETA: 0s - loss: 6.4700 - acc: 0.598 - ETA: 0s - loss: 6.4658 - acc: 0.598 - ETA: 0s - loss: 6.4650 - acc: 0.598 - ETA: 0s - loss: 6.4636 - acc: 0.599 - ETA: 0s - loss: 6.4587 - acc: 0.599 - 7s 137us/step - loss: 6.4646 - acc: 0.5989 - val_loss: 6.4564 - val_acc: 0.5994\n",
      "Epoch 5/35\n",
      "51549/51549 [==============================] - ETA: 9s - loss: 7.5554 - acc: 0.531 - ETA: 10s - loss: 6.6319 - acc: 0.58 - ETA: 7s - loss: 6.3861 - acc: 0.6038 - ETA: 5s - loss: 6.4745 - acc: 0.598 - ETA: 6s - loss: 6.5396 - acc: 0.594 - ETA: 7s - loss: 6.4850 - acc: 0.597 - ETA: 7s - loss: 6.4817 - acc: 0.597 - ETA: 7s - loss: 6.4823 - acc: 0.597 - ETA: 6s - loss: 6.4753 - acc: 0.598 - ETA: 7s - loss: 6.5306 - acc: 0.594 - ETA: 7s - loss: 6.5401 - acc: 0.594 - ETA: 6s - loss: 6.5795 - acc: 0.591 - ETA: 6s - loss: 6.5900 - acc: 0.591 - ETA: 6s - loss: 6.5890 - acc: 0.591 - ETA: 6s - loss: 6.5480 - acc: 0.593 - ETA: 6s - loss: 6.5379 - acc: 0.594 - ETA: 6s - loss: 6.5266 - acc: 0.595 - ETA: 6s - loss: 6.4580 - acc: 0.599 - ETA: 6s - loss: 6.4391 - acc: 0.600 - ETA: 6s - loss: 6.4520 - acc: 0.599 - ETA: 6s - loss: 6.4352 - acc: 0.600 - ETA: 6s - loss: 6.4382 - acc: 0.600 - ETA: 6s - loss: 6.4341 - acc: 0.600 - ETA: 5s - loss: 6.4366 - acc: 0.600 - ETA: 5s - loss: 6.4497 - acc: 0.599 - ETA: 5s - loss: 6.4674 - acc: 0.598 - ETA: 5s - loss: 6.4752 - acc: 0.598 - ETA: 5s - loss: 6.4877 - acc: 0.597 - ETA: 5s - loss: 6.4683 - acc: 0.598 - ETA: 5s - loss: 6.4690 - acc: 0.598 - ETA: 5s - loss: 6.4767 - acc: 0.598 - ETA: 4s - loss: 6.4701 - acc: 0.598 - ETA: 4s - loss: 6.4588 - acc: 0.599 - ETA: 4s - loss: 6.4829 - acc: 0.597 - ETA: 4s - loss: 6.4633 - acc: 0.599 - ETA: 4s - loss: 6.4630 - acc: 0.599 - ETA: 4s - loss: 6.4703 - acc: 0.598 - ETA: 4s - loss: 6.4749 - acc: 0.598 - ETA: 4s - loss: 6.5069 - acc: 0.596 - ETA: 4s - loss: 6.5133 - acc: 0.595 - ETA: 4s - loss: 6.4998 - acc: 0.596 - ETA: 4s - loss: 6.4816 - acc: 0.597 - ETA: 4s - loss: 6.4859 - acc: 0.597 - ETA: 4s - loss: 6.4919 - acc: 0.597 - ETA: 3s - loss: 6.4941 - acc: 0.597 - ETA: 3s - loss: 6.4970 - acc: 0.596 - ETA: 3s - loss: 6.4926 - acc: 0.597 - ETA: 3s - loss: 6.5006 - acc: 0.596 - ETA: 3s - loss: 6.4771 - acc: 0.598 - ETA: 3s - loss: 6.4758 - acc: 0.598 - ETA: 3s - loss: 6.4781 - acc: 0.598 - ETA: 3s - loss: 6.4796 - acc: 0.598 - ETA: 3s - loss: 6.4837 - acc: 0.597 - ETA: 3s - loss: 6.4788 - acc: 0.598 - ETA: 3s - loss: 6.4768 - acc: 0.598 - ETA: 3s - loss: 6.4744 - acc: 0.598 - ETA: 3s - loss: 6.4685 - acc: 0.598 - ETA: 3s - loss: 6.4784 - acc: 0.598 - ETA: 2s - loss: 6.4788 - acc: 0.598 - ETA: 2s - loss: 6.4763 - acc: 0.598 - ETA: 2s - loss: 6.4750 - acc: 0.598 - ETA: 2s - loss: 6.4889 - acc: 0.597 - ETA: 2s - loss: 6.4867 - acc: 0.597 - ETA: 2s - loss: 6.4875 - acc: 0.597 - ETA: 2s - loss: 6.4864 - acc: 0.597 - ETA: 2s - loss: 6.4879 - acc: 0.597 - ETA: 2s - loss: 6.4791 - acc: 0.598 - ETA: 2s - loss: 6.4744 - acc: 0.598 - ETA: 2s - loss: 6.4730 - acc: 0.598 - ETA: 2s - loss: 6.4737 - acc: 0.598 - ETA: 2s - loss: 6.4761 - acc: 0.598 - ETA: 2s - loss: 6.4751 - acc: 0.598 - ETA: 2s - loss: 6.4718 - acc: 0.598 - ETA: 1s - loss: 6.4689 - acc: 0.598 - ETA: 1s - loss: 6.4621 - acc: 0.599 - ETA: 1s - loss: 6.4640 - acc: 0.599 - ETA: 1s - loss: 6.4528 - acc: 0.599 - ETA: 1s - loss: 6.4479 - acc: 0.600 - ETA: 1s - loss: 6.4489 - acc: 0.599 - ETA: 1s - loss: 6.4438 - acc: 0.600 - ETA: 1s - loss: 6.4500 - acc: 0.599 - ETA: 1s - loss: 6.4561 - acc: 0.599 - ETA: 1s - loss: 6.4555 - acc: 0.599 - ETA: 1s - loss: 6.4488 - acc: 0.599 - ETA: 1s - loss: 6.4449 - acc: 0.600 - ETA: 1s - loss: 6.4518 - acc: 0.599 - ETA: 1s - loss: 6.4555 - acc: 0.599 - ETA: 0s - loss: 6.4570 - acc: 0.599 - ETA: 0s - loss: 6.4624 - acc: 0.599 - ETA: 0s - loss: 6.4622 - acc: 0.599 - ETA: 0s - loss: 6.4636 - acc: 0.599 - ETA: 0s - loss: 6.4578 - acc: 0.599 - ETA: 0s - loss: 6.4588 - acc: 0.599 - ETA: 0s - loss: 6.4587 - acc: 0.599 - ETA: 0s - loss: 6.4556 - acc: 0.599 - ETA: 0s - loss: 6.4552 - acc: 0.599 - ETA: 0s - loss: 6.4540 - acc: 0.599 - ETA: 0s - loss: 6.4551 - acc: 0.599 - ETA: 0s - loss: 6.4540 - acc: 0.599 - ETA: 0s - loss: 6.4611 - acc: 0.599 - ETA: 0s - loss: 6.4639 - acc: 0.599 - ETA: 0s - loss: 6.4688 - acc: 0.598 - ETA: 0s - loss: 6.4663 - acc: 0.598 - ETA: 0s - loss: 6.4625 - acc: 0.599 - ETA: 0s - loss: 6.4648 - acc: 0.598 - 8s 147us/step - loss: 6.4661 - acc: 0.5988 - val_loss: 6.4564 - val_acc: 0.5994\n",
      "Epoch 6/35\n"
     ]
    },
    {
     "name": "stdout",
     "output_type": "stream",
     "text": [
      "51549/51549 [==============================] - ETA: 8s - loss: 7.0517 - acc: 0.562 - ETA: 6s - loss: 6.6235 - acc: 0.589 - ETA: 4s - loss: 6.4793 - acc: 0.598 - ETA: 4s - loss: 6.5795 - acc: 0.591 - ETA: 4s - loss: 6.5679 - acc: 0.592 - ETA: 4s - loss: 6.5270 - acc: 0.595 - ETA: 4s - loss: 6.5525 - acc: 0.593 - ETA: 4s - loss: 6.5598 - acc: 0.593 - ETA: 4s - loss: 6.6249 - acc: 0.589 - ETA: 4s - loss: 6.6061 - acc: 0.590 - ETA: 4s - loss: 6.6409 - acc: 0.588 - ETA: 4s - loss: 6.6821 - acc: 0.585 - ETA: 4s - loss: 6.6487 - acc: 0.587 - ETA: 5s - loss: 6.6352 - acc: 0.588 - ETA: 5s - loss: 6.6441 - acc: 0.587 - ETA: 5s - loss: 6.6269 - acc: 0.588 - ETA: 5s - loss: 6.6299 - acc: 0.588 - ETA: 5s - loss: 6.6090 - acc: 0.590 - ETA: 5s - loss: 6.5717 - acc: 0.592 - ETA: 5s - loss: 6.6101 - acc: 0.589 - ETA: 5s - loss: 6.6010 - acc: 0.590 - ETA: 4s - loss: 6.5666 - acc: 0.592 - ETA: 4s - loss: 6.5540 - acc: 0.593 - ETA: 5s - loss: 6.5509 - acc: 0.593 - ETA: 5s - loss: 6.5480 - acc: 0.593 - ETA: 5s - loss: 6.5151 - acc: 0.595 - ETA: 4s - loss: 6.5162 - acc: 0.595 - ETA: 4s - loss: 6.4863 - acc: 0.597 - ETA: 4s - loss: 6.4838 - acc: 0.597 - ETA: 4s - loss: 6.4904 - acc: 0.597 - ETA: 4s - loss: 6.5260 - acc: 0.595 - ETA: 4s - loss: 6.5244 - acc: 0.595 - ETA: 4s - loss: 6.5151 - acc: 0.595 - ETA: 4s - loss: 6.5266 - acc: 0.595 - ETA: 4s - loss: 6.5170 - acc: 0.595 - ETA: 4s - loss: 6.5180 - acc: 0.595 - ETA: 4s - loss: 6.5412 - acc: 0.594 - ETA: 4s - loss: 6.5386 - acc: 0.594 - ETA: 4s - loss: 6.5372 - acc: 0.594 - ETA: 4s - loss: 6.5287 - acc: 0.594 - ETA: 3s - loss: 6.5252 - acc: 0.595 - ETA: 3s - loss: 6.5284 - acc: 0.595 - ETA: 3s - loss: 6.5298 - acc: 0.594 - ETA: 3s - loss: 6.5029 - acc: 0.596 - ETA: 3s - loss: 6.4827 - acc: 0.597 - ETA: 3s - loss: 6.4791 - acc: 0.598 - ETA: 3s - loss: 6.4650 - acc: 0.598 - ETA: 3s - loss: 6.4626 - acc: 0.599 - ETA: 3s - loss: 6.4536 - acc: 0.599 - ETA: 3s - loss: 6.4572 - acc: 0.599 - ETA: 3s - loss: 6.4651 - acc: 0.598 - ETA: 3s - loss: 6.4760 - acc: 0.598 - ETA: 3s - loss: 6.4835 - acc: 0.597 - ETA: 3s - loss: 6.4817 - acc: 0.597 - ETA: 3s - loss: 6.4632 - acc: 0.599 - ETA: 2s - loss: 6.4654 - acc: 0.598 - ETA: 2s - loss: 6.4632 - acc: 0.599 - ETA: 2s - loss: 6.4613 - acc: 0.599 - ETA: 2s - loss: 6.4623 - acc: 0.599 - ETA: 2s - loss: 6.4677 - acc: 0.598 - ETA: 2s - loss: 6.4660 - acc: 0.598 - ETA: 2s - loss: 6.4638 - acc: 0.599 - ETA: 2s - loss: 6.4716 - acc: 0.598 - ETA: 2s - loss: 6.4734 - acc: 0.598 - ETA: 2s - loss: 6.4763 - acc: 0.598 - ETA: 2s - loss: 6.4691 - acc: 0.598 - ETA: 2s - loss: 6.4648 - acc: 0.598 - ETA: 2s - loss: 6.4703 - acc: 0.598 - ETA: 2s - loss: 6.4744 - acc: 0.598 - ETA: 2s - loss: 6.4663 - acc: 0.598 - ETA: 2s - loss: 6.4624 - acc: 0.599 - ETA: 2s - loss: 6.4628 - acc: 0.599 - ETA: 2s - loss: 6.4723 - acc: 0.598 - ETA: 1s - loss: 6.4666 - acc: 0.598 - ETA: 1s - loss: 6.4682 - acc: 0.598 - ETA: 1s - loss: 6.4724 - acc: 0.598 - ETA: 1s - loss: 6.4748 - acc: 0.598 - ETA: 1s - loss: 6.4708 - acc: 0.598 - ETA: 1s - loss: 6.4744 - acc: 0.598 - ETA: 1s - loss: 6.4747 - acc: 0.598 - ETA: 1s - loss: 6.4711 - acc: 0.598 - ETA: 1s - loss: 6.4635 - acc: 0.599 - ETA: 1s - loss: 6.4667 - acc: 0.598 - ETA: 1s - loss: 6.4629 - acc: 0.599 - ETA: 1s - loss: 6.4620 - acc: 0.599 - ETA: 1s - loss: 6.4607 - acc: 0.599 - ETA: 1s - loss: 6.4657 - acc: 0.598 - ETA: 1s - loss: 6.4594 - acc: 0.599 - ETA: 1s - loss: 6.4628 - acc: 0.599 - ETA: 1s - loss: 6.4623 - acc: 0.599 - ETA: 0s - loss: 6.4662 - acc: 0.598 - ETA: 0s - loss: 6.4656 - acc: 0.598 - ETA: 0s - loss: 6.4676 - acc: 0.598 - ETA: 0s - loss: 6.4661 - acc: 0.598 - ETA: 0s - loss: 6.4724 - acc: 0.598 - ETA: 0s - loss: 6.4752 - acc: 0.598 - ETA: 0s - loss: 6.4761 - acc: 0.598 - ETA: 0s - loss: 6.4804 - acc: 0.597 - ETA: 0s - loss: 6.4780 - acc: 0.598 - ETA: 0s - loss: 6.4808 - acc: 0.597 - ETA: 0s - loss: 6.4827 - acc: 0.597 - ETA: 0s - loss: 6.4854 - acc: 0.597 - ETA: 0s - loss: 6.4847 - acc: 0.597 - ETA: 0s - loss: 6.4819 - acc: 0.597 - ETA: 0s - loss: 6.4798 - acc: 0.598 - ETA: 0s - loss: 6.4774 - acc: 0.598 - ETA: 0s - loss: 6.4807 - acc: 0.597 - ETA: 0s - loss: 6.4881 - acc: 0.597 - ETA: 0s - loss: 6.4881 - acc: 0.597 - ETA: 0s - loss: 6.4857 - acc: 0.597 - 7s 143us/step - loss: 6.4856 - acc: 0.5976 - val_loss: 6.4564 - val_acc: 0.5994\n",
      "Epoch 7/35\n",
      "51549/51549 [==============================] - ETA: 7s - loss: 5.4147 - acc: 0.664 - ETA: 7s - loss: 5.7295 - acc: 0.644 - ETA: 6s - loss: 6.2961 - acc: 0.609 - ETA: 5s - loss: 6.5867 - acc: 0.591 - ETA: 5s - loss: 6.6739 - acc: 0.585 - ETA: 5s - loss: 6.7219 - acc: 0.583 - ETA: 5s - loss: 6.6844 - acc: 0.585 - ETA: 5s - loss: 6.6199 - acc: 0.589 - ETA: 5s - loss: 6.6991 - acc: 0.584 - ETA: 5s - loss: 6.6163 - acc: 0.589 - ETA: 5s - loss: 6.5745 - acc: 0.592 - ETA: 5s - loss: 6.5870 - acc: 0.591 - ETA: 5s - loss: 6.5774 - acc: 0.591 - ETA: 5s - loss: 6.5628 - acc: 0.592 - ETA: 5s - loss: 6.5548 - acc: 0.593 - ETA: 4s - loss: 6.5501 - acc: 0.593 - ETA: 4s - loss: 6.5297 - acc: 0.594 - ETA: 4s - loss: 6.5365 - acc: 0.594 - ETA: 4s - loss: 6.5444 - acc: 0.594 - ETA: 4s - loss: 6.5532 - acc: 0.593 - ETA: 4s - loss: 6.5463 - acc: 0.593 - ETA: 4s - loss: 6.5234 - acc: 0.595 - ETA: 4s - loss: 6.5107 - acc: 0.596 - ETA: 4s - loss: 6.5095 - acc: 0.596 - ETA: 4s - loss: 6.5069 - acc: 0.596 - ETA: 4s - loss: 6.4987 - acc: 0.596 - ETA: 4s - loss: 6.4824 - acc: 0.597 - ETA: 4s - loss: 6.4876 - acc: 0.597 - ETA: 4s - loss: 6.5014 - acc: 0.596 - ETA: 4s - loss: 6.5089 - acc: 0.596 - ETA: 4s - loss: 6.5112 - acc: 0.596 - ETA: 4s - loss: 6.5068 - acc: 0.596 - ETA: 4s - loss: 6.5034 - acc: 0.596 - ETA: 4s - loss: 6.4883 - acc: 0.597 - ETA: 4s - loss: 6.4766 - acc: 0.598 - ETA: 4s - loss: 6.4885 - acc: 0.597 - ETA: 4s - loss: 6.4880 - acc: 0.597 - ETA: 4s - loss: 6.4883 - acc: 0.597 - ETA: 4s - loss: 6.4855 - acc: 0.597 - ETA: 4s - loss: 6.4783 - acc: 0.598 - ETA: 4s - loss: 6.4750 - acc: 0.598 - ETA: 4s - loss: 6.4573 - acc: 0.599 - ETA: 3s - loss: 6.4662 - acc: 0.598 - ETA: 3s - loss: 6.4747 - acc: 0.598 - ETA: 3s - loss: 6.4606 - acc: 0.599 - ETA: 3s - loss: 6.4556 - acc: 0.599 - ETA: 3s - loss: 6.4528 - acc: 0.599 - ETA: 3s - loss: 6.4477 - acc: 0.600 - ETA: 3s - loss: 6.4543 - acc: 0.599 - ETA: 3s - loss: 6.4659 - acc: 0.598 - ETA: 3s - loss: 6.4600 - acc: 0.599 - ETA: 3s - loss: 6.4656 - acc: 0.598 - ETA: 3s - loss: 6.4715 - acc: 0.598 - ETA: 3s - loss: 6.4742 - acc: 0.598 - ETA: 3s - loss: 6.4720 - acc: 0.598 - ETA: 3s - loss: 6.4791 - acc: 0.598 - ETA: 3s - loss: 6.4770 - acc: 0.598 - ETA: 3s - loss: 6.4753 - acc: 0.598 - ETA: 3s - loss: 6.4764 - acc: 0.598 - ETA: 2s - loss: 6.4836 - acc: 0.597 - ETA: 2s - loss: 6.4951 - acc: 0.597 - ETA: 2s - loss: 6.4943 - acc: 0.597 - ETA: 2s - loss: 6.4914 - acc: 0.597 - ETA: 2s - loss: 6.4902 - acc: 0.597 - ETA: 2s - loss: 6.4949 - acc: 0.597 - ETA: 2s - loss: 6.4895 - acc: 0.597 - ETA: 2s - loss: 6.4889 - acc: 0.597 - ETA: 2s - loss: 6.4932 - acc: 0.597 - ETA: 2s - loss: 6.4941 - acc: 0.597 - ETA: 2s - loss: 6.4897 - acc: 0.597 - ETA: 2s - loss: 6.4840 - acc: 0.597 - ETA: 2s - loss: 6.4773 - acc: 0.598 - ETA: 2s - loss: 6.4702 - acc: 0.598 - ETA: 2s - loss: 6.4744 - acc: 0.598 - ETA: 2s - loss: 6.4783 - acc: 0.598 - ETA: 2s - loss: 6.4759 - acc: 0.598 - ETA: 1s - loss: 6.4740 - acc: 0.598 - ETA: 1s - loss: 6.4741 - acc: 0.598 - ETA: 1s - loss: 6.4766 - acc: 0.598 - ETA: 1s - loss: 6.4780 - acc: 0.598 - ETA: 1s - loss: 6.4829 - acc: 0.597 - ETA: 1s - loss: 6.4831 - acc: 0.597 - ETA: 1s - loss: 6.4948 - acc: 0.597 - ETA: 1s - loss: 6.5015 - acc: 0.596 - ETA: 1s - loss: 6.4994 - acc: 0.596 - ETA: 1s - loss: 6.5090 - acc: 0.596 - ETA: 1s - loss: 6.4993 - acc: 0.596 - ETA: 1s - loss: 6.5014 - acc: 0.596 - ETA: 1s - loss: 6.4965 - acc: 0.596 - ETA: 1s - loss: 6.4936 - acc: 0.597 - ETA: 1s - loss: 6.4926 - acc: 0.597 - ETA: 1s - loss: 6.4936 - acc: 0.597 - ETA: 0s - loss: 6.4965 - acc: 0.596 - ETA: 0s - loss: 6.4975 - acc: 0.596 - ETA: 0s - loss: 6.4938 - acc: 0.597 - ETA: 0s - loss: 6.4950 - acc: 0.597 - ETA: 0s - loss: 6.4968 - acc: 0.596 - ETA: 0s - loss: 6.4969 - acc: 0.596 - ETA: 0s - loss: 6.5027 - acc: 0.596 - ETA: 0s - loss: 6.4980 - acc: 0.596 - ETA: 0s - loss: 6.4995 - acc: 0.596 - ETA: 0s - loss: 6.4954 - acc: 0.597 - ETA: 0s - loss: 6.4963 - acc: 0.596 - ETA: 0s - loss: 6.4965 - acc: 0.596 - ETA: 0s - loss: 6.4954 - acc: 0.597 - ETA: 0s - loss: 6.4977 - acc: 0.596 - ETA: 0s - loss: 6.5020 - acc: 0.596 - ETA: 0s - loss: 6.5010 - acc: 0.596 - ETA: 0s - loss: 6.4979 - acc: 0.596 - ETA: 0s - loss: 6.4987 - acc: 0.596 - ETA: 0s - loss: 6.4981 - acc: 0.596 - ETA: 0s - loss: 6.4997 - acc: 0.596 - ETA: 0s - loss: 6.4980 - acc: 0.596 - ETA: 0s - loss: 6.4995 - acc: 0.596 - ETA: 0s - loss: 6.4994 - acc: 0.596 - ETA: 0s - loss: 6.4983 - acc: 0.596 - ETA: 0s - loss: 6.4993 - acc: 0.596 - ETA: 0s - loss: 6.4986 - acc: 0.596 - ETA: 0s - loss: 6.4979 - acc: 0.596 - ETA: 0s - loss: 6.4998 - acc: 0.596 - ETA: 0s - loss: 6.4996 - acc: 0.596 - ETA: 0s - loss: 6.4967 - acc: 0.596 - ETA: 0s - loss: 6.4955 - acc: 0.597 - 11s 208us/step - loss: 6.4952 - acc: 0.5970 - val_loss: 6.4564 - val_acc: 0.5994\n",
      "Epoch 8/35\n"
     ]
    },
    {
     "name": "stdout",
     "output_type": "stream",
     "text": [
      "51549/51549 [==============================] - ETA: 19s - loss: 7.3035 - acc: 0.54 - ETA: 14s - loss: 6.8418 - acc: 0.57 - ETA: 13s - loss: 6.4976 - acc: 0.59 - ETA: 11s - loss: 6.5795 - acc: 0.59 - ETA: 11s - loss: 6.6865 - acc: 0.58 - ETA: 12s - loss: 6.6396 - acc: 0.58 - ETA: 12s - loss: 6.5964 - acc: 0.59 - ETA: 10s - loss: 6.6295 - acc: 0.58 - ETA: 8s - loss: 6.6167 - acc: 0.5895 - ETA: 8s - loss: 6.7019 - acc: 0.584 - ETA: 7s - loss: 6.7389 - acc: 0.581 - ETA: 7s - loss: 6.7928 - acc: 0.578 - ETA: 7s - loss: 6.8164 - acc: 0.577 - ETA: 7s - loss: 6.7968 - acc: 0.578 - ETA: 7s - loss: 6.7705 - acc: 0.579 - ETA: 7s - loss: 6.7626 - acc: 0.580 - ETA: 7s - loss: 6.7834 - acc: 0.579 - ETA: 8s - loss: 6.7837 - acc: 0.579 - ETA: 8s - loss: 6.7690 - acc: 0.580 - ETA: 8s - loss: 6.7683 - acc: 0.580 - ETA: 8s - loss: 6.7812 - acc: 0.579 - ETA: 8s - loss: 6.7769 - acc: 0.579 - ETA: 8s - loss: 6.8042 - acc: 0.577 - ETA: 8s - loss: 6.8040 - acc: 0.577 - ETA: 8s - loss: 6.7937 - acc: 0.578 - ETA: 8s - loss: 6.7878 - acc: 0.578 - ETA: 8s - loss: 6.7805 - acc: 0.579 - ETA: 8s - loss: 6.7922 - acc: 0.578 - ETA: 9s - loss: 6.7942 - acc: 0.578 - ETA: 9s - loss: 6.7813 - acc: 0.579 - ETA: 9s - loss: 6.7779 - acc: 0.579 - ETA: 9s - loss: 6.7710 - acc: 0.579 - ETA: 10s - loss: 6.7484 - acc: 0.58 - ETA: 9s - loss: 6.7505 - acc: 0.5812 - ETA: 10s - loss: 6.7435 - acc: 0.58 - ETA: 9s - loss: 6.7320 - acc: 0.5823 - ETA: 9s - loss: 6.7097 - acc: 0.583 - ETA: 9s - loss: 6.6680 - acc: 0.586 - ETA: 9s - loss: 6.6711 - acc: 0.586 - ETA: 8s - loss: 6.6725 - acc: 0.586 - ETA: 8s - loss: 6.6885 - acc: 0.585 - ETA: 8s - loss: 6.6973 - acc: 0.584 - ETA: 8s - loss: 6.6890 - acc: 0.585 - ETA: 8s - loss: 6.6702 - acc: 0.586 - ETA: 8s - loss: 6.6703 - acc: 0.586 - ETA: 8s - loss: 6.6485 - acc: 0.587 - ETA: 8s - loss: 6.6390 - acc: 0.588 - ETA: 7s - loss: 6.6520 - acc: 0.587 - ETA: 7s - loss: 6.6333 - acc: 0.588 - ETA: 7s - loss: 6.6305 - acc: 0.588 - ETA: 7s - loss: 6.6149 - acc: 0.589 - ETA: 7s - loss: 6.6095 - acc: 0.589 - ETA: 7s - loss: 6.6095 - acc: 0.589 - ETA: 7s - loss: 6.6213 - acc: 0.589 - ETA: 6s - loss: 6.6027 - acc: 0.590 - ETA: 6s - loss: 6.5962 - acc: 0.590 - ETA: 6s - loss: 6.6030 - acc: 0.590 - ETA: 6s - loss: 6.6043 - acc: 0.590 - ETA: 6s - loss: 6.6053 - acc: 0.590 - ETA: 6s - loss: 6.6139 - acc: 0.589 - ETA: 6s - loss: 6.6215 - acc: 0.589 - ETA: 6s - loss: 6.6214 - acc: 0.589 - ETA: 6s - loss: 6.6175 - acc: 0.589 - ETA: 6s - loss: 6.6186 - acc: 0.589 - ETA: 6s - loss: 6.6062 - acc: 0.590 - ETA: 6s - loss: 6.6028 - acc: 0.590 - ETA: 6s - loss: 6.6056 - acc: 0.590 - ETA: 6s - loss: 6.6027 - acc: 0.590 - ETA: 6s - loss: 6.6016 - acc: 0.590 - ETA: 5s - loss: 6.5931 - acc: 0.591 - ETA: 5s - loss: 6.5947 - acc: 0.590 - ETA: 5s - loss: 6.5935 - acc: 0.590 - ETA: 5s - loss: 6.6021 - acc: 0.590 - ETA: 5s - loss: 6.5985 - acc: 0.590 - ETA: 5s - loss: 6.5975 - acc: 0.590 - ETA: 5s - loss: 6.5983 - acc: 0.590 - ETA: 5s - loss: 6.5965 - acc: 0.590 - ETA: 5s - loss: 6.5946 - acc: 0.590 - ETA: 5s - loss: 6.5970 - acc: 0.590 - ETA: 5s - loss: 6.6027 - acc: 0.590 - ETA: 5s - loss: 6.5998 - acc: 0.590 - ETA: 5s - loss: 6.5980 - acc: 0.590 - ETA: 5s - loss: 6.5998 - acc: 0.590 - ETA: 5s - loss: 6.5935 - acc: 0.590 - ETA: 5s - loss: 6.5916 - acc: 0.591 - ETA: 5s - loss: 6.5999 - acc: 0.590 - ETA: 5s - loss: 6.5968 - acc: 0.590 - ETA: 5s - loss: 6.5972 - acc: 0.590 - ETA: 5s - loss: 6.6005 - acc: 0.590 - ETA: 5s - loss: 6.5965 - acc: 0.590 - ETA: 5s - loss: 6.5923 - acc: 0.591 - ETA: 5s - loss: 6.5867 - acc: 0.591 - ETA: 5s - loss: 6.5890 - acc: 0.591 - ETA: 5s - loss: 6.5901 - acc: 0.591 - ETA: 5s - loss: 6.5905 - acc: 0.591 - ETA: 5s - loss: 6.5881 - acc: 0.591 - ETA: 4s - loss: 6.5771 - acc: 0.591 - ETA: 4s - loss: 6.5841 - acc: 0.591 - ETA: 4s - loss: 6.5778 - acc: 0.591 - ETA: 4s - loss: 6.5841 - acc: 0.591 - ETA: 4s - loss: 6.5779 - acc: 0.591 - ETA: 4s - loss: 6.5767 - acc: 0.592 - ETA: 4s - loss: 6.5765 - acc: 0.592 - ETA: 4s - loss: 6.5774 - acc: 0.591 - ETA: 4s - loss: 6.5804 - acc: 0.591 - ETA: 4s - loss: 6.5774 - acc: 0.591 - ETA: 4s - loss: 6.5775 - acc: 0.591 - ETA: 4s - loss: 6.5738 - acc: 0.592 - ETA: 4s - loss: 6.5786 - acc: 0.591 - ETA: 4s - loss: 6.5725 - acc: 0.592 - ETA: 4s - loss: 6.5699 - acc: 0.592 - ETA: 4s - loss: 6.5740 - acc: 0.592 - ETA: 4s - loss: 6.5715 - acc: 0.592 - ETA: 4s - loss: 6.5666 - acc: 0.592 - ETA: 3s - loss: 6.5635 - acc: 0.592 - ETA: 3s - loss: 6.5638 - acc: 0.592 - ETA: 3s - loss: 6.5670 - acc: 0.592 - ETA: 3s - loss: 6.5599 - acc: 0.593 - ETA: 3s - loss: 6.5631 - acc: 0.592 - ETA: 3s - loss: 6.5629 - acc: 0.592 - ETA: 3s - loss: 6.5628 - acc: 0.592 - ETA: 3s - loss: 6.5641 - acc: 0.592 - ETA: 3s - loss: 6.5684 - acc: 0.592 - ETA: 3s - loss: 6.5696 - acc: 0.592 - ETA: 3s - loss: 6.5686 - acc: 0.592 - ETA: 3s - loss: 6.5659 - acc: 0.592 - ETA: 3s - loss: 6.5641 - acc: 0.592 - ETA: 3s - loss: 6.5622 - acc: 0.592 - ETA: 3s - loss: 6.5565 - acc: 0.593 - ETA: 3s - loss: 6.5539 - acc: 0.593 - ETA: 3s - loss: 6.5526 - acc: 0.593 - ETA: 3s - loss: 6.5530 - acc: 0.593 - ETA: 3s - loss: 6.5526 - acc: 0.593 - ETA: 3s - loss: 6.5484 - acc: 0.593 - ETA: 2s - loss: 6.5509 - acc: 0.593 - ETA: 2s - loss: 6.5513 - acc: 0.593 - ETA: 2s - loss: 6.5521 - acc: 0.593 - ETA: 2s - loss: 6.5508 - acc: 0.593 - ETA: 2s - loss: 6.5520 - acc: 0.593 - ETA: 2s - loss: 6.5476 - acc: 0.593 - ETA: 2s - loss: 6.5440 - acc: 0.594 - ETA: 2s - loss: 6.5421 - acc: 0.594 - ETA: 2s - loss: 6.5374 - acc: 0.594 - ETA: 2s - loss: 6.5348 - acc: 0.594 - ETA: 2s - loss: 6.5368 - acc: 0.594 - ETA: 2s - loss: 6.5365 - acc: 0.594 - ETA: 2s - loss: 6.5362 - acc: 0.594 - ETA: 2s - loss: 6.5404 - acc: 0.594 - ETA: 1s - loss: 6.5390 - acc: 0.594 - ETA: 1s - loss: 6.5372 - acc: 0.594 - ETA: 1s - loss: 6.5354 - acc: 0.594 - ETA: 1s - loss: 6.5361 - acc: 0.594 - ETA: 1s - loss: 6.5358 - acc: 0.594 - ETA: 1s - loss: 6.5366 - acc: 0.594 - ETA: 1s - loss: 6.5334 - acc: 0.594 - ETA: 1s - loss: 6.5346 - acc: 0.594 - ETA: 1s - loss: 6.5368 - acc: 0.594 - ETA: 1s - loss: 6.5358 - acc: 0.594 - ETA: 1s - loss: 6.5405 - acc: 0.594 - ETA: 1s - loss: 6.5381 - acc: 0.594 - ETA: 1s - loss: 6.5410 - acc: 0.594 - ETA: 1s - loss: 6.5407 - acc: 0.594 - ETA: 1s - loss: 6.5298 - acc: 0.594 - ETA: 0s - loss: 6.5186 - acc: 0.595 - ETA: 0s - loss: 6.5217 - acc: 0.595 - ETA: 0s - loss: 6.5205 - acc: 0.595 - ETA: 0s - loss: 6.5202 - acc: 0.595 - ETA: 0s - loss: 6.5221 - acc: 0.595 - ETA: 0s - loss: 6.5231 - acc: 0.595 - ETA: 0s - loss: 6.5241 - acc: 0.595 - ETA: 0s - loss: 6.5181 - acc: 0.595 - 13s 258us/step - loss: 6.5143 - acc: 0.5958 - val_loss: 6.4564 - val_acc: 0.5994\n",
      "Epoch 9/35\n",
      "51549/51549 [==============================] - ETA: 8s - loss: 5.9184 - acc: 0.632 - ETA: 4s - loss: 6.7159 - acc: 0.583 - ETA: 6s - loss: 6.6599 - acc: 0.586 - ETA: 5s - loss: 6.6379 - acc: 0.588 - ETA: 6s - loss: 6.6267 - acc: 0.588 - ETA: 6s - loss: 6.7402 - acc: 0.581 - ETA: 6s - loss: 6.7177 - acc: 0.583 - ETA: 5s - loss: 6.5660 - acc: 0.592 - ETA: 5s - loss: 6.5136 - acc: 0.595 - ETA: 5s - loss: 6.5310 - acc: 0.594 - ETA: 5s - loss: 6.5354 - acc: 0.594 - ETA: 5s - loss: 6.4920 - acc: 0.597 - ETA: 5s - loss: 6.4914 - acc: 0.597 - ETA: 5s - loss: 6.5337 - acc: 0.594 - ETA: 5s - loss: 6.5412 - acc: 0.594 - ETA: 5s - loss: 6.5394 - acc: 0.594 - ETA: 4s - loss: 6.5460 - acc: 0.593 - ETA: 4s - loss: 6.5352 - acc: 0.594 - ETA: 4s - loss: 6.5273 - acc: 0.595 - ETA: 4s - loss: 6.5077 - acc: 0.596 - ETA: 4s - loss: 6.5092 - acc: 0.596 - ETA: 4s - loss: 6.5116 - acc: 0.596 - ETA: 4s - loss: 6.5179 - acc: 0.595 - ETA: 4s - loss: 6.5439 - acc: 0.594 - ETA: 4s - loss: 6.5637 - acc: 0.592 - ETA: 4s - loss: 6.5430 - acc: 0.594 - ETA: 4s - loss: 6.5123 - acc: 0.596 - ETA: 4s - loss: 6.5087 - acc: 0.596 - ETA: 4s - loss: 6.5148 - acc: 0.595 - ETA: 4s - loss: 6.5402 - acc: 0.594 - ETA: 4s - loss: 6.5415 - acc: 0.594 - ETA: 4s - loss: 6.5408 - acc: 0.594 - ETA: 4s - loss: 6.5439 - acc: 0.594 - ETA: 4s - loss: 6.5499 - acc: 0.593 - ETA: 4s - loss: 6.5556 - acc: 0.593 - ETA: 3s - loss: 6.5537 - acc: 0.593 - ETA: 3s - loss: 6.5464 - acc: 0.593 - ETA: 3s - loss: 6.5272 - acc: 0.595 - ETA: 3s - loss: 6.5209 - acc: 0.595 - ETA: 3s - loss: 6.5236 - acc: 0.595 - ETA: 4s - loss: 6.5106 - acc: 0.596 - ETA: 4s - loss: 6.5125 - acc: 0.595 - ETA: 4s - loss: 6.5073 - acc: 0.596 - ETA: 4s - loss: 6.5062 - acc: 0.596 - ETA: 4s - loss: 6.5032 - acc: 0.596 - ETA: 4s - loss: 6.5034 - acc: 0.596 - ETA: 4s - loss: 6.5065 - acc: 0.596 - ETA: 4s - loss: 6.4922 - acc: 0.597 - ETA: 4s - loss: 6.4936 - acc: 0.597 - ETA: 4s - loss: 6.4968 - acc: 0.596 - ETA: 3s - loss: 6.4865 - acc: 0.597 - ETA: 3s - loss: 6.4858 - acc: 0.597 - ETA: 3s - loss: 6.4910 - acc: 0.597 - ETA: 3s - loss: 6.4920 - acc: 0.597 - ETA: 4s - loss: 6.4926 - acc: 0.597 - ETA: 3s - loss: 6.4914 - acc: 0.597 - ETA: 3s - loss: 6.4896 - acc: 0.597 - ETA: 3s - loss: 6.4937 - acc: 0.597 - ETA: 3s - loss: 6.4757 - acc: 0.598 - ETA: 3s - loss: 6.4826 - acc: 0.597 - ETA: 3s - loss: 6.4853 - acc: 0.597 - ETA: 3s - loss: 6.4735 - acc: 0.598 - ETA: 3s - loss: 6.4770 - acc: 0.598 - ETA: 3s - loss: 6.4667 - acc: 0.598 - ETA: 3s - loss: 6.4729 - acc: 0.598 - ETA: 2s - loss: 6.4774 - acc: 0.598 - ETA: 2s - loss: 6.4696 - acc: 0.598 - ETA: 2s - loss: 6.4672 - acc: 0.598 - ETA: 2s - loss: 6.4637 - acc: 0.598 - ETA: 2s - loss: 6.4634 - acc: 0.599 - ETA: 2s - loss: 6.4632 - acc: 0.599 - ETA: 2s - loss: 6.4581 - acc: 0.599 - ETA: 2s - loss: 6.4607 - acc: 0.599 - ETA: 2s - loss: 6.4568 - acc: 0.599 - ETA: 2s - loss: 6.4606 - acc: 0.599 - ETA: 2s - loss: 6.4571 - acc: 0.599 - ETA: 2s - loss: 6.4565 - acc: 0.599 - ETA: 1s - loss: 6.4550 - acc: 0.599 - ETA: 1s - loss: 6.4493 - acc: 0.599 - ETA: 1s - loss: 6.4497 - acc: 0.599 - ETA: 1s - loss: 6.4505 - acc: 0.599 - ETA: 1s - loss: 6.4573 - acc: 0.599 - ETA: 1s - loss: 6.4608 - acc: 0.599 - ETA: 1s - loss: 6.4600 - acc: 0.599 - ETA: 1s - loss: 6.4595 - acc: 0.599 - ETA: 1s - loss: 6.4637 - acc: 0.599 - ETA: 1s - loss: 6.4556 - acc: 0.599 - ETA: 1s - loss: 6.4618 - acc: 0.599 - ETA: 1s - loss: 6.4602 - acc: 0.599 - ETA: 1s - loss: 6.4664 - acc: 0.598 - ETA: 1s - loss: 6.4727 - acc: 0.598 - ETA: 0s - loss: 6.4808 - acc: 0.597 - ETA: 0s - loss: 6.4803 - acc: 0.597 - ETA: 0s - loss: 6.4782 - acc: 0.598 - ETA: 0s - loss: 6.4806 - acc: 0.597 - ETA: 0s - loss: 6.4782 - acc: 0.598 - ETA: 0s - loss: 6.4853 - acc: 0.597 - ETA: 0s - loss: 6.4885 - acc: 0.597 - ETA: 0s - loss: 6.4915 - acc: 0.597 - ETA: 0s - loss: 6.4921 - acc: 0.597 - ETA: 0s - loss: 6.4929 - acc: 0.597 - ETA: 0s - loss: 6.4918 - acc: 0.597 - ETA: 0s - loss: 6.4931 - acc: 0.597 - ETA: 0s - loss: 6.4951 - acc: 0.597 - ETA: 0s - loss: 6.4943 - acc: 0.597 - ETA: 0s - loss: 6.4939 - acc: 0.597 - ETA: 0s - loss: 6.4959 - acc: 0.596 - 8s 157us/step - loss: 6.4938 - acc: 0.5971 - val_loss: 6.4564 - val_acc: 0.5994\n",
      "Epoch 10/35\n"
     ]
    },
    {
     "name": "stdout",
     "output_type": "stream",
     "text": [
      "51549/51549 [==============================] - ETA: 5s - loss: 7.3035 - acc: 0.546 - ETA: 4s - loss: 6.5300 - acc: 0.594 - ETA: 4s - loss: 6.3696 - acc: 0.604 - ETA: 4s - loss: 6.4961 - acc: 0.597 - ETA: 4s - loss: 6.4580 - acc: 0.599 - ETA: 4s - loss: 6.6061 - acc: 0.590 - ETA: 4s - loss: 6.6211 - acc: 0.589 - ETA: 4s - loss: 6.6591 - acc: 0.586 - ETA: 4s - loss: 6.6043 - acc: 0.590 - ETA: 4s - loss: 6.5420 - acc: 0.594 - ETA: 4s - loss: 6.5212 - acc: 0.595 - ETA: 4s - loss: 6.4075 - acc: 0.602 - ETA: 4s - loss: 6.4198 - acc: 0.601 - ETA: 4s - loss: 6.4155 - acc: 0.602 - ETA: 4s - loss: 6.4121 - acc: 0.602 - ETA: 4s - loss: 6.4259 - acc: 0.601 - ETA: 4s - loss: 6.4184 - acc: 0.601 - ETA: 4s - loss: 6.4077 - acc: 0.602 - ETA: 4s - loss: 6.3945 - acc: 0.603 - ETA: 4s - loss: 6.3790 - acc: 0.604 - ETA: 4s - loss: 6.3950 - acc: 0.603 - ETA: 4s - loss: 6.3944 - acc: 0.603 - ETA: 4s - loss: 6.4072 - acc: 0.602 - ETA: 4s - loss: 6.3906 - acc: 0.603 - ETA: 4s - loss: 6.3867 - acc: 0.603 - ETA: 4s - loss: 6.4054 - acc: 0.602 - ETA: 5s - loss: 6.4070 - acc: 0.602 - ETA: 5s - loss: 6.4024 - acc: 0.602 - ETA: 5s - loss: 6.4170 - acc: 0.601 - ETA: 5s - loss: 6.4282 - acc: 0.601 - ETA: 5s - loss: 6.4318 - acc: 0.601 - ETA: 5s - loss: 6.4091 - acc: 0.602 - ETA: 5s - loss: 6.4198 - acc: 0.601 - ETA: 5s - loss: 6.4265 - acc: 0.601 - ETA: 5s - loss: 6.4297 - acc: 0.601 - ETA: 5s - loss: 6.4167 - acc: 0.601 - ETA: 5s - loss: 6.4094 - acc: 0.602 - ETA: 5s - loss: 6.4077 - acc: 0.602 - ETA: 5s - loss: 6.4171 - acc: 0.601 - ETA: 4s - loss: 6.4039 - acc: 0.602 - ETA: 4s - loss: 6.4137 - acc: 0.602 - ETA: 4s - loss: 6.4076 - acc: 0.602 - ETA: 4s - loss: 6.4070 - acc: 0.602 - ETA: 4s - loss: 6.3996 - acc: 0.603 - ETA: 4s - loss: 6.3925 - acc: 0.603 - ETA: 4s - loss: 6.3954 - acc: 0.603 - ETA: 4s - loss: 6.3883 - acc: 0.603 - ETA: 4s - loss: 6.3962 - acc: 0.603 - ETA: 4s - loss: 6.3872 - acc: 0.603 - ETA: 4s - loss: 6.3925 - acc: 0.603 - ETA: 4s - loss: 6.3967 - acc: 0.603 - ETA: 4s - loss: 6.3996 - acc: 0.603 - ETA: 4s - loss: 6.3950 - acc: 0.603 - ETA: 4s - loss: 6.4033 - acc: 0.602 - ETA: 4s - loss: 6.4058 - acc: 0.602 - ETA: 4s - loss: 6.4067 - acc: 0.602 - ETA: 4s - loss: 6.4015 - acc: 0.602 - ETA: 4s - loss: 6.4012 - acc: 0.602 - ETA: 4s - loss: 6.4028 - acc: 0.602 - ETA: 4s - loss: 6.4051 - acc: 0.602 - ETA: 4s - loss: 6.4028 - acc: 0.602 - ETA: 4s - loss: 6.4151 - acc: 0.602 - ETA: 4s - loss: 6.4208 - acc: 0.601 - ETA: 4s - loss: 6.4301 - acc: 0.601 - ETA: 3s - loss: 6.4300 - acc: 0.601 - ETA: 3s - loss: 6.4185 - acc: 0.601 - ETA: 3s - loss: 6.4203 - acc: 0.601 - ETA: 3s - loss: 6.4221 - acc: 0.601 - ETA: 3s - loss: 6.4295 - acc: 0.601 - ETA: 3s - loss: 6.4266 - acc: 0.601 - ETA: 3s - loss: 6.4305 - acc: 0.601 - ETA: 3s - loss: 6.4254 - acc: 0.601 - ETA: 3s - loss: 6.4199 - acc: 0.601 - ETA: 3s - loss: 6.4139 - acc: 0.602 - ETA: 3s - loss: 6.4269 - acc: 0.601 - ETA: 3s - loss: 6.4231 - acc: 0.601 - ETA: 3s - loss: 6.4262 - acc: 0.601 - ETA: 3s - loss: 6.4308 - acc: 0.601 - ETA: 3s - loss: 6.4343 - acc: 0.600 - ETA: 3s - loss: 6.4332 - acc: 0.600 - ETA: 3s - loss: 6.4335 - acc: 0.600 - ETA: 3s - loss: 6.4323 - acc: 0.600 - ETA: 2s - loss: 6.4337 - acc: 0.600 - ETA: 2s - loss: 6.4325 - acc: 0.600 - ETA: 2s - loss: 6.4339 - acc: 0.600 - ETA: 2s - loss: 6.4427 - acc: 0.600 - ETA: 2s - loss: 6.4462 - acc: 0.600 - ETA: 2s - loss: 6.4526 - acc: 0.599 - ETA: 2s - loss: 6.4555 - acc: 0.599 - ETA: 2s - loss: 6.4525 - acc: 0.599 - ETA: 2s - loss: 6.4507 - acc: 0.599 - ETA: 2s - loss: 6.4499 - acc: 0.599 - ETA: 2s - loss: 6.4621 - acc: 0.599 - ETA: 2s - loss: 6.4619 - acc: 0.599 - ETA: 2s - loss: 6.4575 - acc: 0.599 - ETA: 2s - loss: 6.4516 - acc: 0.599 - ETA: 1s - loss: 6.4525 - acc: 0.599 - ETA: 1s - loss: 6.4540 - acc: 0.599 - ETA: 1s - loss: 6.4551 - acc: 0.599 - ETA: 1s - loss: 6.4541 - acc: 0.599 - ETA: 1s - loss: 6.4529 - acc: 0.599 - ETA: 1s - loss: 6.4588 - acc: 0.599 - ETA: 1s - loss: 6.4556 - acc: 0.599 - ETA: 1s - loss: 6.4629 - acc: 0.599 - ETA: 1s - loss: 6.4680 - acc: 0.598 - ETA: 1s - loss: 6.4699 - acc: 0.598 - ETA: 1s - loss: 6.4716 - acc: 0.598 - ETA: 1s - loss: 6.4723 - acc: 0.598 - ETA: 0s - loss: 6.4675 - acc: 0.598 - ETA: 0s - loss: 6.4717 - acc: 0.598 - ETA: 0s - loss: 6.4710 - acc: 0.598 - ETA: 0s - loss: 6.4683 - acc: 0.598 - ETA: 0s - loss: 6.4687 - acc: 0.598 - ETA: 0s - loss: 6.4662 - acc: 0.598 - ETA: 0s - loss: 6.4663 - acc: 0.598 - ETA: 0s - loss: 6.4631 - acc: 0.599 - ETA: 0s - loss: 6.4622 - acc: 0.599 - ETA: 0s - loss: 6.4599 - acc: 0.599 - ETA: 0s - loss: 6.4578 - acc: 0.599 - 9s 178us/step - loss: 6.4596 - acc: 0.5992 - val_loss: 6.4564 - val_acc: 0.5994\n",
      "Epoch 11/35\n",
      "51549/51549 [==============================] - ETA: 6s - loss: 6.1702 - acc: 0.617 - ETA: 4s - loss: 6.7578 - acc: 0.580 - ETA: 4s - loss: 6.3717 - acc: 0.604 - ETA: 5s - loss: 6.5030 - acc: 0.596 - ETA: 4s - loss: 6.4817 - acc: 0.597 - ETA: 4s - loss: 6.3276 - acc: 0.607 - ETA: 4s - loss: 6.4134 - acc: 0.602 - ETA: 4s - loss: 6.4411 - acc: 0.600 - ETA: 4s - loss: 6.4353 - acc: 0.600 - ETA: 4s - loss: 6.4338 - acc: 0.600 - ETA: 4s - loss: 6.4631 - acc: 0.599 - ETA: 5s - loss: 6.4400 - acc: 0.600 - ETA: 5s - loss: 6.4316 - acc: 0.601 - ETA: 4s - loss: 6.4309 - acc: 0.601 - ETA: 4s - loss: 6.4160 - acc: 0.601 - ETA: 4s - loss: 6.4106 - acc: 0.602 - ETA: 4s - loss: 6.4150 - acc: 0.602 - ETA: 4s - loss: 6.4071 - acc: 0.602 - ETA: 4s - loss: 6.4018 - acc: 0.602 - ETA: 4s - loss: 6.3966 - acc: 0.603 - ETA: 4s - loss: 6.4119 - acc: 0.602 - ETA: 4s - loss: 6.4235 - acc: 0.601 - ETA: 4s - loss: 6.4340 - acc: 0.600 - ETA: 4s - loss: 6.4447 - acc: 0.600 - ETA: 4s - loss: 6.4681 - acc: 0.598 - ETA: 4s - loss: 6.4675 - acc: 0.598 - ETA: 4s - loss: 6.4789 - acc: 0.598 - ETA: 3s - loss: 6.4680 - acc: 0.598 - ETA: 3s - loss: 6.4784 - acc: 0.598 - ETA: 3s - loss: 6.4710 - acc: 0.598 - ETA: 3s - loss: 6.4713 - acc: 0.598 - ETA: 3s - loss: 6.4552 - acc: 0.599 - ETA: 3s - loss: 6.4312 - acc: 0.601 - ETA: 3s - loss: 6.4327 - acc: 0.600 - ETA: 3s - loss: 6.4307 - acc: 0.601 - ETA: 3s - loss: 6.4187 - acc: 0.601 - ETA: 3s - loss: 6.4172 - acc: 0.601 - ETA: 3s - loss: 6.4307 - acc: 0.601 - ETA: 3s - loss: 6.4472 - acc: 0.600 - ETA: 3s - loss: 6.4481 - acc: 0.599 - ETA: 3s - loss: 6.4561 - acc: 0.599 - ETA: 3s - loss: 6.4690 - acc: 0.598 - ETA: 3s - loss: 6.4777 - acc: 0.598 - ETA: 2s - loss: 6.4810 - acc: 0.597 - ETA: 2s - loss: 6.4735 - acc: 0.598 - ETA: 2s - loss: 6.4670 - acc: 0.598 - ETA: 2s - loss: 6.4622 - acc: 0.599 - ETA: 2s - loss: 6.4640 - acc: 0.599 - ETA: 2s - loss: 6.4735 - acc: 0.598 - ETA: 2s - loss: 6.4723 - acc: 0.598 - ETA: 2s - loss: 6.4766 - acc: 0.598 - ETA: 2s - loss: 6.4770 - acc: 0.598 - ETA: 2s - loss: 6.4771 - acc: 0.598 - ETA: 2s - loss: 6.4731 - acc: 0.598 - ETA: 2s - loss: 6.4729 - acc: 0.598 - ETA: 2s - loss: 6.4713 - acc: 0.598 - ETA: 2s - loss: 6.4698 - acc: 0.598 - ETA: 2s - loss: 6.4692 - acc: 0.598 - ETA: 2s - loss: 6.4709 - acc: 0.598 - ETA: 2s - loss: 6.4593 - acc: 0.599 - ETA: 2s - loss: 6.4594 - acc: 0.599 - ETA: 2s - loss: 6.4644 - acc: 0.598 - ETA: 2s - loss: 6.4673 - acc: 0.598 - ETA: 2s - loss: 6.4657 - acc: 0.598 - ETA: 2s - loss: 6.4700 - acc: 0.598 - ETA: 2s - loss: 6.4691 - acc: 0.598 - ETA: 2s - loss: 6.4666 - acc: 0.598 - ETA: 2s - loss: 6.4656 - acc: 0.598 - ETA: 2s - loss: 6.4631 - acc: 0.599 - ETA: 2s - loss: 6.4614 - acc: 0.599 - ETA: 2s - loss: 6.4678 - acc: 0.598 - ETA: 2s - loss: 6.4717 - acc: 0.598 - ETA: 1s - loss: 6.4743 - acc: 0.598 - ETA: 1s - loss: 6.4664 - acc: 0.598 - ETA: 1s - loss: 6.4624 - acc: 0.599 - ETA: 1s - loss: 6.4598 - acc: 0.599 - ETA: 1s - loss: 6.4560 - acc: 0.599 - ETA: 1s - loss: 6.4563 - acc: 0.599 - ETA: 1s - loss: 6.4551 - acc: 0.599 - ETA: 1s - loss: 6.4552 - acc: 0.599 - ETA: 1s - loss: 6.4562 - acc: 0.599 - ETA: 1s - loss: 6.4600 - acc: 0.599 - ETA: 1s - loss: 6.4576 - acc: 0.599 - ETA: 1s - loss: 6.4574 - acc: 0.599 - ETA: 1s - loss: 6.4534 - acc: 0.599 - ETA: 1s - loss: 6.4543 - acc: 0.599 - ETA: 1s - loss: 6.4555 - acc: 0.599 - ETA: 1s - loss: 6.4510 - acc: 0.599 - ETA: 1s - loss: 6.4585 - acc: 0.599 - ETA: 1s - loss: 6.4554 - acc: 0.599 - ETA: 1s - loss: 6.4509 - acc: 0.599 - ETA: 1s - loss: 6.4454 - acc: 0.600 - ETA: 1s - loss: 6.4422 - acc: 0.600 - ETA: 0s - loss: 6.4424 - acc: 0.600 - ETA: 0s - loss: 6.4434 - acc: 0.600 - ETA: 0s - loss: 6.4475 - acc: 0.600 - ETA: 0s - loss: 6.4488 - acc: 0.599 - ETA: 0s - loss: 6.4599 - acc: 0.599 - ETA: 0s - loss: 6.4631 - acc: 0.599 - ETA: 0s - loss: 6.4651 - acc: 0.598 - ETA: 0s - loss: 6.4629 - acc: 0.599 - ETA: 0s - loss: 6.4591 - acc: 0.599 - ETA: 0s - loss: 6.4622 - acc: 0.599 - ETA: 0s - loss: 6.4622 - acc: 0.599 - ETA: 0s - loss: 6.4601 - acc: 0.599 - ETA: 0s - loss: 6.4623 - acc: 0.599 - ETA: 0s - loss: 6.4643 - acc: 0.598 - ETA: 0s - loss: 6.4666 - acc: 0.598 - ETA: 0s - loss: 6.4642 - acc: 0.598 - ETA: 0s - loss: 6.4605 - acc: 0.599 - ETA: 0s - loss: 6.4601 - acc: 0.599 - ETA: 0s - loss: 6.4599 - acc: 0.599 - ETA: 0s - loss: 6.4595 - acc: 0.599 - 9s 167us/step - loss: 6.4584 - acc: 0.5993 - val_loss: 6.4564 - val_acc: 0.5994\n",
      "Epoch 12/35\n"
     ]
    },
    {
     "name": "stdout",
     "output_type": "stream",
     "text": [
      "51549/51549 [==============================] - ETA: 4s - loss: 8.1850 - acc: 0.492 - ETA: 4s - loss: 6.5690 - acc: 0.592 - ETA: 4s - loss: 6.3076 - acc: 0.608 - ETA: 4s - loss: 6.3885 - acc: 0.603 - ETA: 4s - loss: 6.4976 - acc: 0.596 - ETA: 4s - loss: 6.5585 - acc: 0.593 - ETA: 4s - loss: 6.5610 - acc: 0.592 - ETA: 4s - loss: 6.5072 - acc: 0.596 - ETA: 4s - loss: 6.5008 - acc: 0.596 - ETA: 4s - loss: 6.4850 - acc: 0.597 - ETA: 4s - loss: 6.4745 - acc: 0.598 - ETA: 4s - loss: 6.4517 - acc: 0.599 - ETA: 4s - loss: 6.4333 - acc: 0.600 - ETA: 4s - loss: 6.4138 - acc: 0.602 - ETA: 4s - loss: 6.4260 - acc: 0.601 - ETA: 4s - loss: 6.4406 - acc: 0.600 - ETA: 4s - loss: 6.4640 - acc: 0.599 - ETA: 4s - loss: 6.4646 - acc: 0.598 - ETA: 4s - loss: 6.4697 - acc: 0.598 - ETA: 3s - loss: 6.4879 - acc: 0.597 - ETA: 3s - loss: 6.4774 - acc: 0.598 - ETA: 3s - loss: 6.4884 - acc: 0.597 - ETA: 4s - loss: 6.4942 - acc: 0.597 - ETA: 4s - loss: 6.5026 - acc: 0.596 - ETA: 4s - loss: 6.5117 - acc: 0.596 - ETA: 3s - loss: 6.5330 - acc: 0.594 - ETA: 3s - loss: 6.5259 - acc: 0.595 - ETA: 3s - loss: 6.5416 - acc: 0.594 - ETA: 3s - loss: 6.5438 - acc: 0.594 - ETA: 3s - loss: 6.5258 - acc: 0.595 - ETA: 3s - loss: 6.5354 - acc: 0.594 - ETA: 3s - loss: 6.5224 - acc: 0.595 - ETA: 3s - loss: 6.5195 - acc: 0.595 - ETA: 3s - loss: 6.5033 - acc: 0.596 - ETA: 3s - loss: 6.5115 - acc: 0.596 - ETA: 3s - loss: 6.5105 - acc: 0.596 - ETA: 3s - loss: 6.5074 - acc: 0.596 - ETA: 3s - loss: 6.5092 - acc: 0.596 - ETA: 3s - loss: 6.4989 - acc: 0.596 - ETA: 3s - loss: 6.5104 - acc: 0.596 - ETA: 3s - loss: 6.4926 - acc: 0.597 - ETA: 3s - loss: 6.5048 - acc: 0.596 - ETA: 3s - loss: 6.5048 - acc: 0.596 - ETA: 3s - loss: 6.5026 - acc: 0.596 - ETA: 3s - loss: 6.4949 - acc: 0.597 - ETA: 3s - loss: 6.4986 - acc: 0.596 - ETA: 3s - loss: 6.5001 - acc: 0.596 - ETA: 3s - loss: 6.4998 - acc: 0.596 - ETA: 3s - loss: 6.5036 - acc: 0.596 - ETA: 3s - loss: 6.4992 - acc: 0.596 - ETA: 3s - loss: 6.5031 - acc: 0.596 - ETA: 2s - loss: 6.4969 - acc: 0.596 - ETA: 2s - loss: 6.5011 - acc: 0.596 - ETA: 2s - loss: 6.4985 - acc: 0.596 - ETA: 3s - loss: 6.4963 - acc: 0.597 - ETA: 3s - loss: 6.5022 - acc: 0.596 - ETA: 2s - loss: 6.4948 - acc: 0.597 - ETA: 2s - loss: 6.4989 - acc: 0.596 - ETA: 2s - loss: 6.5030 - acc: 0.596 - ETA: 2s - loss: 6.5081 - acc: 0.596 - ETA: 2s - loss: 6.5027 - acc: 0.596 - ETA: 2s - loss: 6.5065 - acc: 0.596 - ETA: 2s - loss: 6.5055 - acc: 0.596 - ETA: 2s - loss: 6.5064 - acc: 0.596 - ETA: 2s - loss: 6.4979 - acc: 0.596 - ETA: 2s - loss: 6.4992 - acc: 0.596 - ETA: 2s - loss: 6.4962 - acc: 0.597 - ETA: 2s - loss: 6.4911 - acc: 0.597 - ETA: 2s - loss: 6.4773 - acc: 0.598 - ETA: 2s - loss: 6.4692 - acc: 0.598 - ETA: 1s - loss: 6.4693 - acc: 0.598 - ETA: 1s - loss: 6.4738 - acc: 0.598 - ETA: 1s - loss: 6.4702 - acc: 0.598 - ETA: 1s - loss: 6.4791 - acc: 0.598 - ETA: 1s - loss: 6.4881 - acc: 0.597 - ETA: 1s - loss: 6.4914 - acc: 0.597 - ETA: 1s - loss: 6.4886 - acc: 0.597 - ETA: 1s - loss: 6.4859 - acc: 0.597 - ETA: 1s - loss: 6.4838 - acc: 0.597 - ETA: 1s - loss: 6.4783 - acc: 0.598 - ETA: 1s - loss: 6.4706 - acc: 0.598 - ETA: 1s - loss: 6.4737 - acc: 0.598 - ETA: 1s - loss: 6.4748 - acc: 0.598 - ETA: 1s - loss: 6.4748 - acc: 0.598 - ETA: 1s - loss: 6.4679 - acc: 0.598 - ETA: 0s - loss: 6.4633 - acc: 0.599 - ETA: 0s - loss: 6.4728 - acc: 0.598 - ETA: 0s - loss: 6.4814 - acc: 0.597 - ETA: 0s - loss: 6.4814 - acc: 0.597 - ETA: 0s - loss: 6.4785 - acc: 0.598 - ETA: 0s - loss: 6.4781 - acc: 0.598 - ETA: 0s - loss: 6.4702 - acc: 0.598 - ETA: 0s - loss: 6.4703 - acc: 0.598 - ETA: 0s - loss: 6.4682 - acc: 0.598 - ETA: 0s - loss: 6.4665 - acc: 0.598 - ETA: 0s - loss: 6.4678 - acc: 0.598 - ETA: 0s - loss: 6.4612 - acc: 0.599 - ETA: 0s - loss: 6.4630 - acc: 0.599 - ETA: 0s - loss: 6.4627 - acc: 0.599 - ETA: 0s - loss: 6.4638 - acc: 0.599 - ETA: 0s - loss: 6.4620 - acc: 0.599 - ETA: 0s - loss: 6.4566 - acc: 0.599 - 7s 143us/step - loss: 6.4561 - acc: 0.5994 - val_loss: 6.4564 - val_acc: 0.5994\n",
      "Epoch 13/35\n",
      "51549/51549 [==============================] - ETA: 7s - loss: 6.2961 - acc: 0.609 - ETA: 4s - loss: 6.4640 - acc: 0.599 - ETA: 5s - loss: 6.3969 - acc: 0.603 - ETA: 5s - loss: 6.3155 - acc: 0.608 - ETA: 5s - loss: 6.3241 - acc: 0.607 - ETA: 5s - loss: 6.2721 - acc: 0.610 - ETA: 5s - loss: 6.2458 - acc: 0.612 - ETA: 5s - loss: 6.2961 - acc: 0.609 - ETA: 5s - loss: 6.3267 - acc: 0.607 - ETA: 5s - loss: 6.3757 - acc: 0.604 - ETA: 4s - loss: 6.3928 - acc: 0.603 - ETA: 4s - loss: 6.3827 - acc: 0.604 - ETA: 4s - loss: 6.3480 - acc: 0.606 - ETA: 4s - loss: 6.3276 - acc: 0.607 - ETA: 4s - loss: 6.3381 - acc: 0.606 - ETA: 4s - loss: 6.3484 - acc: 0.606 - ETA: 4s - loss: 6.3476 - acc: 0.606 - ETA: 4s - loss: 6.3608 - acc: 0.605 - ETA: 4s - loss: 6.3742 - acc: 0.604 - ETA: 4s - loss: 6.3735 - acc: 0.604 - ETA: 4s - loss: 6.3664 - acc: 0.605 - ETA: 4s - loss: 6.3697 - acc: 0.604 - ETA: 4s - loss: 6.3886 - acc: 0.603 - ETA: 4s - loss: 6.3827 - acc: 0.604 - ETA: 4s - loss: 6.3684 - acc: 0.604 - ETA: 4s - loss: 6.3813 - acc: 0.604 - ETA: 4s - loss: 6.3763 - acc: 0.604 - ETA: 4s - loss: 6.3778 - acc: 0.604 - ETA: 4s - loss: 6.3790 - acc: 0.604 - ETA: 4s - loss: 6.3634 - acc: 0.605 - ETA: 4s - loss: 6.3804 - acc: 0.604 - ETA: 4s - loss: 6.3774 - acc: 0.604 - ETA: 4s - loss: 6.3556 - acc: 0.605 - ETA: 4s - loss: 6.3523 - acc: 0.605 - ETA: 4s - loss: 6.3488 - acc: 0.606 - ETA: 3s - loss: 6.3618 - acc: 0.605 - ETA: 3s - loss: 6.3600 - acc: 0.605 - ETA: 3s - loss: 6.3591 - acc: 0.605 - ETA: 3s - loss: 6.3674 - acc: 0.605 - ETA: 3s - loss: 6.3769 - acc: 0.604 - ETA: 3s - loss: 6.3734 - acc: 0.604 - ETA: 3s - loss: 6.3736 - acc: 0.604 - ETA: 3s - loss: 6.3910 - acc: 0.603 - ETA: 3s - loss: 6.3933 - acc: 0.603 - ETA: 3s - loss: 6.4049 - acc: 0.602 - ETA: 3s - loss: 6.4109 - acc: 0.602 - ETA: 3s - loss: 6.4180 - acc: 0.601 - ETA: 3s - loss: 6.4094 - acc: 0.602 - ETA: 3s - loss: 6.4156 - acc: 0.602 - ETA: 2s - loss: 6.4050 - acc: 0.602 - ETA: 3s - loss: 6.4132 - acc: 0.602 - ETA: 2s - loss: 6.4140 - acc: 0.602 - ETA: 2s - loss: 6.4130 - acc: 0.602 - ETA: 2s - loss: 6.4161 - acc: 0.601 - ETA: 2s - loss: 6.4232 - acc: 0.601 - ETA: 2s - loss: 6.4238 - acc: 0.601 - ETA: 2s - loss: 6.4175 - acc: 0.601 - ETA: 2s - loss: 6.4192 - acc: 0.601 - ETA: 2s - loss: 6.4126 - acc: 0.602 - ETA: 2s - loss: 6.4144 - acc: 0.602 - ETA: 2s - loss: 6.4145 - acc: 0.602 - ETA: 2s - loss: 6.4031 - acc: 0.602 - ETA: 2s - loss: 6.4044 - acc: 0.602 - ETA: 2s - loss: 6.4099 - acc: 0.602 - ETA: 2s - loss: 6.4176 - acc: 0.601 - ETA: 2s - loss: 6.4177 - acc: 0.601 - ETA: 2s - loss: 6.4227 - acc: 0.601 - ETA: 2s - loss: 6.4284 - acc: 0.601 - ETA: 2s - loss: 6.4222 - acc: 0.601 - ETA: 1s - loss: 6.4198 - acc: 0.601 - ETA: 1s - loss: 6.4222 - acc: 0.601 - ETA: 1s - loss: 6.4186 - acc: 0.601 - ETA: 1s - loss: 6.4266 - acc: 0.601 - ETA: 1s - loss: 6.4317 - acc: 0.600 - ETA: 1s - loss: 6.4282 - acc: 0.601 - ETA: 1s - loss: 6.4314 - acc: 0.601 - ETA: 1s - loss: 6.4267 - acc: 0.601 - ETA: 1s - loss: 6.4336 - acc: 0.600 - ETA: 1s - loss: 6.4355 - acc: 0.600 - ETA: 1s - loss: 6.4405 - acc: 0.600 - ETA: 1s - loss: 6.4356 - acc: 0.600 - ETA: 1s - loss: 6.4363 - acc: 0.600 - ETA: 1s - loss: 6.4388 - acc: 0.600 - ETA: 1s - loss: 6.4389 - acc: 0.600 - ETA: 1s - loss: 6.4482 - acc: 0.599 - ETA: 0s - loss: 6.4500 - acc: 0.599 - ETA: 0s - loss: 6.4560 - acc: 0.599 - ETA: 0s - loss: 6.4548 - acc: 0.599 - ETA: 0s - loss: 6.4636 - acc: 0.599 - ETA: 0s - loss: 6.4662 - acc: 0.598 - ETA: 0s - loss: 6.4674 - acc: 0.598 - ETA: 0s - loss: 6.4713 - acc: 0.598 - ETA: 0s - loss: 6.4696 - acc: 0.598 - ETA: 0s - loss: 6.4673 - acc: 0.598 - ETA: 0s - loss: 6.4660 - acc: 0.598 - ETA: 0s - loss: 6.4668 - acc: 0.598 - ETA: 0s - loss: 6.4617 - acc: 0.599 - ETA: 0s - loss: 6.4618 - acc: 0.599 - ETA: 0s - loss: 6.4534 - acc: 0.599 - ETA: 0s - loss: 6.4584 - acc: 0.599 - ETA: 0s - loss: 6.4566 - acc: 0.599 - 7s 142us/step - loss: 6.4578 - acc: 0.5993 - val_loss: 6.4564 - val_acc: 0.5994\n",
      "Epoch 14/35\n",
      "51549/51549 [==============================] - ETA: 5s - loss: 6.4221 - acc: 0.601 - ETA: 6s - loss: 6.3969 - acc: 0.603 - ETA: 5s - loss: 6.5732 - acc: 0.592 - ETA: 5s - loss: 6.4053 - acc: 0.602 - ETA: 4s - loss: 6.5165 - acc: 0.595 - ETA: 4s - loss: 6.5631 - acc: 0.592 - ETA: 4s - loss: 6.4655 - acc: 0.598 - ETA: 4s - loss: 6.4755 - acc: 0.598 - ETA: 4s - loss: 6.4287 - acc: 0.601 - ETA: 4s - loss: 6.4310 - acc: 0.601 - ETA: 4s - loss: 6.4612 - acc: 0.599 - ETA: 4s - loss: 6.4472 - acc: 0.600 - ETA: 4s - loss: 6.4839 - acc: 0.597 - ETA: 4s - loss: 6.4535 - acc: 0.599 - ETA: 4s - loss: 6.4700 - acc: 0.598 - ETA: 4s - loss: 6.4424 - acc: 0.600 - ETA: 4s - loss: 6.4500 - acc: 0.599 - ETA: 4s - loss: 6.4527 - acc: 0.599 - ETA: 4s - loss: 6.4705 - acc: 0.598 - ETA: 4s - loss: 6.4812 - acc: 0.597 - ETA: 4s - loss: 6.4702 - acc: 0.598 - ETA: 4s - loss: 6.4743 - acc: 0.598 - ETA: 4s - loss: 6.4323 - acc: 0.600 - ETA: 3s - loss: 6.4307 - acc: 0.601 - ETA: 3s - loss: 6.4292 - acc: 0.601 - ETA: 3s - loss: 6.4438 - acc: 0.600 - ETA: 3s - loss: 6.4330 - acc: 0.600 - ETA: 3s - loss: 6.4284 - acc: 0.601 - ETA: 3s - loss: 6.4241 - acc: 0.601 - ETA: 3s - loss: 6.4417 - acc: 0.600 - ETA: 3s - loss: 6.4392 - acc: 0.600 - ETA: 3s - loss: 6.4349 - acc: 0.600 - ETA: 3s - loss: 6.4429 - acc: 0.600 - ETA: 3s - loss: 6.4361 - acc: 0.600 - ETA: 3s - loss: 6.4289 - acc: 0.601 - ETA: 3s - loss: 6.4187 - acc: 0.601 - ETA: 3s - loss: 6.4301 - acc: 0.601 - ETA: 3s - loss: 6.4346 - acc: 0.600 - ETA: 3s - loss: 6.4313 - acc: 0.601 - ETA: 3s - loss: 6.4326 - acc: 0.600 - ETA: 3s - loss: 6.4407 - acc: 0.600 - ETA: 3s - loss: 6.4330 - acc: 0.600 - ETA: 3s - loss: 6.4383 - acc: 0.600 - ETA: 3s - loss: 6.4510 - acc: 0.599 - ETA: 2s - loss: 6.4549 - acc: 0.599 - ETA: 2s - loss: 6.4532 - acc: 0.599 - ETA: 2s - loss: 6.4524 - acc: 0.599 - ETA: 2s - loss: 6.4523 - acc: 0.599 - ETA: 2s - loss: 6.4491 - acc: 0.599 - ETA: 2s - loss: 6.4486 - acc: 0.599 - ETA: 2s - loss: 6.4469 - acc: 0.600 - ETA: 2s - loss: 6.4455 - acc: 0.600 - ETA: 2s - loss: 6.4554 - acc: 0.599 - ETA: 2s - loss: 6.4514 - acc: 0.599 - ETA: 2s - loss: 6.4448 - acc: 0.600 - ETA: 2s - loss: 6.4389 - acc: 0.600 - ETA: 2s - loss: 6.4364 - acc: 0.600 - ETA: 2s - loss: 6.4299 - acc: 0.601 - ETA: 2s - loss: 6.4313 - acc: 0.601 - ETA: 2s - loss: 6.4346 - acc: 0.600 - ETA: 2s - loss: 6.4291 - acc: 0.601 - ETA: 2s - loss: 6.4250 - acc: 0.601 - ETA: 1s - loss: 6.4293 - acc: 0.601 - ETA: 1s - loss: 6.4273 - acc: 0.601 - ETA: 1s - loss: 6.4244 - acc: 0.601 - ETA: 1s - loss: 6.4253 - acc: 0.601 - ETA: 1s - loss: 6.4239 - acc: 0.601 - ETA: 1s - loss: 6.4256 - acc: 0.601 - ETA: 1s - loss: 6.4313 - acc: 0.601 - ETA: 1s - loss: 6.4324 - acc: 0.600 - ETA: 1s - loss: 6.4322 - acc: 0.600 - ETA: 1s - loss: 6.4395 - acc: 0.600 - ETA: 1s - loss: 6.4410 - acc: 0.600 - ETA: 1s - loss: 6.4367 - acc: 0.600 - ETA: 1s - loss: 6.4333 - acc: 0.600 - ETA: 1s - loss: 6.4296 - acc: 0.601 - ETA: 1s - loss: 6.4299 - acc: 0.601 - ETA: 1s - loss: 6.4259 - acc: 0.601 - ETA: 0s - loss: 6.4300 - acc: 0.601 - ETA: 0s - loss: 6.4352 - acc: 0.600 - ETA: 0s - loss: 6.4295 - acc: 0.601 - ETA: 0s - loss: 6.4338 - acc: 0.600 - ETA: 0s - loss: 6.4282 - acc: 0.601 - ETA: 0s - loss: 6.4249 - acc: 0.601 - ETA: 0s - loss: 6.4291 - acc: 0.601 - ETA: 0s - loss: 6.4238 - acc: 0.601 - ETA: 0s - loss: 6.4269 - acc: 0.601 - ETA: 0s - loss: 6.4364 - acc: 0.600 - ETA: 0s - loss: 6.4474 - acc: 0.600 - ETA: 0s - loss: 6.4470 - acc: 0.600 - ETA: 0s - loss: 6.4526 - acc: 0.599 - ETA: 0s - loss: 6.4516 - acc: 0.599 - ETA: 0s - loss: 6.4525 - acc: 0.599 - ETA: 0s - loss: 6.4562 - acc: 0.599 - ETA: 0s - loss: 6.4582 - acc: 0.599 - 7s 138us/step - loss: 6.4574 - acc: 0.5994 - val_loss: 6.4564 - val_acc: 0.5994\n",
      "Epoch 15/35\n",
      "51549/51549 [==============================] - ETA: 6s - loss: 5.5406 - acc: 0.656 - ETA: 8s - loss: 5.7295 - acc: 0.644 - ETA: 6s - loss: 6.2122 - acc: 0.614 - ETA: 6s - loss: 6.2227 - acc: 0.613 - ETA: 8s - loss: 6.1623 - acc: 0.617 - ETA: 8s - loss: 6.3160 - acc: 0.608 - ETA: 7s - loss: 6.3934 - acc: 0.603 - ETA: 7s - loss: 6.3717 - acc: 0.604 - ETA: 7s - loss: 6.3569 - acc: 0.605 - ETA: 7s - loss: 6.3866 - acc: 0.603 - ETA: 7s - loss: 6.4005 - acc: 0.602 - ETA: 7s - loss: 6.3865 - acc: 0.603 - ETA: 6s - loss: 6.4250 - acc: 0.601 - ETA: 6s - loss: 6.4301 - acc: 0.601 - ETA: 6s - loss: 6.4591 - acc: 0.599 - ETA: 6s - loss: 6.4411 - acc: 0.600 - ETA: 6s - loss: 6.4198 - acc: 0.601 - ETA: 6s - loss: 6.3957 - acc: 0.603 - ETA: 5s - loss: 6.4164 - acc: 0.601 - ETA: 5s - loss: 6.4008 - acc: 0.602 - ETA: 5s - loss: 6.3801 - acc: 0.604 - ETA: 5s - loss: 6.3779 - acc: 0.604 - ETA: 5s - loss: 6.3874 - acc: 0.603 - ETA: 5s - loss: 6.3696 - acc: 0.604 - ETA: 5s - loss: 6.3591 - acc: 0.605 - ETA: 5s - loss: 6.3513 - acc: 0.606 - ETA: 5s - loss: 6.3577 - acc: 0.605 - ETA: 5s - loss: 6.3735 - acc: 0.604 - ETA: 5s - loss: 6.3510 - acc: 0.606 - ETA: 5s - loss: 6.3543 - acc: 0.605 - ETA: 5s - loss: 6.3567 - acc: 0.605 - ETA: 5s - loss: 6.3733 - acc: 0.604 - ETA: 5s - loss: 6.3652 - acc: 0.605 - ETA: 5s - loss: 6.3476 - acc: 0.606 - ETA: 4s - loss: 6.3528 - acc: 0.605 - ETA: 4s - loss: 6.3865 - acc: 0.603 - ETA: 4s - loss: 6.3876 - acc: 0.603 - ETA: 4s - loss: 6.3820 - acc: 0.604 - ETA: 4s - loss: 6.3822 - acc: 0.604 - ETA: 4s - loss: 6.3813 - acc: 0.604 - ETA: 4s - loss: 6.3786 - acc: 0.604 - ETA: 4s - loss: 6.3946 - acc: 0.603 - ETA: 4s - loss: 6.3920 - acc: 0.603 - ETA: 4s - loss: 6.3932 - acc: 0.603 - ETA: 4s - loss: 6.3898 - acc: 0.603 - ETA: 4s - loss: 6.3921 - acc: 0.603 - ETA: 4s - loss: 6.3857 - acc: 0.603 - ETA: 4s - loss: 6.3993 - acc: 0.603 - ETA: 3s - loss: 6.3963 - acc: 0.603 - ETA: 3s - loss: 6.3956 - acc: 0.603 - ETA: 3s - loss: 6.4012 - acc: 0.602 - ETA: 3s - loss: 6.4063 - acc: 0.602 - ETA: 3s - loss: 6.4120 - acc: 0.602 - ETA: 3s - loss: 6.4115 - acc: 0.602 - ETA: 3s - loss: 6.4065 - acc: 0.602 - ETA: 3s - loss: 6.4034 - acc: 0.602 - ETA: 3s - loss: 6.4074 - acc: 0.602 - ETA: 3s - loss: 6.4051 - acc: 0.602 - ETA: 3s - loss: 6.4028 - acc: 0.602 - ETA: 3s - loss: 6.4024 - acc: 0.602 - ETA: 3s - loss: 6.3986 - acc: 0.603 - ETA: 3s - loss: 6.3959 - acc: 0.603 - ETA: 3s - loss: 6.3931 - acc: 0.603 - ETA: 3s - loss: 6.3930 - acc: 0.603 - ETA: 3s - loss: 6.3907 - acc: 0.603 - ETA: 3s - loss: 6.3942 - acc: 0.603 - ETA: 3s - loss: 6.3928 - acc: 0.603 - ETA: 3s - loss: 6.3850 - acc: 0.603 - ETA: 2s - loss: 6.3884 - acc: 0.603 - ETA: 2s - loss: 6.3995 - acc: 0.603 - ETA: 2s - loss: 6.4003 - acc: 0.602 - ETA: 2s - loss: 6.3999 - acc: 0.602 - ETA: 2s - loss: 6.3982 - acc: 0.603 - ETA: 2s - loss: 6.3911 - acc: 0.603 - ETA: 2s - loss: 6.3901 - acc: 0.603 - ETA: 2s - loss: 6.4021 - acc: 0.602 - ETA: 2s - loss: 6.4135 - acc: 0.602 - ETA: 2s - loss: 6.4164 - acc: 0.601 - ETA: 2s - loss: 6.4174 - acc: 0.601 - ETA: 2s - loss: 6.4303 - acc: 0.601 - ETA: 2s - loss: 6.4342 - acc: 0.600 - ETA: 2s - loss: 6.4229 - acc: 0.601 - ETA: 2s - loss: 6.4225 - acc: 0.601 - ETA: 1s - loss: 6.4251 - acc: 0.601 - ETA: 1s - loss: 6.4263 - acc: 0.601 - ETA: 1s - loss: 6.4158 - acc: 0.601 - ETA: 1s - loss: 6.4212 - acc: 0.601 - ETA: 1s - loss: 6.4200 - acc: 0.601 - ETA: 1s - loss: 6.4209 - acc: 0.601 - ETA: 1s - loss: 6.4205 - acc: 0.601 - ETA: 1s - loss: 6.4236 - acc: 0.601 - ETA: 1s - loss: 6.4240 - acc: 0.601 - ETA: 1s - loss: 6.4224 - acc: 0.601 - ETA: 1s - loss: 6.4236 - acc: 0.601 - ETA: 1s - loss: 6.4285 - acc: 0.601 - ETA: 1s - loss: 6.4258 - acc: 0.601 - ETA: 1s - loss: 6.4250 - acc: 0.601 - ETA: 1s - loss: 6.4232 - acc: 0.601 - ETA: 1s - loss: 6.4301 - acc: 0.601 - ETA: 0s - loss: 6.4336 - acc: 0.600 - ETA: 0s - loss: 6.4363 - acc: 0.600 - ETA: 0s - loss: 6.4411 - acc: 0.600 - ETA: 0s - loss: 6.4374 - acc: 0.600 - ETA: 0s - loss: 6.4360 - acc: 0.600 - ETA: 0s - loss: 6.4372 - acc: 0.600 - ETA: 0s - loss: 6.4438 - acc: 0.600 - ETA: 0s - loss: 6.4457 - acc: 0.600 - ETA: 0s - loss: 6.4461 - acc: 0.600 - ETA: 0s - loss: 6.4448 - acc: 0.600 - ETA: 0s - loss: 6.4367 - acc: 0.600 - ETA: 0s - loss: 6.4428 - acc: 0.600 - ETA: 0s - loss: 6.4490 - acc: 0.599 - ETA: 0s - loss: 6.4490 - acc: 0.599 - ETA: 0s - loss: 6.4529 - acc: 0.599 - ETA: 0s - loss: 6.4534 - acc: 0.599 - 9s 170us/step - loss: 6.4549 - acc: 0.5995 - val_loss: 6.4564 - val_acc: 0.5994\n"
     ]
    },
    {
     "name": "stdout",
     "output_type": "stream",
     "text": [
      "Epoch 16/35\n",
      "51549/51549 [==============================] - ETA: 9s - loss: 6.4221 - acc: 0.601 - ETA: 6s - loss: 6.4976 - acc: 0.596 - ETA: 5s - loss: 6.4221 - acc: 0.601 - ETA: 4s - loss: 6.3129 - acc: 0.608 - ETA: 4s - loss: 6.3359 - acc: 0.606 - ETA: 4s - loss: 6.4275 - acc: 0.601 - ETA: 4s - loss: 6.4580 - acc: 0.599 - ETA: 4s - loss: 6.3915 - acc: 0.603 - ETA: 4s - loss: 6.3425 - acc: 0.606 - ETA: 4s - loss: 6.4191 - acc: 0.601 - ETA: 4s - loss: 6.4330 - acc: 0.600 - ETA: 4s - loss: 6.4548 - acc: 0.599 - ETA: 4s - loss: 6.4547 - acc: 0.599 - ETA: 4s - loss: 6.4541 - acc: 0.599 - ETA: 4s - loss: 6.4647 - acc: 0.598 - ETA: 4s - loss: 6.4747 - acc: 0.598 - ETA: 4s - loss: 6.4558 - acc: 0.599 - ETA: 4s - loss: 6.4439 - acc: 0.600 - ETA: 4s - loss: 6.4396 - acc: 0.600 - ETA: 4s - loss: 6.4038 - acc: 0.602 - ETA: 4s - loss: 6.3928 - acc: 0.603 - ETA: 4s - loss: 6.3857 - acc: 0.603 - ETA: 4s - loss: 6.3969 - acc: 0.603 - ETA: 4s - loss: 6.3629 - acc: 0.605 - ETA: 3s - loss: 6.3724 - acc: 0.604 - ETA: 4s - loss: 6.3820 - acc: 0.604 - ETA: 3s - loss: 6.3894 - acc: 0.603 - ETA: 3s - loss: 6.4124 - acc: 0.602 - ETA: 3s - loss: 6.4241 - acc: 0.601 - ETA: 3s - loss: 6.4352 - acc: 0.600 - ETA: 3s - loss: 6.4385 - acc: 0.600 - ETA: 3s - loss: 6.4566 - acc: 0.599 - ETA: 3s - loss: 6.4598 - acc: 0.599 - ETA: 3s - loss: 6.4527 - acc: 0.599 - ETA: 3s - loss: 6.4520 - acc: 0.599 - ETA: 3s - loss: 6.4508 - acc: 0.599 - ETA: 3s - loss: 6.4723 - acc: 0.598 - ETA: 3s - loss: 6.4638 - acc: 0.599 - ETA: 3s - loss: 6.4737 - acc: 0.598 - ETA: 3s - loss: 6.4683 - acc: 0.598 - ETA: 3s - loss: 6.4618 - acc: 0.599 - ETA: 3s - loss: 6.4550 - acc: 0.599 - ETA: 2s - loss: 6.4506 - acc: 0.599 - ETA: 2s - loss: 6.4474 - acc: 0.600 - ETA: 2s - loss: 6.4401 - acc: 0.600 - ETA: 2s - loss: 6.4509 - acc: 0.599 - ETA: 2s - loss: 6.4713 - acc: 0.598 - ETA: 2s - loss: 6.4595 - acc: 0.599 - ETA: 2s - loss: 6.4577 - acc: 0.599 - ETA: 2s - loss: 6.4658 - acc: 0.598 - ETA: 2s - loss: 6.4642 - acc: 0.598 - ETA: 2s - loss: 6.4700 - acc: 0.598 - ETA: 2s - loss: 6.4759 - acc: 0.598 - ETA: 2s - loss: 6.4737 - acc: 0.598 - ETA: 2s - loss: 6.4681 - acc: 0.598 - ETA: 2s - loss: 6.4758 - acc: 0.598 - ETA: 2s - loss: 6.4693 - acc: 0.598 - ETA: 2s - loss: 6.4609 - acc: 0.599 - ETA: 2s - loss: 6.4560 - acc: 0.599 - ETA: 2s - loss: 6.4573 - acc: 0.599 - ETA: 2s - loss: 6.4502 - acc: 0.599 - ETA: 1s - loss: 6.4551 - acc: 0.599 - ETA: 1s - loss: 6.4547 - acc: 0.599 - ETA: 1s - loss: 6.4499 - acc: 0.599 - ETA: 1s - loss: 6.4521 - acc: 0.599 - ETA: 1s - loss: 6.4499 - acc: 0.599 - ETA: 1s - loss: 6.4505 - acc: 0.599 - ETA: 1s - loss: 6.4550 - acc: 0.599 - ETA: 1s - loss: 6.4618 - acc: 0.599 - ETA: 1s - loss: 6.4639 - acc: 0.599 - ETA: 1s - loss: 6.4706 - acc: 0.598 - ETA: 1s - loss: 6.4696 - acc: 0.598 - ETA: 1s - loss: 6.4709 - acc: 0.598 - ETA: 1s - loss: 6.4661 - acc: 0.598 - ETA: 1s - loss: 6.4766 - acc: 0.598 - ETA: 1s - loss: 6.4808 - acc: 0.597 - ETA: 1s - loss: 6.4783 - acc: 0.598 - ETA: 1s - loss: 6.4724 - acc: 0.598 - ETA: 0s - loss: 6.4762 - acc: 0.598 - ETA: 0s - loss: 6.4716 - acc: 0.598 - ETA: 0s - loss: 6.4703 - acc: 0.598 - ETA: 0s - loss: 6.4746 - acc: 0.598 - ETA: 0s - loss: 6.4704 - acc: 0.598 - ETA: 0s - loss: 6.4702 - acc: 0.598 - ETA: 0s - loss: 6.4706 - acc: 0.598 - ETA: 0s - loss: 6.4720 - acc: 0.598 - ETA: 0s - loss: 6.4639 - acc: 0.599 - ETA: 0s - loss: 6.4621 - acc: 0.599 - ETA: 0s - loss: 6.4636 - acc: 0.599 - ETA: 0s - loss: 6.4645 - acc: 0.598 - ETA: 0s - loss: 6.4607 - acc: 0.599 - ETA: 0s - loss: 6.4557 - acc: 0.599 - ETA: 0s - loss: 6.4550 - acc: 0.599 - ETA: 0s - loss: 6.4559 - acc: 0.599 - ETA: 0s - loss: 6.4625 - acc: 0.599 - ETA: 0s - loss: 6.4603 - acc: 0.599 - ETA: 0s - loss: 6.4599 - acc: 0.599 - 7s 142us/step - loss: 6.4574 - acc: 0.5994 - val_loss: 6.4564 - val_acc: 0.5994\n",
      "Epoch 17/35\n",
      "51549/51549 [==============================] - ETA: 12s - loss: 5.9184 - acc: 0.63 - ETA: 12s - loss: 6.0443 - acc: 0.62 - ETA: 6s - loss: 6.4500 - acc: 0.5998 - ETA: 6s - loss: 6.5840 - acc: 0.591 - ETA: 6s - loss: 6.5637 - acc: 0.592 - ETA: 6s - loss: 6.4346 - acc: 0.600 - ETA: 6s - loss: 6.3801 - acc: 0.604 - ETA: 5s - loss: 6.4086 - acc: 0.602 - ETA: 6s - loss: 6.4261 - acc: 0.601 - ETA: 5s - loss: 6.4186 - acc: 0.601 - ETA: 5s - loss: 6.3760 - acc: 0.604 - ETA: 5s - loss: 6.3728 - acc: 0.604 - ETA: 5s - loss: 6.4245 - acc: 0.601 - ETA: 5s - loss: 6.4129 - acc: 0.602 - ETA: 4s - loss: 6.4011 - acc: 0.602 - ETA: 4s - loss: 6.3969 - acc: 0.603 - ETA: 4s - loss: 6.3663 - acc: 0.605 - ETA: 4s - loss: 6.3617 - acc: 0.605 - ETA: 4s - loss: 6.3510 - acc: 0.606 - ETA: 4s - loss: 6.3622 - acc: 0.605 - ETA: 4s - loss: 6.3825 - acc: 0.604 - ETA: 4s - loss: 6.3853 - acc: 0.603 - ETA: 4s - loss: 6.4029 - acc: 0.602 - ETA: 4s - loss: 6.3939 - acc: 0.603 - ETA: 4s - loss: 6.3864 - acc: 0.603 - ETA: 4s - loss: 6.3842 - acc: 0.603 - ETA: 4s - loss: 6.4267 - acc: 0.601 - ETA: 4s - loss: 6.4221 - acc: 0.601 - ETA: 4s - loss: 6.4221 - acc: 0.601 - ETA: 4s - loss: 6.4336 - acc: 0.600 - ETA: 3s - loss: 6.4402 - acc: 0.600 - ETA: 3s - loss: 6.4356 - acc: 0.600 - ETA: 3s - loss: 6.4517 - acc: 0.599 - ETA: 3s - loss: 6.4310 - acc: 0.601 - ETA: 3s - loss: 6.4255 - acc: 0.601 - ETA: 3s - loss: 6.4296 - acc: 0.601 - ETA: 3s - loss: 6.4406 - acc: 0.600 - ETA: 3s - loss: 6.4331 - acc: 0.600 - ETA: 3s - loss: 6.4329 - acc: 0.600 - ETA: 3s - loss: 6.4341 - acc: 0.600 - ETA: 3s - loss: 6.4411 - acc: 0.600 - ETA: 3s - loss: 6.4263 - acc: 0.601 - ETA: 3s - loss: 6.4235 - acc: 0.601 - ETA: 3s - loss: 6.4172 - acc: 0.601 - ETA: 2s - loss: 6.4072 - acc: 0.602 - ETA: 2s - loss: 6.4141 - acc: 0.602 - ETA: 2s - loss: 6.4116 - acc: 0.602 - ETA: 2s - loss: 6.4233 - acc: 0.601 - ETA: 2s - loss: 6.4320 - acc: 0.600 - ETA: 2s - loss: 6.4275 - acc: 0.601 - ETA: 2s - loss: 6.4287 - acc: 0.601 - ETA: 2s - loss: 6.4316 - acc: 0.601 - ETA: 2s - loss: 6.4325 - acc: 0.600 - ETA: 2s - loss: 6.4295 - acc: 0.601 - ETA: 2s - loss: 6.4277 - acc: 0.601 - ETA: 2s - loss: 6.4226 - acc: 0.601 - ETA: 2s - loss: 6.4237 - acc: 0.601 - ETA: 2s - loss: 6.4300 - acc: 0.601 - ETA: 2s - loss: 6.4273 - acc: 0.601 - ETA: 2s - loss: 6.4210 - acc: 0.601 - ETA: 2s - loss: 6.4236 - acc: 0.601 - ETA: 2s - loss: 6.4226 - acc: 0.601 - ETA: 2s - loss: 6.4240 - acc: 0.601 - ETA: 2s - loss: 6.4221 - acc: 0.601 - ETA: 2s - loss: 6.4211 - acc: 0.601 - ETA: 1s - loss: 6.4329 - acc: 0.600 - ETA: 1s - loss: 6.4286 - acc: 0.601 - ETA: 1s - loss: 6.4354 - acc: 0.600 - ETA: 1s - loss: 6.4362 - acc: 0.600 - ETA: 1s - loss: 6.4279 - acc: 0.601 - ETA: 1s - loss: 6.4419 - acc: 0.600 - ETA: 1s - loss: 6.4394 - acc: 0.600 - ETA: 1s - loss: 6.4417 - acc: 0.600 - ETA: 1s - loss: 6.4506 - acc: 0.599 - ETA: 1s - loss: 6.4481 - acc: 0.599 - ETA: 1s - loss: 6.4461 - acc: 0.600 - ETA: 1s - loss: 6.4465 - acc: 0.600 - ETA: 1s - loss: 6.4391 - acc: 0.600 - ETA: 1s - loss: 6.4405 - acc: 0.600 - ETA: 1s - loss: 6.4403 - acc: 0.600 - ETA: 1s - loss: 6.4404 - acc: 0.600 - ETA: 1s - loss: 6.4447 - acc: 0.600 - ETA: 0s - loss: 6.4510 - acc: 0.599 - ETA: 0s - loss: 6.4514 - acc: 0.599 - ETA: 0s - loss: 6.4472 - acc: 0.600 - ETA: 0s - loss: 6.4470 - acc: 0.600 - ETA: 0s - loss: 6.4527 - acc: 0.599 - ETA: 0s - loss: 6.4512 - acc: 0.599 - ETA: 0s - loss: 6.4468 - acc: 0.600 - ETA: 0s - loss: 6.4431 - acc: 0.600 - ETA: 0s - loss: 6.4411 - acc: 0.600 - ETA: 0s - loss: 6.4493 - acc: 0.599 - ETA: 0s - loss: 6.4546 - acc: 0.599 - ETA: 0s - loss: 6.4619 - acc: 0.599 - ETA: 0s - loss: 6.4590 - acc: 0.599 - ETA: 0s - loss: 6.4579 - acc: 0.599 - ETA: 0s - loss: 6.4596 - acc: 0.599 - ETA: 0s - loss: 6.4604 - acc: 0.599 - ETA: 0s - loss: 6.4616 - acc: 0.599 - ETA: 0s - loss: 6.4556 - acc: 0.599 - 8s 148us/step - loss: 6.4561 - acc: 0.5994 - val_loss: 6.4564 - val_acc: 0.5994\n",
      "Epoch 18/35\n",
      "51549/51549 [==============================] - ETA: 7s - loss: 7.1776 - acc: 0.554 - ETA: 5s - loss: 6.6235 - acc: 0.589 - ETA: 5s - loss: 6.4081 - acc: 0.602 - ETA: 4s - loss: 6.2242 - acc: 0.613 - ETA: 5s - loss: 6.2591 - acc: 0.611 - ETA: 4s - loss: 6.3019 - acc: 0.609 - ETA: 5s - loss: 6.2384 - acc: 0.613 - ETA: 5s - loss: 6.2871 - acc: 0.609 - ETA: 4s - loss: 6.2084 - acc: 0.614 - ETA: 4s - loss: 6.2232 - acc: 0.613 - ETA: 4s - loss: 6.2493 - acc: 0.612 - ETA: 4s - loss: 6.3016 - acc: 0.609 - ETA: 4s - loss: 6.3465 - acc: 0.606 - ETA: 4s - loss: 6.3625 - acc: 0.605 - ETA: 4s - loss: 6.3507 - acc: 0.606 - ETA: 4s - loss: 6.3434 - acc: 0.606 - ETA: 4s - loss: 6.3281 - acc: 0.607 - ETA: 4s - loss: 6.3306 - acc: 0.607 - ETA: 4s - loss: 6.3639 - acc: 0.605 - ETA: 3s - loss: 6.3846 - acc: 0.603 - ETA: 3s - loss: 6.3963 - acc: 0.603 - ETA: 3s - loss: 6.3847 - acc: 0.603 - ETA: 3s - loss: 6.4128 - acc: 0.602 - ETA: 4s - loss: 6.4063 - acc: 0.602 - ETA: 4s - loss: 6.3909 - acc: 0.603 - ETA: 4s - loss: 6.3912 - acc: 0.603 - ETA: 4s - loss: 6.3726 - acc: 0.604 - ETA: 4s - loss: 6.3808 - acc: 0.604 - ETA: 3s - loss: 6.3804 - acc: 0.604 - ETA: 3s - loss: 6.3822 - acc: 0.604 - ETA: 3s - loss: 6.3888 - acc: 0.603 - ETA: 3s - loss: 6.4001 - acc: 0.602 - ETA: 4s - loss: 6.3937 - acc: 0.603 - ETA: 3s - loss: 6.4022 - acc: 0.602 - ETA: 3s - loss: 6.4084 - acc: 0.602 - ETA: 3s - loss: 6.4015 - acc: 0.602 - ETA: 3s - loss: 6.4116 - acc: 0.602 - ETA: 3s - loss: 6.4169 - acc: 0.601 - ETA: 3s - loss: 6.4179 - acc: 0.601 - ETA: 3s - loss: 6.4197 - acc: 0.601 - ETA: 3s - loss: 6.4213 - acc: 0.601 - ETA: 3s - loss: 6.4205 - acc: 0.601 - ETA: 3s - loss: 6.4250 - acc: 0.601 - ETA: 3s - loss: 6.4148 - acc: 0.602 - ETA: 3s - loss: 6.4149 - acc: 0.602 - ETA: 3s - loss: 6.4123 - acc: 0.602 - ETA: 3s - loss: 6.4027 - acc: 0.602 - ETA: 3s - loss: 6.4084 - acc: 0.602 - ETA: 3s - loss: 6.4060 - acc: 0.602 - ETA: 3s - loss: 6.4221 - acc: 0.601 - ETA: 3s - loss: 6.4272 - acc: 0.601 - ETA: 3s - loss: 6.4182 - acc: 0.601 - ETA: 3s - loss: 6.4151 - acc: 0.602 - ETA: 3s - loss: 6.4145 - acc: 0.602 - ETA: 3s - loss: 6.4152 - acc: 0.602 - ETA: 3s - loss: 6.4142 - acc: 0.602 - ETA: 2s - loss: 6.4126 - acc: 0.602 - ETA: 2s - loss: 6.4151 - acc: 0.602 - ETA: 2s - loss: 6.4152 - acc: 0.602 - ETA: 2s - loss: 6.4102 - acc: 0.602 - ETA: 2s - loss: 6.4100 - acc: 0.602 - ETA: 2s - loss: 6.4048 - acc: 0.602 - ETA: 2s - loss: 6.4087 - acc: 0.602 - ETA: 2s - loss: 6.4115 - acc: 0.602 - ETA: 2s - loss: 6.4164 - acc: 0.601 - ETA: 2s - loss: 6.4261 - acc: 0.601 - ETA: 2s - loss: 6.4195 - acc: 0.601 - ETA: 2s - loss: 6.4206 - acc: 0.601 - ETA: 2s - loss: 6.4191 - acc: 0.601 - ETA: 2s - loss: 6.4269 - acc: 0.601 - ETA: 2s - loss: 6.4354 - acc: 0.600 - ETA: 2s - loss: 6.4323 - acc: 0.600 - ETA: 2s - loss: 6.4378 - acc: 0.600 - ETA: 1s - loss: 6.4311 - acc: 0.601 - ETA: 1s - loss: 6.4314 - acc: 0.601 - ETA: 1s - loss: 6.4405 - acc: 0.600 - ETA: 1s - loss: 6.4433 - acc: 0.600 - ETA: 1s - loss: 6.4406 - acc: 0.600 - ETA: 1s - loss: 6.4421 - acc: 0.600 - ETA: 1s - loss: 6.4381 - acc: 0.600 - ETA: 1s - loss: 6.4367 - acc: 0.600 - ETA: 1s - loss: 6.4378 - acc: 0.600 - ETA: 1s - loss: 6.4430 - acc: 0.600 - ETA: 1s - loss: 6.4411 - acc: 0.600 - ETA: 1s - loss: 6.4398 - acc: 0.600 - ETA: 1s - loss: 6.4381 - acc: 0.600 - ETA: 1s - loss: 6.4439 - acc: 0.600 - ETA: 1s - loss: 6.4409 - acc: 0.600 - ETA: 1s - loss: 6.4447 - acc: 0.600 - ETA: 1s - loss: 6.4430 - acc: 0.600 - ETA: 1s - loss: 6.4471 - acc: 0.600 - ETA: 1s - loss: 6.4464 - acc: 0.600 - ETA: 1s - loss: 6.4504 - acc: 0.599 - ETA: 1s - loss: 6.4483 - acc: 0.599 - ETA: 1s - loss: 6.4466 - acc: 0.600 - ETA: 1s - loss: 6.4452 - acc: 0.600 - ETA: 0s - loss: 6.4501 - acc: 0.599 - ETA: 0s - loss: 6.4506 - acc: 0.599 - ETA: 0s - loss: 6.4513 - acc: 0.599 - ETA: 0s - loss: 6.4504 - acc: 0.599 - ETA: 0s - loss: 6.4526 - acc: 0.599 - ETA: 0s - loss: 6.4535 - acc: 0.599 - ETA: 0s - loss: 6.4608 - acc: 0.599 - ETA: 0s - loss: 6.4573 - acc: 0.599 - ETA: 0s - loss: 6.4612 - acc: 0.599 - ETA: 0s - loss: 6.4629 - acc: 0.599 - ETA: 0s - loss: 6.4648 - acc: 0.598 - ETA: 0s - loss: 6.4661 - acc: 0.598 - ETA: 0s - loss: 6.4671 - acc: 0.598 - ETA: 0s - loss: 6.4595 - acc: 0.599 - ETA: 0s - loss: 6.4567 - acc: 0.599 - ETA: 0s - loss: 6.4625 - acc: 0.599 - ETA: 0s - loss: 6.4592 - acc: 0.599 - ETA: 0s - loss: 6.4607 - acc: 0.599 - 8s 164us/step - loss: 6.4578 - acc: 0.5993 - val_loss: 6.4564 - val_acc: 0.5994\n",
      "Epoch 19/35\n"
     ]
    },
    {
     "name": "stdout",
     "output_type": "stream",
     "text": [
      "51549/51549 [==============================] - ETA: 5s - loss: 6.7998 - acc: 0.578 - ETA: 4s - loss: 6.9257 - acc: 0.570 - ETA: 6s - loss: 6.5322 - acc: 0.594 - ETA: 5s - loss: 6.5375 - acc: 0.594 - ETA: 5s - loss: 6.7229 - acc: 0.582 - ETA: 4s - loss: 6.6137 - acc: 0.589 - ETA: 5s - loss: 6.5867 - acc: 0.591 - ETA: 4s - loss: 6.5774 - acc: 0.591 - ETA: 4s - loss: 6.5739 - acc: 0.592 - ETA: 4s - loss: 6.5752 - acc: 0.592 - ETA: 5s - loss: 6.5196 - acc: 0.595 - ETA: 5s - loss: 6.5566 - acc: 0.593 - ETA: 4s - loss: 6.5248 - acc: 0.595 - ETA: 5s - loss: 6.5035 - acc: 0.596 - ETA: 5s - loss: 6.5068 - acc: 0.596 - ETA: 5s - loss: 6.5117 - acc: 0.596 - ETA: 4s - loss: 6.4830 - acc: 0.597 - ETA: 4s - loss: 6.4805 - acc: 0.597 - ETA: 4s - loss: 6.4748 - acc: 0.598 - ETA: 4s - loss: 6.4463 - acc: 0.600 - ETA: 4s - loss: 6.4516 - acc: 0.599 - ETA: 4s - loss: 6.4557 - acc: 0.599 - ETA: 4s - loss: 6.4668 - acc: 0.598 - ETA: 4s - loss: 6.4592 - acc: 0.599 - ETA: 4s - loss: 6.4614 - acc: 0.599 - ETA: 4s - loss: 6.4611 - acc: 0.599 - ETA: 4s - loss: 6.4402 - acc: 0.600 - ETA: 4s - loss: 6.4475 - acc: 0.600 - ETA: 4s - loss: 6.4388 - acc: 0.600 - ETA: 4s - loss: 6.4492 - acc: 0.599 - ETA: 4s - loss: 6.4475 - acc: 0.600 - ETA: 4s - loss: 6.4630 - acc: 0.599 - ETA: 3s - loss: 6.4624 - acc: 0.599 - ETA: 3s - loss: 6.4732 - acc: 0.598 - ETA: 3s - loss: 6.4549 - acc: 0.599 - ETA: 3s - loss: 6.4495 - acc: 0.599 - ETA: 3s - loss: 6.4529 - acc: 0.599 - ETA: 3s - loss: 6.4583 - acc: 0.599 - ETA: 3s - loss: 6.4629 - acc: 0.599 - ETA: 3s - loss: 6.4579 - acc: 0.599 - ETA: 3s - loss: 6.4700 - acc: 0.598 - ETA: 3s - loss: 6.4590 - acc: 0.599 - ETA: 3s - loss: 6.4620 - acc: 0.599 - ETA: 3s - loss: 6.4700 - acc: 0.598 - ETA: 3s - loss: 6.4799 - acc: 0.598 - ETA: 3s - loss: 6.4879 - acc: 0.597 - ETA: 3s - loss: 6.4843 - acc: 0.597 - ETA: 3s - loss: 6.4799 - acc: 0.598 - ETA: 3s - loss: 6.4654 - acc: 0.598 - ETA: 3s - loss: 6.4568 - acc: 0.599 - ETA: 2s - loss: 6.4508 - acc: 0.599 - ETA: 2s - loss: 6.4543 - acc: 0.599 - ETA: 2s - loss: 6.4481 - acc: 0.599 - ETA: 2s - loss: 6.4505 - acc: 0.599 - ETA: 2s - loss: 6.4510 - acc: 0.599 - ETA: 2s - loss: 6.4513 - acc: 0.599 - ETA: 2s - loss: 6.4491 - acc: 0.599 - ETA: 2s - loss: 6.4588 - acc: 0.599 - ETA: 2s - loss: 6.4553 - acc: 0.599 - ETA: 2s - loss: 6.4689 - acc: 0.598 - ETA: 2s - loss: 6.4746 - acc: 0.598 - ETA: 2s - loss: 6.4695 - acc: 0.598 - ETA: 2s - loss: 6.4625 - acc: 0.599 - ETA: 2s - loss: 6.4588 - acc: 0.599 - ETA: 2s - loss: 6.4669 - acc: 0.598 - ETA: 2s - loss: 6.4654 - acc: 0.598 - ETA: 2s - loss: 6.4627 - acc: 0.599 - ETA: 2s - loss: 6.4655 - acc: 0.598 - ETA: 2s - loss: 6.4601 - acc: 0.599 - ETA: 1s - loss: 6.4464 - acc: 0.600 - ETA: 1s - loss: 6.4519 - acc: 0.599 - ETA: 1s - loss: 6.4529 - acc: 0.599 - ETA: 1s - loss: 6.4496 - acc: 0.599 - ETA: 1s - loss: 6.4486 - acc: 0.599 - ETA: 1s - loss: 6.4552 - acc: 0.599 - ETA: 1s - loss: 6.4616 - acc: 0.599 - ETA: 1s - loss: 6.4673 - acc: 0.598 - ETA: 1s - loss: 6.4656 - acc: 0.598 - ETA: 1s - loss: 6.4551 - acc: 0.599 - ETA: 1s - loss: 6.4574 - acc: 0.599 - ETA: 1s - loss: 6.4630 - acc: 0.599 - ETA: 1s - loss: 6.4604 - acc: 0.599 - ETA: 1s - loss: 6.4659 - acc: 0.598 - ETA: 1s - loss: 6.4675 - acc: 0.598 - ETA: 1s - loss: 6.4602 - acc: 0.599 - ETA: 1s - loss: 6.4518 - acc: 0.599 - ETA: 0s - loss: 6.4571 - acc: 0.599 - ETA: 0s - loss: 6.4657 - acc: 0.598 - ETA: 0s - loss: 6.4604 - acc: 0.599 - ETA: 0s - loss: 6.4538 - acc: 0.599 - ETA: 0s - loss: 6.4467 - acc: 0.600 - ETA: 0s - loss: 6.4426 - acc: 0.600 - ETA: 0s - loss: 6.4432 - acc: 0.600 - ETA: 0s - loss: 6.4437 - acc: 0.600 - ETA: 0s - loss: 6.4429 - acc: 0.600 - ETA: 0s - loss: 6.4410 - acc: 0.600 - ETA: 0s - loss: 6.4443 - acc: 0.600 - ETA: 0s - loss: 6.4445 - acc: 0.600 - ETA: 0s - loss: 6.4444 - acc: 0.600 - ETA: 0s - loss: 6.4462 - acc: 0.600 - ETA: 0s - loss: 6.4457 - acc: 0.600 - ETA: 0s - loss: 6.4476 - acc: 0.600 - ETA: 0s - loss: 6.4519 - acc: 0.599 - ETA: 0s - loss: 6.4562 - acc: 0.599 - ETA: 0s - loss: 6.4526 - acc: 0.599 - ETA: 0s - loss: 6.4590 - acc: 0.599 - ETA: 0s - loss: 6.4578 - acc: 0.599 - 9s 172us/step - loss: 6.4580 - acc: 0.5993 - val_loss: 6.4564 - val_acc: 0.5994\n",
      "Epoch 20/35\n",
      "51549/51549 [==============================] - ETA: 6s - loss: 5.9184 - acc: 0.632 - ETA: 7s - loss: 6.4535 - acc: 0.599 - ETA: 8s - loss: 6.3591 - acc: 0.605 - ETA: 6s - loss: 6.5983 - acc: 0.590 - ETA: 7s - loss: 6.5964 - acc: 0.590 - ETA: 7s - loss: 6.5952 - acc: 0.590 - ETA: 7s - loss: 6.5877 - acc: 0.591 - ETA: 7s - loss: 6.5823 - acc: 0.591 - ETA: 6s - loss: 6.6303 - acc: 0.588 - ETA: 6s - loss: 6.5683 - acc: 0.592 - ETA: 6s - loss: 6.5406 - acc: 0.594 - ETA: 6s - loss: 6.5157 - acc: 0.595 - ETA: 6s - loss: 6.5392 - acc: 0.594 - ETA: 6s - loss: 6.5151 - acc: 0.595 - ETA: 6s - loss: 6.5008 - acc: 0.596 - ETA: 6s - loss: 6.4986 - acc: 0.596 - ETA: 6s - loss: 6.5113 - acc: 0.596 - ETA: 6s - loss: 6.5391 - acc: 0.594 - ETA: 6s - loss: 6.5438 - acc: 0.594 - ETA: 6s - loss: 6.5106 - acc: 0.596 - ETA: 6s - loss: 6.4860 - acc: 0.597 - ETA: 6s - loss: 6.4823 - acc: 0.597 - ETA: 6s - loss: 6.4500 - acc: 0.599 - ETA: 6s - loss: 6.4271 - acc: 0.601 - ETA: 6s - loss: 6.4237 - acc: 0.601 - ETA: 6s - loss: 6.4159 - acc: 0.601 - ETA: 6s - loss: 6.4221 - acc: 0.601 - ETA: 6s - loss: 6.4335 - acc: 0.600 - ETA: 5s - loss: 6.4166 - acc: 0.601 - ETA: 5s - loss: 6.3969 - acc: 0.603 - ETA: 5s - loss: 6.3964 - acc: 0.603 - ETA: 5s - loss: 6.3994 - acc: 0.603 - ETA: 5s - loss: 6.3990 - acc: 0.603 - ETA: 5s - loss: 6.4126 - acc: 0.602 - ETA: 5s - loss: 6.4255 - acc: 0.601 - ETA: 5s - loss: 6.4408 - acc: 0.600 - ETA: 5s - loss: 6.4363 - acc: 0.600 - ETA: 5s - loss: 6.4427 - acc: 0.600 - ETA: 5s - loss: 6.4623 - acc: 0.599 - ETA: 5s - loss: 6.4489 - acc: 0.599 - ETA: 5s - loss: 6.4523 - acc: 0.599 - ETA: 5s - loss: 6.4533 - acc: 0.599 - ETA: 5s - loss: 6.4499 - acc: 0.599 - ETA: 5s - loss: 6.4391 - acc: 0.600 - ETA: 5s - loss: 6.4396 - acc: 0.600 - ETA: 5s - loss: 6.4367 - acc: 0.600 - ETA: 5s - loss: 6.4462 - acc: 0.600 - ETA: 5s - loss: 6.4438 - acc: 0.600 - ETA: 5s - loss: 6.4331 - acc: 0.600 - ETA: 5s - loss: 6.4404 - acc: 0.600 - ETA: 5s - loss: 6.4326 - acc: 0.600 - ETA: 4s - loss: 6.4465 - acc: 0.600 - ETA: 4s - loss: 6.4438 - acc: 0.600 - ETA: 4s - loss: 6.4433 - acc: 0.600 - ETA: 4s - loss: 6.4472 - acc: 0.600 - ETA: 4s - loss: 6.4400 - acc: 0.600 - ETA: 4s - loss: 6.4395 - acc: 0.600 - ETA: 4s - loss: 6.4412 - acc: 0.600 - ETA: 4s - loss: 6.4395 - acc: 0.600 - ETA: 4s - loss: 6.4433 - acc: 0.600 - ETA: 4s - loss: 6.4395 - acc: 0.600 - ETA: 3s - loss: 6.4372 - acc: 0.600 - ETA: 3s - loss: 6.4400 - acc: 0.600 - ETA: 3s - loss: 6.4457 - acc: 0.600 - ETA: 3s - loss: 6.4488 - acc: 0.599 - ETA: 3s - loss: 6.4510 - acc: 0.599 - ETA: 3s - loss: 6.4535 - acc: 0.599 - ETA: 3s - loss: 6.4580 - acc: 0.599 - ETA: 3s - loss: 6.4611 - acc: 0.599 - ETA: 3s - loss: 6.4527 - acc: 0.599 - ETA: 3s - loss: 6.4457 - acc: 0.600 - ETA: 3s - loss: 6.4427 - acc: 0.600 - ETA: 2s - loss: 6.4449 - acc: 0.600 - ETA: 2s - loss: 6.4405 - acc: 0.600 - ETA: 2s - loss: 6.4507 - acc: 0.599 - ETA: 2s - loss: 6.4526 - acc: 0.599 - ETA: 2s - loss: 6.4587 - acc: 0.599 - ETA: 2s - loss: 6.4664 - acc: 0.598 - ETA: 2s - loss: 6.4677 - acc: 0.598 - ETA: 2s - loss: 6.4657 - acc: 0.598 - ETA: 2s - loss: 6.4669 - acc: 0.598 - ETA: 2s - loss: 6.4680 - acc: 0.598 - ETA: 2s - loss: 6.4744 - acc: 0.598 - ETA: 1s - loss: 6.4655 - acc: 0.598 - ETA: 1s - loss: 6.4705 - acc: 0.598 - ETA: 1s - loss: 6.4736 - acc: 0.598 - ETA: 1s - loss: 6.4686 - acc: 0.598 - ETA: 1s - loss: 6.4696 - acc: 0.598 - ETA: 1s - loss: 6.4704 - acc: 0.598 - ETA: 1s - loss: 6.4691 - acc: 0.598 - ETA: 1s - loss: 6.4755 - acc: 0.598 - ETA: 1s - loss: 6.4710 - acc: 0.598 - ETA: 1s - loss: 6.4666 - acc: 0.598 - ETA: 1s - loss: 6.4697 - acc: 0.598 - ETA: 1s - loss: 6.4699 - acc: 0.598 - ETA: 1s - loss: 6.4742 - acc: 0.598 - ETA: 1s - loss: 6.4768 - acc: 0.598 - ETA: 1s - loss: 6.4718 - acc: 0.598 - ETA: 1s - loss: 6.4740 - acc: 0.598 - ETA: 0s - loss: 6.4689 - acc: 0.598 - ETA: 0s - loss: 6.4692 - acc: 0.598 - ETA: 0s - loss: 6.4655 - acc: 0.598 - ETA: 0s - loss: 6.4654 - acc: 0.598 - ETA: 0s - loss: 6.4624 - acc: 0.599 - ETA: 0s - loss: 6.4662 - acc: 0.598 - ETA: 0s - loss: 6.4659 - acc: 0.598 - ETA: 0s - loss: 6.4632 - acc: 0.599 - ETA: 0s - loss: 6.4631 - acc: 0.599 - ETA: 0s - loss: 6.4569 - acc: 0.599 - ETA: 0s - loss: 6.4577 - acc: 0.599 - ETA: 0s - loss: 6.4559 - acc: 0.599 - ETA: 0s - loss: 6.4600 - acc: 0.599 - ETA: 0s - loss: 6.4523 - acc: 0.599 - ETA: 0s - loss: 6.4581 - acc: 0.599 - ETA: 0s - loss: 6.4585 - acc: 0.599 - ETA: 0s - loss: 6.4598 - acc: 0.599 - 9s 167us/step - loss: 6.4580 - acc: 0.5993 - val_loss: 6.4564 - val_acc: 0.5994\n",
      "Epoch 21/35\n"
     ]
    },
    {
     "name": "stdout",
     "output_type": "stream",
     "text": [
      "51549/51549 [==============================] - ETA: 10s - loss: 6.4221 - acc: 0.60 - ETA: 5s - loss: 6.9677 - acc: 0.5677 - ETA: 6s - loss: 6.6739 - acc: 0.585 - ETA: 5s - loss: 6.3930 - acc: 0.603 - ETA: 5s - loss: 6.4517 - acc: 0.599 - ETA: 6s - loss: 6.4913 - acc: 0.597 - ETA: 6s - loss: 6.4275 - acc: 0.601 - ETA: 6s - loss: 6.4170 - acc: 0.601 - ETA: 6s - loss: 6.3045 - acc: 0.608 - ETA: 5s - loss: 6.2961 - acc: 0.609 - ETA: 5s - loss: 6.3922 - acc: 0.603 - ETA: 5s - loss: 6.3883 - acc: 0.603 - ETA: 5s - loss: 6.3700 - acc: 0.604 - ETA: 5s - loss: 6.3727 - acc: 0.604 - ETA: 5s - loss: 6.4037 - acc: 0.602 - ETA: 5s - loss: 6.4157 - acc: 0.602 - ETA: 5s - loss: 6.4398 - acc: 0.600 - ETA: 4s - loss: 6.4609 - acc: 0.599 - ETA: 5s - loss: 6.4418 - acc: 0.600 - ETA: 5s - loss: 6.4324 - acc: 0.600 - ETA: 4s - loss: 6.4463 - acc: 0.600 - ETA: 4s - loss: 6.4635 - acc: 0.599 - ETA: 4s - loss: 6.4496 - acc: 0.599 - ETA: 4s - loss: 6.4486 - acc: 0.599 - ETA: 4s - loss: 6.4435 - acc: 0.600 - ETA: 4s - loss: 6.4475 - acc: 0.600 - ETA: 4s - loss: 6.4551 - acc: 0.599 - ETA: 4s - loss: 6.4620 - acc: 0.599 - ETA: 4s - loss: 6.4585 - acc: 0.599 - ETA: 4s - loss: 6.4447 - acc: 0.600 - ETA: 4s - loss: 6.4320 - acc: 0.600 - ETA: 4s - loss: 6.4264 - acc: 0.601 - ETA: 4s - loss: 6.4369 - acc: 0.600 - ETA: 4s - loss: 6.4606 - acc: 0.599 - ETA: 4s - loss: 6.4484 - acc: 0.599 - ETA: 4s - loss: 6.4621 - acc: 0.599 - ETA: 4s - loss: 6.4631 - acc: 0.599 - ETA: 4s - loss: 6.4768 - acc: 0.598 - ETA: 4s - loss: 6.4676 - acc: 0.598 - ETA: 4s - loss: 6.4653 - acc: 0.598 - ETA: 4s - loss: 6.4575 - acc: 0.599 - ETA: 4s - loss: 6.4426 - acc: 0.600 - ETA: 4s - loss: 6.4448 - acc: 0.600 - ETA: 4s - loss: 6.4479 - acc: 0.599 - ETA: 4s - loss: 6.4518 - acc: 0.599 - ETA: 4s - loss: 6.4418 - acc: 0.600 - ETA: 4s - loss: 6.4429 - acc: 0.600 - ETA: 4s - loss: 6.4495 - acc: 0.599 - ETA: 4s - loss: 6.4477 - acc: 0.599 - ETA: 4s - loss: 6.4496 - acc: 0.599 - ETA: 4s - loss: 6.4476 - acc: 0.599 - ETA: 4s - loss: 6.4501 - acc: 0.599 - ETA: 4s - loss: 6.4524 - acc: 0.599 - ETA: 4s - loss: 6.4544 - acc: 0.599 - ETA: 4s - loss: 6.4651 - acc: 0.598 - ETA: 4s - loss: 6.4694 - acc: 0.598 - ETA: 4s - loss: 6.4804 - acc: 0.597 - ETA: 3s - loss: 6.4705 - acc: 0.598 - ETA: 3s - loss: 6.4700 - acc: 0.598 - ETA: 3s - loss: 6.4838 - acc: 0.597 - ETA: 3s - loss: 6.4760 - acc: 0.598 - ETA: 3s - loss: 6.4723 - acc: 0.598 - ETA: 3s - loss: 6.4740 - acc: 0.598 - ETA: 3s - loss: 6.4736 - acc: 0.598 - ETA: 3s - loss: 6.4738 - acc: 0.598 - ETA: 3s - loss: 6.4719 - acc: 0.598 - ETA: 3s - loss: 6.4734 - acc: 0.598 - ETA: 3s - loss: 6.4752 - acc: 0.598 - ETA: 3s - loss: 6.4762 - acc: 0.598 - ETA: 3s - loss: 6.4776 - acc: 0.598 - ETA: 3s - loss: 6.4829 - acc: 0.597 - ETA: 3s - loss: 6.4689 - acc: 0.598 - ETA: 3s - loss: 6.4707 - acc: 0.598 - ETA: 3s - loss: 6.4687 - acc: 0.598 - ETA: 3s - loss: 6.4683 - acc: 0.598 - ETA: 3s - loss: 6.4568 - acc: 0.599 - ETA: 3s - loss: 6.4545 - acc: 0.599 - ETA: 2s - loss: 6.4580 - acc: 0.599 - ETA: 2s - loss: 6.4679 - acc: 0.598 - ETA: 2s - loss: 6.4692 - acc: 0.598 - ETA: 2s - loss: 6.4743 - acc: 0.598 - ETA: 2s - loss: 6.4729 - acc: 0.598 - ETA: 2s - loss: 6.4735 - acc: 0.598 - ETA: 2s - loss: 6.4757 - acc: 0.598 - ETA: 2s - loss: 6.4777 - acc: 0.598 - ETA: 2s - loss: 6.4763 - acc: 0.598 - ETA: 2s - loss: 6.4741 - acc: 0.598 - ETA: 2s - loss: 6.4770 - acc: 0.598 - ETA: 2s - loss: 6.4765 - acc: 0.598 - ETA: 2s - loss: 6.4794 - acc: 0.598 - ETA: 2s - loss: 6.4794 - acc: 0.598 - ETA: 2s - loss: 6.4821 - acc: 0.597 - ETA: 2s - loss: 6.4828 - acc: 0.597 - ETA: 2s - loss: 6.4840 - acc: 0.597 - ETA: 2s - loss: 6.4862 - acc: 0.597 - ETA: 2s - loss: 6.4820 - acc: 0.597 - ETA: 2s - loss: 6.4754 - acc: 0.598 - ETA: 2s - loss: 6.4768 - acc: 0.598 - ETA: 2s - loss: 6.4695 - acc: 0.598 - ETA: 2s - loss: 6.4678 - acc: 0.598 - ETA: 1s - loss: 6.4685 - acc: 0.598 - ETA: 1s - loss: 6.4711 - acc: 0.598 - ETA: 1s - loss: 6.4684 - acc: 0.598 - ETA: 1s - loss: 6.4759 - acc: 0.598 - ETA: 1s - loss: 6.4699 - acc: 0.598 - ETA: 1s - loss: 6.4688 - acc: 0.598 - ETA: 1s - loss: 6.4724 - acc: 0.598 - ETA: 1s - loss: 6.4729 - acc: 0.598 - ETA: 1s - loss: 6.4706 - acc: 0.598 - ETA: 1s - loss: 6.4704 - acc: 0.598 - ETA: 1s - loss: 6.4705 - acc: 0.598 - ETA: 1s - loss: 6.4755 - acc: 0.598 - ETA: 1s - loss: 6.4763 - acc: 0.598 - ETA: 1s - loss: 6.4754 - acc: 0.598 - ETA: 1s - loss: 6.4759 - acc: 0.598 - ETA: 1s - loss: 6.4735 - acc: 0.598 - ETA: 0s - loss: 6.4791 - acc: 0.598 - ETA: 0s - loss: 6.4781 - acc: 0.598 - ETA: 0s - loss: 6.4743 - acc: 0.598 - ETA: 0s - loss: 6.4751 - acc: 0.598 - ETA: 0s - loss: 6.4769 - acc: 0.598 - ETA: 0s - loss: 6.4772 - acc: 0.598 - ETA: 0s - loss: 6.4697 - acc: 0.598 - ETA: 0s - loss: 6.4697 - acc: 0.598 - ETA: 0s - loss: 6.4664 - acc: 0.598 - ETA: 0s - loss: 6.4651 - acc: 0.598 - ETA: 0s - loss: 6.4598 - acc: 0.599 - ETA: 0s - loss: 6.4577 - acc: 0.599 - ETA: 0s - loss: 6.4578 - acc: 0.599 - 9s 183us/step - loss: 6.4571 - acc: 0.5994 - val_loss: 6.4564 - val_acc: 0.5994\n",
      "Epoch 22/35\n",
      "51549/51549 [==============================] - ETA: 5s - loss: 6.2961 - acc: 0.609 - ETA: 5s - loss: 6.3717 - acc: 0.604 - ETA: 5s - loss: 6.4640 - acc: 0.599 - ETA: 5s - loss: 6.4640 - acc: 0.599 - ETA: 7s - loss: 6.3861 - acc: 0.603 - ETA: 7s - loss: 6.3434 - acc: 0.606 - ETA: 6s - loss: 6.4346 - acc: 0.600 - ETA: 6s - loss: 6.5847 - acc: 0.591 - ETA: 6s - loss: 6.6334 - acc: 0.588 - ETA: 6s - loss: 6.6277 - acc: 0.588 - ETA: 6s - loss: 6.5228 - acc: 0.595 - ETA: 5s - loss: 6.5157 - acc: 0.595 - ETA: 5s - loss: 6.4396 - acc: 0.600 - ETA: 5s - loss: 6.4301 - acc: 0.601 - ETA: 5s - loss: 6.4270 - acc: 0.601 - ETA: 5s - loss: 6.4873 - acc: 0.597 - ETA: 5s - loss: 6.4860 - acc: 0.597 - ETA: 5s - loss: 6.5034 - acc: 0.596 - ETA: 5s - loss: 6.5054 - acc: 0.596 - ETA: 4s - loss: 6.5322 - acc: 0.594 - ETA: 4s - loss: 6.5211 - acc: 0.595 - ETA: 4s - loss: 6.5291 - acc: 0.594 - ETA: 4s - loss: 6.5050 - acc: 0.596 - ETA: 4s - loss: 6.5065 - acc: 0.596 - ETA: 4s - loss: 6.5203 - acc: 0.595 - ETA: 4s - loss: 6.5113 - acc: 0.596 - ETA: 4s - loss: 6.5162 - acc: 0.595 - ETA: 4s - loss: 6.5085 - acc: 0.596 - ETA: 4s - loss: 6.4933 - acc: 0.597 - ETA: 4s - loss: 6.5171 - acc: 0.595 - ETA: 4s - loss: 6.5336 - acc: 0.594 - ETA: 4s - loss: 6.5565 - acc: 0.593 - ETA: 4s - loss: 6.5406 - acc: 0.594 - ETA: 4s - loss: 6.5438 - acc: 0.594 - ETA: 4s - loss: 6.5531 - acc: 0.593 - ETA: 4s - loss: 6.5330 - acc: 0.594 - ETA: 4s - loss: 6.5121 - acc: 0.596 - ETA: 4s - loss: 6.5085 - acc: 0.596 - ETA: 4s - loss: 6.4960 - acc: 0.597 - ETA: 4s - loss: 6.4841 - acc: 0.597 - ETA: 4s - loss: 6.5074 - acc: 0.596 - ETA: 4s - loss: 6.5099 - acc: 0.596 - ETA: 3s - loss: 6.5035 - acc: 0.596 - ETA: 3s - loss: 6.4930 - acc: 0.597 - ETA: 3s - loss: 6.4959 - acc: 0.597 - ETA: 3s - loss: 6.4991 - acc: 0.596 - ETA: 3s - loss: 6.5035 - acc: 0.596 - ETA: 3s - loss: 6.5085 - acc: 0.596 - ETA: 3s - loss: 6.5043 - acc: 0.596 - ETA: 3s - loss: 6.5021 - acc: 0.596 - ETA: 3s - loss: 6.5015 - acc: 0.596 - ETA: 3s - loss: 6.5027 - acc: 0.596 - ETA: 3s - loss: 6.5032 - acc: 0.596 - ETA: 3s - loss: 6.4995 - acc: 0.596 - ETA: 3s - loss: 6.4987 - acc: 0.596 - ETA: 3s - loss: 6.4837 - acc: 0.597 - ETA: 3s - loss: 6.4820 - acc: 0.597 - ETA: 3s - loss: 6.4853 - acc: 0.597 - ETA: 3s - loss: 6.4802 - acc: 0.598 - ETA: 3s - loss: 6.4697 - acc: 0.598 - ETA: 3s - loss: 6.4649 - acc: 0.598 - ETA: 3s - loss: 6.4636 - acc: 0.599 - ETA: 3s - loss: 6.4591 - acc: 0.599 - ETA: 3s - loss: 6.4518 - acc: 0.599 - ETA: 3s - loss: 6.4511 - acc: 0.599 - ETA: 3s - loss: 6.4535 - acc: 0.599 - ETA: 2s - loss: 6.4589 - acc: 0.599 - ETA: 2s - loss: 6.4560 - acc: 0.599 - ETA: 2s - loss: 6.4679 - acc: 0.598 - ETA: 2s - loss: 6.4731 - acc: 0.598 - ETA: 2s - loss: 6.4771 - acc: 0.598 - ETA: 2s - loss: 6.4726 - acc: 0.598 - ETA: 2s - loss: 6.4748 - acc: 0.598 - ETA: 2s - loss: 6.4719 - acc: 0.598 - ETA: 2s - loss: 6.4689 - acc: 0.598 - ETA: 2s - loss: 6.4714 - acc: 0.598 - ETA: 2s - loss: 6.4775 - acc: 0.598 - ETA: 2s - loss: 6.4700 - acc: 0.598 - ETA: 2s - loss: 6.4704 - acc: 0.598 - ETA: 2s - loss: 6.4693 - acc: 0.598 - ETA: 1s - loss: 6.4702 - acc: 0.598 - ETA: 1s - loss: 6.4690 - acc: 0.598 - ETA: 1s - loss: 6.4793 - acc: 0.598 - ETA: 1s - loss: 6.4747 - acc: 0.598 - ETA: 1s - loss: 6.4740 - acc: 0.598 - ETA: 1s - loss: 6.4797 - acc: 0.598 - ETA: 1s - loss: 6.4741 - acc: 0.598 - ETA: 1s - loss: 6.4729 - acc: 0.598 - ETA: 1s - loss: 6.4734 - acc: 0.598 - ETA: 1s - loss: 6.4697 - acc: 0.598 - ETA: 1s - loss: 6.4634 - acc: 0.599 - ETA: 1s - loss: 6.4664 - acc: 0.598 - ETA: 1s - loss: 6.4642 - acc: 0.599 - ETA: 1s - loss: 6.4661 - acc: 0.598 - ETA: 1s - loss: 6.4623 - acc: 0.599 - ETA: 0s - loss: 6.4673 - acc: 0.598 - ETA: 0s - loss: 6.4709 - acc: 0.598 - ETA: 0s - loss: 6.4661 - acc: 0.598 - ETA: 0s - loss: 6.4667 - acc: 0.598 - ETA: 0s - loss: 6.4634 - acc: 0.599 - ETA: 0s - loss: 6.4665 - acc: 0.598 - ETA: 0s - loss: 6.4629 - acc: 0.599 - ETA: 0s - loss: 6.4623 - acc: 0.599 - ETA: 0s - loss: 6.4602 - acc: 0.599 - ETA: 0s - loss: 6.4638 - acc: 0.599 - ETA: 0s - loss: 6.4670 - acc: 0.598 - ETA: 0s - loss: 6.4661 - acc: 0.598 - ETA: 0s - loss: 6.4623 - acc: 0.599 - ETA: 0s - loss: 6.4661 - acc: 0.598 - ETA: 0s - loss: 6.4639 - acc: 0.599 - ETA: 0s - loss: 6.4634 - acc: 0.599 - ETA: 0s - loss: 6.4619 - acc: 0.599 - ETA: 0s - loss: 6.4624 - acc: 0.599 - ETA: 0s - loss: 6.4597 - acc: 0.599 - ETA: 0s - loss: 6.4573 - acc: 0.599 - 10s 200us/step - loss: 6.4589 - acc: 0.5993 - val_loss: 6.4564 - val_acc: 0.5994\n",
      "Epoch 23/35\n"
     ]
    },
    {
     "name": "stdout",
     "output_type": "stream",
     "text": [
      "51549/51549 [==============================] - ETA: 9s - loss: 7.3035 - acc: 0.546 - ETA: 11s - loss: 6.6739 - acc: 0.58 - ETA: 6s - loss: 6.4221 - acc: 0.6016 - ETA: 6s - loss: 6.2751 - acc: 0.610 - ETA: 6s - loss: 6.3465 - acc: 0.606 - ETA: 6s - loss: 6.2681 - acc: 0.611 - ETA: 7s - loss: 6.2206 - acc: 0.614 - ETA: 7s - loss: 6.2852 - acc: 0.610 - ETA: 7s - loss: 6.3494 - acc: 0.606 - ETA: 7s - loss: 6.3048 - acc: 0.608 - ETA: 7s - loss: 6.3709 - acc: 0.604 - ETA: 7s - loss: 6.4077 - acc: 0.602 - ETA: 7s - loss: 6.4221 - acc: 0.601 - ETA: 7s - loss: 6.4095 - acc: 0.602 - ETA: 7s - loss: 6.4191 - acc: 0.601 - ETA: 7s - loss: 6.4250 - acc: 0.601 - ETA: 7s - loss: 6.4604 - acc: 0.599 - ETA: 8s - loss: 6.4430 - acc: 0.600 - ETA: 7s - loss: 6.3857 - acc: 0.603 - ETA: 7s - loss: 6.4243 - acc: 0.601 - ETA: 7s - loss: 6.3822 - acc: 0.604 - ETA: 7s - loss: 6.3601 - acc: 0.605 - ETA: 7s - loss: 6.3639 - acc: 0.605 - ETA: 7s - loss: 6.3657 - acc: 0.605 - ETA: 7s - loss: 6.3825 - acc: 0.604 - ETA: 7s - loss: 6.3713 - acc: 0.604 - ETA: 7s - loss: 6.3880 - acc: 0.603 - ETA: 7s - loss: 6.3926 - acc: 0.603 - ETA: 7s - loss: 6.3953 - acc: 0.603 - ETA: 6s - loss: 6.3735 - acc: 0.604 - ETA: 6s - loss: 6.3743 - acc: 0.604 - ETA: 6s - loss: 6.3839 - acc: 0.603 - ETA: 6s - loss: 6.3728 - acc: 0.604 - ETA: 6s - loss: 6.3778 - acc: 0.604 - ETA: 6s - loss: 6.3827 - acc: 0.604 - ETA: 6s - loss: 6.3899 - acc: 0.603 - ETA: 6s - loss: 6.3946 - acc: 0.603 - ETA: 6s - loss: 6.3981 - acc: 0.603 - ETA: 6s - loss: 6.4163 - acc: 0.601 - ETA: 6s - loss: 6.4510 - acc: 0.599 - ETA: 6s - loss: 6.4427 - acc: 0.600 - ETA: 6s - loss: 6.4506 - acc: 0.599 - ETA: 6s - loss: 6.4585 - acc: 0.599 - ETA: 5s - loss: 6.4667 - acc: 0.598 - ETA: 5s - loss: 6.4740 - acc: 0.598 - ETA: 5s - loss: 6.4840 - acc: 0.597 - ETA: 5s - loss: 6.4798 - acc: 0.598 - ETA: 5s - loss: 6.4813 - acc: 0.597 - ETA: 5s - loss: 6.4800 - acc: 0.598 - ETA: 5s - loss: 6.4819 - acc: 0.597 - ETA: 5s - loss: 6.4906 - acc: 0.597 - ETA: 5s - loss: 6.4897 - acc: 0.597 - ETA: 5s - loss: 6.4825 - acc: 0.597 - ETA: 5s - loss: 6.4842 - acc: 0.597 - ETA: 5s - loss: 6.4822 - acc: 0.597 - ETA: 5s - loss: 6.4804 - acc: 0.597 - ETA: 5s - loss: 6.4727 - acc: 0.598 - ETA: 4s - loss: 6.4537 - acc: 0.599 - ETA: 4s - loss: 6.4496 - acc: 0.599 - ETA: 4s - loss: 6.4487 - acc: 0.599 - ETA: 4s - loss: 6.4557 - acc: 0.599 - ETA: 4s - loss: 6.4561 - acc: 0.599 - ETA: 4s - loss: 6.4593 - acc: 0.599 - ETA: 4s - loss: 6.4624 - acc: 0.599 - ETA: 4s - loss: 6.4563 - acc: 0.599 - ETA: 4s - loss: 6.4482 - acc: 0.599 - ETA: 4s - loss: 6.4466 - acc: 0.600 - ETA: 4s - loss: 6.4455 - acc: 0.600 - ETA: 4s - loss: 6.4413 - acc: 0.600 - ETA: 4s - loss: 6.4468 - acc: 0.600 - ETA: 4s - loss: 6.4518 - acc: 0.599 - ETA: 4s - loss: 6.4572 - acc: 0.599 - ETA: 4s - loss: 6.4558 - acc: 0.599 - ETA: 4s - loss: 6.4542 - acc: 0.599 - ETA: 4s - loss: 6.4574 - acc: 0.599 - ETA: 4s - loss: 6.4638 - acc: 0.599 - ETA: 4s - loss: 6.4723 - acc: 0.598 - ETA: 4s - loss: 6.4734 - acc: 0.598 - ETA: 4s - loss: 6.4644 - acc: 0.598 - ETA: 4s - loss: 6.4617 - acc: 0.599 - ETA: 4s - loss: 6.4608 - acc: 0.599 - ETA: 4s - loss: 6.4678 - acc: 0.598 - ETA: 4s - loss: 6.4716 - acc: 0.598 - ETA: 4s - loss: 6.4695 - acc: 0.598 - ETA: 4s - loss: 6.4573 - acc: 0.599 - ETA: 3s - loss: 6.4622 - acc: 0.599 - ETA: 3s - loss: 6.4725 - acc: 0.598 - ETA: 3s - loss: 6.4791 - acc: 0.598 - ETA: 3s - loss: 6.4795 - acc: 0.598 - ETA: 3s - loss: 6.4858 - acc: 0.597 - ETA: 3s - loss: 6.4804 - acc: 0.597 - ETA: 3s - loss: 6.4765 - acc: 0.598 - ETA: 3s - loss: 6.4764 - acc: 0.598 - ETA: 3s - loss: 6.4800 - acc: 0.598 - ETA: 3s - loss: 6.4796 - acc: 0.598 - ETA: 3s - loss: 6.4781 - acc: 0.598 - ETA: 3s - loss: 6.4879 - acc: 0.597 - ETA: 3s - loss: 6.4840 - acc: 0.597 - ETA: 3s - loss: 6.4845 - acc: 0.597 - ETA: 3s - loss: 6.4838 - acc: 0.597 - ETA: 3s - loss: 6.4817 - acc: 0.597 - ETA: 3s - loss: 6.4778 - acc: 0.598 - ETA: 3s - loss: 6.4704 - acc: 0.598 - ETA: 2s - loss: 6.4701 - acc: 0.598 - ETA: 2s - loss: 6.4723 - acc: 0.598 - ETA: 2s - loss: 6.4700 - acc: 0.598 - ETA: 2s - loss: 6.4649 - acc: 0.598 - ETA: 2s - loss: 6.4626 - acc: 0.599 - ETA: 2s - loss: 6.4509 - acc: 0.599 - ETA: 2s - loss: 6.4524 - acc: 0.599 - ETA: 2s - loss: 6.4583 - acc: 0.599 - ETA: 2s - loss: 6.4508 - acc: 0.599 - ETA: 2s - loss: 6.4563 - acc: 0.599 - ETA: 2s - loss: 6.4606 - acc: 0.599 - ETA: 2s - loss: 6.4694 - acc: 0.598 - ETA: 2s - loss: 6.4699 - acc: 0.598 - ETA: 1s - loss: 6.4719 - acc: 0.598 - ETA: 1s - loss: 6.4773 - acc: 0.598 - ETA: 1s - loss: 6.4727 - acc: 0.598 - ETA: 1s - loss: 6.4700 - acc: 0.598 - ETA: 1s - loss: 6.4665 - acc: 0.598 - ETA: 1s - loss: 6.4659 - acc: 0.598 - ETA: 1s - loss: 6.4690 - acc: 0.598 - ETA: 1s - loss: 6.4662 - acc: 0.598 - ETA: 1s - loss: 6.4639 - acc: 0.599 - ETA: 0s - loss: 6.4669 - acc: 0.598 - ETA: 0s - loss: 6.4667 - acc: 0.598 - ETA: 0s - loss: 6.4706 - acc: 0.598 - ETA: 0s - loss: 6.4713 - acc: 0.598 - ETA: 0s - loss: 6.4622 - acc: 0.599 - ETA: 0s - loss: 6.4630 - acc: 0.599 - ETA: 0s - loss: 6.4628 - acc: 0.599 - ETA: 0s - loss: 6.4591 - acc: 0.599 - ETA: 0s - loss: 6.4554 - acc: 0.599 - ETA: 0s - loss: 6.4568 - acc: 0.599 - 9s 182us/step - loss: 6.4561 - acc: 0.5994 - val_loss: 6.4564 - val_acc: 0.5994\n",
      "Epoch 24/35\n",
      "51549/51549 [==============================] - ETA: 10s - loss: 6.1702 - acc: 0.61 - ETA: 6s - loss: 6.7495 - acc: 0.5813 - ETA: 7s - loss: 7.0044 - acc: 0.565 - ETA: 5s - loss: 6.8095 - acc: 0.577 - ETA: 5s - loss: 6.6949 - acc: 0.584 - ETA: 5s - loss: 6.5589 - acc: 0.593 - ETA: 4s - loss: 6.5125 - acc: 0.595 - ETA: 4s - loss: 6.5140 - acc: 0.595 - ETA: 4s - loss: 6.4522 - acc: 0.599 - ETA: 4s - loss: 6.4692 - acc: 0.598 - ETA: 4s - loss: 6.4438 - acc: 0.600 - ETA: 4s - loss: 6.4659 - acc: 0.598 - ETA: 4s - loss: 6.4766 - acc: 0.598 - ETA: 3s - loss: 6.5242 - acc: 0.595 - ETA: 4s - loss: 6.5157 - acc: 0.595 - ETA: 4s - loss: 6.5275 - acc: 0.594 - ETA: 4s - loss: 6.5393 - acc: 0.594 - ETA: 3s - loss: 6.5284 - acc: 0.594 - ETA: 3s - loss: 6.5158 - acc: 0.595 - ETA: 3s - loss: 6.5220 - acc: 0.595 - ETA: 3s - loss: 6.5231 - acc: 0.595 - ETA: 3s - loss: 6.5152 - acc: 0.595 - ETA: 3s - loss: 6.5119 - acc: 0.595 - ETA: 3s - loss: 6.4874 - acc: 0.597 - ETA: 3s - loss: 6.4947 - acc: 0.596 - ETA: 3s - loss: 6.4884 - acc: 0.597 - ETA: 3s - loss: 6.4893 - acc: 0.597 - ETA: 3s - loss: 6.4892 - acc: 0.597 - ETA: 3s - loss: 6.4850 - acc: 0.597 - ETA: 3s - loss: 6.4644 - acc: 0.598 - ETA: 3s - loss: 6.4743 - acc: 0.598 - ETA: 3s - loss: 6.4792 - acc: 0.597 - ETA: 3s - loss: 6.4737 - acc: 0.598 - ETA: 3s - loss: 6.4762 - acc: 0.598 - ETA: 3s - loss: 6.4731 - acc: 0.598 - ETA: 3s - loss: 6.4619 - acc: 0.599 - ETA: 3s - loss: 6.4630 - acc: 0.598 - ETA: 2s - loss: 6.4562 - acc: 0.599 - ETA: 2s - loss: 6.4670 - acc: 0.598 - ETA: 2s - loss: 6.4807 - acc: 0.597 - ETA: 2s - loss: 6.4955 - acc: 0.596 - ETA: 2s - loss: 6.4971 - acc: 0.596 - ETA: 2s - loss: 6.4975 - acc: 0.596 - ETA: 2s - loss: 6.4955 - acc: 0.596 - ETA: 2s - loss: 6.4943 - acc: 0.597 - ETA: 2s - loss: 6.4797 - acc: 0.597 - ETA: 2s - loss: 6.4673 - acc: 0.598 - ETA: 2s - loss: 6.4650 - acc: 0.598 - ETA: 2s - loss: 6.4670 - acc: 0.598 - ETA: 2s - loss: 6.4625 - acc: 0.599 - ETA: 2s - loss: 6.4571 - acc: 0.599 - ETA: 2s - loss: 6.4548 - acc: 0.599 - ETA: 2s - loss: 6.4526 - acc: 0.599 - ETA: 2s - loss: 6.4624 - acc: 0.599 - ETA: 2s - loss: 6.4662 - acc: 0.598 - ETA: 2s - loss: 6.4707 - acc: 0.598 - ETA: 2s - loss: 6.4640 - acc: 0.598 - ETA: 1s - loss: 6.4683 - acc: 0.598 - ETA: 1s - loss: 6.4632 - acc: 0.598 - ETA: 1s - loss: 6.4605 - acc: 0.599 - ETA: 1s - loss: 6.4570 - acc: 0.599 - ETA: 1s - loss: 6.4517 - acc: 0.599 - ETA: 1s - loss: 6.4504 - acc: 0.599 - ETA: 1s - loss: 6.4547 - acc: 0.599 - ETA: 1s - loss: 6.4566 - acc: 0.599 - ETA: 1s - loss: 6.4607 - acc: 0.599 - ETA: 1s - loss: 6.4636 - acc: 0.598 - ETA: 1s - loss: 6.4652 - acc: 0.598 - ETA: 1s - loss: 6.4568 - acc: 0.599 - ETA: 1s - loss: 6.4556 - acc: 0.599 - ETA: 1s - loss: 6.4550 - acc: 0.599 - ETA: 1s - loss: 6.4509 - acc: 0.599 - ETA: 1s - loss: 6.4492 - acc: 0.599 - ETA: 1s - loss: 6.4497 - acc: 0.599 - ETA: 1s - loss: 6.4422 - acc: 0.600 - ETA: 1s - loss: 6.4466 - acc: 0.600 - ETA: 0s - loss: 6.4359 - acc: 0.600 - ETA: 0s - loss: 6.4366 - acc: 0.600 - ETA: 0s - loss: 6.4345 - acc: 0.600 - ETA: 0s - loss: 6.4347 - acc: 0.600 - ETA: 0s - loss: 6.4432 - acc: 0.600 - ETA: 0s - loss: 6.4369 - acc: 0.600 - ETA: 0s - loss: 6.4379 - acc: 0.600 - ETA: 0s - loss: 6.4394 - acc: 0.600 - ETA: 0s - loss: 6.4386 - acc: 0.600 - ETA: 0s - loss: 6.4426 - acc: 0.600 - ETA: 0s - loss: 6.4493 - acc: 0.599 - ETA: 0s - loss: 6.4460 - acc: 0.600 - ETA: 0s - loss: 6.4483 - acc: 0.599 - ETA: 0s - loss: 6.4468 - acc: 0.600 - ETA: 0s - loss: 6.4542 - acc: 0.599 - ETA: 0s - loss: 6.4572 - acc: 0.599 - ETA: 0s - loss: 6.4565 - acc: 0.599 - ETA: 0s - loss: 6.4580 - acc: 0.599 - ETA: 0s - loss: 6.4561 - acc: 0.599 - ETA: 0s - loss: 6.4563 - acc: 0.599 - ETA: 0s - loss: 6.4590 - acc: 0.599 - 8s 160us/step - loss: 6.4593 - acc: 0.5992 - val_loss: 6.4564 - val_acc: 0.5994\n",
      "Epoch 25/35\n"
     ]
    },
    {
     "name": "stdout",
     "output_type": "stream",
     "text": [
      "51549/51549 [==============================] - ETA: 8s - loss: 5.2888 - acc: 0.671 - ETA: 9s - loss: 6.0023 - acc: 0.627 - ETA: 12s - loss: 6.0443 - acc: 0.62 - ETA: 8s - loss: 6.0821 - acc: 0.6227 - ETA: 6s - loss: 6.0443 - acc: 0.625 - ETA: 6s - loss: 6.2564 - acc: 0.611 - ETA: 6s - loss: 6.3021 - acc: 0.609 - ETA: 7s - loss: 6.3014 - acc: 0.609 - ETA: 7s - loss: 6.3195 - acc: 0.607 - ETA: 6s - loss: 6.3855 - acc: 0.603 - ETA: 6s - loss: 6.3846 - acc: 0.603 - ETA: 6s - loss: 6.3760 - acc: 0.604 - ETA: 6s - loss: 6.3419 - acc: 0.606 - ETA: 6s - loss: 6.3427 - acc: 0.606 - ETA: 6s - loss: 6.3655 - acc: 0.605 - ETA: 6s - loss: 6.3603 - acc: 0.605 - ETA: 6s - loss: 6.3708 - acc: 0.604 - ETA: 6s - loss: 6.3861 - acc: 0.603 - ETA: 6s - loss: 6.4135 - acc: 0.602 - ETA: 6s - loss: 6.4035 - acc: 0.602 - ETA: 6s - loss: 6.3981 - acc: 0.603 - ETA: 6s - loss: 6.4024 - acc: 0.602 - ETA: 6s - loss: 6.3744 - acc: 0.604 - ETA: 7s - loss: 6.3920 - acc: 0.603 - ETA: 6s - loss: 6.4185 - acc: 0.601 - ETA: 7s - loss: 6.4167 - acc: 0.601 - ETA: 7s - loss: 6.4084 - acc: 0.602 - ETA: 7s - loss: 6.4204 - acc: 0.601 - ETA: 7s - loss: 6.4382 - acc: 0.600 - ETA: 6s - loss: 6.4067 - acc: 0.602 - ETA: 6s - loss: 6.4059 - acc: 0.602 - ETA: 6s - loss: 6.3920 - acc: 0.603 - ETA: 6s - loss: 6.4039 - acc: 0.602 - ETA: 6s - loss: 6.4408 - acc: 0.600 - ETA: 6s - loss: 6.4615 - acc: 0.599 - ETA: 6s - loss: 6.4393 - acc: 0.600 - ETA: 6s - loss: 6.4379 - acc: 0.600 - ETA: 6s - loss: 6.4149 - acc: 0.602 - ETA: 6s - loss: 6.4185 - acc: 0.601 - ETA: 6s - loss: 6.4063 - acc: 0.602 - ETA: 6s - loss: 6.3927 - acc: 0.603 - ETA: 6s - loss: 6.3943 - acc: 0.603 - ETA: 6s - loss: 6.3914 - acc: 0.603 - ETA: 6s - loss: 6.3979 - acc: 0.603 - ETA: 6s - loss: 6.4148 - acc: 0.602 - ETA: 6s - loss: 6.4109 - acc: 0.602 - ETA: 6s - loss: 6.4131 - acc: 0.602 - ETA: 6s - loss: 6.3965 - acc: 0.603 - ETA: 6s - loss: 6.4016 - acc: 0.602 - ETA: 6s - loss: 6.4069 - acc: 0.602 - ETA: 6s - loss: 6.4230 - acc: 0.601 - ETA: 6s - loss: 6.4203 - acc: 0.601 - ETA: 5s - loss: 6.4151 - acc: 0.602 - ETA: 5s - loss: 6.4067 - acc: 0.602 - ETA: 5s - loss: 6.4095 - acc: 0.602 - ETA: 5s - loss: 6.3969 - acc: 0.603 - ETA: 5s - loss: 6.3978 - acc: 0.603 - ETA: 5s - loss: 6.3854 - acc: 0.603 - ETA: 5s - loss: 6.3973 - acc: 0.603 - ETA: 5s - loss: 6.3839 - acc: 0.603 - ETA: 5s - loss: 6.3913 - acc: 0.603 - ETA: 5s - loss: 6.3961 - acc: 0.603 - ETA: 5s - loss: 6.4040 - acc: 0.602 - ETA: 5s - loss: 6.3931 - acc: 0.603 - ETA: 4s - loss: 6.3991 - acc: 0.603 - ETA: 4s - loss: 6.4097 - acc: 0.602 - ETA: 4s - loss: 6.4121 - acc: 0.602 - ETA: 4s - loss: 6.4048 - acc: 0.602 - ETA: 4s - loss: 6.3970 - acc: 0.603 - ETA: 4s - loss: 6.3992 - acc: 0.603 - ETA: 4s - loss: 6.4041 - acc: 0.602 - ETA: 4s - loss: 6.4000 - acc: 0.602 - ETA: 4s - loss: 6.3923 - acc: 0.603 - ETA: 4s - loss: 6.3933 - acc: 0.603 - ETA: 4s - loss: 6.3946 - acc: 0.603 - ETA: 4s - loss: 6.4122 - acc: 0.602 - ETA: 4s - loss: 6.4129 - acc: 0.602 - ETA: 4s - loss: 6.4084 - acc: 0.602 - ETA: 3s - loss: 6.4097 - acc: 0.602 - ETA: 3s - loss: 6.4010 - acc: 0.602 - ETA: 3s - loss: 6.3980 - acc: 0.603 - ETA: 3s - loss: 6.3987 - acc: 0.603 - ETA: 3s - loss: 6.4028 - acc: 0.602 - ETA: 3s - loss: 6.4109 - acc: 0.602 - ETA: 3s - loss: 6.4049 - acc: 0.602 - ETA: 3s - loss: 6.4015 - acc: 0.602 - ETA: 3s - loss: 6.4069 - acc: 0.602 - ETA: 3s - loss: 6.4072 - acc: 0.602 - ETA: 3s - loss: 6.4109 - acc: 0.602 - ETA: 2s - loss: 6.4168 - acc: 0.601 - ETA: 2s - loss: 6.4197 - acc: 0.601 - ETA: 2s - loss: 6.4211 - acc: 0.601 - ETA: 2s - loss: 6.4280 - acc: 0.601 - ETA: 2s - loss: 6.4279 - acc: 0.601 - ETA: 2s - loss: 6.4243 - acc: 0.601 - ETA: 2s - loss: 6.4269 - acc: 0.601 - ETA: 2s - loss: 6.4203 - acc: 0.601 - ETA: 2s - loss: 6.4195 - acc: 0.601 - ETA: 2s - loss: 6.4191 - acc: 0.601 - ETA: 2s - loss: 6.4229 - acc: 0.601 - ETA: 1s - loss: 6.4349 - acc: 0.600 - ETA: 1s - loss: 6.4399 - acc: 0.600 - ETA: 1s - loss: 6.4408 - acc: 0.600 - ETA: 1s - loss: 6.4468 - acc: 0.600 - ETA: 1s - loss: 6.4472 - acc: 0.600 - ETA: 1s - loss: 6.4458 - acc: 0.600 - ETA: 1s - loss: 6.4466 - acc: 0.600 - ETA: 1s - loss: 6.4520 - acc: 0.599 - ETA: 1s - loss: 6.4491 - acc: 0.599 - ETA: 1s - loss: 6.4531 - acc: 0.599 - ETA: 0s - loss: 6.4525 - acc: 0.599 - ETA: 0s - loss: 6.4611 - acc: 0.599 - ETA: 0s - loss: 6.4637 - acc: 0.599 - ETA: 0s - loss: 6.4655 - acc: 0.598 - ETA: 0s - loss: 6.4690 - acc: 0.598 - ETA: 0s - loss: 6.4738 - acc: 0.598 - ETA: 0s - loss: 6.4723 - acc: 0.598 - ETA: 0s - loss: 6.4744 - acc: 0.598 - ETA: 0s - loss: 6.4795 - acc: 0.598 - ETA: 0s - loss: 6.4725 - acc: 0.598 - ETA: 0s - loss: 6.4690 - acc: 0.598 - ETA: 0s - loss: 6.4615 - acc: 0.599 - 9s 167us/step - loss: 6.4602 - acc: 0.5992 - val_loss: 6.4564 - val_acc: 0.5994\n",
      "Epoch 26/35\n",
      "51549/51549 [==============================] - ETA: 7s - loss: 7.1776 - acc: 0.554 - ETA: 5s - loss: 6.7746 - acc: 0.579 - ETA: 5s - loss: 6.6179 - acc: 0.589 - ETA: 4s - loss: 6.5570 - acc: 0.593 - ETA: 4s - loss: 6.5612 - acc: 0.592 - ETA: 4s - loss: 6.3748 - acc: 0.604 - ETA: 4s - loss: 6.4640 - acc: 0.599 - ETA: 4s - loss: 6.5120 - acc: 0.596 - ETA: 4s - loss: 6.4882 - acc: 0.597 - ETA: 3s - loss: 6.5340 - acc: 0.594 - ETA: 3s - loss: 6.5404 - acc: 0.594 - ETA: 3s - loss: 6.5142 - acc: 0.595 - ETA: 3s - loss: 6.5149 - acc: 0.595 - ETA: 3s - loss: 6.4850 - acc: 0.597 - ETA: 3s - loss: 6.4877 - acc: 0.597 - ETA: 3s - loss: 6.4867 - acc: 0.597 - ETA: 3s - loss: 6.4909 - acc: 0.597 - ETA: 3s - loss: 6.4646 - acc: 0.598 - ETA: 4s - loss: 6.4539 - acc: 0.599 - ETA: 4s - loss: 6.4494 - acc: 0.599 - ETA: 4s - loss: 6.4487 - acc: 0.599 - ETA: 4s - loss: 6.4521 - acc: 0.599 - ETA: 4s - loss: 6.4532 - acc: 0.599 - ETA: 3s - loss: 6.4298 - acc: 0.601 - ETA: 3s - loss: 6.4319 - acc: 0.600 - ETA: 3s - loss: 6.4532 - acc: 0.599 - ETA: 3s - loss: 6.4371 - acc: 0.600 - ETA: 3s - loss: 6.4445 - acc: 0.600 - ETA: 3s - loss: 6.4166 - acc: 0.601 - ETA: 3s - loss: 6.4439 - acc: 0.600 - ETA: 3s - loss: 6.4452 - acc: 0.600 - ETA: 3s - loss: 6.4416 - acc: 0.600 - ETA: 3s - loss: 6.4286 - acc: 0.601 - ETA: 3s - loss: 6.4238 - acc: 0.601 - ETA: 3s - loss: 6.4246 - acc: 0.601 - ETA: 3s - loss: 6.4154 - acc: 0.602 - ETA: 3s - loss: 6.4140 - acc: 0.602 - ETA: 3s - loss: 6.4087 - acc: 0.602 - ETA: 3s - loss: 6.4251 - acc: 0.601 - ETA: 3s - loss: 6.4236 - acc: 0.601 - ETA: 3s - loss: 6.4243 - acc: 0.601 - ETA: 3s - loss: 6.4301 - acc: 0.601 - ETA: 2s - loss: 6.4362 - acc: 0.600 - ETA: 2s - loss: 6.4262 - acc: 0.601 - ETA: 2s - loss: 6.4274 - acc: 0.601 - ETA: 2s - loss: 6.4208 - acc: 0.601 - ETA: 2s - loss: 6.4328 - acc: 0.600 - ETA: 2s - loss: 6.4283 - acc: 0.601 - ETA: 2s - loss: 6.4323 - acc: 0.600 - ETA: 2s - loss: 6.4304 - acc: 0.601 - ETA: 2s - loss: 6.4274 - acc: 0.601 - ETA: 2s - loss: 6.4366 - acc: 0.600 - ETA: 2s - loss: 6.4346 - acc: 0.600 - ETA: 2s - loss: 6.4332 - acc: 0.600 - ETA: 2s - loss: 6.4379 - acc: 0.600 - ETA: 2s - loss: 6.4433 - acc: 0.600 - ETA: 2s - loss: 6.4429 - acc: 0.600 - ETA: 1s - loss: 6.4496 - acc: 0.599 - ETA: 1s - loss: 6.4529 - acc: 0.599 - ETA: 1s - loss: 6.4571 - acc: 0.599 - ETA: 1s - loss: 6.4544 - acc: 0.599 - ETA: 1s - loss: 6.4527 - acc: 0.599 - ETA: 1s - loss: 6.4501 - acc: 0.599 - ETA: 1s - loss: 6.4438 - acc: 0.600 - ETA: 1s - loss: 6.4445 - acc: 0.600 - ETA: 1s - loss: 6.4499 - acc: 0.599 - ETA: 1s - loss: 6.4494 - acc: 0.599 - ETA: 1s - loss: 6.4543 - acc: 0.599 - ETA: 1s - loss: 6.4670 - acc: 0.598 - ETA: 1s - loss: 6.4615 - acc: 0.599 - ETA: 1s - loss: 6.4456 - acc: 0.600 - ETA: 1s - loss: 6.4468 - acc: 0.600 - ETA: 1s - loss: 6.4428 - acc: 0.600 - ETA: 1s - loss: 6.4455 - acc: 0.600 - ETA: 0s - loss: 6.4417 - acc: 0.600 - ETA: 0s - loss: 6.4460 - acc: 0.600 - ETA: 0s - loss: 6.4531 - acc: 0.599 - ETA: 0s - loss: 6.4613 - acc: 0.599 - ETA: 0s - loss: 6.4506 - acc: 0.599 - ETA: 0s - loss: 6.4558 - acc: 0.599 - ETA: 0s - loss: 6.4500 - acc: 0.599 - ETA: 0s - loss: 6.4554 - acc: 0.599 - ETA: 0s - loss: 6.4552 - acc: 0.599 - ETA: 0s - loss: 6.4527 - acc: 0.599 - ETA: 0s - loss: 6.4570 - acc: 0.599 - ETA: 0s - loss: 6.4614 - acc: 0.599 - ETA: 0s - loss: 6.4603 - acc: 0.599 - ETA: 0s - loss: 6.4588 - acc: 0.599 - ETA: 0s - loss: 6.4568 - acc: 0.599 - 6s 114us/step - loss: 6.4539 - acc: 0.5996 - val_loss: 6.4564 - val_acc: 0.5994\n",
      "Epoch 27/35\n",
      "51549/51549 [==============================] - ETA: 6s - loss: 6.6739 - acc: 0.585 - ETA: 4s - loss: 6.2542 - acc: 0.612 - ETA: 3s - loss: 6.3171 - acc: 0.608 - ETA: 3s - loss: 6.5620 - acc: 0.592 - ETA: 3s - loss: 6.5217 - acc: 0.595 - ETA: 3s - loss: 6.4598 - acc: 0.599 - ETA: 3s - loss: 6.4046 - acc: 0.602 - ETA: 3s - loss: 6.4101 - acc: 0.602 - ETA: 3s - loss: 6.4221 - acc: 0.601 - ETA: 3s - loss: 6.4034 - acc: 0.602 - ETA: 3s - loss: 6.3906 - acc: 0.603 - ETA: 3s - loss: 6.4434 - acc: 0.600 - ETA: 3s - loss: 6.3937 - acc: 0.603 - ETA: 3s - loss: 6.4057 - acc: 0.602 - ETA: 2s - loss: 6.3867 - acc: 0.603 - ETA: 2s - loss: 6.4235 - acc: 0.601 - ETA: 2s - loss: 6.4261 - acc: 0.601 - ETA: 2s - loss: 6.4488 - acc: 0.599 - ETA: 2s - loss: 6.4664 - acc: 0.598 - ETA: 2s - loss: 6.4595 - acc: 0.599 - ETA: 2s - loss: 6.4866 - acc: 0.597 - ETA: 2s - loss: 6.4927 - acc: 0.597 - ETA: 2s - loss: 6.4752 - acc: 0.598 - ETA: 2s - loss: 6.4850 - acc: 0.597 - ETA: 2s - loss: 6.4873 - acc: 0.597 - ETA: 2s - loss: 6.4724 - acc: 0.598 - ETA: 2s - loss: 6.4506 - acc: 0.599 - ETA: 2s - loss: 6.4643 - acc: 0.598 - ETA: 2s - loss: 6.4799 - acc: 0.598 - ETA: 2s - loss: 6.4786 - acc: 0.598 - ETA: 2s - loss: 6.4854 - acc: 0.597 - ETA: 2s - loss: 6.5001 - acc: 0.596 - ETA: 2s - loss: 6.4881 - acc: 0.597 - ETA: 2s - loss: 6.4897 - acc: 0.597 - ETA: 1s - loss: 6.4831 - acc: 0.597 - ETA: 1s - loss: 6.4676 - acc: 0.598 - ETA: 1s - loss: 6.4747 - acc: 0.598 - ETA: 1s - loss: 6.4818 - acc: 0.597 - ETA: 1s - loss: 6.4911 - acc: 0.597 - ETA: 1s - loss: 6.4859 - acc: 0.597 - ETA: 1s - loss: 6.4820 - acc: 0.597 - ETA: 1s - loss: 6.4692 - acc: 0.598 - ETA: 1s - loss: 6.4677 - acc: 0.598 - ETA: 1s - loss: 6.4652 - acc: 0.598 - ETA: 1s - loss: 6.4792 - acc: 0.598 - ETA: 1s - loss: 6.4706 - acc: 0.598 - ETA: 1s - loss: 6.4699 - acc: 0.598 - ETA: 1s - loss: 6.4609 - acc: 0.599 - ETA: 1s - loss: 6.4541 - acc: 0.599 - ETA: 1s - loss: 6.4601 - acc: 0.599 - ETA: 1s - loss: 6.4680 - acc: 0.598 - ETA: 1s - loss: 6.4739 - acc: 0.598 - ETA: 1s - loss: 6.4730 - acc: 0.598 - ETA: 0s - loss: 6.4745 - acc: 0.598 - ETA: 0s - loss: 6.4718 - acc: 0.598 - ETA: 0s - loss: 6.4757 - acc: 0.598 - ETA: 0s - loss: 6.4777 - acc: 0.598 - ETA: 0s - loss: 6.4704 - acc: 0.598 - ETA: 0s - loss: 6.4656 - acc: 0.598 - ETA: 0s - loss: 6.4633 - acc: 0.599 - ETA: 0s - loss: 6.4701 - acc: 0.598 - ETA: 0s - loss: 6.4658 - acc: 0.598 - ETA: 0s - loss: 6.4616 - acc: 0.599 - ETA: 0s - loss: 6.4604 - acc: 0.599 - ETA: 0s - loss: 6.4604 - acc: 0.599 - ETA: 0s - loss: 6.4586 - acc: 0.599 - ETA: 0s - loss: 6.4639 - acc: 0.599 - ETA: 0s - loss: 6.4681 - acc: 0.598 - ETA: 0s - loss: 6.4630 - acc: 0.599 - ETA: 0s - loss: 6.4675 - acc: 0.598 - ETA: 0s - loss: 6.4655 - acc: 0.598 - ETA: 0s - loss: 6.4619 - acc: 0.599 - ETA: 0s - loss: 6.4640 - acc: 0.599 - ETA: 0s - loss: 6.4632 - acc: 0.599 - ETA: 0s - loss: 6.4556 - acc: 0.599 - ETA: 0s - loss: 6.4582 - acc: 0.599 - ETA: 0s - loss: 6.4636 - acc: 0.599 - ETA: 0s - loss: 6.4592 - acc: 0.599 - 6s 109us/step - loss: 6.4580 - acc: 0.5993 - val_loss: 6.4564 - val_acc: 0.5994\n",
      "Epoch 28/35\n"
     ]
    },
    {
     "name": "stdout",
     "output_type": "stream",
     "text": [
      "51549/51549 [==============================] - ETA: 7s - loss: 6.4221 - acc: 0.601 - ETA: 4s - loss: 6.3801 - acc: 0.604 - ETA: 4s - loss: 6.4335 - acc: 0.600 - ETA: 4s - loss: 6.6813 - acc: 0.585 - ETA: 4s - loss: 6.6625 - acc: 0.586 - ETA: 3s - loss: 6.7532 - acc: 0.581 - ETA: 3s - loss: 6.6968 - acc: 0.584 - ETA: 3s - loss: 6.6739 - acc: 0.585 - ETA: 3s - loss: 6.6153 - acc: 0.589 - ETA: 3s - loss: 6.5742 - acc: 0.592 - ETA: 3s - loss: 6.5606 - acc: 0.593 - ETA: 4s - loss: 6.5504 - acc: 0.593 - ETA: 4s - loss: 6.5723 - acc: 0.592 - ETA: 4s - loss: 6.5703 - acc: 0.592 - ETA: 3s - loss: 6.5369 - acc: 0.594 - ETA: 3s - loss: 6.5667 - acc: 0.592 - ETA: 3s - loss: 6.5528 - acc: 0.593 - ETA: 3s - loss: 6.5818 - acc: 0.591 - ETA: 3s - loss: 6.5720 - acc: 0.592 - ETA: 4s - loss: 6.5699 - acc: 0.592 - ETA: 4s - loss: 6.5508 - acc: 0.593 - ETA: 3s - loss: 6.5694 - acc: 0.592 - ETA: 3s - loss: 6.5732 - acc: 0.592 - ETA: 3s - loss: 6.5658 - acc: 0.592 - ETA: 3s - loss: 6.5400 - acc: 0.594 - ETA: 3s - loss: 6.5239 - acc: 0.595 - ETA: 3s - loss: 6.5198 - acc: 0.595 - ETA: 3s - loss: 6.5183 - acc: 0.595 - ETA: 3s - loss: 6.5234 - acc: 0.595 - ETA: 3s - loss: 6.5263 - acc: 0.595 - ETA: 3s - loss: 6.5151 - acc: 0.595 - ETA: 3s - loss: 6.5057 - acc: 0.596 - ETA: 3s - loss: 6.5092 - acc: 0.596 - ETA: 3s - loss: 6.5113 - acc: 0.596 - ETA: 3s - loss: 6.5103 - acc: 0.596 - ETA: 2s - loss: 6.5192 - acc: 0.595 - ETA: 2s - loss: 6.5045 - acc: 0.596 - ETA: 2s - loss: 6.5152 - acc: 0.595 - ETA: 2s - loss: 6.5183 - acc: 0.595 - ETA: 2s - loss: 6.5053 - acc: 0.596 - ETA: 2s - loss: 6.5080 - acc: 0.596 - ETA: 2s - loss: 6.4905 - acc: 0.597 - ETA: 2s - loss: 6.4982 - acc: 0.596 - ETA: 2s - loss: 6.4988 - acc: 0.596 - ETA: 2s - loss: 6.5054 - acc: 0.596 - ETA: 2s - loss: 6.5031 - acc: 0.596 - ETA: 2s - loss: 6.5003 - acc: 0.596 - ETA: 2s - loss: 6.5077 - acc: 0.596 - ETA: 1s - loss: 6.5044 - acc: 0.596 - ETA: 1s - loss: 6.5157 - acc: 0.595 - ETA: 1s - loss: 6.5188 - acc: 0.595 - ETA: 1s - loss: 6.5249 - acc: 0.595 - ETA: 1s - loss: 6.5189 - acc: 0.595 - ETA: 1s - loss: 6.5274 - acc: 0.595 - ETA: 1s - loss: 6.5249 - acc: 0.595 - ETA: 1s - loss: 6.5145 - acc: 0.595 - ETA: 1s - loss: 6.5159 - acc: 0.595 - ETA: 1s - loss: 6.5133 - acc: 0.595 - ETA: 1s - loss: 6.5188 - acc: 0.595 - ETA: 1s - loss: 6.5110 - acc: 0.596 - ETA: 1s - loss: 6.5056 - acc: 0.596 - ETA: 1s - loss: 6.5009 - acc: 0.596 - ETA: 1s - loss: 6.5023 - acc: 0.596 - ETA: 1s - loss: 6.4985 - acc: 0.596 - ETA: 1s - loss: 6.4939 - acc: 0.597 - ETA: 0s - loss: 6.4945 - acc: 0.597 - ETA: 0s - loss: 6.4901 - acc: 0.597 - ETA: 0s - loss: 6.4819 - acc: 0.597 - ETA: 0s - loss: 6.4810 - acc: 0.597 - ETA: 0s - loss: 6.4791 - acc: 0.598 - ETA: 0s - loss: 6.4742 - acc: 0.598 - ETA: 0s - loss: 6.4695 - acc: 0.598 - ETA: 0s - loss: 6.4701 - acc: 0.598 - ETA: 0s - loss: 6.4681 - acc: 0.598 - ETA: 0s - loss: 6.4639 - acc: 0.599 - ETA: 0s - loss: 6.4619 - acc: 0.599 - ETA: 0s - loss: 6.4582 - acc: 0.599 - ETA: 0s - loss: 6.4600 - acc: 0.599 - ETA: 0s - loss: 6.4643 - acc: 0.598 - ETA: 0s - loss: 6.4628 - acc: 0.599 - ETA: 0s - loss: 6.4613 - acc: 0.599 - ETA: 0s - loss: 6.4640 - acc: 0.599 - ETA: 0s - loss: 6.4676 - acc: 0.598 - ETA: 0s - loss: 6.4672 - acc: 0.598 - 7s 135us/step - loss: 6.4589 - acc: 0.5993 - val_loss: 6.4564 - val_acc: 0.5994\n",
      "Epoch 29/35\n",
      "51549/51549 [==============================] - ETA: 28s - loss: 6.1702 - acc: 0.61 - ETA: 13s - loss: 6.3906 - acc: 0.60 - ETA: 16s - loss: 6.5732 - acc: 0.59 - ETA: 12s - loss: 6.3748 - acc: 0.60 - ETA: 10s - loss: 6.3696 - acc: 0.60 - ETA: 9s - loss: 6.2709 - acc: 0.6109 - ETA: 9s - loss: 6.3776 - acc: 0.604 - ETA: 9s - loss: 6.3906 - acc: 0.603 - ETA: 8s - loss: 6.4549 - acc: 0.599 - ETA: 9s - loss: 6.5112 - acc: 0.596 - ETA: 10s - loss: 6.5329 - acc: 0.59 - ETA: 11s - loss: 6.5625 - acc: 0.59 - ETA: 13s - loss: 6.5993 - acc: 0.59 - ETA: 13s - loss: 6.6064 - acc: 0.59 - ETA: 14s - loss: 6.6001 - acc: 0.59 - ETA: 15s - loss: 6.5816 - acc: 0.59 - ETA: 15s - loss: 6.5716 - acc: 0.59 - ETA: 15s - loss: 6.5813 - acc: 0.59 - ETA: 14s - loss: 6.5795 - acc: 0.59 - ETA: 13s - loss: 6.5448 - acc: 0.59 - ETA: 13s - loss: 6.5388 - acc: 0.59 - ETA: 13s - loss: 6.5655 - acc: 0.59 - ETA: 13s - loss: 6.5564 - acc: 0.59 - ETA: 12s - loss: 6.5994 - acc: 0.59 - ETA: 12s - loss: 6.6158 - acc: 0.58 - ETA: 12s - loss: 6.5983 - acc: 0.59 - ETA: 11s - loss: 6.6001 - acc: 0.59 - ETA: 11s - loss: 6.5663 - acc: 0.59 - ETA: 10s - loss: 6.5198 - acc: 0.59 - ETA: 10s - loss: 6.4987 - acc: 0.59 - ETA: 10s - loss: 6.4958 - acc: 0.59 - ETA: 10s - loss: 6.5025 - acc: 0.59 - ETA: 10s - loss: 6.4859 - acc: 0.59 - ETA: 9s - loss: 6.4970 - acc: 0.5969 - ETA: 9s - loss: 6.5004 - acc: 0.596 - ETA: 9s - loss: 6.5176 - acc: 0.595 - ETA: 9s - loss: 6.5410 - acc: 0.594 - ETA: 8s - loss: 6.5493 - acc: 0.593 - ETA: 8s - loss: 6.5506 - acc: 0.593 - ETA: 8s - loss: 6.5390 - acc: 0.594 - ETA: 8s - loss: 6.5517 - acc: 0.593 - ETA: 7s - loss: 6.5397 - acc: 0.594 - ETA: 7s - loss: 6.5287 - acc: 0.594 - ETA: 7s - loss: 6.5254 - acc: 0.595 - ETA: 6s - loss: 6.5224 - acc: 0.595 - ETA: 6s - loss: 6.5017 - acc: 0.596 - ETA: 6s - loss: 6.5038 - acc: 0.596 - ETA: 6s - loss: 6.4991 - acc: 0.596 - ETA: 6s - loss: 6.5012 - acc: 0.596 - ETA: 5s - loss: 6.4859 - acc: 0.597 - ETA: 5s - loss: 6.4701 - acc: 0.598 - ETA: 5s - loss: 6.4790 - acc: 0.598 - ETA: 5s - loss: 6.4666 - acc: 0.598 - ETA: 5s - loss: 6.4736 - acc: 0.598 - ETA: 4s - loss: 6.4729 - acc: 0.598 - ETA: 4s - loss: 6.4822 - acc: 0.597 - ETA: 4s - loss: 6.4822 - acc: 0.597 - ETA: 4s - loss: 6.4801 - acc: 0.598 - ETA: 4s - loss: 6.4629 - acc: 0.599 - ETA: 4s - loss: 6.4700 - acc: 0.598 - ETA: 4s - loss: 6.4684 - acc: 0.598 - ETA: 4s - loss: 6.4623 - acc: 0.599 - ETA: 4s - loss: 6.4621 - acc: 0.599 - ETA: 4s - loss: 6.4634 - acc: 0.599 - ETA: 3s - loss: 6.4636 - acc: 0.599 - ETA: 3s - loss: 6.4754 - acc: 0.598 - ETA: 3s - loss: 6.4859 - acc: 0.597 - ETA: 3s - loss: 6.4785 - acc: 0.598 - ETA: 3s - loss: 6.4763 - acc: 0.598 - ETA: 3s - loss: 6.4755 - acc: 0.598 - ETA: 3s - loss: 6.4773 - acc: 0.598 - ETA: 3s - loss: 6.4768 - acc: 0.598 - ETA: 3s - loss: 6.4731 - acc: 0.598 - ETA: 3s - loss: 6.4793 - acc: 0.598 - ETA: 3s - loss: 6.4765 - acc: 0.598 - ETA: 3s - loss: 6.4708 - acc: 0.598 - ETA: 3s - loss: 6.4721 - acc: 0.598 - ETA: 3s - loss: 6.4759 - acc: 0.598 - ETA: 3s - loss: 6.4737 - acc: 0.598 - ETA: 2s - loss: 6.4714 - acc: 0.598 - ETA: 2s - loss: 6.4776 - acc: 0.598 - ETA: 2s - loss: 6.4821 - acc: 0.597 - ETA: 2s - loss: 6.4833 - acc: 0.597 - ETA: 2s - loss: 6.4914 - acc: 0.597 - ETA: 2s - loss: 6.4901 - acc: 0.597 - ETA: 2s - loss: 6.4903 - acc: 0.597 - ETA: 2s - loss: 6.4929 - acc: 0.597 - ETA: 2s - loss: 6.4915 - acc: 0.597 - ETA: 2s - loss: 6.4868 - acc: 0.597 - ETA: 2s - loss: 6.4905 - acc: 0.597 - ETA: 2s - loss: 6.4898 - acc: 0.597 - ETA: 2s - loss: 6.4827 - acc: 0.597 - ETA: 2s - loss: 6.4793 - acc: 0.598 - ETA: 2s - loss: 6.4763 - acc: 0.598 - ETA: 2s - loss: 6.4810 - acc: 0.597 - ETA: 1s - loss: 6.4834 - acc: 0.597 - ETA: 1s - loss: 6.4791 - acc: 0.598 - ETA: 1s - loss: 6.4802 - acc: 0.598 - ETA: 1s - loss: 6.4790 - acc: 0.598 - ETA: 1s - loss: 6.4781 - acc: 0.598 - ETA: 1s - loss: 6.4783 - acc: 0.598 - ETA: 1s - loss: 6.4766 - acc: 0.598 - ETA: 1s - loss: 6.4778 - acc: 0.598 - ETA: 1s - loss: 6.4846 - acc: 0.597 - ETA: 1s - loss: 6.4860 - acc: 0.597 - ETA: 1s - loss: 6.4903 - acc: 0.597 - ETA: 1s - loss: 6.4863 - acc: 0.597 - ETA: 1s - loss: 6.4870 - acc: 0.597 - ETA: 1s - loss: 6.4850 - acc: 0.597 - ETA: 1s - loss: 6.4841 - acc: 0.597 - ETA: 0s - loss: 6.4832 - acc: 0.597 - ETA: 0s - loss: 6.4882 - acc: 0.597 - ETA: 0s - loss: 6.4821 - acc: 0.597 - ETA: 0s - loss: 6.4816 - acc: 0.597 - ETA: 0s - loss: 6.4754 - acc: 0.598 - ETA: 0s - loss: 6.4736 - acc: 0.598 - ETA: 0s - loss: 6.4714 - acc: 0.598 - ETA: 0s - loss: 6.4684 - acc: 0.598 - ETA: 0s - loss: 6.4692 - acc: 0.598 - ETA: 0s - loss: 6.4724 - acc: 0.598 - ETA: 0s - loss: 6.4647 - acc: 0.598 - ETA: 0s - loss: 6.4569 - acc: 0.599 - 11s 218us/step - loss: 6.4561 - acc: 0.5994 - val_loss: 6.4564 - val_acc: 0.5994\n",
      "Epoch 30/35\n",
      "51549/51549 [==============================] - ETA: 7s - loss: 6.1702 - acc: 0.617 - ETA: 7s - loss: 7.1776 - acc: 0.554 - ETA: 8s - loss: 6.5900 - acc: 0.591 - ETA: 7s - loss: 6.3087 - acc: 0.608 - ETA: 7s - loss: 6.3833 - acc: 0.604 - ETA: 8s - loss: 6.3885 - acc: 0.603 - ETA: 8s - loss: 6.4739 - acc: 0.598 - ETA: 8s - loss: 6.4976 - acc: 0.596 - ETA: 10s - loss: 6.5120 - acc: 0.59 - ETA: 11s - loss: 6.5261 - acc: 0.59 - ETA: 11s - loss: 6.5631 - acc: 0.59 - ETA: 10s - loss: 6.5255 - acc: 0.59 - ETA: 11s - loss: 6.5132 - acc: 0.59 - ETA: 12s - loss: 6.5155 - acc: 0.59 - ETA: 12s - loss: 6.5098 - acc: 0.59 - ETA: 12s - loss: 6.4760 - acc: 0.59 - ETA: 12s - loss: 6.4595 - acc: 0.59 - ETA: 12s - loss: 6.4673 - acc: 0.59 - ETA: 12s - loss: 6.4400 - acc: 0.60 - ETA: 11s - loss: 6.4467 - acc: 0.60 - ETA: 11s - loss: 6.4221 - acc: 0.60 - ETA: 10s - loss: 6.4319 - acc: 0.60 - ETA: 11s - loss: 6.4196 - acc: 0.60 - ETA: 10s - loss: 6.4472 - acc: 0.60 - ETA: 10s - loss: 6.4309 - acc: 0.60 - ETA: 10s - loss: 6.4675 - acc: 0.59 - ETA: 9s - loss: 6.4555 - acc: 0.5995 - ETA: 9s - loss: 6.4690 - acc: 0.598 - ETA: 9s - loss: 6.4841 - acc: 0.597 - ETA: 9s - loss: 6.4876 - acc: 0.597 - ETA: 8s - loss: 6.4867 - acc: 0.597 - ETA: 8s - loss: 6.4778 - acc: 0.598 - ETA: 8s - loss: 6.4767 - acc: 0.598 - ETA: 8s - loss: 6.4961 - acc: 0.597 - ETA: 8s - loss: 6.4750 - acc: 0.598 - ETA: 7s - loss: 6.4857 - acc: 0.597 - ETA: 7s - loss: 6.4844 - acc: 0.597 - ETA: 7s - loss: 6.4694 - acc: 0.598 - ETA: 7s - loss: 6.4993 - acc: 0.596 - ETA: 6s - loss: 6.4873 - acc: 0.597 - ETA: 6s - loss: 6.4794 - acc: 0.598 - ETA: 6s - loss: 6.4948 - acc: 0.597 - ETA: 6s - loss: 6.5199 - acc: 0.595 - ETA: 6s - loss: 6.5147 - acc: 0.595 - ETA: 6s - loss: 6.5170 - acc: 0.595 - ETA: 5s - loss: 6.5129 - acc: 0.595 - ETA: 5s - loss: 6.5094 - acc: 0.596 - ETA: 5s - loss: 6.4907 - acc: 0.597 - ETA: 5s - loss: 6.4952 - acc: 0.597 - ETA: 5s - loss: 6.4991 - acc: 0.596 - ETA: 5s - loss: 6.4850 - acc: 0.597 - ETA: 4s - loss: 6.4992 - acc: 0.596 - ETA: 4s - loss: 6.4873 - acc: 0.597 - ETA: 4s - loss: 6.4738 - acc: 0.598 - ETA: 4s - loss: 6.4721 - acc: 0.598 - ETA: 4s - loss: 6.4721 - acc: 0.598 - ETA: 4s - loss: 6.4742 - acc: 0.598 - ETA: 4s - loss: 6.4891 - acc: 0.597 - ETA: 4s - loss: 6.4923 - acc: 0.597 - ETA: 3s - loss: 6.4983 - acc: 0.596 - ETA: 3s - loss: 6.4951 - acc: 0.597 - ETA: 3s - loss: 6.4967 - acc: 0.596 - ETA: 3s - loss: 6.4975 - acc: 0.596 - ETA: 3s - loss: 6.4949 - acc: 0.597 - ETA: 3s - loss: 6.4932 - acc: 0.597 - ETA: 3s - loss: 6.4950 - acc: 0.597 - ETA: 3s - loss: 6.4887 - acc: 0.597 - ETA: 3s - loss: 6.4853 - acc: 0.597 - ETA: 3s - loss: 6.4802 - acc: 0.598 - ETA: 2s - loss: 6.4713 - acc: 0.598 - ETA: 2s - loss: 6.4663 - acc: 0.598 - ETA: 2s - loss: 6.4690 - acc: 0.598 - ETA: 2s - loss: 6.4678 - acc: 0.598 - ETA: 2s - loss: 6.4659 - acc: 0.598 - ETA: 2s - loss: 6.4666 - acc: 0.598 - ETA: 2s - loss: 6.4759 - acc: 0.598 - ETA: 2s - loss: 6.4772 - acc: 0.598 - ETA: 2s - loss: 6.4734 - acc: 0.598 - ETA: 2s - loss: 6.4685 - acc: 0.598 - ETA: 2s - loss: 6.4723 - acc: 0.598 - ETA: 2s - loss: 6.4702 - acc: 0.598 - ETA: 2s - loss: 6.4695 - acc: 0.598 - ETA: 1s - loss: 6.4665 - acc: 0.598 - ETA: 1s - loss: 6.4640 - acc: 0.599 - ETA: 1s - loss: 6.4600 - acc: 0.599 - ETA: 1s - loss: 6.4592 - acc: 0.599 - ETA: 1s - loss: 6.4626 - acc: 0.599 - ETA: 1s - loss: 6.4602 - acc: 0.599 - ETA: 1s - loss: 6.4601 - acc: 0.599 - ETA: 1s - loss: 6.4611 - acc: 0.599 - ETA: 1s - loss: 6.4600 - acc: 0.599 - ETA: 1s - loss: 6.4630 - acc: 0.599 - ETA: 1s - loss: 6.4655 - acc: 0.598 - ETA: 1s - loss: 6.4659 - acc: 0.598 - ETA: 1s - loss: 6.4696 - acc: 0.598 - ETA: 1s - loss: 6.4620 - acc: 0.599 - ETA: 1s - loss: 6.4655 - acc: 0.598 - ETA: 1s - loss: 6.4582 - acc: 0.599 - ETA: 1s - loss: 6.4624 - acc: 0.599 - ETA: 0s - loss: 6.4633 - acc: 0.599 - ETA: 0s - loss: 6.4656 - acc: 0.598 - ETA: 0s - loss: 6.4590 - acc: 0.599 - ETA: 0s - loss: 6.4622 - acc: 0.599 - ETA: 0s - loss: 6.4682 - acc: 0.598 - ETA: 0s - loss: 6.4659 - acc: 0.598 - ETA: 0s - loss: 6.4630 - acc: 0.599 - ETA: 0s - loss: 6.4622 - acc: 0.599 - ETA: 0s - loss: 6.4589 - acc: 0.599 - ETA: 0s - loss: 6.4617 - acc: 0.599 - ETA: 0s - loss: 6.4638 - acc: 0.599 - ETA: 0s - loss: 6.4638 - acc: 0.599 - ETA: 0s - loss: 6.4606 - acc: 0.599 - 8s 157us/step - loss: 6.4580 - acc: 0.5993 - val_loss: 6.4564 - val_acc: 0.5994\n",
      "Epoch 31/35\n",
      "51549/51549 [==============================] - ETA: 16s - loss: 6.4221 - acc: 0.60 - ETA: 9s - loss: 6.3276 - acc: 0.6074 - ETA: 6s - loss: 6.6879 - acc: 0.585 - ETA: 5s - loss: 6.3771 - acc: 0.604 - ETA: 5s - loss: 6.5270 - acc: 0.595 - ETA: 6s - loss: 6.5420 - acc: 0.594 - ETA: 5s - loss: 6.5581 - acc: 0.593 - ETA: 5s - loss: 6.4808 - acc: 0.597 - ETA: 5s - loss: 6.5156 - acc: 0.595 - ETA: 5s - loss: 6.5254 - acc: 0.595 - ETA: 4s - loss: 6.5880 - acc: 0.591 - ETA: 4s - loss: 6.5917 - acc: 0.591 - ETA: 4s - loss: 6.5293 - acc: 0.594 - ETA: 4s - loss: 6.5067 - acc: 0.596 - ETA: 4s - loss: 6.4829 - acc: 0.597 - ETA: 4s - loss: 6.4744 - acc: 0.598 - ETA: 4s - loss: 6.4778 - acc: 0.598 - ETA: 4s - loss: 6.4456 - acc: 0.600 - ETA: 4s - loss: 6.4380 - acc: 0.600 - ETA: 4s - loss: 6.4174 - acc: 0.601 - ETA: 4s - loss: 6.4148 - acc: 0.602 - ETA: 4s - loss: 6.4124 - acc: 0.602 - ETA: 4s - loss: 6.4180 - acc: 0.601 - ETA: 4s - loss: 6.4363 - acc: 0.600 - ETA: 4s - loss: 6.4295 - acc: 0.601 - ETA: 4s - loss: 6.4327 - acc: 0.600 - ETA: 4s - loss: 6.4026 - acc: 0.602 - ETA: 3s - loss: 6.4298 - acc: 0.601 - ETA: 3s - loss: 6.4337 - acc: 0.600 - ETA: 3s - loss: 6.4261 - acc: 0.601 - ETA: 3s - loss: 6.4162 - acc: 0.601 - ETA: 3s - loss: 6.4060 - acc: 0.602 - ETA: 3s - loss: 6.4038 - acc: 0.602 - ETA: 3s - loss: 6.3972 - acc: 0.603 - ETA: 3s - loss: 6.4092 - acc: 0.602 - ETA: 3s - loss: 6.4146 - acc: 0.602 - ETA: 3s - loss: 6.4156 - acc: 0.602 - ETA: 3s - loss: 6.4228 - acc: 0.601 - ETA: 3s - loss: 6.4213 - acc: 0.601 - ETA: 3s - loss: 6.4281 - acc: 0.601 - ETA: 3s - loss: 6.4316 - acc: 0.601 - ETA: 3s - loss: 6.4271 - acc: 0.601 - ETA: 2s - loss: 6.4122 - acc: 0.602 - ETA: 2s - loss: 6.4029 - acc: 0.602 - ETA: 2s - loss: 6.4147 - acc: 0.602 - ETA: 2s - loss: 6.4240 - acc: 0.601 - ETA: 2s - loss: 6.4284 - acc: 0.601 - ETA: 2s - loss: 6.4258 - acc: 0.601 - ETA: 2s - loss: 6.4287 - acc: 0.601 - ETA: 2s - loss: 6.4328 - acc: 0.600 - ETA: 2s - loss: 6.4396 - acc: 0.600 - ETA: 2s - loss: 6.4289 - acc: 0.601 - ETA: 2s - loss: 6.4400 - acc: 0.600 - ETA: 2s - loss: 6.4408 - acc: 0.600 - ETA: 2s - loss: 6.4475 - acc: 0.600 - ETA: 2s - loss: 6.4538 - acc: 0.599 - ETA: 2s - loss: 6.4454 - acc: 0.600 - ETA: 2s - loss: 6.4444 - acc: 0.600 - ETA: 1s - loss: 6.4435 - acc: 0.600 - ETA: 1s - loss: 6.4402 - acc: 0.600 - ETA: 1s - loss: 6.4418 - acc: 0.600 - ETA: 1s - loss: 6.4415 - acc: 0.600 - ETA: 1s - loss: 6.4389 - acc: 0.600 - ETA: 1s - loss: 6.4424 - acc: 0.600 - ETA: 1s - loss: 6.4433 - acc: 0.600 - ETA: 1s - loss: 6.4445 - acc: 0.600 - ETA: 1s - loss: 6.4375 - acc: 0.600 - ETA: 1s - loss: 6.4409 - acc: 0.600 - ETA: 1s - loss: 6.4405 - acc: 0.600 - ETA: 1s - loss: 6.4423 - acc: 0.600 - ETA: 1s - loss: 6.4429 - acc: 0.600 - ETA: 1s - loss: 6.4364 - acc: 0.600 - ETA: 1s - loss: 6.4366 - acc: 0.600 - ETA: 1s - loss: 6.4324 - acc: 0.600 - ETA: 1s - loss: 6.4283 - acc: 0.601 - ETA: 1s - loss: 6.4217 - acc: 0.601 - ETA: 0s - loss: 6.4190 - acc: 0.601 - ETA: 0s - loss: 6.4194 - acc: 0.601 - ETA: 0s - loss: 6.4280 - acc: 0.601 - ETA: 0s - loss: 6.4330 - acc: 0.600 - ETA: 0s - loss: 6.4325 - acc: 0.600 - ETA: 0s - loss: 6.4402 - acc: 0.600 - ETA: 0s - loss: 6.4445 - acc: 0.600 - ETA: 0s - loss: 6.4477 - acc: 0.600 - ETA: 0s - loss: 6.4463 - acc: 0.600 - ETA: 0s - loss: 6.4428 - acc: 0.600 - ETA: 0s - loss: 6.4428 - acc: 0.600 - ETA: 0s - loss: 6.4449 - acc: 0.600 - ETA: 0s - loss: 6.4466 - acc: 0.600 - ETA: 0s - loss: 6.4464 - acc: 0.600 - ETA: 0s - loss: 6.4493 - acc: 0.599 - ETA: 0s - loss: 6.4518 - acc: 0.599 - 7s 133us/step - loss: 6.4589 - acc: 0.5993 - val_loss: 6.4564 - val_acc: 0.5994\n",
      "Epoch 32/35\n"
     ]
    },
    {
     "name": "stdout",
     "output_type": "stream",
     "text": [
      "51549/51549 [==============================] - ETA: 10s - loss: 6.7998 - acc: 0.57 - ETA: 6s - loss: 6.4724 - acc: 0.5984 - ETA: 5s - loss: 6.5060 - acc: 0.596 - ETA: 5s - loss: 6.5480 - acc: 0.593 - ETA: 6s - loss: 6.5390 - acc: 0.594 - ETA: 6s - loss: 6.5628 - acc: 0.592 - ETA: 7s - loss: 6.5690 - acc: 0.592 - ETA: 7s - loss: 6.6802 - acc: 0.585 - ETA: 8s - loss: 6.7082 - acc: 0.583 - ETA: 8s - loss: 6.6634 - acc: 0.586 - ETA: 8s - loss: 6.6646 - acc: 0.586 - ETA: 9s - loss: 6.6559 - acc: 0.587 - ETA: 10s - loss: 6.6652 - acc: 0.58 - ETA: 10s - loss: 6.7290 - acc: 0.58 - ETA: 10s - loss: 6.7350 - acc: 0.58 - ETA: 10s - loss: 6.7387 - acc: 0.58 - ETA: 10s - loss: 6.7045 - acc: 0.58 - ETA: 10s - loss: 6.6965 - acc: 0.58 - ETA: 11s - loss: 6.6928 - acc: 0.58 - ETA: 11s - loss: 6.6739 - acc: 0.58 - ETA: 11s - loss: 6.6649 - acc: 0.58 - ETA: 11s - loss: 6.6767 - acc: 0.58 - ETA: 10s - loss: 6.6559 - acc: 0.58 - ETA: 9s - loss: 6.6786 - acc: 0.5856 - ETA: 9s - loss: 6.6632 - acc: 0.586 - ETA: 8s - loss: 6.6419 - acc: 0.587 - ETA: 8s - loss: 6.6623 - acc: 0.586 - ETA: 8s - loss: 6.6572 - acc: 0.587 - ETA: 8s - loss: 6.6313 - acc: 0.588 - ETA: 8s - loss: 6.6209 - acc: 0.589 - ETA: 7s - loss: 6.6133 - acc: 0.589 - ETA: 7s - loss: 6.6195 - acc: 0.589 - ETA: 7s - loss: 6.6390 - acc: 0.588 - ETA: 8s - loss: 6.6379 - acc: 0.588 - ETA: 7s - loss: 6.6353 - acc: 0.588 - ETA: 7s - loss: 6.6455 - acc: 0.587 - ETA: 7s - loss: 6.6012 - acc: 0.590 - ETA: 7s - loss: 6.6021 - acc: 0.590 - ETA: 6s - loss: 6.5940 - acc: 0.590 - ETA: 6s - loss: 6.6109 - acc: 0.589 - ETA: 6s - loss: 6.6076 - acc: 0.590 - ETA: 6s - loss: 6.6001 - acc: 0.590 - ETA: 6s - loss: 6.5871 - acc: 0.591 - ETA: 6s - loss: 6.5754 - acc: 0.592 - ETA: 6s - loss: 6.5747 - acc: 0.592 - ETA: 5s - loss: 6.5797 - acc: 0.591 - ETA: 5s - loss: 6.5745 - acc: 0.592 - ETA: 5s - loss: 6.5795 - acc: 0.591 - ETA: 5s - loss: 6.5723 - acc: 0.592 - ETA: 5s - loss: 6.5567 - acc: 0.593 - ETA: 5s - loss: 6.5624 - acc: 0.592 - ETA: 5s - loss: 6.5587 - acc: 0.593 - ETA: 5s - loss: 6.5632 - acc: 0.592 - ETA: 4s - loss: 6.5729 - acc: 0.592 - ETA: 4s - loss: 6.5654 - acc: 0.592 - ETA: 4s - loss: 6.5583 - acc: 0.593 - ETA: 4s - loss: 6.5523 - acc: 0.593 - ETA: 4s - loss: 6.5378 - acc: 0.594 - ETA: 4s - loss: 6.5266 - acc: 0.595 - ETA: 4s - loss: 6.5255 - acc: 0.595 - ETA: 4s - loss: 6.5203 - acc: 0.595 - ETA: 4s - loss: 6.5114 - acc: 0.596 - ETA: 4s - loss: 6.5228 - acc: 0.595 - ETA: 4s - loss: 6.5292 - acc: 0.594 - ETA: 4s - loss: 6.5199 - acc: 0.595 - ETA: 3s - loss: 6.5268 - acc: 0.595 - ETA: 3s - loss: 6.5296 - acc: 0.594 - ETA: 3s - loss: 6.5223 - acc: 0.595 - ETA: 3s - loss: 6.5206 - acc: 0.595 - ETA: 3s - loss: 6.5250 - acc: 0.595 - ETA: 3s - loss: 6.5232 - acc: 0.595 - ETA: 3s - loss: 6.5226 - acc: 0.595 - ETA: 3s - loss: 6.5199 - acc: 0.595 - ETA: 3s - loss: 6.5115 - acc: 0.596 - ETA: 2s - loss: 6.4996 - acc: 0.596 - ETA: 2s - loss: 6.4929 - acc: 0.597 - ETA: 2s - loss: 6.4853 - acc: 0.597 - ETA: 2s - loss: 6.4855 - acc: 0.597 - ETA: 2s - loss: 6.4833 - acc: 0.597 - ETA: 2s - loss: 6.4892 - acc: 0.597 - ETA: 2s - loss: 6.4962 - acc: 0.597 - ETA: 2s - loss: 6.4977 - acc: 0.596 - ETA: 2s - loss: 6.5009 - acc: 0.596 - ETA: 2s - loss: 6.4942 - acc: 0.597 - ETA: 2s - loss: 6.4878 - acc: 0.597 - ETA: 2s - loss: 6.4832 - acc: 0.597 - ETA: 2s - loss: 6.4882 - acc: 0.597 - ETA: 2s - loss: 6.4818 - acc: 0.597 - ETA: 2s - loss: 6.4870 - acc: 0.597 - ETA: 2s - loss: 6.4861 - acc: 0.597 - ETA: 2s - loss: 6.4850 - acc: 0.597 - ETA: 2s - loss: 6.4797 - acc: 0.598 - ETA: 2s - loss: 6.4767 - acc: 0.598 - ETA: 2s - loss: 6.4755 - acc: 0.598 - ETA: 2s - loss: 6.4649 - acc: 0.598 - ETA: 1s - loss: 6.4614 - acc: 0.599 - ETA: 1s - loss: 6.4599 - acc: 0.599 - ETA: 1s - loss: 6.4658 - acc: 0.598 - ETA: 1s - loss: 6.4689 - acc: 0.598 - ETA: 1s - loss: 6.4761 - acc: 0.598 - ETA: 1s - loss: 6.4758 - acc: 0.598 - ETA: 1s - loss: 6.4788 - acc: 0.598 - ETA: 1s - loss: 6.4739 - acc: 0.598 - ETA: 1s - loss: 6.4806 - acc: 0.597 - ETA: 1s - loss: 6.4835 - acc: 0.597 - ETA: 1s - loss: 6.4817 - acc: 0.597 - ETA: 1s - loss: 6.4764 - acc: 0.598 - ETA: 1s - loss: 6.4715 - acc: 0.598 - ETA: 0s - loss: 6.4715 - acc: 0.598 - ETA: 0s - loss: 6.4695 - acc: 0.598 - ETA: 0s - loss: 6.4616 - acc: 0.599 - ETA: 0s - loss: 6.4628 - acc: 0.599 - ETA: 0s - loss: 6.4589 - acc: 0.599 - ETA: 0s - loss: 6.4567 - acc: 0.599 - ETA: 0s - loss: 6.4549 - acc: 0.599 - ETA: 0s - loss: 6.4568 - acc: 0.599 - ETA: 0s - loss: 6.4599 - acc: 0.599 - ETA: 0s - loss: 6.4608 - acc: 0.599 - ETA: 0s - loss: 6.4610 - acc: 0.599 - ETA: 0s - loss: 6.4590 - acc: 0.599 - 9s 168us/step - loss: 6.4589 - acc: 0.5993 - val_loss: 6.4564 - val_acc: 0.5994\n",
      "Epoch 33/35\n",
      "51549/51549 [==============================] - ETA: 6s - loss: 6.6739 - acc: 0.585 - ETA: 4s - loss: 6.3801 - acc: 0.604 - ETA: 4s - loss: 6.3076 - acc: 0.608 - ETA: 4s - loss: 6.0994 - acc: 0.621 - ETA: 4s - loss: 6.1010 - acc: 0.621 - ETA: 5s - loss: 6.1492 - acc: 0.618 - ETA: 4s - loss: 6.1528 - acc: 0.618 - ETA: 4s - loss: 6.1850 - acc: 0.616 - ETA: 4s - loss: 6.1934 - acc: 0.615 - ETA: 4s - loss: 6.2871 - acc: 0.609 - ETA: 4s - loss: 6.3310 - acc: 0.607 - ETA: 4s - loss: 6.3109 - acc: 0.608 - ETA: 4s - loss: 6.3006 - acc: 0.609 - ETA: 4s - loss: 6.3089 - acc: 0.608 - ETA: 4s - loss: 6.3473 - acc: 0.606 - ETA: 4s - loss: 6.3509 - acc: 0.606 - ETA: 4s - loss: 6.3761 - acc: 0.604 - ETA: 4s - loss: 6.3812 - acc: 0.604 - ETA: 4s - loss: 6.3852 - acc: 0.603 - ETA: 3s - loss: 6.3873 - acc: 0.603 - ETA: 3s - loss: 6.3974 - acc: 0.603 - ETA: 3s - loss: 6.4011 - acc: 0.602 - ETA: 3s - loss: 6.3981 - acc: 0.603 - ETA: 3s - loss: 6.3869 - acc: 0.603 - ETA: 3s - loss: 6.3941 - acc: 0.603 - ETA: 3s - loss: 6.3939 - acc: 0.603 - ETA: 3s - loss: 6.3927 - acc: 0.603 - ETA: 3s - loss: 6.3950 - acc: 0.603 - ETA: 3s - loss: 6.4026 - acc: 0.602 - ETA: 3s - loss: 6.4131 - acc: 0.602 - ETA: 3s - loss: 6.4056 - acc: 0.602 - ETA: 3s - loss: 6.3957 - acc: 0.603 - ETA: 3s - loss: 6.4039 - acc: 0.602 - ETA: 3s - loss: 6.3888 - acc: 0.603 - ETA: 3s - loss: 6.3974 - acc: 0.603 - ETA: 3s - loss: 6.3980 - acc: 0.603 - ETA: 3s - loss: 6.4058 - acc: 0.602 - ETA: 3s - loss: 6.3992 - acc: 0.603 - ETA: 3s - loss: 6.3984 - acc: 0.603 - ETA: 3s - loss: 6.3951 - acc: 0.603 - ETA: 3s - loss: 6.4050 - acc: 0.602 - ETA: 3s - loss: 6.3960 - acc: 0.603 - ETA: 3s - loss: 6.3931 - acc: 0.603 - ETA: 2s - loss: 6.4131 - acc: 0.602 - ETA: 2s - loss: 6.4120 - acc: 0.602 - ETA: 2s - loss: 6.4280 - acc: 0.601 - ETA: 2s - loss: 6.4195 - acc: 0.601 - ETA: 2s - loss: 6.4277 - acc: 0.601 - ETA: 2s - loss: 6.4283 - acc: 0.601 - ETA: 2s - loss: 6.4317 - acc: 0.601 - ETA: 2s - loss: 6.4364 - acc: 0.600 - ETA: 2s - loss: 6.4373 - acc: 0.600 - ETA: 2s - loss: 6.4432 - acc: 0.600 - ETA: 2s - loss: 6.4440 - acc: 0.600 - ETA: 2s - loss: 6.4364 - acc: 0.600 - ETA: 2s - loss: 6.4356 - acc: 0.600 - ETA: 2s - loss: 6.4448 - acc: 0.600 - ETA: 2s - loss: 6.4517 - acc: 0.599 - ETA: 2s - loss: 6.4442 - acc: 0.600 - ETA: 2s - loss: 6.4478 - acc: 0.600 - ETA: 2s - loss: 6.4444 - acc: 0.600 - ETA: 1s - loss: 6.4459 - acc: 0.600 - ETA: 1s - loss: 6.4490 - acc: 0.599 - ETA: 1s - loss: 6.4461 - acc: 0.600 - ETA: 1s - loss: 6.4452 - acc: 0.600 - ETA: 1s - loss: 6.4452 - acc: 0.600 - ETA: 1s - loss: 6.4471 - acc: 0.600 - ETA: 1s - loss: 6.4482 - acc: 0.599 - ETA: 1s - loss: 6.4512 - acc: 0.599 - ETA: 1s - loss: 6.4422 - acc: 0.600 - ETA: 1s - loss: 6.4473 - acc: 0.600 - ETA: 1s - loss: 6.4482 - acc: 0.599 - ETA: 1s - loss: 6.4532 - acc: 0.599 - ETA: 1s - loss: 6.4539 - acc: 0.599 - ETA: 1s - loss: 6.4586 - acc: 0.599 - ETA: 1s - loss: 6.4612 - acc: 0.599 - ETA: 1s - loss: 6.4569 - acc: 0.599 - ETA: 1s - loss: 6.4592 - acc: 0.599 - ETA: 1s - loss: 6.4559 - acc: 0.599 - ETA: 1s - loss: 6.4573 - acc: 0.599 - ETA: 1s - loss: 6.4601 - acc: 0.599 - ETA: 1s - loss: 6.4620 - acc: 0.599 - ETA: 1s - loss: 6.4679 - acc: 0.598 - ETA: 1s - loss: 6.4697 - acc: 0.598 - ETA: 1s - loss: 6.4728 - acc: 0.598 - ETA: 0s - loss: 6.4737 - acc: 0.598 - ETA: 0s - loss: 6.4790 - acc: 0.598 - ETA: 0s - loss: 6.4786 - acc: 0.598 - ETA: 0s - loss: 6.4779 - acc: 0.598 - ETA: 0s - loss: 6.4776 - acc: 0.598 - ETA: 0s - loss: 6.4791 - acc: 0.598 - ETA: 0s - loss: 6.4788 - acc: 0.598 - ETA: 0s - loss: 6.4741 - acc: 0.598 - ETA: 0s - loss: 6.4785 - acc: 0.598 - ETA: 0s - loss: 6.4770 - acc: 0.598 - ETA: 0s - loss: 6.4741 - acc: 0.598 - ETA: 0s - loss: 6.4713 - acc: 0.598 - ETA: 0s - loss: 6.4691 - acc: 0.598 - ETA: 0s - loss: 6.4794 - acc: 0.598 - ETA: 0s - loss: 6.4776 - acc: 0.598 - ETA: 0s - loss: 6.4772 - acc: 0.598 - ETA: 0s - loss: 6.4789 - acc: 0.598 - ETA: 0s - loss: 6.4758 - acc: 0.598 - ETA: 0s - loss: 6.4726 - acc: 0.598 - ETA: 0s - loss: 6.4767 - acc: 0.598 - ETA: 0s - loss: 6.4763 - acc: 0.598 - ETA: 0s - loss: 6.4748 - acc: 0.598 - ETA: 0s - loss: 6.4718 - acc: 0.598 - ETA: 0s - loss: 6.4673 - acc: 0.598 - ETA: 0s - loss: 6.4652 - acc: 0.598 - ETA: 0s - loss: 6.4614 - acc: 0.599 - ETA: 0s - loss: 6.4628 - acc: 0.599 - ETA: 0s - loss: 6.4605 - acc: 0.599 - 9s 172us/step - loss: 6.4642 - acc: 0.5989 - val_loss: 6.4564 - val_acc: 0.5994\n",
      "Epoch 34/35\n",
      "51549/51549 [==============================] - ETA: 5s - loss: 6.1702 - acc: 0.617 - ETA: 4s - loss: 6.1072 - acc: 0.621 - ETA: 4s - loss: 6.2732 - acc: 0.610 - ETA: 4s - loss: 6.2096 - acc: 0.614 - ETA: 4s - loss: 6.2772 - acc: 0.610 - ETA: 4s - loss: 6.3126 - acc: 0.608 - ETA: 4s - loss: 6.4221 - acc: 0.601 - ETA: 4s - loss: 6.4102 - acc: 0.602 - ETA: 4s - loss: 6.4465 - acc: 0.600 - ETA: 5s - loss: 6.4189 - acc: 0.601 - ETA: 5s - loss: 6.4392 - acc: 0.600 - ETA: 4s - loss: 6.4812 - acc: 0.597 - ETA: 4s - loss: 6.4933 - acc: 0.597 - ETA: 4s - loss: 6.5016 - acc: 0.596 - ETA: 4s - loss: 6.5186 - acc: 0.595 - ETA: 4s - loss: 6.5112 - acc: 0.596 - ETA: 4s - loss: 6.5102 - acc: 0.596 - ETA: 4s - loss: 6.4962 - acc: 0.597 - ETA: 4s - loss: 6.5060 - acc: 0.596 - ETA: 4s - loss: 6.5357 - acc: 0.594 - ETA: 4s - loss: 6.5420 - acc: 0.594 - ETA: 4s - loss: 6.5407 - acc: 0.594 - ETA: 4s - loss: 6.5286 - acc: 0.595 - ETA: 4s - loss: 6.5611 - acc: 0.592 - ETA: 4s - loss: 6.5379 - acc: 0.594 - ETA: 4s - loss: 6.5420 - acc: 0.594 - ETA: 4s - loss: 6.5445 - acc: 0.594 - ETA: 4s - loss: 6.5424 - acc: 0.594 - ETA: 3s - loss: 6.5512 - acc: 0.593 - ETA: 3s - loss: 6.5449 - acc: 0.593 - ETA: 3s - loss: 6.5351 - acc: 0.594 - ETA: 3s - loss: 6.5324 - acc: 0.594 - ETA: 3s - loss: 6.5184 - acc: 0.595 - ETA: 3s - loss: 6.4983 - acc: 0.596 - ETA: 3s - loss: 6.4971 - acc: 0.596 - ETA: 3s - loss: 6.4850 - acc: 0.597 - ETA: 3s - loss: 6.4888 - acc: 0.597 - ETA: 3s - loss: 6.4904 - acc: 0.597 - ETA: 3s - loss: 6.4938 - acc: 0.597 - ETA: 3s - loss: 6.4901 - acc: 0.597 - ETA: 3s - loss: 6.4805 - acc: 0.597 - ETA: 3s - loss: 6.4813 - acc: 0.597 - ETA: 3s - loss: 6.4875 - acc: 0.597 - ETA: 3s - loss: 6.4906 - acc: 0.597 - ETA: 2s - loss: 6.4860 - acc: 0.597 - ETA: 2s - loss: 6.5036 - acc: 0.596 - ETA: 2s - loss: 6.5006 - acc: 0.596 - ETA: 2s - loss: 6.4989 - acc: 0.596 - ETA: 2s - loss: 6.4869 - acc: 0.597 - ETA: 2s - loss: 6.4844 - acc: 0.597 - ETA: 2s - loss: 6.4895 - acc: 0.597 - ETA: 2s - loss: 6.4995 - acc: 0.596 - ETA: 2s - loss: 6.4839 - acc: 0.597 - ETA: 2s - loss: 6.4828 - acc: 0.597 - ETA: 2s - loss: 6.4726 - acc: 0.598 - ETA: 2s - loss: 6.4669 - acc: 0.598 - ETA: 2s - loss: 6.4708 - acc: 0.598 - ETA: 2s - loss: 6.4776 - acc: 0.598 - ETA: 2s - loss: 6.4674 - acc: 0.598 - ETA: 1s - loss: 6.4647 - acc: 0.598 - ETA: 1s - loss: 6.4634 - acc: 0.599 - ETA: 1s - loss: 6.4669 - acc: 0.598 - ETA: 1s - loss: 6.4667 - acc: 0.598 - ETA: 1s - loss: 6.4708 - acc: 0.598 - ETA: 1s - loss: 6.4731 - acc: 0.598 - ETA: 1s - loss: 6.4691 - acc: 0.598 - ETA: 1s - loss: 6.4767 - acc: 0.598 - ETA: 1s - loss: 6.4818 - acc: 0.597 - ETA: 1s - loss: 6.4802 - acc: 0.598 - ETA: 1s - loss: 6.4757 - acc: 0.598 - ETA: 1s - loss: 6.4732 - acc: 0.598 - ETA: 1s - loss: 6.4671 - acc: 0.598 - ETA: 1s - loss: 6.4700 - acc: 0.598 - ETA: 1s - loss: 6.4720 - acc: 0.598 - ETA: 0s - loss: 6.4743 - acc: 0.598 - ETA: 0s - loss: 6.4692 - acc: 0.598 - ETA: 0s - loss: 6.4756 - acc: 0.598 - ETA: 0s - loss: 6.4796 - acc: 0.598 - ETA: 0s - loss: 6.4760 - acc: 0.598 - ETA: 0s - loss: 6.4770 - acc: 0.598 - ETA: 0s - loss: 6.4817 - acc: 0.597 - ETA: 0s - loss: 6.4777 - acc: 0.598 - ETA: 0s - loss: 6.4763 - acc: 0.598 - ETA: 0s - loss: 6.4738 - acc: 0.598 - ETA: 0s - loss: 6.4698 - acc: 0.598 - ETA: 0s - loss: 6.4658 - acc: 0.598 - ETA: 0s - loss: 6.4712 - acc: 0.598 - ETA: 0s - loss: 6.4719 - acc: 0.598 - ETA: 0s - loss: 6.4689 - acc: 0.598 - ETA: 0s - loss: 6.4646 - acc: 0.598 - ETA: 0s - loss: 6.4596 - acc: 0.599 - 6s 125us/step - loss: 6.4569 - acc: 0.5994 - val_loss: 6.4564 - val_acc: 0.5994\n",
      "Epoch 35/35\n"
     ]
    },
    {
     "name": "stdout",
     "output_type": "stream",
     "text": [
      "51549/51549 [==============================] - ETA: 6s - loss: 6.1702 - acc: 0.617 - ETA: 4s - loss: 6.6019 - acc: 0.590 - ETA: 4s - loss: 6.6739 - acc: 0.585 - ETA: 4s - loss: 6.4457 - acc: 0.600 - ETA: 4s - loss: 6.4460 - acc: 0.600 - ETA: 4s - loss: 6.3894 - acc: 0.603 - ETA: 4s - loss: 6.4302 - acc: 0.601 - ETA: 4s - loss: 6.4802 - acc: 0.597 - ETA: 4s - loss: 6.4870 - acc: 0.597 - ETA: 4s - loss: 6.5156 - acc: 0.595 - ETA: 4s - loss: 6.4866 - acc: 0.597 - ETA: 4s - loss: 6.5392 - acc: 0.594 - ETA: 3s - loss: 6.4822 - acc: 0.597 - ETA: 3s - loss: 6.5044 - acc: 0.596 - ETA: 3s - loss: 6.4993 - acc: 0.596 - ETA: 3s - loss: 6.5040 - acc: 0.596 - ETA: 3s - loss: 6.5353 - acc: 0.594 - ETA: 3s - loss: 6.5604 - acc: 0.592 - ETA: 3s - loss: 6.5525 - acc: 0.593 - ETA: 3s - loss: 6.5589 - acc: 0.593 - ETA: 3s - loss: 6.5545 - acc: 0.593 - ETA: 3s - loss: 6.5469 - acc: 0.593 - ETA: 3s - loss: 6.5610 - acc: 0.592 - ETA: 3s - loss: 6.5669 - acc: 0.592 - ETA: 3s - loss: 6.5471 - acc: 0.593 - ETA: 3s - loss: 6.5379 - acc: 0.594 - ETA: 3s - loss: 6.5296 - acc: 0.594 - ETA: 3s - loss: 6.5257 - acc: 0.595 - ETA: 2s - loss: 6.5079 - acc: 0.596 - ETA: 2s - loss: 6.5050 - acc: 0.596 - ETA: 2s - loss: 6.5162 - acc: 0.595 - ETA: 2s - loss: 6.5158 - acc: 0.595 - ETA: 2s - loss: 6.5340 - acc: 0.594 - ETA: 2s - loss: 6.5350 - acc: 0.594 - ETA: 2s - loss: 6.5328 - acc: 0.594 - ETA: 2s - loss: 6.5415 - acc: 0.594 - ETA: 2s - loss: 6.5302 - acc: 0.594 - ETA: 2s - loss: 6.5204 - acc: 0.595 - ETA: 2s - loss: 6.5218 - acc: 0.595 - ETA: 2s - loss: 6.5191 - acc: 0.595 - ETA: 2s - loss: 6.5192 - acc: 0.595 - ETA: 2s - loss: 6.5286 - acc: 0.594 - ETA: 2s - loss: 6.5352 - acc: 0.594 - ETA: 2s - loss: 6.5421 - acc: 0.594 - ETA: 2s - loss: 6.5405 - acc: 0.594 - ETA: 2s - loss: 6.5350 - acc: 0.594 - ETA: 2s - loss: 6.5214 - acc: 0.595 - ETA: 1s - loss: 6.5220 - acc: 0.595 - ETA: 1s - loss: 6.5248 - acc: 0.595 - ETA: 1s - loss: 6.5123 - acc: 0.595 - ETA: 1s - loss: 6.5103 - acc: 0.596 - ETA: 1s - loss: 6.5036 - acc: 0.596 - ETA: 1s - loss: 6.4944 - acc: 0.597 - ETA: 1s - loss: 6.5029 - acc: 0.596 - ETA: 1s - loss: 6.4893 - acc: 0.597 - ETA: 1s - loss: 6.4872 - acc: 0.597 - ETA: 1s - loss: 6.4844 - acc: 0.597 - ETA: 1s - loss: 6.4851 - acc: 0.597 - ETA: 1s - loss: 6.4844 - acc: 0.597 - ETA: 1s - loss: 6.4849 - acc: 0.597 - ETA: 1s - loss: 6.4802 - acc: 0.597 - ETA: 1s - loss: 6.4836 - acc: 0.597 - ETA: 1s - loss: 6.4788 - acc: 0.598 - ETA: 1s - loss: 6.4831 - acc: 0.597 - ETA: 0s - loss: 6.4784 - acc: 0.598 - ETA: 0s - loss: 6.4704 - acc: 0.598 - ETA: 0s - loss: 6.4673 - acc: 0.598 - ETA: 0s - loss: 6.4614 - acc: 0.599 - ETA: 0s - loss: 6.4689 - acc: 0.598 - ETA: 0s - loss: 6.4653 - acc: 0.598 - ETA: 0s - loss: 6.4672 - acc: 0.598 - ETA: 0s - loss: 6.4621 - acc: 0.599 - ETA: 0s - loss: 6.4641 - acc: 0.598 - ETA: 0s - loss: 6.4638 - acc: 0.598 - ETA: 0s - loss: 6.4612 - acc: 0.599 - ETA: 0s - loss: 6.4630 - acc: 0.599 - ETA: 0s - loss: 6.4617 - acc: 0.599 - ETA: 0s - loss: 6.4600 - acc: 0.599 - ETA: 0s - loss: 6.4590 - acc: 0.599 - ETA: 0s - loss: 6.4616 - acc: 0.599 - ETA: 0s - loss: 6.4539 - acc: 0.599 - ETA: 0s - loss: 6.4589 - acc: 0.599 - 6s 116us/step - loss: 6.4581 - acc: 0.5993 - val_loss: 6.4564 - val_acc: 0.5994\n",
      "Test loss: 6.456430858098565\n",
      "Test accuracy: 0.599429668842568\n"
     ]
    }
   ],
   "source": [
    "# Building the Model\n",
    "model = Sequential()\n",
    "# First convolutional layer, note the specification of shape\n",
    "model.add(Conv1D(32, kernel_size=(3),\n",
    "                 activation='relu',input_shape=(X_train.shape[1],1)))\n",
    "model.add(Conv1D(64, (3), activation='relu'))\n",
    "model.add(MaxPooling1D(pool_size=(2)))\n",
    "model.add(Dropout(0.25))\n",
    "model.add(Flatten())\n",
    "model.add(Dense(128, activation='relu'))\n",
    "model.add(Dropout(0.5))\n",
    "model.add(Dense(2, activation='softmax'))\n",
    "\n",
    "model.compile(loss=keras.losses.categorical_crossentropy,\n",
    "              optimizer=keras.optimizers.Adadelta(),\n",
    "              metrics=['accuracy'])\n",
    "X_train = X_train.reshape(X_train.shape[0], 10, 1)\n",
    "#X_train_pca = np.reshape(X_train[0],(10,1))\n",
    "#X_test = np.reshape(X_test, (x_test.shape[0],10, 1))\n",
    "model.fit(X_train, y_train,\n",
    "          batch_size=128,\n",
    "          epochs=35,\n",
    "          verbose=1,\n",
    "          validation_data=(X_train, y_train))\n",
    "score = model.evaluate(X_train, y_train, verbose=0)\n",
    "print('Test loss:', score[0])\n",
    "print('Test accuracy:', score[1])\n"
   ]
  },
  {
   "cell_type": "markdown",
   "metadata": {},
   "source": [
    "CNN is ideally used for image data so it will not work effectively for this non image dataset.Here we are using 1-d CNN.The accuracy is not that good as it is showing above, which shows that CNN is not suitable for non image data"
   ]
  },
  {
   "cell_type": "markdown",
   "metadata": {},
   "source": [
    "# Conclusion:"
   ]
  },
  {
   "cell_type": "markdown",
   "metadata": {},
   "source": [
    "As we are already aware that it is a classification problem where we have to predict if the customer will reorder the bought products or not.We have 11 features  in the dataset after joining few datasets.We are using 10 features for input variables and 1 as an outcome variable,with that we are determining  the accuracy of the outcome.Our case study dataset is around 1 million rows.We are analysing and identifying all the trends and behaviour of the data to get truth from the data which will benefit organization to correctly design their strategies to thrive in the retail market against its competitors.Initially , we have cleaned the data so that we are not getting junk/null values.Cleaned data will help to analyse the dataset in the rightful way.After analysing the data, there are few facts that we have learned-\n",
    "\n",
    "1.There are no orders less than 4 and is max capped at 100 as given in the description\n",
    "\n",
    "2.Saturday and  Sunday are the days when the orders are high and orders are low during Wednesday\n",
    "\n",
    "3.Majority of the orders are made during day time\n",
    "\n",
    "4.Satuday evenings and Sunday mornings are the prime time for orders\n",
    "\n",
    "5.Customer order weekly/first week(mostly in first week) or monthly. We are seeing bigger peaks at first week and then last day of the month\n",
    "\n",
    "6.59% of the products in an order are re-ordered products.\n",
    "\n",
    "7.Vegetables and fresh nuts were the highest bought products.\n",
    "\n",
    "8.Reorder ratios are quite high during the early mornings compared to later half of the day.\n",
    "\n",
    "If we compare the prediction models,Knn have accuracies better than the rest of the models in supervised learning.The reason is because these models perform better with big datasets keeping in mind both accuracy and runtime.SVC and GBR does take more computation time beacuse of its complex algorithm.It looke like SKB is performing better than PCA interms of model accuracies.The reason being that could be that SKB is picking the best 5 feature better than PCA ,which combines similar (correlated) features and creates new ones.It looks like PCA is not picking and combining the features correctly. Also, for unsupervised learning, K-means looks to be the clear winner.I have  used number of clusters as 2 and 5 to compare them.In this case, number of cluster as 2 look to perform better.Additionally for Deep learning, RNN does perform better than the rest.The reason being RNN have a “memory” which remembers all information about what has been calculated. It uses the same parameters for each input as it performs the same task on all the inputs or hidden layers to produce the output. This reduces the complexity of parameters.Here this is benefiting RNN to perform better than rest of the models.Lastly, we should identify which features have the highest feature importance so that we understand the features that are impacting the most for getting the outcome.We have use Random Forest, Logistic Regression,Random forest to determine the feature importance.Since Random forest is usually ideal for this purpose due to its lack of overfitting behaviour, so I have used Random Forest.Order_number seem to have the highest feature importance which makes sense since its being used to identify most of the trends in this dataset.\n"
   ]
  },
  {
   "cell_type": "code",
   "execution_count": 120,
   "metadata": {},
   "outputs": [
    {
     "data": {
      "text/plain": [
       "<matplotlib.axes._subplots.AxesSubplot at 0x28680180860>"
      ]
     },
     "execution_count": 120,
     "metadata": {},
     "output_type": "execute_result"
    },
    {
     "data": {
      "image/png": "[encoded data removed]",
      "text/plain": [
       "<Figure size 432x288 with 1 Axes>"
      ]
     },
     "metadata": {
      "needs_background": "light"
     },
     "output_type": "display_data"
    }
   ],
   "source": [
    "rfc = ensemble.RandomForestClassifier(max_depth=10,n_estimators= 100)\n",
    "rfc.fit(X_train,y_train)\n",
    "(pd.Series(rfc.feature_importances_, index=X_train.columns)\n",
    "   .nlargest(5)\n",
    "   .plot(kind='barh'))"
   ]
  }
 ],
 "metadata": {
  "kernelspec": {
   "display_name": "Python 3",
   "language": "python",
   "name": "python3"
  },
  "language_info": {
   "codemirror_mode": {
    "name": "ipython",
    "version": 3
   },
   "file_extension": ".py",
   "mimetype": "text/x-python",
   "name": "python",
   "nbconvert_exporter": "python",
   "pygments_lexer": "ipython3",
   "version": "3.6.0"
  }
 },
 "nbformat": 4,
 "nbformat_minor": 2
}
